{
    "metadata": {
        "kernelspec": {
            "name": "SQL",
            "display_name": "SQL",
            "language": "sql"
        },
        "language_info": {
            "name": "sql",
            "version": ""
        },
        "extensions": {
            "azuredatastudio": {
                "version": 1,
                "views": []
            }
        }
    },
    "nbformat_minor": 2,
    "nbformat": 4,
    "cells": [
        {
            "cell_type": "markdown",
            "source": [
                "# SQL Part 1 Studio\n",
                "\n",
                "### Let's practice your SQL quering skills!  For each question, work along in the notebook adding your query and answering the questions. \n",
                "\n",
                "### **DataSet**\n",
                "\n",
                "### <span style=\"font-size: 14px; font-family: -apple-system, BlinkMacSystemFont, sans-serif;\">We will be using the Goodbooks-10k dataset from the exercises in the prep work.&nbsp; Feel free to reference your notebook.</span>\n",
                "\n",
                "- The dataset can be found here: [goodbooks-10k](https://www.kaggle.com/zygmunt/goodbooks-10k)\n",
                "- You can access the **BooksDB** in the Launchcode server.\n",
                "\n",
                "### **Business Issue**\n",
                "\n",
                "You work for a small independant book store and you want to increase sales by running various promotions.  Start by becoming more familar with the BooksDB."
            ],
            "metadata": {
                "azdata_cell_guid": "b9034d8a-b631-48bf-a895-1012a6ffa784"
            }
        },
        {
            "cell_type": "markdown",
            "source": [
                "## Part 1. BooksDB Questions\n",
                "\n",
                "<span style=\"color: rgba(0, 0, 0, 0.87); font-family: -apple-system, system-ui, &quot;Segoe UI&quot;, Helvetica, Arial, sans-serif, &quot;Apple Color Emoji&quot;, &quot;Segoe UI Emoji&quot;, &quot;Segoe UI Symbol&quot;; background-color: rgb(255, 255, 255);\">Question 1:&nbsp; Write a query of the books table, returning the TOP 100 results and&nbsp; includes, book_id, authors, title, average_rating.&nbsp; Use an alias for at least one column and in descending order of rating.&nbsp; What is the number one book?</span>"
            ],
            "metadata": {
                "azdata_cell_guid": "6e55eb1c-4a14-4076-90d2-95ed17a6309f",
                "tags": [
                    "hide_input"
                ]
            },
            "attachments": {}
        },
        {
            "cell_type": "code",
            "source": [
                "-- return top 100 results\n",
                "USE BooksDB\n",
                "SELECT TOP 100 \n",
                "    book_id, authors, title, books_count, original_publication_year, average_rating AS 'Average Rating'\n",
                "FROM books\n",
                "ORDER BY average_rating DESC"
            ],
            "metadata": {
                "azdata_cell_guid": "470b0ca4-9a32-4b46-a42e-bbb645101769",
                "tags": [],
                "language": "sql"
            },
            "outputs": [
                {
                    "output_type": "display_data",
                    "data": {
                        "text/html": "(100 rows affected)"
                    },
                    "metadata": {}
                },
                {
                    "output_type": "display_data",
                    "data": {
                        "text/html": "Total execution time: 00:00:00.114"
                    },
                    "metadata": {}
                },
                {
                    "output_type": "execute_result",
                    "metadata": {},
                    "execution_count": 51,
                    "data": {
                        "application/vnd.dataresource+json": {
                            "schema": {
                                "fields": [
                                    {
                                        "name": "book_id"
                                    },
                                    {
                                        "name": "authors"
                                    },
                                    {
                                        "name": "title"
                                    },
                                    {
                                        "name": "books_count"
                                    },
                                    {
                                        "name": "original_publication_year"
                                    },
                                    {
                                        "name": "Average Rating"
                                    }
                                ]
                            },
                            "data": [
                                {
                                    "0": "24812",
                                    "1": "Bill Watterson",
                                    "2": "The Complete Calvin and Hobbes",
                                    "3": "14",
                                    "4": "2005",
                                    "5": "4.82"
                                },
                                {
                                    "0": "17332218",
                                    "1": "Brandon Sanderson",
                                    "2": "Words of Radiance (The Stormlight Archive, #2)",
                                    "3": "34",
                                    "4": "2014",
                                    "5": "4.77"
                                },
                                {
                                    "0": "8",
                                    "1": "J.K. Rowling, Mary GrandPré",
                                    "2": "Harry Potter Boxed Set, Books 1-5 (Harry Potter, #1-5)",
                                    "3": "11",
                                    "4": "2003",
                                    "5": "4.77"
                                },
                                {
                                    "0": "5031805",
                                    "1": "Anonymous, Lane T. Dennis, Wayne A. Grudem",
                                    "2": "ESV Study Bible",
                                    "3": "96",
                                    "4": "2002",
                                    "5": "4.76"
                                },
                                {
                                    "0": "95602",
                                    "1": "Francine Rivers",
                                    "2": "Mark of the Lion Trilogy",
                                    "3": "6",
                                    "4": "1993",
                                    "5": "4.76"
                                },
                                {
                                    "0": "24814",
                                    "1": "Bill Watterson",
                                    "2": "It's a Magical World: A Calvin and Hobbes Collection",
                                    "3": "21",
                                    "4": "1996",
                                    "5": "4.75"
                                },
                                {
                                    "0": "862041",
                                    "1": "J.K. Rowling",
                                    "2": "Harry Potter Boxset (Harry Potter, #1-7)",
                                    "3": "76",
                                    "4": "1998",
                                    "5": "4.74"
                                },
                                {
                                    "0": "70489",
                                    "1": "Bill Watterson",
                                    "2": "There's Treasure Everywhere: A Calvin and Hobbes Collection",
                                    "3": "22",
                                    "4": "1996",
                                    "5": "4.74"
                                },
                                {
                                    "0": "10",
                                    "1": "J.K. Rowling",
                                    "2": "Harry Potter Collection (Harry Potter, #1-6)",
                                    "3": "6",
                                    "4": "2005",
                                    "5": "4.73"
                                },
                                {
                                    "0": "59715",
                                    "1": "Bill Watterson",
                                    "2": "The Authoritative Calvin and Hobbes: A Calvin and Hobbes Treasury",
                                    "3": "21",
                                    "4": "1990",
                                    "5": "4.73"
                                },
                                {
                                    "0": "24815",
                                    "1": "Bill Watterson",
                                    "2": "The Indispensable Calvin and Hobbes",
                                    "3": "19",
                                    "4": "1992",
                                    "5": "4.73"
                                },
                                {
                                    "0": "17927395",
                                    "1": "Sarah J. Maas",
                                    "2": "A Court of Mist and Fury (A Court of Thorns and Roses, #2)",
                                    "3": "39",
                                    "4": "2016",
                                    "5": "4.72"
                                },
                                {
                                    "0": "70487",
                                    "1": "Bill Watterson",
                                    "2": "Attack of the Deranged Mutant Killer Monster Snow Goons",
                                    "3": "24",
                                    "4": "1992",
                                    "5": "4.72"
                                },
                                {
                                    "0": "24816",
                                    "1": "Bill Watterson",
                                    "2": "Homicidal Psycho Jungle Cat: A Calvin and Hobbes Collection",
                                    "3": "23",
                                    "4": "1994",
                                    "5": "4.71"
                                },
                                {
                                    "0": "121792",
                                    "1": "Bill Watterson",
                                    "2": "The Revenge of the Baby-Sat",
                                    "3": "20",
                                    "4": "1991",
                                    "5": "4.71"
                                },
                                {
                                    "0": "2350129",
                                    "1": "The Church of Jesus Christ of Latter-day Saints",
                                    "2": "Preach My Gospel: A Guide To Missionary Service",
                                    "3": "5",
                                    "4": "2004",
                                    "5": "4.71"
                                },
                                {
                                    "0": "24818",
                                    "1": "Bill Watterson",
                                    "2": "The Days Are Just Packed: A Calvin and Hobbes Collection",
                                    "3": "28",
                                    "4": "1993",
                                    "5": "4.68"
                                },
                                {
                                    "0": "265205",
                                    "1": "Anonymous, Ronald A. Beers, Ronald A. Beers",
                                    "2": "Life Application Study Bible: NIV",
                                    "3": "183",
                                    "4": "1992",
                                    "5": "4.67"
                                },
                                {
                                    "0": "9329354",
                                    "1": "Brandon Sanderson",
                                    "2": "The Way of Kings, Part 1 (The Stormlight Archive #1.1)",
                                    "3": "19",
                                    "4": "2011",
                                    "5": "4.67"
                                },
                                {
                                    "0": "99298",
                                    "1": "J.K. Rowling, Mary GrandPré",
                                    "2": "The Harry Potter Collection 1-4 (Harry Potter, #1-4)",
                                    "3": "17",
                                    "4": "1999",
                                    "5": "4.66"
                                },
                                {
                                    "0": "5883777",
                                    "1": "Anonymous",
                                    "2": "The Holy Bible: English Standard Version",
                                    "3": "627",
                                    "4": "2001",
                                    "5": "4.66"
                                },
                                {
                                    "0": "24494",
                                    "1": "Bill Watterson",
                                    "2": "The Calvin and Hobbes Lazy Sunday Book",
                                    "3": "15",
                                    "4": "1989",
                                    "5": "4.66"
                                },
                                {
                                    "0": "43070",
                                    "1": "Bill Watterson",
                                    "2": "The Essential Calvin and Hobbes: A Calvin and Hobbes Treasury",
                                    "3": "26",
                                    "4": "1988",
                                    "5": "4.65"
                                },
                                {
                                    "0": "18337259",
                                    "1": "Daniel Abraham, George R.R. Martin, Tommy Patterson",
                                    "2": "A Game of Thrones: Comic Book, Issue 1",
                                    "3": "6",
                                    "4": "2011",
                                    "5": "4.65"
                                },
                                {
                                    "0": "23753",
                                    "1": "Neil Gaiman, Mike Dringenberg, Chris Bachalo, Michael Zulli, Kelly Jones, Charles Vess, Colleen Doran, Malcolm Jones III, Steve Parkhouse, Daniel Vozzo, Lee Loughridge, Steve Oliff, Todd Klein, Dave McKean, Sam Kieth",
                                    "2": "The Absolute Sandman, Volume One",
                                    "3": "5",
                                    "4": "2006",
                                    "5": "4.65"
                                },
                                {
                                    "0": "7235533",
                                    "1": "Brandon Sanderson",
                                    "2": "The Way of Kings (The Stormlight Archive, #1)",
                                    "3": "48",
                                    "4": "2010",
                                    "5": "4.64"
                                },
                                {
                                    "0": "24813",
                                    "1": "Bill Watterson",
                                    "2": "The Calvin and Hobbes Tenth Anniversary Book",
                                    "3": "17",
                                    "4": "1995",
                                    "5": "4.63"
                                },
                                {
                                    "0": "9814682",
                                    "1": "George R.R. Martin",
                                    "2": "A Song of Ice and Fire (A Song of Ice and Fire, #1-4)",
                                    "3": "15",
                                    "4": "2011",
                                    "5": "4.63"
                                },
                                {
                                    "0": "12177850",
                                    "1": "George R.R. Martin",
                                    "2": "A Song of Ice and Fire (A Song of Ice and Fire, #1-5)",
                                    "3": "31",
                                    "4": "2000",
                                    "5": "4.63"
                                },
                                {
                                    "0": "481749",
                                    "1": "James E. Talmage",
                                    "2": "Jesus the Christ",
                                    "3": "115",
                                    "4": "1915",
                                    "5": "4.63"
                                },
                                {
                                    "0": "46292",
                                    "1": "Hafez",
                                    "2": "The Divan",
                                    "3": "91",
                                    "4": "1380",
                                    "5": "4.63"
                                },
                                {
                                    "0": "6801614",
                                    "1": "Eiichirō Oda",
                                    "2": "One Piece, Volume 38: Rocketman!! (One Piece, #38)",
                                    "3": "18",
                                    "4": "2005",
                                    "5": "4.63"
                                },
                                {
                                    "0": "22299763",
                                    "1": "Leigh Bardugo",
                                    "2": "Crooked Kingdom (Six of Crows, #2)",
                                    "3": "29",
                                    "4": "2016",
                                    "5": "4.62"
                                },
                                {
                                    "0": "32075671",
                                    "1": "Angie Thomas",
                                    "2": "The Hate U Give",
                                    "3": "36",
                                    "4": "2017",
                                    "5": "4.62"
                                },
                                {
                                    "0": "136251",
                                    "1": "J.K. Rowling, Mary GrandPré",
                                    "2": "Harry Potter and the Deathly Hallows (Harry Potter, #7)",
                                    "3": "263",
                                    "4": "2007",
                                    "5": "4.61"
                                },
                                {
                                    "0": "77727",
                                    "1": "Bill Watterson, G.B. Trudeau",
                                    "2": "Calvin and Hobbes",
                                    "3": "24",
                                    "4": "1987",
                                    "5": "4.61"
                                },
                                {
                                    "0": "280111",
                                    "1": "Anonymous",
                                    "2": "Holy Bible: New International Version",
                                    "3": "1101",
                                    "4": "1909",
                                    "5": "4.61"
                                },
                                {
                                    "0": "2223324",
                                    "1": "John   Williams",
                                    "2": "Harry Potter and the Chamber of Secrets: Sheet Music for Flute with C.D",
                                    "3": "11",
                                    "4": "2003",
                                    "5": "4.61"
                                },
                                {
                                    "0": "6339989",
                                    "1": "Richelle Mead",
                                    "2": "Vampire Academy Collection (Vampire Academy, #1-3)",
                                    "3": "8",
                                    "4": "2009",
                                    "5": "4.61"
                                },
                                {
                                    "0": "596259",
                                    "1": "Gordon B. Hinckley",
                                    "2": "Standing for Something: 10 Neglected Virtues That Will Heal Our Hearts and Homes",
                                    "3": "12",
                                    "4": "2000",
                                    "5": "4.61"
                                },
                                {
                                    "0": "47697",
                                    "1": "Alisa Kwitney, Neil Gaiman",
                                    "2": "The Sandman: King of Dreams",
                                    "3": "4",
                                    "4": "2003",
                                    "5": "4.61"
                                },
                                {
                                    "0": "18006496",
                                    "1": "Sarah J. Maas",
                                    "2": "Queen of Shadows (Throne of Glass, #4)",
                                    "3": "36",
                                    "4": "2015",
                                    "5": "4.6"
                                },
                                {
                                    "0": "95617",
                                    "1": "Francine Rivers, Richard Ferrone",
                                    "2": "A Voice in the Wind (Mark of the Lion, #1)",
                                    "3": "36",
                                    "4": "1993",
                                    "5": "4.6"
                                },
                                {
                                    "0": "46601",
                                    "1": "Francine Rivers",
                                    "2": "An Echo in the Darkness (Mark of the Lion, #2)",
                                    "3": "27",
                                    "4": "1994",
                                    "5": "4.6"
                                },
                                {
                                    "0": "7025086",
                                    "1": "Christopher Yost, Pasqual Ferry, Orson Scott Card",
                                    "2": "Ender's Game, Volume 2: Command School",
                                    "3": "3",
                                    "4": "2010",
                                    "5": "4.6"
                                },
                                {
                                    "0": "18335634",
                                    "1": "Cassandra Clare",
                                    "2": "Clockwork Princess (The Infernal Devices, #3)",
                                    "3": "79",
                                    "4": "2013",
                                    "5": "4.59"
                                },
                                {
                                    "0": "30",
                                    "1": "J.R.R. Tolkien",
                                    "2": "J.R.R. Tolkien 4-Book Boxed Set: The Hobbit and The Lord of the Rings",
                                    "3": "74",
                                    "4": "1973",
                                    "5": "4.59"
                                },
                                {
                                    "0": "2299110",
                                    "1": "Sherrilyn Kenyon",
                                    "2": "Acheron (Dark-Hunter #14)",
                                    "3": "31",
                                    "4": "2008",
                                    "5": "4.59"
                                },
                                {
                                    "0": "119",
                                    "1": "Gary Russell",
                                    "2": "The Lord of the Rings: The Art of The Fellowship of the Ring",
                                    "3": "7",
                                    "4": "2002",
                                    "5": "4.59"
                                },
                                {
                                    "0": "71252",
                                    "1": "Neil Gaiman, Marc Hempel, Richard Case, D'Israeli, Teddy Kristiansen, Glyn Dillon, Charles Vess, Dean Ormston, Kevin Nowlan, Todd Klein, Frank McConnell",
                                    "2": "The Kindly Ones (The Sandman #9)",
                                    "3": "29",
                                    "4": "1996",
                                    "5": "4.59"
                                },
                                {
                                    "0": "349254",
                                    "1": "Jude Fisher",
                                    "2": "The Lord of the Rings: The Return of the King: Visual Companion",
                                    "3": "10",
                                    "4": "NULL",
                                    "5": "4.59"
                                },
                                {
                                    "0": "9832370",
                                    "1": "BookRags",
                                    "2": "BookRags Summary:  A Storm of Swords",
                                    "3": "1",
                                    "4": "NULL",
                                    "5": "4.59"
                                },
                                {
                                    "0": "11106458",
                                    "1": "Cassandra Clare",
                                    "2": "The Mortal Instruments (The Mortal Instruments #1-4)",
                                    "3": "3",
                                    "4": "2011",
                                    "5": "4.59"
                                },
                                {
                                    "0": "14367051",
                                    "1": "Cassandra Clare",
                                    "2": "City of Bones / City of Ashes / City of Glass / City of Fallen Angels / City of Lost Souls (The Mortal Instruments, #1-5)",
                                    "3": "5",
                                    "4": "2012",
                                    "5": "4.59"
                                },
                                {
                                    "0": "28260587",
                                    "1": "Sarah J. Maas",
                                    "2": "Empire of Storms (Throne of Glass, #5)",
                                    "3": "26",
                                    "4": "2016",
                                    "5": "4.58"
                                },
                                {
                                    "0": "3165162",
                                    "1": "Rick Riordan",
                                    "2": "Percy Jackson and the Olympians (Percy Jackson and the Olympians, #1-3)",
                                    "3": "5",
                                    "4": "2008",
                                    "5": "4.58"
                                },
                                {
                                    "0": "20342617",
                                    "1": "Bryan Stevenson",
                                    "2": "Just Mercy: A Story of Justice and Redemption",
                                    "3": "18",
                                    "4": "2014",
                                    "5": "4.58"
                                },
                                {
                                    "0": "17961",
                                    "1": "Jorge Luis Borges, Andrew Hurley",
                                    "2": "Collected Fictions",
                                    "3": "18",
                                    "4": "1998",
                                    "5": "4.58"
                                },
                                {
                                    "0": "4808763",
                                    "1": "Isaac Asimov, Bob E. Flick, Jim Gallant",
                                    "2": "The Last Question",
                                    "3": "12",
                                    "4": "1956",
                                    "5": "4.58"
                                },
                                {
                                    "0": "15767586",
                                    "1": "Sherrilyn Kenyon",
                                    "2": "Styxx (Dark-Hunter, #22)",
                                    "3": "17",
                                    "4": "2013",
                                    "5": "4.58"
                                },
                                {
                                    "0": "892295",
                                    "1": "Arthur Conan Doyle, William S. Baring-Gould",
                                    "2": "The Annotated Sherlock Holmes: The Four Novels and the Fifty-Six Short Stories Complete (2 Volume Set)",
                                    "3": "5",
                                    "4": "1967",
                                    "5": "4.58"
                                },
                                {
                                    "0": "1215032",
                                    "1": "Patrick Rothfuss",
                                    "2": "The Wise Man's Fear (The Kingkiller Chronicle, #2)",
                                    "3": "102",
                                    "4": "2011",
                                    "5": "4.57"
                                },
                                {
                                    "0": "6485421",
                                    "1": "Cassandra Clare",
                                    "2": "The Mortal Instruments Boxed Set: City of Bones; City of Ashes; City of Glass (The Mortal Instruments, #1-3)",
                                    "3": "14",
                                    "4": "2009",
                                    "5": "4.57"
                                },
                                {
                                    "0": "17131869",
                                    "1": "Brian K. Vaughan, Fiona Staples",
                                    "2": "Saga, Vol. 2 (Saga, #2)",
                                    "3": "24",
                                    "4": "2013",
                                    "5": "4.57"
                                },
                                {
                                    "0": "8718952",
                                    "1": "Richelle Mead",
                                    "2": "Vampire Academy Box Set (Vampire Academy, #1-4)",
                                    "3": "1",
                                    "4": "2010",
                                    "5": "4.57"
                                },
                                {
                                    "0": "4634266",
                                    "1": "Masashi Kishimoto",
                                    "2": "NARUTO -ナルト- 巻ノ四十三",
                                    "3": "14",
                                    "4": "2008",
                                    "5": "4.57"
                                },
                                {
                                    "0": "6443349",
                                    "1": "Rick Riordan, Tk",
                                    "2": "Percy Jackson and the Olympians Boxed Set (Percy Jackson and the Olympians, #1-5)",
                                    "3": "23",
                                    "4": "2009",
                                    "5": "4.57"
                                },
                                {
                                    "0": "545425",
                                    "1": "Safiy al-Rahman al-Mubarakfuri",
                                    "2": "الرحيق المختوم",
                                    "3": "88",
                                    "4": "1979",
                                    "5": "4.57"
                                },
                                {
                                    "0": "17333174",
                                    "1": "Ilona Andrews",
                                    "2": "Magic Binds (Kate Daniels, #9)",
                                    "3": "14",
                                    "4": "2016",
                                    "5": "4.57"
                                },
                                {
                                    "0": "147915",
                                    "1": "George R.R. Martin",
                                    "2": "A Storm of Swords: Blood and Gold (A Song of Ice and Fire, #3: Part 2 of 2)",
                                    "3": "49",
                                    "4": "2000",
                                    "5": "4.56"
                                },
                                {
                                    "0": "19358975",
                                    "1": "Brian K. Vaughan, Fiona Staples",
                                    "2": "Saga, Vol. 3 (Saga, #3)",
                                    "3": "22",
                                    "4": "2014",
                                    "5": "4.56"
                                },
                                {
                                    "0": "10785687",
                                    "1": "Bob McCabe",
                                    "2": "Harry Potter Page to Screen: The Complete Filmmaking Journey",
                                    "3": "8",
                                    "4": "2011",
                                    "5": "4.56"
                                },
                                {
                                    "0": "17880714",
                                    "1": "K. Bromberg",
                                    "2": "Crashed (Driven, #3)",
                                    "3": "20",
                                    "4": "2014",
                                    "5": "4.56"
                                },
                                {
                                    "0": "1317181",
                                    "1": "J.K. Rowling",
                                    "2": "Harry Potter and the Order of the Phoenix (Harry Potter, #5, Part 1)",
                                    "3": "8",
                                    "4": "2003",
                                    "5": "4.56"
                                },
                                {
                                    "0": "15743078",
                                    "1": "Veronica Roth",
                                    "2": "The Divergent Series 2-Book Collection (Divergent, #1-2)",
                                    "3": "8",
                                    "4": "2012",
                                    "5": "4.56"
                                },
                                {
                                    "0": "29236299",
                                    "1": "Amie Kaufman, Jay Kristoff, Marie Lu",
                                    "2": "Gemina (The Illuminae Files, #2)",
                                    "3": "21",
                                    "4": "2016",
                                    "5": "4.56"
                                },
                                {
                                    "0": "186074",
                                    "1": "Patrick Rothfuss",
                                    "2": "The Name of the Wind (The Kingkiller Chronicle, #1)",
                                    "3": "123",
                                    "4": "2007",
                                    "5": "4.55"
                                },
                                {
                                    "0": "19486421",
                                    "1": "Jim Butcher",
                                    "2": "Skin Game (The Dresden Files, #15)",
                                    "3": "20",
                                    "4": "2014",
                                    "5": "4.55"
                                },
                                {
                                    "0": "6604209",
                                    "1": "Brandon Sanderson",
                                    "2": "Mistborn Trilogy Boxed Set (Mistborn, #1-3)",
                                    "3": "15",
                                    "4": "2009",
                                    "5": "4.55"
                                },
                                {
                                    "0": "25105",
                                    "1": "Neil Gaiman, Jill Thompson, Vince Locke, Peter Straub",
                                    "2": "Brief Lives (The Sandman #7)",
                                    "3": "29",
                                    "4": "1994",
                                    "5": "4.55"
                                },
                                {
                                    "0": "8346300",
                                    "1": "Andrew Williamson, Andrew Williamson",
                                    "2": "Harry Potter: A Pop-Up Book: Based on the Film Phenomenon",
                                    "3": "1",
                                    "4": "2010",
                                    "5": "4.55"
                                },
                                {
                                    "0": "14905",
                                    "1": "Jane Austen",
                                    "2": "The Complete Novels",
                                    "3": "149",
                                    "4": "1813",
                                    "5": "4.55"
                                },
                                {
                                    "0": "13184992",
                                    "1": "Kristen Ashley",
                                    "2": "Rock Chick Regret (Rock Chick, #7)",
                                    "3": "7",
                                    "4": "2011",
                                    "5": "4.55"
                                },
                                {
                                    "0": "71823",
                                    "1": "Stephen King",
                                    "2": "The Green Mile, Part 6: Coffey on the Mile",
                                    "3": "26",
                                    "4": "1996",
                                    "5": "4.55"
                                },
                                {
                                    "0": "1",
                                    "1": "J.K. Rowling, Mary GrandPré",
                                    "2": "Harry Potter and the Half-Blood Prince (Harry Potter, #6)",
                                    "3": "275",
                                    "4": "2005",
                                    "5": "4.54"
                                },
                                {
                                    "0": "62291",
                                    "1": "George R.R. Martin",
                                    "2": "A Storm of Swords (A Song of Ice and Fire, #3)",
                                    "3": "175",
                                    "4": "2000",
                                    "5": "4.54"
                                },
                                {
                                    "0": "21853621",
                                    "1": "Kristin Hannah",
                                    "2": "The Nightingale",
                                    "3": "90",
                                    "4": "2015",
                                    "5": "4.54"
                                },
                                {
                                    "0": "12127810",
                                    "1": "Rick Riordan",
                                    "2": "The House of Hades (The Heroes of Olympus, #4)",
                                    "3": "63",
                                    "4": "2013",
                                    "5": "4.54"
                                },
                                {
                                    "0": "6585201",
                                    "1": "Jim Butcher",
                                    "2": "Changes (The Dresden Files, #12)",
                                    "3": "20",
                                    "4": "2010",
                                    "5": "4.54"
                                },
                                {
                                    "0": "381421",
                                    "1": "Sarah  Young",
                                    "2": "Jesus Calling: Enjoying Peace in His Presence",
                                    "3": "75",
                                    "4": "2004",
                                    "5": "4.54"
                                },
                                {
                                    "0": "25101",
                                    "1": "Neil Gaiman, Matt Wagner, George Pratt, Dick Giordano, Kelley Jones, P. Craig Russell, Mike Dringenberg, Malcolm Jones III, Todd Klein, Harlan Ellison",
                                    "2": "Season of Mists (The Sandman #4)",
                                    "3": "35",
                                    "4": "1990",
                                    "5": "4.54"
                                },
                                {
                                    "0": "89959",
                                    "1": "Founding Fathers",
                                    "2": "The Constitution of the United States of America",
                                    "3": "64",
                                    "4": "1787",
                                    "5": "4.54"
                                },
                                {
                                    "0": "23766634",
                                    "1": "Sarah J. Maas",
                                    "2": "A Court of Wings and Ruin (A Court of Thorns and Roses, #3)",
                                    "3": "18",
                                    "4": "2017",
                                    "5": "4.54"
                                },
                                {
                                    "0": "20706320",
                                    "1": "Chris Colfer, Brandon Dorman",
                                    "2": "A Grimm Warning (The Land of Stories, #3)",
                                    "3": "32",
                                    "4": "2014",
                                    "5": "4.54"
                                },
                                {
                                    "0": "8163161",
                                    "1": "Bisco Hatori",
                                    "2": "Ouran High School Host Club, Vol. 15 (Ouran High School Host Club, #15)",
                                    "3": "11",
                                    "4": "2009",
                                    "5": "4.54"
                                },
                                {
                                    "0": "5",
                                    "1": "J.K. Rowling, Mary GrandPré, Rufus Beck",
                                    "2": "Harry Potter and the Prisoner of Azkaban (Harry Potter, #3)",
                                    "3": "376",
                                    "4": "1999",
                                    "5": "4.53"
                                },
                                {
                                    "0": "6",
                                    "1": "J.K. Rowling, Mary GrandPré",
                                    "2": "Harry Potter and the Goblet of Fire (Harry Potter, #4)",
                                    "3": "332",
                                    "4": "2000",
                                    "5": "4.53"
                                },
                                {
                                    "0": "20613470",
                                    "1": "Sarah J. Maas",
                                    "2": "Heir of Fire (Throne of Glass, #3)",
                                    "3": "46",
                                    "4": "2014",
                                    "5": "4.53"
                                },
                                {
                                    "0": "15195",
                                    "1": "Art Spiegelman",
                                    "2": "The Complete Maus (Maus, #1-2)",
                                    "3": "80",
                                    "4": "1986",
                                    "5": "4.53"
                                },
                                {
                                    "0": "25104",
                                    "1": "Neil Gaiman, Michael Zulli, Jon J. Muth, Charles Vess, Mikal Gilmore",
                                    "2": "The Wake (The Sandman #10)",
                                    "3": "32",
                                    "4": "1996",
                                    "5": "4.53"
                                }
                            ]
                        },
                        "text/html": [
                            "<table>",
                            "<tr><th>book_id</th><th>authors</th><th>title</th><th>books_count</th><th>original_publication_year</th><th>Average Rating</th></tr>",
                            "<tr><td>24812</td><td>Bill Watterson</td><td>The Complete Calvin and Hobbes</td><td>14</td><td>2005</td><td>4.82</td></tr>",
                            "<tr><td>17332218</td><td>Brandon Sanderson</td><td>Words of Radiance (The Stormlight Archive, #2)</td><td>34</td><td>2014</td><td>4.77</td></tr>",
                            "<tr><td>8</td><td>J.K. Rowling, Mary GrandPré</td><td>Harry Potter Boxed Set, Books 1-5 (Harry Potter, #1-5)</td><td>11</td><td>2003</td><td>4.77</td></tr>",
                            "<tr><td>5031805</td><td>Anonymous, Lane T. Dennis, Wayne A. Grudem</td><td>ESV Study Bible</td><td>96</td><td>2002</td><td>4.76</td></tr>",
                            "<tr><td>95602</td><td>Francine Rivers</td><td>Mark of the Lion Trilogy</td><td>6</td><td>1993</td><td>4.76</td></tr>",
                            "<tr><td>24814</td><td>Bill Watterson</td><td>It's a Magical World: A Calvin and Hobbes Collection</td><td>21</td><td>1996</td><td>4.75</td></tr>",
                            "<tr><td>862041</td><td>J.K. Rowling</td><td>Harry Potter Boxset (Harry Potter, #1-7)</td><td>76</td><td>1998</td><td>4.74</td></tr>",
                            "<tr><td>70489</td><td>Bill Watterson</td><td>There's Treasure Everywhere: A Calvin and Hobbes Collection</td><td>22</td><td>1996</td><td>4.74</td></tr>",
                            "<tr><td>10</td><td>J.K. Rowling</td><td>Harry Potter Collection (Harry Potter, #1-6)</td><td>6</td><td>2005</td><td>4.73</td></tr>",
                            "<tr><td>59715</td><td>Bill Watterson</td><td>The Authoritative Calvin and Hobbes: A Calvin and Hobbes Treasury</td><td>21</td><td>1990</td><td>4.73</td></tr>",
                            "<tr><td>24815</td><td>Bill Watterson</td><td>The Indispensable Calvin and Hobbes</td><td>19</td><td>1992</td><td>4.73</td></tr>",
                            "<tr><td>17927395</td><td>Sarah J. Maas</td><td>A Court of Mist and Fury (A Court of Thorns and Roses, #2)</td><td>39</td><td>2016</td><td>4.72</td></tr>",
                            "<tr><td>70487</td><td>Bill Watterson</td><td>Attack of the Deranged Mutant Killer Monster Snow Goons</td><td>24</td><td>1992</td><td>4.72</td></tr>",
                            "<tr><td>24816</td><td>Bill Watterson</td><td>Homicidal Psycho Jungle Cat: A Calvin and Hobbes Collection</td><td>23</td><td>1994</td><td>4.71</td></tr>",
                            "<tr><td>121792</td><td>Bill Watterson</td><td>The Revenge of the Baby-Sat</td><td>20</td><td>1991</td><td>4.71</td></tr>",
                            "<tr><td>2350129</td><td>The Church of Jesus Christ of Latter-day Saints</td><td>Preach My Gospel: A Guide To Missionary Service</td><td>5</td><td>2004</td><td>4.71</td></tr>",
                            "<tr><td>24818</td><td>Bill Watterson</td><td>The Days Are Just Packed: A Calvin and Hobbes Collection</td><td>28</td><td>1993</td><td>4.68</td></tr>",
                            "<tr><td>265205</td><td>Anonymous, Ronald A. Beers, Ronald A. Beers</td><td>Life Application Study Bible: NIV</td><td>183</td><td>1992</td><td>4.67</td></tr>",
                            "<tr><td>9329354</td><td>Brandon Sanderson</td><td>The Way of Kings, Part 1 (The Stormlight Archive #1.1)</td><td>19</td><td>2011</td><td>4.67</td></tr>",
                            "<tr><td>99298</td><td>J.K. Rowling, Mary GrandPré</td><td>The Harry Potter Collection 1-4 (Harry Potter, #1-4)</td><td>17</td><td>1999</td><td>4.66</td></tr>",
                            "<tr><td>5883777</td><td>Anonymous</td><td>The Holy Bible: English Standard Version</td><td>627</td><td>2001</td><td>4.66</td></tr>",
                            "<tr><td>24494</td><td>Bill Watterson</td><td>The Calvin and Hobbes Lazy Sunday Book</td><td>15</td><td>1989</td><td>4.66</td></tr>",
                            "<tr><td>43070</td><td>Bill Watterson</td><td>The Essential Calvin and Hobbes: A Calvin and Hobbes Treasury</td><td>26</td><td>1988</td><td>4.65</td></tr>",
                            "<tr><td>18337259</td><td>Daniel Abraham, George R.R. Martin, Tommy Patterson</td><td>A Game of Thrones: Comic Book, Issue 1</td><td>6</td><td>2011</td><td>4.65</td></tr>",
                            "<tr><td>23753</td><td>Neil Gaiman, Mike Dringenberg, Chris Bachalo, Michael Zulli, Kelly Jones, Charles Vess, Colleen Doran, Malcolm Jones III, Steve Parkhouse, Daniel Vozzo, Lee Loughridge, Steve Oliff, Todd Klein, Dave McKean, Sam Kieth</td><td>The Absolute Sandman, Volume One</td><td>5</td><td>2006</td><td>4.65</td></tr>",
                            "<tr><td>7235533</td><td>Brandon Sanderson</td><td>The Way of Kings (The Stormlight Archive, #1)</td><td>48</td><td>2010</td><td>4.64</td></tr>",
                            "<tr><td>24813</td><td>Bill Watterson</td><td>The Calvin and Hobbes Tenth Anniversary Book</td><td>17</td><td>1995</td><td>4.63</td></tr>",
                            "<tr><td>9814682</td><td>George R.R. Martin</td><td>A Song of Ice and Fire (A Song of Ice and Fire, #1-4)</td><td>15</td><td>2011</td><td>4.63</td></tr>",
                            "<tr><td>12177850</td><td>George R.R. Martin</td><td>A Song of Ice and Fire (A Song of Ice and Fire, #1-5)</td><td>31</td><td>2000</td><td>4.63</td></tr>",
                            "<tr><td>481749</td><td>James E. Talmage</td><td>Jesus the Christ</td><td>115</td><td>1915</td><td>4.63</td></tr>",
                            "<tr><td>46292</td><td>Hafez</td><td>The Divan</td><td>91</td><td>1380</td><td>4.63</td></tr>",
                            "<tr><td>6801614</td><td>Eiichirō Oda</td><td>One Piece, Volume 38: Rocketman!! (One Piece, #38)</td><td>18</td><td>2005</td><td>4.63</td></tr>",
                            "<tr><td>22299763</td><td>Leigh Bardugo</td><td>Crooked Kingdom (Six of Crows, #2)</td><td>29</td><td>2016</td><td>4.62</td></tr>",
                            "<tr><td>32075671</td><td>Angie Thomas</td><td>The Hate U Give</td><td>36</td><td>2017</td><td>4.62</td></tr>",
                            "<tr><td>136251</td><td>J.K. Rowling, Mary GrandPré</td><td>Harry Potter and the Deathly Hallows (Harry Potter, #7)</td><td>263</td><td>2007</td><td>4.61</td></tr>",
                            "<tr><td>77727</td><td>Bill Watterson, G.B. Trudeau</td><td>Calvin and Hobbes</td><td>24</td><td>1987</td><td>4.61</td></tr>",
                            "<tr><td>280111</td><td>Anonymous</td><td>Holy Bible: New International Version</td><td>1101</td><td>1909</td><td>4.61</td></tr>",
                            "<tr><td>2223324</td><td>John   Williams</td><td>Harry Potter and the Chamber of Secrets: Sheet Music for Flute with C.D</td><td>11</td><td>2003</td><td>4.61</td></tr>",
                            "<tr><td>6339989</td><td>Richelle Mead</td><td>Vampire Academy Collection (Vampire Academy, #1-3)</td><td>8</td><td>2009</td><td>4.61</td></tr>",
                            "<tr><td>596259</td><td>Gordon B. Hinckley</td><td>Standing for Something: 10 Neglected Virtues That Will Heal Our Hearts and Homes</td><td>12</td><td>2000</td><td>4.61</td></tr>",
                            "<tr><td>47697</td><td>Alisa Kwitney, Neil Gaiman</td><td>The Sandman: King of Dreams</td><td>4</td><td>2003</td><td>4.61</td></tr>",
                            "<tr><td>18006496</td><td>Sarah J. Maas</td><td>Queen of Shadows (Throne of Glass, #4)</td><td>36</td><td>2015</td><td>4.6</td></tr>",
                            "<tr><td>95617</td><td>Francine Rivers, Richard Ferrone</td><td>A Voice in the Wind (Mark of the Lion, #1)</td><td>36</td><td>1993</td><td>4.6</td></tr>",
                            "<tr><td>46601</td><td>Francine Rivers</td><td>An Echo in the Darkness (Mark of the Lion, #2)</td><td>27</td><td>1994</td><td>4.6</td></tr>",
                            "<tr><td>7025086</td><td>Christopher Yost, Pasqual Ferry, Orson Scott Card</td><td>Ender's Game, Volume 2: Command School</td><td>3</td><td>2010</td><td>4.6</td></tr>",
                            "<tr><td>18335634</td><td>Cassandra Clare</td><td>Clockwork Princess (The Infernal Devices, #3)</td><td>79</td><td>2013</td><td>4.59</td></tr>",
                            "<tr><td>30</td><td>J.R.R. Tolkien</td><td>J.R.R. Tolkien 4-Book Boxed Set: The Hobbit and The Lord of the Rings</td><td>74</td><td>1973</td><td>4.59</td></tr>",
                            "<tr><td>2299110</td><td>Sherrilyn Kenyon</td><td>Acheron (Dark-Hunter #14)</td><td>31</td><td>2008</td><td>4.59</td></tr>",
                            "<tr><td>119</td><td>Gary Russell</td><td>The Lord of the Rings: The Art of The Fellowship of the Ring</td><td>7</td><td>2002</td><td>4.59</td></tr>",
                            "<tr><td>71252</td><td>Neil Gaiman, Marc Hempel, Richard Case, D'Israeli, Teddy Kristiansen, Glyn Dillon, Charles Vess, Dean Ormston, Kevin Nowlan, Todd Klein, Frank McConnell</td><td>The Kindly Ones (The Sandman #9)</td><td>29</td><td>1996</td><td>4.59</td></tr>",
                            "<tr><td>349254</td><td>Jude Fisher</td><td>The Lord of the Rings: The Return of the King: Visual Companion</td><td>10</td><td>NULL</td><td>4.59</td></tr>",
                            "<tr><td>9832370</td><td>BookRags</td><td>BookRags Summary:  A Storm of Swords</td><td>1</td><td>NULL</td><td>4.59</td></tr>",
                            "<tr><td>11106458</td><td>Cassandra Clare</td><td>The Mortal Instruments (The Mortal Instruments #1-4)</td><td>3</td><td>2011</td><td>4.59</td></tr>",
                            "<tr><td>14367051</td><td>Cassandra Clare</td><td>City of Bones / City of Ashes / City of Glass / City of Fallen Angels / City of Lost Souls (The Mortal Instruments, #1-5)</td><td>5</td><td>2012</td><td>4.59</td></tr>",
                            "<tr><td>28260587</td><td>Sarah J. Maas</td><td>Empire of Storms (Throne of Glass, #5)</td><td>26</td><td>2016</td><td>4.58</td></tr>",
                            "<tr><td>3165162</td><td>Rick Riordan</td><td>Percy Jackson and the Olympians (Percy Jackson and the Olympians, #1-3)</td><td>5</td><td>2008</td><td>4.58</td></tr>",
                            "<tr><td>20342617</td><td>Bryan Stevenson</td><td>Just Mercy: A Story of Justice and Redemption</td><td>18</td><td>2014</td><td>4.58</td></tr>",
                            "<tr><td>17961</td><td>Jorge Luis Borges, Andrew Hurley</td><td>Collected Fictions</td><td>18</td><td>1998</td><td>4.58</td></tr>",
                            "<tr><td>4808763</td><td>Isaac Asimov, Bob E. Flick, Jim Gallant</td><td>The Last Question</td><td>12</td><td>1956</td><td>4.58</td></tr>",
                            "<tr><td>15767586</td><td>Sherrilyn Kenyon</td><td>Styxx (Dark-Hunter, #22)</td><td>17</td><td>2013</td><td>4.58</td></tr>",
                            "<tr><td>892295</td><td>Arthur Conan Doyle, William S. Baring-Gould</td><td>The Annotated Sherlock Holmes: The Four Novels and the Fifty-Six Short Stories Complete (2 Volume Set)</td><td>5</td><td>1967</td><td>4.58</td></tr>",
                            "<tr><td>1215032</td><td>Patrick Rothfuss</td><td>The Wise Man's Fear (The Kingkiller Chronicle, #2)</td><td>102</td><td>2011</td><td>4.57</td></tr>",
                            "<tr><td>6485421</td><td>Cassandra Clare</td><td>The Mortal Instruments Boxed Set: City of Bones; City of Ashes; City of Glass (The Mortal Instruments, #1-3)</td><td>14</td><td>2009</td><td>4.57</td></tr>",
                            "<tr><td>17131869</td><td>Brian K. Vaughan, Fiona Staples</td><td>Saga, Vol. 2 (Saga, #2)</td><td>24</td><td>2013</td><td>4.57</td></tr>",
                            "<tr><td>8718952</td><td>Richelle Mead</td><td>Vampire Academy Box Set (Vampire Academy, #1-4)</td><td>1</td><td>2010</td><td>4.57</td></tr>",
                            "<tr><td>4634266</td><td>Masashi Kishimoto</td><td>NARUTO -ナルト- 巻ノ四十三</td><td>14</td><td>2008</td><td>4.57</td></tr>",
                            "<tr><td>6443349</td><td>Rick Riordan, Tk</td><td>Percy Jackson and the Olympians Boxed Set (Percy Jackson and the Olympians, #1-5)</td><td>23</td><td>2009</td><td>4.57</td></tr>",
                            "<tr><td>545425</td><td>Safiy al-Rahman al-Mubarakfuri</td><td>الرحيق المختوم</td><td>88</td><td>1979</td><td>4.57</td></tr>",
                            "<tr><td>17333174</td><td>Ilona Andrews</td><td>Magic Binds (Kate Daniels, #9)</td><td>14</td><td>2016</td><td>4.57</td></tr>",
                            "<tr><td>147915</td><td>George R.R. Martin</td><td>A Storm of Swords: Blood and Gold (A Song of Ice and Fire, #3: Part 2 of 2)</td><td>49</td><td>2000</td><td>4.56</td></tr>",
                            "<tr><td>19358975</td><td>Brian K. Vaughan, Fiona Staples</td><td>Saga, Vol. 3 (Saga, #3)</td><td>22</td><td>2014</td><td>4.56</td></tr>",
                            "<tr><td>10785687</td><td>Bob McCabe</td><td>Harry Potter Page to Screen: The Complete Filmmaking Journey</td><td>8</td><td>2011</td><td>4.56</td></tr>",
                            "<tr><td>17880714</td><td>K. Bromberg</td><td>Crashed (Driven, #3)</td><td>20</td><td>2014</td><td>4.56</td></tr>",
                            "<tr><td>1317181</td><td>J.K. Rowling</td><td>Harry Potter and the Order of the Phoenix (Harry Potter, #5, Part 1)</td><td>8</td><td>2003</td><td>4.56</td></tr>",
                            "<tr><td>15743078</td><td>Veronica Roth</td><td>The Divergent Series 2-Book Collection (Divergent, #1-2)</td><td>8</td><td>2012</td><td>4.56</td></tr>",
                            "<tr><td>29236299</td><td>Amie Kaufman, Jay Kristoff, Marie Lu</td><td>Gemina (The Illuminae Files, #2)</td><td>21</td><td>2016</td><td>4.56</td></tr>",
                            "<tr><td>186074</td><td>Patrick Rothfuss</td><td>The Name of the Wind (The Kingkiller Chronicle, #1)</td><td>123</td><td>2007</td><td>4.55</td></tr>",
                            "<tr><td>19486421</td><td>Jim Butcher</td><td>Skin Game (The Dresden Files, #15)</td><td>20</td><td>2014</td><td>4.55</td></tr>",
                            "<tr><td>6604209</td><td>Brandon Sanderson</td><td>Mistborn Trilogy Boxed Set (Mistborn, #1-3)</td><td>15</td><td>2009</td><td>4.55</td></tr>",
                            "<tr><td>25105</td><td>Neil Gaiman, Jill Thompson, Vince Locke, Peter Straub</td><td>Brief Lives (The Sandman #7)</td><td>29</td><td>1994</td><td>4.55</td></tr>",
                            "<tr><td>8346300</td><td>Andrew Williamson, Andrew Williamson</td><td>Harry Potter: A Pop-Up Book: Based on the Film Phenomenon</td><td>1</td><td>2010</td><td>4.55</td></tr>",
                            "<tr><td>14905</td><td>Jane Austen</td><td>The Complete Novels</td><td>149</td><td>1813</td><td>4.55</td></tr>",
                            "<tr><td>13184992</td><td>Kristen Ashley</td><td>Rock Chick Regret (Rock Chick, #7)</td><td>7</td><td>2011</td><td>4.55</td></tr>",
                            "<tr><td>71823</td><td>Stephen King</td><td>The Green Mile, Part 6: Coffey on the Mile</td><td>26</td><td>1996</td><td>4.55</td></tr>",
                            "<tr><td>1</td><td>J.K. Rowling, Mary GrandPré</td><td>Harry Potter and the Half-Blood Prince (Harry Potter, #6)</td><td>275</td><td>2005</td><td>4.54</td></tr>",
                            "<tr><td>62291</td><td>George R.R. Martin</td><td>A Storm of Swords (A Song of Ice and Fire, #3)</td><td>175</td><td>2000</td><td>4.54</td></tr>",
                            "<tr><td>21853621</td><td>Kristin Hannah</td><td>The Nightingale</td><td>90</td><td>2015</td><td>4.54</td></tr>",
                            "<tr><td>12127810</td><td>Rick Riordan</td><td>The House of Hades (The Heroes of Olympus, #4)</td><td>63</td><td>2013</td><td>4.54</td></tr>",
                            "<tr><td>6585201</td><td>Jim Butcher</td><td>Changes (The Dresden Files, #12)</td><td>20</td><td>2010</td><td>4.54</td></tr>",
                            "<tr><td>381421</td><td>Sarah  Young</td><td>Jesus Calling: Enjoying Peace in His Presence</td><td>75</td><td>2004</td><td>4.54</td></tr>",
                            "<tr><td>25101</td><td>Neil Gaiman, Matt Wagner, George Pratt, Dick Giordano, Kelley Jones, P. Craig Russell, Mike Dringenberg, Malcolm Jones III, Todd Klein, Harlan Ellison</td><td>Season of Mists (The Sandman #4)</td><td>35</td><td>1990</td><td>4.54</td></tr>",
                            "<tr><td>89959</td><td>Founding Fathers</td><td>The Constitution of the United States of America</td><td>64</td><td>1787</td><td>4.54</td></tr>",
                            "<tr><td>23766634</td><td>Sarah J. Maas</td><td>A Court of Wings and Ruin (A Court of Thorns and Roses, #3)</td><td>18</td><td>2017</td><td>4.54</td></tr>",
                            "<tr><td>20706320</td><td>Chris Colfer, Brandon Dorman</td><td>A Grimm Warning (The Land of Stories, #3)</td><td>32</td><td>2014</td><td>4.54</td></tr>",
                            "<tr><td>8163161</td><td>Bisco Hatori</td><td>Ouran High School Host Club, Vol. 15 (Ouran High School Host Club, #15)</td><td>11</td><td>2009</td><td>4.54</td></tr>",
                            "<tr><td>5</td><td>J.K. Rowling, Mary GrandPré, Rufus Beck</td><td>Harry Potter and the Prisoner of Azkaban (Harry Potter, #3)</td><td>376</td><td>1999</td><td>4.53</td></tr>",
                            "<tr><td>6</td><td>J.K. Rowling, Mary GrandPré</td><td>Harry Potter and the Goblet of Fire (Harry Potter, #4)</td><td>332</td><td>2000</td><td>4.53</td></tr>",
                            "<tr><td>20613470</td><td>Sarah J. Maas</td><td>Heir of Fire (Throne of Glass, #3)</td><td>46</td><td>2014</td><td>4.53</td></tr>",
                            "<tr><td>15195</td><td>Art Spiegelman</td><td>The Complete Maus (Maus, #1-2)</td><td>80</td><td>1986</td><td>4.53</td></tr>",
                            "<tr><td>25104</td><td>Neil Gaiman, Michael Zulli, Jon J. Muth, Charles Vess, Mikal Gilmore</td><td>The Wake (The Sandman #10)</td><td>32</td><td>1996</td><td>4.53</td></tr>",
                            "</table>"
                        ]
                    }
                }
            ],
            "execution_count": 51
        },
        {
            "cell_type": "markdown",
            "source": [
                "Question 2: Write a query to find the least popular book."
            ],
            "metadata": {
                "azdata_cell_guid": "777429b8-8622-489d-9c49-e2acecd7f17e"
            },
            "attachments": {}
        },
        {
            "cell_type": "code",
            "source": [
                "-- return least popular book\n",
                "USE BooksDB\n",
                "SELECT TOP 1 title, average_rating AS 'Average Rating'\n",
                "FROM books\n",
                "ORDER BY average_rating ASC"
            ],
            "metadata": {
                "azdata_cell_guid": "c78a1779-db74-470f-a60a-7c72a43d774b",
                "language": "sql",
                "tags": []
            },
            "outputs": [
                {
                    "output_type": "display_data",
                    "data": {
                        "text/html": "(1 row affected)"
                    },
                    "metadata": {}
                },
                {
                    "output_type": "display_data",
                    "data": {
                        "text/html": "Total execution time: 00:00:00.083"
                    },
                    "metadata": {}
                },
                {
                    "output_type": "execute_result",
                    "metadata": {},
                    "execution_count": 4,
                    "data": {
                        "application/vnd.dataresource+json": {
                            "schema": {
                                "fields": [
                                    {
                                        "name": "title"
                                    },
                                    {
                                        "name": "Average Rating"
                                    }
                                ]
                            },
                            "data": [
                                {
                                    "0": "One Night at the Call Center",
                                    "1": "2.47"
                                }
                            ]
                        },
                        "text/html": [
                            "<table>",
                            "<tr><th>title</th><th>Average Rating</th></tr>",
                            "<tr><td>One Night at the Call Center</td><td>2.47</td></tr>",
                            "</table>"
                        ]
                    }
                }
            ],
            "execution_count": 4
        },
        {
            "cell_type": "markdown",
            "source": [
                "Question 3: Which tag is the most popular?"
            ],
            "metadata": {
                "azdata_cell_guid": "a370909d-5d64-49e2-8fec-5220730c8ca7"
            },
            "attachments": {}
        },
        {
            "cell_type": "code",
            "source": [
                "-- return most popular tag\n",
                "USE BooksDB\n",
                "SELECT TOP 1 SUM([count]) AS 'tag count', tag_id\n",
                "FROM book_tags\n",
                "GROUP BY tag_id\n",
                "ORDER BY SUM([count]) DESC"
            ],
            "metadata": {
                "azdata_cell_guid": "9e0451dc-c4d3-4775-9eb1-904854f459ff",
                "tags": [],
                "language": "sql"
            },
            "outputs": [
                {
                    "output_type": "display_data",
                    "data": {
                        "text/html": "(1 row affected)"
                    },
                    "metadata": {}
                },
                {
                    "output_type": "display_data",
                    "data": {
                        "text/html": "Total execution time: 00:00:00.261"
                    },
                    "metadata": {}
                },
                {
                    "output_type": "execute_result",
                    "metadata": {},
                    "execution_count": 24,
                    "data": {
                        "application/vnd.dataresource+json": {
                            "schema": {
                                "fields": [
                                    {
                                        "name": "tag count"
                                    },
                                    {
                                        "name": "tag_id"
                                    }
                                ]
                            },
                            "data": [
                                {
                                    "0": "140718761",
                                    "1": "30574"
                                }
                            ]
                        },
                        "text/html": [
                            "<table>",
                            "<tr><th>tag count</th><th>tag_id</th></tr>",
                            "<tr><td>140718761</td><td>30574</td></tr>",
                            "</table>"
                        ]
                    }
                }
            ],
            "execution_count": 24
        },
        {
            "cell_type": "markdown",
            "source": [
                "Question 4: What is the name of the most popular tag?"
            ],
            "metadata": {
                "azdata_cell_guid": "3cdfa7e6-c5a6-49fb-aa27-afeece881627"
            },
            "attachments": {}
        },
        {
            "cell_type": "code",
            "source": [
                "-- return name of most popular tag\n",
                "USE BooksDB\n",
                "SELECT tag_name\n",
                "FROM tags\n",
                "WHERE tag_id = 30574"
            ],
            "metadata": {
                "azdata_cell_guid": "3cd3a3ec-4ce2-49b6-b714-44179eed00e1",
                "language": "sql",
                "tags": []
            },
            "outputs": [
                {
                    "output_type": "display_data",
                    "data": {
                        "text/html": "(1 row affected)"
                    },
                    "metadata": {}
                },
                {
                    "output_type": "display_data",
                    "data": {
                        "text/html": "Total execution time: 00:00:00.083"
                    },
                    "metadata": {}
                },
                {
                    "output_type": "execute_result",
                    "metadata": {},
                    "execution_count": 18,
                    "data": {
                        "application/vnd.dataresource+json": {
                            "schema": {
                                "fields": [
                                    {
                                        "name": "tag_name"
                                    }
                                ]
                            },
                            "data": [
                                {
                                    "0": "to-read"
                                }
                            ]
                        },
                        "text/html": [
                            "<table>",
                            "<tr><th>tag_name</th></tr>",
                            "<tr><td>to-read</td></tr>",
                            "</table>"
                        ]
                    }
                }
            ],
            "execution_count": 18
        },
        {
            "cell_type": "markdown",
            "source": [
                "Question 5: How many books where released in the first decade of 2000?"
            ],
            "metadata": {
                "azdata_cell_guid": "b3962545-c0c2-47ca-a3c4-299c2c0a4b0c"
            },
            "attachments": {}
        },
        {
            "cell_type": "code",
            "source": [
                "-- return number of books published in the first decade of 2000\n",
                "USE BooksDB\n",
                "SELECT COUNT([original_publication_year])\n",
                "FROM books\n",
                "WHERE original_publication_year BETWEEN 2000 AND 2009"
            ],
            "metadata": {
                "azdata_cell_guid": "8dcd65e9-1b3e-4cf8-b726-26729a1225f2",
                "language": "sql"
            },
            "outputs": [
                {
                    "output_type": "display_data",
                    "data": {
                        "text/html": "(1 row affected)"
                    },
                    "metadata": {}
                },
                {
                    "output_type": "display_data",
                    "data": {
                        "text/html": "Total execution time: 00:00:00.925"
                    },
                    "metadata": {}
                },
                {
                    "output_type": "execute_result",
                    "metadata": {},
                    "execution_count": 25,
                    "data": {
                        "application/vnd.dataresource+json": {
                            "schema": {
                                "fields": [
                                    {
                                        "name": "(No column name)"
                                    }
                                ]
                            },
                            "data": [
                                {
                                    "0": "3121"
                                }
                            ]
                        },
                        "text/html": [
                            "<table>",
                            "<tr><th>(No column name)</th></tr>",
                            "<tr><td>3121</td></tr>",
                            "</table>"
                        ]
                    }
                }
            ],
            "execution_count": 25
        },
        {
            "cell_type": "markdown",
            "source": [
                "Question 6: How many book titles contain the word Happy?"
            ],
            "metadata": {
                "azdata_cell_guid": "5080d6de-2775-4055-97ae-f93fce97a426"
            },
            "attachments": {}
        },
        {
            "cell_type": "code",
            "source": [
                "-- return number of books that contain the word Happy\n",
                "USE BooksDB\n",
                "SELECT COUNT([original_title]) AS 'Total Titles with Happy'\n",
                "FROM books\n",
                "WHERE original_title LIKE '%Happy%'"
            ],
            "metadata": {
                "azdata_cell_guid": "f55f18b9-91b1-4761-ad8c-4758434d7827",
                "language": "sql"
            },
            "outputs": [
                {
                    "output_type": "display_data",
                    "data": {
                        "text/html": "(1 row affected)"
                    },
                    "metadata": {}
                },
                {
                    "output_type": "display_data",
                    "data": {
                        "text/html": "Total execution time: 00:00:00.105"
                    },
                    "metadata": {}
                },
                {
                    "output_type": "execute_result",
                    "metadata": {},
                    "execution_count": 29,
                    "data": {
                        "application/vnd.dataresource+json": {
                            "schema": {
                                "fields": [
                                    {
                                        "name": "Total Titles with Happy"
                                    }
                                ]
                            },
                            "data": [
                                {
                                    "0": "11"
                                }
                            ]
                        },
                        "text/html": [
                            "<table>",
                            "<tr><th>Total Titles with Happy</th></tr>",
                            "<tr><td>11</td></tr>",
                            "</table>"
                        ]
                    }
                }
            ],
            "execution_count": 29
        },
        {
            "cell_type": "markdown",
            "source": [
                "Question 7: List the books from the top 3 authors from question 1.  If there is more than one author just use the first one. Sort the titles <span style=\"background-color: rgba(127, 127, 127, 0.1); font-family: -apple-system, BlinkMacSystemFont, sans-serif;\">alphabetically by author and then by average_rating, best rated to lowest. Does order matter in sorting?</span>"
            ],
            "metadata": {
                "azdata_cell_guid": "d38270ef-da5a-42b4-802a-506acb8b9e4b"
            },
            "attachments": {}
        },
        {
            "cell_type": "code",
            "source": [
                "-- return all books from the top 3 authors, sort by author and rating\n",
                "USE BooksDB\n",
                "SELECT authors, average_rating, title\n",
                "FROM books\n",
                "WHERE authors = 'Bill Watterson' OR authors = 'J.K. Rowling, Mary GrandPré' OR authors = 'Brandon Sanderson'\n",
                "ORDER BY authors asc, average_rating DESC  "
            ],
            "metadata": {
                "azdata_cell_guid": "47466fac-5d8d-491d-bd3c-2f8496f55e6b",
                "language": "sql",
                "tags": []
            },
            "outputs": [
                {
                    "output_type": "display_data",
                    "data": {
                        "text/html": "(41 rows affected)"
                    },
                    "metadata": {}
                },
                {
                    "output_type": "display_data",
                    "data": {
                        "text/html": "Total execution time: 00:00:00.074"
                    },
                    "metadata": {}
                },
                {
                    "output_type": "execute_result",
                    "metadata": {},
                    "execution_count": 39,
                    "data": {
                        "application/vnd.dataresource+json": {
                            "schema": {
                                "fields": [
                                    {
                                        "name": "authors"
                                    },
                                    {
                                        "name": "average_rating"
                                    },
                                    {
                                        "name": "title"
                                    }
                                ]
                            },
                            "data": [
                                {
                                    "0": "Bill Watterson",
                                    "1": "4.82",
                                    "2": "The Complete Calvin and Hobbes"
                                },
                                {
                                    "0": "Bill Watterson",
                                    "1": "4.75",
                                    "2": "It's a Magical World: A Calvin and Hobbes Collection"
                                },
                                {
                                    "0": "Bill Watterson",
                                    "1": "4.74",
                                    "2": "There's Treasure Everywhere: A Calvin and Hobbes Collection"
                                },
                                {
                                    "0": "Bill Watterson",
                                    "1": "4.73",
                                    "2": "The Authoritative Calvin and Hobbes: A Calvin and Hobbes Treasury"
                                },
                                {
                                    "0": "Bill Watterson",
                                    "1": "4.73",
                                    "2": "The Indispensable Calvin and Hobbes"
                                },
                                {
                                    "0": "Bill Watterson",
                                    "1": "4.72",
                                    "2": "Attack of the Deranged Mutant Killer Monster Snow Goons"
                                },
                                {
                                    "0": "Bill Watterson",
                                    "1": "4.71",
                                    "2": "The Revenge of the Baby-Sat"
                                },
                                {
                                    "0": "Bill Watterson",
                                    "1": "4.71",
                                    "2": "Homicidal Psycho Jungle Cat: A Calvin and Hobbes Collection"
                                },
                                {
                                    "0": "Bill Watterson",
                                    "1": "4.68",
                                    "2": "The Days Are Just Packed: A Calvin and Hobbes Collection"
                                },
                                {
                                    "0": "Bill Watterson",
                                    "1": "4.66",
                                    "2": "The Calvin and Hobbes Lazy Sunday Book"
                                },
                                {
                                    "0": "Bill Watterson",
                                    "1": "4.65",
                                    "2": "The Essential Calvin and Hobbes: A Calvin and Hobbes Treasury"
                                },
                                {
                                    "0": "Bill Watterson",
                                    "1": "4.63",
                                    "2": "The Calvin and Hobbes Tenth Anniversary Book"
                                },
                                {
                                    "0": "Brandon Sanderson",
                                    "1": "4.77",
                                    "2": "Words of Radiance (The Stormlight Archive, #2)"
                                },
                                {
                                    "0": "Brandon Sanderson",
                                    "1": "4.67",
                                    "2": "The Way of Kings, Part 1 (The Stormlight Archive #1.1)"
                                },
                                {
                                    "0": "Brandon Sanderson",
                                    "1": "4.64",
                                    "2": "The Way of Kings (The Stormlight Archive, #1)"
                                },
                                {
                                    "0": "Brandon Sanderson",
                                    "1": "4.55",
                                    "2": "Mistborn Trilogy Boxed Set (Mistborn, #1-3)"
                                },
                                {
                                    "0": "Brandon Sanderson",
                                    "1": "4.46",
                                    "2": "The Hero of Ages (Mistborn, #3)"
                                },
                                {
                                    "0": "Brandon Sanderson",
                                    "1": "4.45",
                                    "2": "The Bands of Mourning (Mistborn, #6)"
                                },
                                {
                                    "0": "Brandon Sanderson",
                                    "1": "4.43",
                                    "2": "The Final Empire (Mistborn, #1)"
                                },
                                {
                                    "0": "Brandon Sanderson",
                                    "1": "4.38",
                                    "2": "Secret History (Mistborn, #3.5)"
                                },
                                {
                                    "0": "Brandon Sanderson",
                                    "1": "4.35",
                                    "2": "The Well of Ascension (Mistborn, #2)"
                                },
                                {
                                    "0": "Brandon Sanderson",
                                    "1": "4.33",
                                    "2": "The Emperor's Soul"
                                },
                                {
                                    "0": "Brandon Sanderson",
                                    "1": "4.3",
                                    "2": "Shadows of Self (Mistborn, #5)"
                                },
                                {
                                    "0": "Brandon Sanderson",
                                    "1": "4.29",
                                    "2": "Firefight (The Reckoners, #2)"
                                },
                                {
                                    "0": "Brandon Sanderson",
                                    "1": "4.25",
                                    "2": "The Rithmatist (The Rithmatist, #1)"
                                },
                                {
                                    "0": "Brandon Sanderson",
                                    "1": "4.22",
                                    "2": "Warbreaker (Warbreaker, #1)"
                                },
                                {
                                    "0": "Brandon Sanderson",
                                    "1": "4.2",
                                    "2": "The Alloy of Law (Mistborn, #4)"
                                },
                                {
                                    "0": "Brandon Sanderson",
                                    "1": "4.2",
                                    "2": "Calamity (The Reckoners, #3)"
                                },
                                {
                                    "0": "Brandon Sanderson",
                                    "1": "4.17",
                                    "2": "Elantris (Elantris, #1)"
                                },
                                {
                                    "0": "Brandon Sanderson",
                                    "1": "4.16",
                                    "2": "Steelheart (The Reckoners, #1)"
                                },
                                {
                                    "0": "Brandon Sanderson",
                                    "1": "4.13",
                                    "2": "Legion (Legion, #1)"
                                },
                                {
                                    "0": "Brandon Sanderson",
                                    "1": "3.87",
                                    "2": "Mitosis (The Reckoners, #1.5)"
                                },
                                {
                                    "0": "Brandon Sanderson",
                                    "1": "3.87",
                                    "2": "Alcatraz Versus the Evil Librarians (Alcatraz, #1)"
                                },
                                {
                                    "0": "J.K. Rowling, Mary GrandPré",
                                    "1": "4.77",
                                    "2": "Harry Potter Boxed Set, Books 1-5 (Harry Potter, #1-5)"
                                },
                                {
                                    "0": "J.K. Rowling, Mary GrandPré",
                                    "1": "4.66",
                                    "2": "The Harry Potter Collection 1-4 (Harry Potter, #1-4)"
                                },
                                {
                                    "0": "J.K. Rowling, Mary GrandPré",
                                    "1": "4.61",
                                    "2": "Harry Potter and the Deathly Hallows (Harry Potter, #7)"
                                },
                                {
                                    "0": "J.K. Rowling, Mary GrandPré",
                                    "1": "4.54",
                                    "2": "Harry Potter and the Half-Blood Prince (Harry Potter, #6)"
                                },
                                {
                                    "0": "J.K. Rowling, Mary GrandPré",
                                    "1": "4.53",
                                    "2": "Harry Potter and the Goblet of Fire (Harry Potter, #4)"
                                },
                                {
                                    "0": "J.K. Rowling, Mary GrandPré",
                                    "1": "4.46",
                                    "2": "Harry Potter and the Order of the Phoenix (Harry Potter, #5)"
                                },
                                {
                                    "0": "J.K. Rowling, Mary GrandPré",
                                    "1": "4.44",
                                    "2": "Harry Potter and the Sorcerer's Stone (Harry Potter, #1)"
                                },
                                {
                                    "0": "J.K. Rowling, Mary GrandPré",
                                    "1": "4.37",
                                    "2": "Harry Potter and the Chamber of Secrets (Harry Potter, #2)"
                                }
                            ]
                        },
                        "text/html": [
                            "<table>",
                            "<tr><th>authors</th><th>average_rating</th><th>title</th></tr>",
                            "<tr><td>Bill Watterson</td><td>4.82</td><td>The Complete Calvin and Hobbes</td></tr>",
                            "<tr><td>Bill Watterson</td><td>4.75</td><td>It's a Magical World: A Calvin and Hobbes Collection</td></tr>",
                            "<tr><td>Bill Watterson</td><td>4.74</td><td>There's Treasure Everywhere: A Calvin and Hobbes Collection</td></tr>",
                            "<tr><td>Bill Watterson</td><td>4.73</td><td>The Authoritative Calvin and Hobbes: A Calvin and Hobbes Treasury</td></tr>",
                            "<tr><td>Bill Watterson</td><td>4.73</td><td>The Indispensable Calvin and Hobbes</td></tr>",
                            "<tr><td>Bill Watterson</td><td>4.72</td><td>Attack of the Deranged Mutant Killer Monster Snow Goons</td></tr>",
                            "<tr><td>Bill Watterson</td><td>4.71</td><td>The Revenge of the Baby-Sat</td></tr>",
                            "<tr><td>Bill Watterson</td><td>4.71</td><td>Homicidal Psycho Jungle Cat: A Calvin and Hobbes Collection</td></tr>",
                            "<tr><td>Bill Watterson</td><td>4.68</td><td>The Days Are Just Packed: A Calvin and Hobbes Collection</td></tr>",
                            "<tr><td>Bill Watterson</td><td>4.66</td><td>The Calvin and Hobbes Lazy Sunday Book</td></tr>",
                            "<tr><td>Bill Watterson</td><td>4.65</td><td>The Essential Calvin and Hobbes: A Calvin and Hobbes Treasury</td></tr>",
                            "<tr><td>Bill Watterson</td><td>4.63</td><td>The Calvin and Hobbes Tenth Anniversary Book</td></tr>",
                            "<tr><td>Brandon Sanderson</td><td>4.77</td><td>Words of Radiance (The Stormlight Archive, #2)</td></tr>",
                            "<tr><td>Brandon Sanderson</td><td>4.67</td><td>The Way of Kings, Part 1 (The Stormlight Archive #1.1)</td></tr>",
                            "<tr><td>Brandon Sanderson</td><td>4.64</td><td>The Way of Kings (The Stormlight Archive, #1)</td></tr>",
                            "<tr><td>Brandon Sanderson</td><td>4.55</td><td>Mistborn Trilogy Boxed Set (Mistborn, #1-3)</td></tr>",
                            "<tr><td>Brandon Sanderson</td><td>4.46</td><td>The Hero of Ages (Mistborn, #3)</td></tr>",
                            "<tr><td>Brandon Sanderson</td><td>4.45</td><td>The Bands of Mourning (Mistborn, #6)</td></tr>",
                            "<tr><td>Brandon Sanderson</td><td>4.43</td><td>The Final Empire (Mistborn, #1)</td></tr>",
                            "<tr><td>Brandon Sanderson</td><td>4.38</td><td>Secret History (Mistborn, #3.5)</td></tr>",
                            "<tr><td>Brandon Sanderson</td><td>4.35</td><td>The Well of Ascension (Mistborn, #2)</td></tr>",
                            "<tr><td>Brandon Sanderson</td><td>4.33</td><td>The Emperor's Soul</td></tr>",
                            "<tr><td>Brandon Sanderson</td><td>4.3</td><td>Shadows of Self (Mistborn, #5)</td></tr>",
                            "<tr><td>Brandon Sanderson</td><td>4.29</td><td>Firefight (The Reckoners, #2)</td></tr>",
                            "<tr><td>Brandon Sanderson</td><td>4.25</td><td>The Rithmatist (The Rithmatist, #1)</td></tr>",
                            "<tr><td>Brandon Sanderson</td><td>4.22</td><td>Warbreaker (Warbreaker, #1)</td></tr>",
                            "<tr><td>Brandon Sanderson</td><td>4.2</td><td>The Alloy of Law (Mistborn, #4)</td></tr>",
                            "<tr><td>Brandon Sanderson</td><td>4.2</td><td>Calamity (The Reckoners, #3)</td></tr>",
                            "<tr><td>Brandon Sanderson</td><td>4.17</td><td>Elantris (Elantris, #1)</td></tr>",
                            "<tr><td>Brandon Sanderson</td><td>4.16</td><td>Steelheart (The Reckoners, #1)</td></tr>",
                            "<tr><td>Brandon Sanderson</td><td>4.13</td><td>Legion (Legion, #1)</td></tr>",
                            "<tr><td>Brandon Sanderson</td><td>3.87</td><td>Mitosis (The Reckoners, #1.5)</td></tr>",
                            "<tr><td>Brandon Sanderson</td><td>3.87</td><td>Alcatraz Versus the Evil Librarians (Alcatraz, #1)</td></tr>",
                            "<tr><td>J.K. Rowling, Mary GrandPré</td><td>4.77</td><td>Harry Potter Boxed Set, Books 1-5 (Harry Potter, #1-5)</td></tr>",
                            "<tr><td>J.K. Rowling, Mary GrandPré</td><td>4.66</td><td>The Harry Potter Collection 1-4 (Harry Potter, #1-4)</td></tr>",
                            "<tr><td>J.K. Rowling, Mary GrandPré</td><td>4.61</td><td>Harry Potter and the Deathly Hallows (Harry Potter, #7)</td></tr>",
                            "<tr><td>J.K. Rowling, Mary GrandPré</td><td>4.54</td><td>Harry Potter and the Half-Blood Prince (Harry Potter, #6)</td></tr>",
                            "<tr><td>J.K. Rowling, Mary GrandPré</td><td>4.53</td><td>Harry Potter and the Goblet of Fire (Harry Potter, #4)</td></tr>",
                            "<tr><td>J.K. Rowling, Mary GrandPré</td><td>4.46</td><td>Harry Potter and the Order of the Phoenix (Harry Potter, #5)</td></tr>",
                            "<tr><td>J.K. Rowling, Mary GrandPré</td><td>4.44</td><td>Harry Potter and the Sorcerer's Stone (Harry Potter, #1)</td></tr>",
                            "<tr><td>J.K. Rowling, Mary GrandPré</td><td>4.37</td><td>Harry Potter and the Chamber of Secrets (Harry Potter, #2)</td></tr>",
                            "</table>"
                        ]
                    }
                }
            ],
            "execution_count": 39
        },
        {
            "cell_type": "markdown",
            "source": [
                "Question 8: Take a close look at J.K. Rowling.  Is her top rated book on this list from question 1?  Why might this be? How could we account for this?\n",
                "\n",
                "> Her top rated book with the co-author is on this list because I queried both authors.  If I use the LIKE syntax, then I can search for her name no matter where it shows up in the cell."
            ],
            "metadata": {
                "azdata_cell_guid": "db907c70-0bbd-4121-ac91-ae814f703243"
            },
            "attachments": {}
        },
        {
            "cell_type": "markdown",
            "source": [
                "Try updating your above query to include all of J.K. Rowling's books.\n",
                "\n",
                "Are there any other issues?\n",
                "\n",
                "> I made sure to use the syntax '%J.K. Rowling% in order to find the value in any position."
            ],
            "metadata": {
                "azdata_cell_guid": "35ee4a48-8e84-4eb5-95ca-f5cdddc8d682"
            },
            "attachments": {}
        },
        {
            "cell_type": "code",
            "source": [
                "-- Try updating your above query to include all of J.K. Rowling's books\n",
                "USE BooksDB\n",
                "SELECT authors, average_rating, title\n",
                "FROM books\n",
                "WHERE authors = 'Bill Watterson' OR authors LIKE '%J.K. Rowling%' OR authors = 'Brandon Sanderson'\n",
                "ORDER BY authors asc, average_rating DESC\n",
                ""
            ],
            "metadata": {
                "azdata_cell_guid": "ce489012-fce9-435c-b570-7734223a0678",
                "tags": [],
                "language": "sql"
            },
            "outputs": [
                {
                    "output_type": "display_data",
                    "data": {
                        "text/html": "(60 rows affected)"
                    },
                    "metadata": {}
                },
                {
                    "output_type": "display_data",
                    "data": {
                        "text/html": "Total execution time: 00:00:00.251"
                    },
                    "metadata": {}
                },
                {
                    "output_type": "execute_result",
                    "metadata": {},
                    "execution_count": 44,
                    "data": {
                        "application/vnd.dataresource+json": {
                            "schema": {
                                "fields": [
                                    {
                                        "name": "authors"
                                    },
                                    {
                                        "name": "average_rating"
                                    },
                                    {
                                        "name": "title"
                                    }
                                ]
                            },
                            "data": [
                                {
                                    "0": "Bill Watterson",
                                    "1": "4.82",
                                    "2": "The Complete Calvin and Hobbes"
                                },
                                {
                                    "0": "Bill Watterson",
                                    "1": "4.75",
                                    "2": "It's a Magical World: A Calvin and Hobbes Collection"
                                },
                                {
                                    "0": "Bill Watterson",
                                    "1": "4.74",
                                    "2": "There's Treasure Everywhere: A Calvin and Hobbes Collection"
                                },
                                {
                                    "0": "Bill Watterson",
                                    "1": "4.73",
                                    "2": "The Authoritative Calvin and Hobbes: A Calvin and Hobbes Treasury"
                                },
                                {
                                    "0": "Bill Watterson",
                                    "1": "4.73",
                                    "2": "The Indispensable Calvin and Hobbes"
                                },
                                {
                                    "0": "Bill Watterson",
                                    "1": "4.72",
                                    "2": "Attack of the Deranged Mutant Killer Monster Snow Goons"
                                },
                                {
                                    "0": "Bill Watterson",
                                    "1": "4.71",
                                    "2": "The Revenge of the Baby-Sat"
                                },
                                {
                                    "0": "Bill Watterson",
                                    "1": "4.71",
                                    "2": "Homicidal Psycho Jungle Cat: A Calvin and Hobbes Collection"
                                },
                                {
                                    "0": "Bill Watterson",
                                    "1": "4.68",
                                    "2": "The Days Are Just Packed: A Calvin and Hobbes Collection"
                                },
                                {
                                    "0": "Bill Watterson",
                                    "1": "4.66",
                                    "2": "The Calvin and Hobbes Lazy Sunday Book"
                                },
                                {
                                    "0": "Bill Watterson",
                                    "1": "4.65",
                                    "2": "The Essential Calvin and Hobbes: A Calvin and Hobbes Treasury"
                                },
                                {
                                    "0": "Bill Watterson",
                                    "1": "4.63",
                                    "2": "The Calvin and Hobbes Tenth Anniversary Book"
                                },
                                {
                                    "0": "Brandon Sanderson",
                                    "1": "4.77",
                                    "2": "Words of Radiance (The Stormlight Archive, #2)"
                                },
                                {
                                    "0": "Brandon Sanderson",
                                    "1": "4.67",
                                    "2": "The Way of Kings, Part 1 (The Stormlight Archive #1.1)"
                                },
                                {
                                    "0": "Brandon Sanderson",
                                    "1": "4.64",
                                    "2": "The Way of Kings (The Stormlight Archive, #1)"
                                },
                                {
                                    "0": "Brandon Sanderson",
                                    "1": "4.55",
                                    "2": "Mistborn Trilogy Boxed Set (Mistborn, #1-3)"
                                },
                                {
                                    "0": "Brandon Sanderson",
                                    "1": "4.46",
                                    "2": "The Hero of Ages (Mistborn, #3)"
                                },
                                {
                                    "0": "Brandon Sanderson",
                                    "1": "4.45",
                                    "2": "The Bands of Mourning (Mistborn, #6)"
                                },
                                {
                                    "0": "Brandon Sanderson",
                                    "1": "4.43",
                                    "2": "The Final Empire (Mistborn, #1)"
                                },
                                {
                                    "0": "Brandon Sanderson",
                                    "1": "4.38",
                                    "2": "Secret History (Mistborn, #3.5)"
                                },
                                {
                                    "0": "Brandon Sanderson",
                                    "1": "4.35",
                                    "2": "The Well of Ascension (Mistborn, #2)"
                                },
                                {
                                    "0": "Brandon Sanderson",
                                    "1": "4.33",
                                    "2": "The Emperor's Soul"
                                },
                                {
                                    "0": "Brandon Sanderson",
                                    "1": "4.3",
                                    "2": "Shadows of Self (Mistborn, #5)"
                                },
                                {
                                    "0": "Brandon Sanderson",
                                    "1": "4.29",
                                    "2": "Firefight (The Reckoners, #2)"
                                },
                                {
                                    "0": "Brandon Sanderson",
                                    "1": "4.25",
                                    "2": "The Rithmatist (The Rithmatist, #1)"
                                },
                                {
                                    "0": "Brandon Sanderson",
                                    "1": "4.22",
                                    "2": "Warbreaker (Warbreaker, #1)"
                                },
                                {
                                    "0": "Brandon Sanderson",
                                    "1": "4.2",
                                    "2": "The Alloy of Law (Mistborn, #4)"
                                },
                                {
                                    "0": "Brandon Sanderson",
                                    "1": "4.2",
                                    "2": "Calamity (The Reckoners, #3)"
                                },
                                {
                                    "0": "Brandon Sanderson",
                                    "1": "4.17",
                                    "2": "Elantris (Elantris, #1)"
                                },
                                {
                                    "0": "Brandon Sanderson",
                                    "1": "4.16",
                                    "2": "Steelheart (The Reckoners, #1)"
                                },
                                {
                                    "0": "Brandon Sanderson",
                                    "1": "4.13",
                                    "2": "Legion (Legion, #1)"
                                },
                                {
                                    "0": "Brandon Sanderson",
                                    "1": "3.87",
                                    "2": "Mitosis (The Reckoners, #1.5)"
                                },
                                {
                                    "0": "Brandon Sanderson",
                                    "1": "3.87",
                                    "2": "Alcatraz Versus the Evil Librarians (Alcatraz, #1)"
                                },
                                {
                                    "0": "J.K. Rowling",
                                    "1": "4.74",
                                    "2": "Harry Potter Boxset (Harry Potter, #1-7)"
                                },
                                {
                                    "0": "J.K. Rowling",
                                    "1": "4.73",
                                    "2": "Harry Potter Collection (Harry Potter, #1-6)"
                                },
                                {
                                    "0": "J.K. Rowling",
                                    "1": "4.56",
                                    "2": "Harry Potter and the Order of the Phoenix (Harry Potter, #5, Part 1)"
                                },
                                {
                                    "0": "J.K. Rowling",
                                    "1": "4.41",
                                    "2": "Fantastic Beasts and Where to Find Them: The Original Screenplay"
                                },
                                {
                                    "0": "J.K. Rowling",
                                    "1": "4.4",
                                    "2": "Harry Potter Schoolbooks Box Set: Two Classic Books from the Library of Hogwarts School of Witchcraft and Wizardry"
                                },
                                {
                                    "0": "J.K. Rowling",
                                    "1": "4.21",
                                    "2": "Hogwarts: An Incomplete and Unreliable Guide (Pottermore Presents, #3)"
                                },
                                {
                                    "0": "J.K. Rowling",
                                    "1": "4.06",
                                    "2": "The Tales of Beedle the Bard"
                                },
                                {
                                    "0": "J.K. Rowling",
                                    "1": "3.28",
                                    "2": "The Casual Vacancy"
                                },
                                {
                                    "0": "J.K. Rowling, Joel Holland",
                                    "1": "4.26",
                                    "2": "Very Good Lives: The Fringe Benefits of Failure and the Importance of Imagination"
                                },
                                {
                                    "0": "J.K. Rowling, Mary GrandPré",
                                    "1": "4.77",
                                    "2": "Harry Potter Boxed Set, Books 1-5 (Harry Potter, #1-5)"
                                },
                                {
                                    "0": "J.K. Rowling, Mary GrandPré",
                                    "1": "4.66",
                                    "2": "The Harry Potter Collection 1-4 (Harry Potter, #1-4)"
                                },
                                {
                                    "0": "J.K. Rowling, Mary GrandPré",
                                    "1": "4.61",
                                    "2": "Harry Potter and the Deathly Hallows (Harry Potter, #7)"
                                },
                                {
                                    "0": "J.K. Rowling, Mary GrandPré",
                                    "1": "4.54",
                                    "2": "Harry Potter and the Half-Blood Prince (Harry Potter, #6)"
                                },
                                {
                                    "0": "J.K. Rowling, Mary GrandPré",
                                    "1": "4.53",
                                    "2": "Harry Potter and the Goblet of Fire (Harry Potter, #4)"
                                },
                                {
                                    "0": "J.K. Rowling, Mary GrandPré",
                                    "1": "4.46",
                                    "2": "Harry Potter and the Order of the Phoenix (Harry Potter, #5)"
                                },
                                {
                                    "0": "J.K. Rowling, Mary GrandPré",
                                    "1": "4.44",
                                    "2": "Harry Potter and the Sorcerer's Stone (Harry Potter, #1)"
                                },
                                {
                                    "0": "J.K. Rowling, Mary GrandPré",
                                    "1": "4.37",
                                    "2": "Harry Potter and the Chamber of Secrets (Harry Potter, #2)"
                                },
                                {
                                    "0": "J.K. Rowling, Mary GrandPré, Rufus Beck",
                                    "1": "4.53",
                                    "2": "Harry Potter and the Prisoner of Azkaban (Harry Potter, #3)"
                                },
                                {
                                    "0": "J.K. Rowling, MinaLima",
                                    "1": "4.22",
                                    "2": "Short Stories from Hogwarts of Heroism, Hardship and Dangerous Hobbies (Pottermore Presents, #1)"
                                },
                                {
                                    "0": "J.K. Rowling, MinaLima",
                                    "1": "4.2",
                                    "2": "Short Stories from Hogwarts of Power, Politics and Pesky Poltergeists (Pottermore Presents, #2)"
                                },
                                {
                                    "0": "John Tiffany, Jack Thorne, J.K. Rowling",
                                    "1": "3.75",
                                    "2": "Harry Potter and the Cursed Child - Parts One and Two (Harry Potter, #8)"
                                },
                                {
                                    "0": "Kennilworthy Whisp, J.K. Rowling",
                                    "1": "3.85",
                                    "2": "Quidditch Through the Ages"
                                },
                                {
                                    "0": "Melissa Anelli, J.K. Rowling",
                                    "1": "4.09",
                                    "2": "Harry, a History: The True Story of a Boy Wizard, His Fans, and Life Inside the Harry Potter Phenomenon"
                                },
                                {
                                    "0": "Newt Scamander, J.K. Rowling, Albus Dumbledore",
                                    "1": "3.95",
                                    "2": "Fantastic Beasts and Where to Find Them"
                                },
                                {
                                    "0": "Robert Galbraith, J.K. Rowling",
                                    "1": "4.21",
                                    "2": "Career of Evil (Cormoran Strike, #3)"
                                },
                                {
                                    "0": "Robert Galbraith, J.K. Rowling",
                                    "1": "4.03",
                                    "2": "The Silkworm (Cormoran Strike, #2)"
                                },
                                {
                                    "0": "Robert Galbraith, J.K. Rowling",
                                    "1": "3.83",
                                    "2": "The Cuckoo's Calling (Cormoran Strike, #1)"
                                }
                            ]
                        },
                        "text/html": [
                            "<table>",
                            "<tr><th>authors</th><th>average_rating</th><th>title</th></tr>",
                            "<tr><td>Bill Watterson</td><td>4.82</td><td>The Complete Calvin and Hobbes</td></tr>",
                            "<tr><td>Bill Watterson</td><td>4.75</td><td>It's a Magical World: A Calvin and Hobbes Collection</td></tr>",
                            "<tr><td>Bill Watterson</td><td>4.74</td><td>There's Treasure Everywhere: A Calvin and Hobbes Collection</td></tr>",
                            "<tr><td>Bill Watterson</td><td>4.73</td><td>The Authoritative Calvin and Hobbes: A Calvin and Hobbes Treasury</td></tr>",
                            "<tr><td>Bill Watterson</td><td>4.73</td><td>The Indispensable Calvin and Hobbes</td></tr>",
                            "<tr><td>Bill Watterson</td><td>4.72</td><td>Attack of the Deranged Mutant Killer Monster Snow Goons</td></tr>",
                            "<tr><td>Bill Watterson</td><td>4.71</td><td>The Revenge of the Baby-Sat</td></tr>",
                            "<tr><td>Bill Watterson</td><td>4.71</td><td>Homicidal Psycho Jungle Cat: A Calvin and Hobbes Collection</td></tr>",
                            "<tr><td>Bill Watterson</td><td>4.68</td><td>The Days Are Just Packed: A Calvin and Hobbes Collection</td></tr>",
                            "<tr><td>Bill Watterson</td><td>4.66</td><td>The Calvin and Hobbes Lazy Sunday Book</td></tr>",
                            "<tr><td>Bill Watterson</td><td>4.65</td><td>The Essential Calvin and Hobbes: A Calvin and Hobbes Treasury</td></tr>",
                            "<tr><td>Bill Watterson</td><td>4.63</td><td>The Calvin and Hobbes Tenth Anniversary Book</td></tr>",
                            "<tr><td>Brandon Sanderson</td><td>4.77</td><td>Words of Radiance (The Stormlight Archive, #2)</td></tr>",
                            "<tr><td>Brandon Sanderson</td><td>4.67</td><td>The Way of Kings, Part 1 (The Stormlight Archive #1.1)</td></tr>",
                            "<tr><td>Brandon Sanderson</td><td>4.64</td><td>The Way of Kings (The Stormlight Archive, #1)</td></tr>",
                            "<tr><td>Brandon Sanderson</td><td>4.55</td><td>Mistborn Trilogy Boxed Set (Mistborn, #1-3)</td></tr>",
                            "<tr><td>Brandon Sanderson</td><td>4.46</td><td>The Hero of Ages (Mistborn, #3)</td></tr>",
                            "<tr><td>Brandon Sanderson</td><td>4.45</td><td>The Bands of Mourning (Mistborn, #6)</td></tr>",
                            "<tr><td>Brandon Sanderson</td><td>4.43</td><td>The Final Empire (Mistborn, #1)</td></tr>",
                            "<tr><td>Brandon Sanderson</td><td>4.38</td><td>Secret History (Mistborn, #3.5)</td></tr>",
                            "<tr><td>Brandon Sanderson</td><td>4.35</td><td>The Well of Ascension (Mistborn, #2)</td></tr>",
                            "<tr><td>Brandon Sanderson</td><td>4.33</td><td>The Emperor's Soul</td></tr>",
                            "<tr><td>Brandon Sanderson</td><td>4.3</td><td>Shadows of Self (Mistborn, #5)</td></tr>",
                            "<tr><td>Brandon Sanderson</td><td>4.29</td><td>Firefight (The Reckoners, #2)</td></tr>",
                            "<tr><td>Brandon Sanderson</td><td>4.25</td><td>The Rithmatist (The Rithmatist, #1)</td></tr>",
                            "<tr><td>Brandon Sanderson</td><td>4.22</td><td>Warbreaker (Warbreaker, #1)</td></tr>",
                            "<tr><td>Brandon Sanderson</td><td>4.2</td><td>The Alloy of Law (Mistborn, #4)</td></tr>",
                            "<tr><td>Brandon Sanderson</td><td>4.2</td><td>Calamity (The Reckoners, #3)</td></tr>",
                            "<tr><td>Brandon Sanderson</td><td>4.17</td><td>Elantris (Elantris, #1)</td></tr>",
                            "<tr><td>Brandon Sanderson</td><td>4.16</td><td>Steelheart (The Reckoners, #1)</td></tr>",
                            "<tr><td>Brandon Sanderson</td><td>4.13</td><td>Legion (Legion, #1)</td></tr>",
                            "<tr><td>Brandon Sanderson</td><td>3.87</td><td>Mitosis (The Reckoners, #1.5)</td></tr>",
                            "<tr><td>Brandon Sanderson</td><td>3.87</td><td>Alcatraz Versus the Evil Librarians (Alcatraz, #1)</td></tr>",
                            "<tr><td>J.K. Rowling</td><td>4.74</td><td>Harry Potter Boxset (Harry Potter, #1-7)</td></tr>",
                            "<tr><td>J.K. Rowling</td><td>4.73</td><td>Harry Potter Collection (Harry Potter, #1-6)</td></tr>",
                            "<tr><td>J.K. Rowling</td><td>4.56</td><td>Harry Potter and the Order of the Phoenix (Harry Potter, #5, Part 1)</td></tr>",
                            "<tr><td>J.K. Rowling</td><td>4.41</td><td>Fantastic Beasts and Where to Find Them: The Original Screenplay</td></tr>",
                            "<tr><td>J.K. Rowling</td><td>4.4</td><td>Harry Potter Schoolbooks Box Set: Two Classic Books from the Library of Hogwarts School of Witchcraft and Wizardry</td></tr>",
                            "<tr><td>J.K. Rowling</td><td>4.21</td><td>Hogwarts: An Incomplete and Unreliable Guide (Pottermore Presents, #3)</td></tr>",
                            "<tr><td>J.K. Rowling</td><td>4.06</td><td>The Tales of Beedle the Bard</td></tr>",
                            "<tr><td>J.K. Rowling</td><td>3.28</td><td>The Casual Vacancy</td></tr>",
                            "<tr><td>J.K. Rowling, Joel Holland</td><td>4.26</td><td>Very Good Lives: The Fringe Benefits of Failure and the Importance of Imagination</td></tr>",
                            "<tr><td>J.K. Rowling, Mary GrandPré</td><td>4.77</td><td>Harry Potter Boxed Set, Books 1-5 (Harry Potter, #1-5)</td></tr>",
                            "<tr><td>J.K. Rowling, Mary GrandPré</td><td>4.66</td><td>The Harry Potter Collection 1-4 (Harry Potter, #1-4)</td></tr>",
                            "<tr><td>J.K. Rowling, Mary GrandPré</td><td>4.61</td><td>Harry Potter and the Deathly Hallows (Harry Potter, #7)</td></tr>",
                            "<tr><td>J.K. Rowling, Mary GrandPré</td><td>4.54</td><td>Harry Potter and the Half-Blood Prince (Harry Potter, #6)</td></tr>",
                            "<tr><td>J.K. Rowling, Mary GrandPré</td><td>4.53</td><td>Harry Potter and the Goblet of Fire (Harry Potter, #4)</td></tr>",
                            "<tr><td>J.K. Rowling, Mary GrandPré</td><td>4.46</td><td>Harry Potter and the Order of the Phoenix (Harry Potter, #5)</td></tr>",
                            "<tr><td>J.K. Rowling, Mary GrandPré</td><td>4.44</td><td>Harry Potter and the Sorcerer's Stone (Harry Potter, #1)</td></tr>",
                            "<tr><td>J.K. Rowling, Mary GrandPré</td><td>4.37</td><td>Harry Potter and the Chamber of Secrets (Harry Potter, #2)</td></tr>",
                            "<tr><td>J.K. Rowling, Mary GrandPré, Rufus Beck</td><td>4.53</td><td>Harry Potter and the Prisoner of Azkaban (Harry Potter, #3)</td></tr>",
                            "<tr><td>J.K. Rowling, MinaLima</td><td>4.22</td><td>Short Stories from Hogwarts of Heroism, Hardship and Dangerous Hobbies (Pottermore Presents, #1)</td></tr>",
                            "<tr><td>J.K. Rowling, MinaLima</td><td>4.2</td><td>Short Stories from Hogwarts of Power, Politics and Pesky Poltergeists (Pottermore Presents, #2)</td></tr>",
                            "<tr><td>John Tiffany, Jack Thorne, J.K. Rowling</td><td>3.75</td><td>Harry Potter and the Cursed Child - Parts One and Two (Harry Potter, #8)</td></tr>",
                            "<tr><td>Kennilworthy Whisp, J.K. Rowling</td><td>3.85</td><td>Quidditch Through the Ages</td></tr>",
                            "<tr><td>Melissa Anelli, J.K. Rowling</td><td>4.09</td><td>Harry, a History: The True Story of a Boy Wizard, His Fans, and Life Inside the Harry Potter Phenomenon</td></tr>",
                            "<tr><td>Newt Scamander, J.K. Rowling, Albus Dumbledore</td><td>3.95</td><td>Fantastic Beasts and Where to Find Them</td></tr>",
                            "<tr><td>Robert Galbraith, J.K. Rowling</td><td>4.21</td><td>Career of Evil (Cormoran Strike, #3)</td></tr>",
                            "<tr><td>Robert Galbraith, J.K. Rowling</td><td>4.03</td><td>The Silkworm (Cormoran Strike, #2)</td></tr>",
                            "<tr><td>Robert Galbraith, J.K. Rowling</td><td>3.83</td><td>The Cuckoo's Calling (Cormoran Strike, #1)</td></tr>",
                            "</table>"
                        ]
                    }
                }
            ],
            "execution_count": 44
        },
        {
            "cell_type": "markdown",
            "source": [
                "Question 9: Write a query that returns the number of Authors whose first name is between rock and roll."
            ],
            "metadata": {
                "azdata_cell_guid": "75bf5054-4918-4e9e-8e03-24a38ffab9cc"
            },
            "attachments": {}
        },
        {
            "cell_type": "code",
            "source": [
                "-- return number of authors whose first name is between rock and roll\n",
                "USE BooksDB\n",
                "SELECT COUNT(authors)\n",
                "FROM books\n",
                "WHERE authors BETWEEN 'rock' AND 'roll'\n",
                ""
            ],
            "metadata": {
                "azdata_cell_guid": "491b2492-95d4-4078-b319-386b0c5592ec",
                "language": "sql"
            },
            "outputs": [
                {
                    "output_type": "display_data",
                    "data": {
                        "text/html": "(1 row affected)"
                    },
                    "metadata": {}
                },
                {
                    "output_type": "display_data",
                    "data": {
                        "text/html": "Total execution time: 00:00:00.079"
                    },
                    "metadata": {}
                },
                {
                    "output_type": "execute_result",
                    "metadata": {},
                    "execution_count": 46,
                    "data": {
                        "application/vnd.dataresource+json": {
                            "schema": {
                                "fields": [
                                    {
                                        "name": "(No column name)"
                                    }
                                ]
                            },
                            "data": [
                                {
                                    "0": "25"
                                }
                            ]
                        },
                        "text/html": [
                            "<table>",
                            "<tr><th>(No column name)</th></tr>",
                            "<tr><td>25</td></tr>",
                            "</table>"
                        ]
                    }
                }
            ],
            "execution_count": 46
        },
        {
            "cell_type": "markdown",
            "source": [
                "## Part 2. Write your own question and write a query to answer it.\n",
                "\n",
                "Your Question:  Which author published at least one book in 1981?"
            ],
            "metadata": {
                "azdata_cell_guid": "1ba1363a-4f02-4962-a95a-93b80c5926b1"
            },
            "attachments": {}
        },
        {
            "cell_type": "code",
            "source": [
                "-- Add your querry here\n",
                "USE BooksDB\n",
                "SELECT Distinct authors\n",
                "FROM books\n",
                "WHERE original_publication_year = 1981\n",
                "\n",
                ""
            ],
            "metadata": {
                "azdata_cell_guid": "607f1a61-b306-42bf-a20c-60ec3a6ba86a",
                "language": "sql"
            },
            "outputs": [
                {
                    "output_type": "display_data",
                    "data": {
                        "text/html": "(48 rows affected)"
                    },
                    "metadata": {}
                },
                {
                    "output_type": "display_data",
                    "data": {
                        "text/html": "Total execution time: 00:00:00.222"
                    },
                    "metadata": {}
                },
                {
                    "output_type": "execute_result",
                    "metadata": {},
                    "execution_count": 58,
                    "data": {
                        "application/vnd.dataresource+json": {
                            "schema": {
                                "fields": [
                                    {
                                        "name": "authors"
                                    }
                                ]
                            },
                            "data": [
                                {
                                    "0": "Alvin Schwartz, Stephen Gammell"
                                },
                                {
                                    "0": "Anne Sexton, Maxine Kumin"
                                },
                                {
                                    "0": "Astrid Lindgren, Patricia Crampton, Trina Schart Hyman"
                                },
                                {
                                    "0": "Barbara Cooney"
                                },
                                {
                                    "0": "Barthe DeClements"
                                },
                                {
                                    "0": "Beverly Cleary"
                                },
                                {
                                    "0": "Chris Van Allsburg"
                                },
                                {
                                    "0": "Clive Cussler"
                                },
                                {
                                    "0": "Cynthia Voigt"
                                },
                                {
                                    "0": "David McCullough"
                                },
                                {
                                    "0": "Eugene B. Sledge, Paul Fussell"
                                },
                                {
                                    "0": "Eva Ibbotson"
                                },
                                {
                                    "0": "F. Paul Wilson"
                                },
                                {
                                    "0": "Fannie Flagg"
                                },
                                {
                                    "0": "Frank Herbert"
                                },
                                {
                                    "0": "Gabriel García Márquez, Gregory Rabassa"
                                },
                                {
                                    "0": "Harold S. Kushner"
                                },
                                {
                                    "0": "Ian McEwan"
                                },
                                {
                                    "0": "James Alexander Thom"
                                },
                                {
                                    "0": "James Clavell"
                                },
                                {
                                    "0": "James Herriot"
                                },
                                {
                                    "0": "Janet Evanovich, Charlotte Hughes"
                                },
                                {
                                    "0": "John Irving"
                                },
                                {
                                    "0": "John Updike"
                                },
                                {
                                    "0": "José Emilio Pacheco"
                                },
                                {
                                    "0": "Kenneth H. Blanchard, Spencer Johnson"
                                },
                                {
                                    "0": "Leigh Nichols, Dean Koontz"
                                },
                                {
                                    "0": "Martha Grimes"
                                },
                                {
                                    "0": "Martin Cruz Smith"
                                },
                                {
                                    "0": "Maya Angelou"
                                },
                                {
                                    "0": "Michelle Magorian"
                                },
                                {
                                    "0": "Morton Rhue, Todd Strasser"
                                },
                                {
                                    "0": "Owen  West, Dean Koontz"
                                },
                                {
                                    "0": "Philip K. Dick"
                                },
                                {
                                    "0": "Piers Anthony"
                                },
                                {
                                    "0": "Raymond Carver"
                                },
                                {
                                    "0": "Richard Bachman, Stephen King"
                                },
                                {
                                    "0": "Roald Dahl, Quentin Blake"
                                },
                                {
                                    "0": "Roger Fisher, William Ury, Bruce Patton"
                                },
                                {
                                    "0": "Salman Rushdie"
                                },
                                {
                                    "0": "Shel Silverstein"
                                },
                                {
                                    "0": "Stephen King"
                                },
                                {
                                    "0": "Sylvia Plath, Ted Hughes"
                                },
                                {
                                    "0": "Tetsuko Kuroyanagi, Chihiro Iwasaki, Dorothy Britton"
                                },
                                {
                                    "0": "Thomas Harris"
                                },
                                {
                                    "0": "Toni Morrison"
                                },
                                {
                                    "0": "V.C. Andrews"
                                },
                                {
                                    "0": "William Gibson, Terry Bisson"
                                }
                            ]
                        },
                        "text/html": [
                            "<table>",
                            "<tr><th>authors</th></tr>",
                            "<tr><td>Alvin Schwartz, Stephen Gammell</td></tr>",
                            "<tr><td>Anne Sexton, Maxine Kumin</td></tr>",
                            "<tr><td>Astrid Lindgren, Patricia Crampton, Trina Schart Hyman</td></tr>",
                            "<tr><td>Barbara Cooney</td></tr>",
                            "<tr><td>Barthe DeClements</td></tr>",
                            "<tr><td>Beverly Cleary</td></tr>",
                            "<tr><td>Chris Van Allsburg</td></tr>",
                            "<tr><td>Clive Cussler</td></tr>",
                            "<tr><td>Cynthia Voigt</td></tr>",
                            "<tr><td>David McCullough</td></tr>",
                            "<tr><td>Eugene B. Sledge, Paul Fussell</td></tr>",
                            "<tr><td>Eva Ibbotson</td></tr>",
                            "<tr><td>F. Paul Wilson</td></tr>",
                            "<tr><td>Fannie Flagg</td></tr>",
                            "<tr><td>Frank Herbert</td></tr>",
                            "<tr><td>Gabriel García Márquez, Gregory Rabassa</td></tr>",
                            "<tr><td>Harold S. Kushner</td></tr>",
                            "<tr><td>Ian McEwan</td></tr>",
                            "<tr><td>James Alexander Thom</td></tr>",
                            "<tr><td>James Clavell</td></tr>",
                            "<tr><td>James Herriot</td></tr>",
                            "<tr><td>Janet Evanovich, Charlotte Hughes</td></tr>",
                            "<tr><td>John Irving</td></tr>",
                            "<tr><td>John Updike</td></tr>",
                            "<tr><td>José Emilio Pacheco</td></tr>",
                            "<tr><td>Kenneth H. Blanchard, Spencer Johnson</td></tr>",
                            "<tr><td>Leigh Nichols, Dean Koontz</td></tr>",
                            "<tr><td>Martha Grimes</td></tr>",
                            "<tr><td>Martin Cruz Smith</td></tr>",
                            "<tr><td>Maya Angelou</td></tr>",
                            "<tr><td>Michelle Magorian</td></tr>",
                            "<tr><td>Morton Rhue, Todd Strasser</td></tr>",
                            "<tr><td>Owen  West, Dean Koontz</td></tr>",
                            "<tr><td>Philip K. Dick</td></tr>",
                            "<tr><td>Piers Anthony</td></tr>",
                            "<tr><td>Raymond Carver</td></tr>",
                            "<tr><td>Richard Bachman, Stephen King</td></tr>",
                            "<tr><td>Roald Dahl, Quentin Blake</td></tr>",
                            "<tr><td>Roger Fisher, William Ury, Bruce Patton</td></tr>",
                            "<tr><td>Salman Rushdie</td></tr>",
                            "<tr><td>Shel Silverstein</td></tr>",
                            "<tr><td>Stephen King</td></tr>",
                            "<tr><td>Sylvia Plath, Ted Hughes</td></tr>",
                            "<tr><td>Tetsuko Kuroyanagi, Chihiro Iwasaki, Dorothy Britton</td></tr>",
                            "<tr><td>Thomas Harris</td></tr>",
                            "<tr><td>Toni Morrison</td></tr>",
                            "<tr><td>V.C. Andrews</td></tr>",
                            "<tr><td>William Gibson, Terry Bisson</td></tr>",
                            "</table>"
                        ]
                    }
                }
            ],
            "execution_count": 58
        },
        {
            "cell_type": "markdown",
            "source": [
                "Which books had at least 1000 ratings of 1, 2, 3 4, and 5 each?"
            ],
            "metadata": {
                "azdata_cell_guid": "9386ad04-a016-44d4-8c5c-d25a102d47b4"
            },
            "attachments": {}
        },
        {
            "cell_type": "code",
            "source": [
                "-- Add your querry here\n",
                "USE BooksDB\n",
                "SELECT title\n",
                "FROM books\n",
                "WHERE ratings_1 >= 1000 AND ratings_2 >= 1000 AND ratings_3 >= 1000 AND ratings_4 >= 1000 AND ratings_5 >= 1000"
            ],
            "metadata": {
                "azdata_cell_guid": "15f249cf-aad7-468d-92e1-429b2a09f285",
                "language": "sql",
                "tags": []
            },
            "outputs": [
                {
                    "output_type": "display_data",
                    "data": {
                        "text/html": "(2233 rows affected)"
                    },
                    "metadata": {}
                },
                {
                    "output_type": "display_data",
                    "data": {
                        "text/html": "Total execution time: 00:00:04.378"
                    },
                    "metadata": {}
                },
                {
                    "output_type": "execute_result",
                    "metadata": {},
                    "execution_count": 66,
                    "data": {
                        "application/vnd.dataresource+json": {
                            "schema": {
                                "fields": [
                                    {
                                        "name": "title"
                                    }
                                ]
                            },
                            "data": [
                                {
                                    "0": "The Hunger Games (The Hunger Games, #1)"
                                },
                                {
                                    "0": "Harry Potter and the Sorcerer's Stone (Harry Potter, #1)"
                                },
                                {
                                    "0": "Twilight (Twilight, #1)"
                                },
                                {
                                    "0": "To Kill a Mockingbird"
                                },
                                {
                                    "0": "The Great Gatsby"
                                },
                                {
                                    "0": "The Fault in Our Stars"
                                },
                                {
                                    "0": "The Hobbit"
                                },
                                {
                                    "0": "The Catcher in the Rye"
                                },
                                {
                                    "0": "Angels & Demons  (Robert Langdon, #1)"
                                },
                                {
                                    "0": "Pride and Prejudice"
                                },
                                {
                                    "0": "The Kite Runner"
                                },
                                {
                                    "0": "Divergent (Divergent, #1)"
                                },
                                {
                                    "0": "1984"
                                },
                                {
                                    "0": "Animal Farm"
                                },
                                {
                                    "0": "The Diary of a Young Girl"
                                },
                                {
                                    "0": "The Girl with the Dragon Tattoo (Millennium, #1)"
                                },
                                {
                                    "0": "Catching Fire (The Hunger Games, #2)"
                                },
                                {
                                    "0": "Harry Potter and the Prisoner of Azkaban (Harry Potter, #3)"
                                },
                                {
                                    "0": "The Fellowship of the Ring (The Lord of the Rings, #1)"
                                },
                                {
                                    "0": "Mockingjay (The Hunger Games, #3)"
                                },
                                {
                                    "0": "Harry Potter and the Order of the Phoenix (Harry Potter, #5)"
                                },
                                {
                                    "0": "The Lovely Bones"
                                },
                                {
                                    "0": "Harry Potter and the Chamber of Secrets (Harry Potter, #2)"
                                },
                                {
                                    "0": "Harry Potter and the Goblet of Fire (Harry Potter, #4)"
                                },
                                {
                                    "0": "Harry Potter and the Deathly Hallows (Harry Potter, #7)"
                                },
                                {
                                    "0": "The Da Vinci Code (Robert Langdon, #2)"
                                },
                                {
                                    "0": "Harry Potter and the Half-Blood Prince (Harry Potter, #6)"
                                },
                                {
                                    "0": "Lord of the Flies"
                                },
                                {
                                    "0": "Romeo and Juliet"
                                },
                                {
                                    "0": "Gone Girl"
                                },
                                {
                                    "0": "The Help"
                                },
                                {
                                    "0": "Of Mice and Men"
                                },
                                {
                                    "0": "Memoirs of a Geisha"
                                },
                                {
                                    "0": "Fifty Shades of Grey (Fifty Shades, #1)"
                                },
                                {
                                    "0": "The Alchemist"
                                },
                                {
                                    "0": "The Giver (The Giver, #1)"
                                },
                                {
                                    "0": "The Lion, the Witch, and the Wardrobe (Chronicles of Narnia, #1)"
                                },
                                {
                                    "0": "The Time Traveler's Wife"
                                },
                                {
                                    "0": "A Game of Thrones (A Song of Ice and Fire, #1)"
                                },
                                {
                                    "0": "Eat, Pray, Love"
                                },
                                {
                                    "0": "The Lightning Thief (Percy Jackson and the Olympians, #1)"
                                },
                                {
                                    "0": "Little Women (Little Women, #1)"
                                },
                                {
                                    "0": "Jane Eyre"
                                },
                                {
                                    "0": "The Notebook (The Notebook, #1)"
                                },
                                {
                                    "0": "Life of Pi"
                                },
                                {
                                    "0": "Water for Elephants"
                                },
                                {
                                    "0": "The Book Thief"
                                },
                                {
                                    "0": "Fahrenheit 451"
                                },
                                {
                                    "0": "New Moon (Twilight, #2)"
                                },
                                {
                                    "0": "Where the Sidewalk Ends"
                                },
                                {
                                    "0": "City of Bones (The Mortal Instruments, #1)"
                                },
                                {
                                    "0": "Eclipse (Twilight, #3)"
                                },
                                {
                                    "0": "Eragon (The Inheritance Cycle, #1)"
                                },
                                {
                                    "0": "The Hitchhiker's Guide to the Galaxy (Hitchhiker's Guide to the Galaxy, #1)"
                                },
                                {
                                    "0": "Brave New World"
                                },
                                {
                                    "0": "Breaking Dawn (Twilight, #4)"
                                },
                                {
                                    "0": "The Secret Life of Bees"
                                },
                                {
                                    "0": "The Adventures of Huckleberry Finn"
                                },
                                {
                                    "0": "Charlotte's Web"
                                },
                                {
                                    "0": "The Curious Incident of the Dog in the Night-Time"
                                },
                                {
                                    "0": "The Girl on the Train"
                                },
                                {
                                    "0": "The Golden Compass (His Dark Materials, #1)"
                                },
                                {
                                    "0": "Fangirl"
                                },
                                {
                                    "0": "Wuthering Heights"
                                },
                                {
                                    "0": "My Sister's Keeper"
                                },
                                {
                                    "0": "Slaughterhouse-Five"
                                },
                                {
                                    "0": "Gone with the Wind"
                                },
                                {
                                    "0": "A Thousand Splendid Suns"
                                },
                                {
                                    "0": "The Perks of Being a Wallflower"
                                },
                                {
                                    "0": "Insurgent (Divergent, #2)"
                                },
                                {
                                    "0": "Ender's Game (Ender's Saga, #1)"
                                },
                                {
                                    "0": "Frankenstein"
                                },
                                {
                                    "0": "The Shining (The Shining #1)"
                                },
                                {
                                    "0": "The Host (The Host, #1)"
                                },
                                {
                                    "0": "Looking for Alaska"
                                },
                                {
                                    "0": "Bridget Jones's Diary (Bridget Jones, #1)"
                                },
                                {
                                    "0": "Sense and Sensibility"
                                },
                                {
                                    "0": "Holes (Holes, #1)"
                                },
                                {
                                    "0": "The Devil Wears Prada (The Devil Wears Prada, #1)"
                                },
                                {
                                    "0": "The Odyssey"
                                },
                                {
                                    "0": "The Little Prince"
                                },
                                {
                                    "0": "The Glass Castle"
                                },
                                {
                                    "0": "Into the Wild"
                                },
                                {
                                    "0": "A Tale of Two Cities"
                                },
                                {
                                    "0": "Jurassic Park (Jurassic Park, #1)"
                                },
                                {
                                    "0": "The Giving Tree"
                                },
                                {
                                    "0": "A Time to Kill"
                                },
                                {
                                    "0": "Night (The Night Trilogy #1)"
                                },
                                {
                                    "0": "Paper Towns"
                                },
                                {
                                    "0": "The Princess Bride "
                                },
                                {
                                    "0": "The Outsiders"
                                },
                                {
                                    "0": "The Maze Runner (Maze Runner, #1)"
                                },
                                {
                                    "0": "Freakonomics: A Rogue Economist Explores the Hidden Side of Everything (Freakonomics, #1)"
                                },
                                {
                                    "0": "The Secret Garden"
                                },
                                {
                                    "0": "One Hundred Years of Solitude"
                                },
                                {
                                    "0": "The Picture of Dorian Gray"
                                },
                                {
                                    "0": "Fifty Shades Freed (Fifty Shades, #3)"
                                },
                                {
                                    "0": "Dracula"
                                },
                                {
                                    "0": "The Girl Who Played with Fire (Millennium, #2)"
                                },
                                {
                                    "0": "Fifty Shades Darker (Fifty Shades, #2)"
                                },
                                {
                                    "0": "The Poisonwood Bible"
                                },
                                {
                                    "0": "Me Talk Pretty One Day"
                                },
                                {
                                    "0": "Where the Wild Things Are"
                                },
                                {
                                    "0": "The Count of Monte Cristo"
                                },
                                {
                                    "0": "The Road"
                                },
                                {
                                    "0": "Allegiant (Divergent, #3)"
                                },
                                {
                                    "0": "Bossypants"
                                },
                                {
                                    "0": "A Walk to Remember"
                                },
                                {
                                    "0": "Confessions of a Shopaholic (Shopaholic, #1)"
                                },
                                {
                                    "0": "Les Misérables"
                                },
                                {
                                    "0": "A Clash of Kings  (A Song of Ice and Fire, #2)"
                                },
                                {
                                    "0": "The Memory Keeper's Daughter"
                                },
                                {
                                    "0": "Me Before You (Me Before You, #1)"
                                },
                                {
                                    "0": "Catch-22"
                                },
                                {
                                    "0": "Tuesdays with Morrie"
                                },
                                {
                                    "0": "Middlesex"
                                },
                                {
                                    "0": "The Adventures of Tom Sawyer"
                                },
                                {
                                    "0": "A Wrinkle in Time (A Wrinkle in Time Quintet, #1)"
                                },
                                {
                                    "0": "The Joy Luck Club"
                                },
                                {
                                    "0": "The Handmaid's Tale"
                                },
                                {
                                    "0": "The Sisterhood of the Traveling Pants (Sisterhood, #1)"
                                },
                                {
                                    "0": "Lolita"
                                },
                                {
                                    "0": "Wicked: The Life and Times of the Wicked Witch of the West (The Wicked Years, #1)"
                                },
                                {
                                    "0": "The Firm (Penguin Readers, Level 5)"
                                },
                                {
                                    "0": "Room"
                                },
                                {
                                    "0": "Hamlet"
                                },
                                {
                                    "0": "Dune (Dune Chronicles #1)"
                                },
                                {
                                    "0": "The Tipping Point: How Little Things Can Make a Big Difference"
                                },
                                {
                                    "0": "Steve Jobs"
                                },
                                {
                                    "0": "One Flew Over the Cuckoo's Nest"
                                },
                                {
                                    "0": "The Old Man and the Sea"
                                },
                                {
                                    "0": "The Grapes of Wrath"
                                },
                                {
                                    "0": "The Five People You Meet in Heaven"
                                },
                                {
                                    "0": "Anne of Green Gables (Anne of Green Gables, #1)"
                                },
                                {
                                    "0": "City of Glass (The Mortal Instruments, #3)"
                                },
                                {
                                    "0": "A Storm of Swords (A Song of Ice and Fire, #3)"
                                },
                                {
                                    "0": "Divine Secrets of the Ya-Ya Sisterhood"
                                },
                                {
                                    "0": "Outlander (Outlander, #1)"
                                },
                                {
                                    "0": "The Scarlet Letter"
                                },
                                {
                                    "0": "Miss Peregrine’s Home for Peculiar Children (Miss Peregrine’s Peculiar Children, #1)"
                                },
                                {
                                    "0": "The Girl Who Kicked the Hornet's Nest (Millennium, #3)"
                                },
                                {
                                    "0": "The Martian"
                                },
                                {
                                    "0": "The Pillars of the Earth (The Kingsbridge Series, #1)"
                                },
                                {
                                    "0": "All the Light We Cannot See"
                                },
                                {
                                    "0": "Unbroken: A World War II Story of Survival, Resilience, and Redemption"
                                },
                                {
                                    "0": "Deception Point"
                                },
                                {
                                    "0": "The Goldfinch"
                                },
                                {
                                    "0": "Thirteen Reasons Why"
                                },
                                {
                                    "0": "Girl with a Pearl Earring"
                                },
                                {
                                    "0": "If I Stay (If I Stay, #1)"
                                },
                                {
                                    "0": "The Red Tent"
                                },
                                {
                                    "0": "The Sea of Monsters (Percy Jackson and the Olympians, #2)"
                                },
                                {
                                    "0": "Dear John"
                                },
                                {
                                    "0": "City of Ashes (The Mortal Instruments, #2)"
                                },
                                {
                                    "0": "Macbeth"
                                },
                                {
                                    "0": "The Two Towers (The Lord of the Rings, #2)"
                                },
                                {
                                    "0": "Something Borrowed (Darcy & Rachel, #1)"
                                },
                                {
                                    "0": "Green Eggs and Ham"
                                },
                                {
                                    "0": "Charlie and the Chocolate Factory (Charlie Bucket, #1)"
                                },
                                {
                                    "0": "The Battle of the Labyrinth (Percy Jackson and the Olympians, #4)"
                                },
                                {
                                    "0": "Great Expectations"
                                },
                                {
                                    "0": "The Return of the King (The Lord of the Rings, #3)"
                                },
                                {
                                    "0": "The Stranger"
                                },
                                {
                                    "0": "The Lost Hero (The Heroes of Olympus, #1)"
                                },
                                {
                                    "0": "Eleanor & Park"
                                },
                                {
                                    "0": "A Feast for Crows (A Song of Ice and Fire, #4)"
                                },
                                {
                                    "0": "Matched (Matched, #1)"
                                },
                                {
                                    "0": "American Gods (American Gods, #1)"
                                },
                                {
                                    "0": "The Stand"
                                },
                                {
                                    "0": "The Last Song"
                                },
                                {
                                    "0": "Digital Fortress"
                                },
                                {
                                    "0": "Emma"
                                },
                                {
                                    "0": "Anna Karenina"
                                },
                                {
                                    "0": "A Clockwork Orange"
                                },
                                {
                                    "0": "The Shack"
                                },
                                {
                                    "0": "The Last Olympian (Percy Jackson and the Olympians, #5)"
                                },
                                {
                                    "0": "It"
                                },
                                {
                                    "0": "Crime and Punishment"
                                },
                                {
                                    "0": "The Bell Jar"
                                },
                                {
                                    "0": "Angela's Ashes (Frank McCourt, #1)"
                                },
                                {
                                    "0": "Siddhartha"
                                },
                                {
                                    "0": "In Cold Blood"
                                },
                                {
                                    "0": "Beautiful Creatures (Caster Chronicles, #1)"
                                },
                                {
                                    "0": "Clockwork Angel (The Infernal Devices, #1)"
                                },
                                {
                                    "0": "Matilda"
                                },
                                {
                                    "0": "The Night Circus"
                                },
                                {
                                    "0": "The Other Boleyn Girl (The Plantagenet and Tudor Novels, #9)"
                                },
                                {
                                    "0": "Uglies (Uglies, #1)"
                                },
                                {
                                    "0": "A Dance with Dragons (A Song of Ice and Fire, #5)"
                                },
                                {
                                    "0": "The Lord of the Rings (The Lord of the Rings, #1-3)"
                                },
                                {
                                    "0": "Wild: From Lost to Found on the Pacific Crest Trail"
                                },
                                {
                                    "0": "Watchmen"
                                },
                                {
                                    "0": "The Name of the Wind (The Kingkiller Chronicle, #1)"
                                },
                                {
                                    "0": "Outliers: The Story of Success"
                                },
                                {
                                    "0": "Moby-Dick or, The Whale"
                                },
                                {
                                    "0": "The Guernsey Literary and Potato Peel Pie Society"
                                },
                                {
                                    "0": "Fight Club"
                                },
                                {
                                    "0": "Dead Until Dark (Sookie Stackhouse, #1)"
                                },
                                {
                                    "0": "The Color Purple"
                                },
                                {
                                    "0": "Marley and Me: Life and Love With the World's Worst Dog"
                                },
                                {
                                    "0": "And Then There Were None"
                                },
                                {
                                    "0": "The Lost Symbol (Robert Langdon, #3)"
                                },
                                {
                                    "0": "Hush, Hush (Hush, Hush, #1)"
                                },
                                {
                                    "0": "Beautiful Disaster (Beautiful, #1)"
                                },
                                {
                                    "0": "A Christmas Carol"
                                },
                                {
                                    "0": "Interview with the Vampire (The Vampire Chronicles, #1)"
                                },
                                {
                                    "0": "The Selection (The Selection, #1)"
                                },
                                {
                                    "0": "One for the Money (Stephanie Plum, #1)"
                                },
                                {
                                    "0": "The Immortal Life of Henrietta Lacks"
                                },
                                {
                                    "0": "The Silence of the Lambs  (Hannibal Lecter, #2)"
                                },
                                {
                                    "0": "Vampire Academy (Vampire Academy, #1)"
                                },
                                {
                                    "0": "Blink: The Power of Thinking Without Thinking"
                                },
                                {
                                    "0": "Atonement"
                                },
                                {
                                    "0": "The Metamorphosis"
                                },
                                {
                                    "0": "The Titan's Curse (Percy Jackson and the Olympians, #3)"
                                },
                                {
                                    "0": "Ready Player One"
                                },
                                {
                                    "0": "The Art of Racing in the Rain"
                                },
                                {
                                    "0": "The Devil in the White City: Murder, Magic, and Madness at the Fair That Changed America"
                                },
                                {
                                    "0": "Bared to You (Crossfire, #1)"
                                },
                                {
                                    "0": "The Chronicles of Narnia (Chronicles of Narnia, #1-7)"
                                },
                                {
                                    "0": "Twilight: The Complete Illustrated Movie Companion"
                                },
                                {
                                    "0": "A Child Called \"It\" (Dave Pelzer #1)"
                                },
                                {
                                    "0": "The Bourne Identity (Jason Bourne, #1)"
                                },
                                {
                                    "0": "Artemis Fowl (Artemis Fowl, #1)"
                                },
                                {
                                    "0": "Fallen (Fallen, #1)"
                                },
                                {
                                    "0": "East of Eden"
                                },
                                {
                                    "0": "Dark Places"
                                },
                                {
                                    "0": "The Client"
                                },
                                {
                                    "0": "The Nanny Diaries (Nanny, #1)"
                                },
                                {
                                    "0": "Alice's Adventures in Wonderland & Through the Looking-Glass"
                                },
                                {
                                    "0": "Persuasion"
                                },
                                {
                                    "0": "Sarah's Key"
                                },
                                {
                                    "0": "The Gunslinger (The Dark Tower, #1)"
                                },
                                {
                                    "0": "Love in the Time of Cholera"
                                },
                                {
                                    "0": "Speak"
                                },
                                {
                                    "0": "The Husband's Secret"
                                },
                                {
                                    "0": "Into Thin Air: A Personal Account of the Mount Everest Disaster"
                                },
                                {
                                    "0": "Carrie"
                                },
                                {
                                    "0": "Running with Scissors"
                                },
                                {
                                    "0": "World War Z: An Oral History of the Zombie War"
                                },
                                {
                                    "0": "Inferno (Robert Langdon, #4)"
                                },
                                {
                                    "0": "Number the Stars"
                                },
                                {
                                    "0": "Along Came a Spider (Alex Cross, #1)"
                                },
                                {
                                    "0": "Misery"
                                },
                                {
                                    "0": "Sharp Objects"
                                },
                                {
                                    "0": "Bridge to Terabithia"
                                },
                                {
                                    "0": "Marked (House of Night, #1)"
                                },
                                {
                                    "0": "The 7 Habits of Highly Effective People: Powerful Lessons in Personal Change"
                                },
                                {
                                    "0": "A Midsummer Night's Dream"
                                },
                                {
                                    "0": "Extremely Loud and Incredibly Close"
                                },
                                {
                                    "0": "Wonder"
                                },
                                {
                                    "0": "The Cat in the Hat"
                                },
                                {
                                    "0": "Cinder (The Lunar Chronicles, #1)"
                                },
                                {
                                    "0": "The Cuckoo's Calling (Cormoran Strike, #1)"
                                },
                                {
                                    "0": "Shiver (The Wolves of Mercy Falls, #1)"
                                },
                                {
                                    "0": "Atlas Shrugged"
                                },
                                {
                                    "0": "Three Cups of Tea: One Man's Mission to Promote Peace ... One School at a Time"
                                },
                                {
                                    "0": "Alice in Wonderland"
                                },
                                {
                                    "0": "The Shadow of the Wind (The Cemetery of Forgotten Books,  #1)"
                                },
                                {
                                    "0": "The Scorch Trials (Maze Runner, #2)"
                                },
                                {
                                    "0": "How to Win Friends and Influence People"
                                },
                                {
                                    "0": "Under the Tuscan Sun"
                                },
                                {
                                    "0": "Big Little Lies"
                                },
                                {
                                    "0": "Ella Enchanted"
                                },
                                {
                                    "0": "The Sun Also Rises"
                                },
                                {
                                    "0": "A Tree Grows in Brooklyn"
                                },
                                {
                                    "0": "Kiss the Girls (Alex Cross, #2)"
                                },
                                {
                                    "0": "The Nightingale"
                                },
                                {
                                    "0": "Never Let Me Go"
                                },
                                {
                                    "0": "P.S. I Love You"
                                },
                                {
                                    "0": "Rebecca"
                                },
                                {
                                    "0": "Flowers for Algernon"
                                },
                                {
                                    "0": "Like Water for Chocolate"
                                },
                                {
                                    "0": "Snow Flower and the Secret Fan"
                                },
                                {
                                    "0": "The Godfather"
                                },
                                {
                                    "0": "An Abundance of Katherines"
                                },
                                {
                                    "0": "Foundation (Foundation #1)"
                                },
                                {
                                    "0": "The Ocean at the End of the Lane"
                                },
                                {
                                    "0": "A Light in the Attic"
                                },
                                {
                                    "0": "Harry Potter and the Cursed Child - Parts One and Two (Harry Potter, #8)"
                                },
                                {
                                    "0": "Delirium (Delirium, #1)"
                                },
                                {
                                    "0": "The Pelican Brief"
                                },
                                {
                                    "0": "Coraline"
                                },
                                {
                                    "0": "Good Omens: The Nice and Accurate Prophecies of Agnes Nutter, Witch"
                                },
                                {
                                    "0": "On the Road"
                                },
                                {
                                    "0": "The Rosie Project (Don Tillman, #1)"
                                },
                                {
                                    "0": "The Lucky One"
                                },
                                {
                                    "0": "The Fountainhead"
                                },
                                {
                                    "0": "The Hunt for Red October (Jack Ryan Universe, #4)"
                                },
                                {
                                    "0": "Watership Down (Watership Down, #1)"
                                },
                                {
                                    "0": "Is Everyone Hanging Out Without Me? (And Other Concerns)"
                                },
                                {
                                    "0": "Cutting for Stone"
                                },
                                {
                                    "0": "The Voyage of the Dawn Treader (Chronicles of Narnia, #3)"
                                },
                                {
                                    "0": "Treasure Island"
                                },
                                {
                                    "0": "The Son of Neptune (The Heroes of Olympus, #2)"
                                },
                                {
                                    "0": "11/22/63"
                                },
                                {
                                    "0": "The Very Hungry Caterpillar Board Book"
                                },
                                {
                                    "0": "Cat's Cradle"
                                },
                                {
                                    "0": "The Time Machine"
                                },
                                {
                                    "0": "Heaven is for Real: A Little Boy's Astounding Story of His Trip to Heaven and Back"
                                },
                                {
                                    "0": "The Boy in the Striped Pajamas"
                                },
                                {
                                    "0": "Heart of Darkness"
                                },
                                {
                                    "0": "Safe Haven"
                                },
                                {
                                    "0": "The Secret (The Secret, #1)"
                                },
                                {
                                    "0": "I Know This Much Is True"
                                },
                                {
                                    "0": "Pet Sematary"
                                },
                                {
                                    "0": "She's Come Undone"
                                },
                                {
                                    "0": "The Wise Man's Fear (The Kingkiller Chronicle, #2)"
                                },
                                {
                                    "0": "Can You Keep a Secret?"
                                },
                                {
                                    "0": "City of Fallen Angels (The Mortal Instruments, #4)"
                                },
                                {
                                    "0": "Good in Bed (Cannie Shapiro, #1)"
                                },
                                {
                                    "0": "The Thorn Birds"
                                },
                                {
                                    "0": "The Graveyard Book"
                                },
                                {
                                    "0": "The Light Between Oceans"
                                },
                                {
                                    "0": "Inkheart (Inkworld, #1)"
                                },
                                {
                                    "0": "Who Moved My Cheese?"
                                },
                                {
                                    "0": "A Walk in the Woods"
                                },
                                {
                                    "0": "I Know Why the Caged Bird Sings"
                                },
                                {
                                    "0": "Orphan Train"
                                },
                                {
                                    "0": "City of Lost Souls (The Mortal Instruments, #5)"
                                },
                                {
                                    "0": "Where'd You Go, Bernadette"
                                },
                                {
                                    "0": "Where the Red Fern Grows"
                                },
                                {
                                    "0": "Neverwhere"
                                },
                                {
                                    "0": "The Unbearable Lightness of Being"
                                },
                                {
                                    "0": "A Prayer for Owen Meany"
                                },
                                {
                                    "0": "White Oleander"
                                },
                                {
                                    "0": "Legend (Legend, #1)"
                                },
                                {
                                    "0": "Nineteen Minutes"
                                },
                                {
                                    "0": "The Last Lecture"
                                },
                                {
                                    "0": "The Eye of the World (Wheel of Time, #1)"
                                },
                                {
                                    "0": "The Pact"
                                },
                                {
                                    "0": "The Magician's Nephew (Chronicles of Narnia, #6)"
                                },
                                {
                                    "0": "Still Alice"
                                },
                                {
                                    "0": "Reflected in You (Crossfire, #2)"
                                },
                                {
                                    "0": "James and the Giant Peach"
                                },
                                {
                                    "0": "1st to Die (Women's Murder Club, #1)"
                                },
                                {
                                    "0": "The Ultimate Hitchhiker's Guide to the Galaxy"
                                },
                                {
                                    "0": "One Day"
                                },
                                {
                                    "0": "Goodnight Moon"
                                },
                                {
                                    "0": "I Am Number Four (Lorien Legacies, #1)"
                                },
                                {
                                    "0": "The Iliad"
                                },
                                {
                                    "0": "The Casual Vacancy"
                                },
                                {
                                    "0": "The Runaway Jury"
                                },
                                {
                                    "0": "Naked"
                                },
                                {
                                    "0": "Eldest (The Inheritance Cycle, #2)"
                                },
                                {
                                    "0": "The Wonderful Wizard of Oz (Oz, #1)"
                                },
                                {
                                    "0": "Prince Caspian (Chronicles of Narnia, #2)"
                                },
                                {
                                    "0": "We Were Liars"
                                },
                                {
                                    "0": "'Salem's Lot"
                                },
                                {
                                    "0": "Fear and Loathing in Las Vegas"
                                },
                                {
                                    "0": "Clockwork Prince (The Infernal Devices, #2)"
                                },
                                {
                                    "0": "Yes Please"
                                },
                                {
                                    "0": "Othello"
                                },
                                {
                                    "0": "Beloved"
                                },
                                {
                                    "0": "Graceling (Graceling Realm, #1)"
                                },
                                {
                                    "0": "The Bad Beginning (A Series of Unfortunate Events, #1)"
                                },
                                {
                                    "0": "All Quiet on the Western Front"
                                },
                                {
                                    "0": "Oh, The Places You'll Go!"
                                },
                                {
                                    "0": "And the Mountains Echoed"
                                },
                                {
                                    "0": "Do Androids Dream of Electric Sheep?"
                                },
                                {
                                    "0": "Oliver Twist"
                                },
                                {
                                    "0": "The Screwtape Letters"
                                },
                                {
                                    "0": "Anna and the French Kiss (Anna and the French Kiss, #1)"
                                },
                                {
                                    "0": "How the Grinch Stole Christmas!"
                                },
                                {
                                    "0": "V for Vendetta"
                                },
                                {
                                    "0": "John Adams"
                                },
                                {
                                    "0": "Odd Thomas (Odd Thomas, #1)"
                                },
                                {
                                    "0": "The Subtle Knife (His Dark Materials, #2)"
                                },
                                {
                                    "0": "Stargirl (Stargirl, #1)"
                                },
                                {
                                    "0": "The Red Pyramid (Kane Chronicles, #1)"
                                },
                                {
                                    "0": "Stranger in a Strange Land"
                                },
                                {
                                    "0": "Dress Your Family in Corduroy and Denim"
                                },
                                {
                                    "0": "The BFG"
                                },
                                {
                                    "0": "A Short History of Nearly Everything"
                                },
                                {
                                    "0": "The Call of the Wild"
                                },
                                {
                                    "0": "The Death Cure (Maze Runner, #3)"
                                },
                                {
                                    "0": "Stardust"
                                },
                                {
                                    "0": "The Namesake"
                                },
                                {
                                    "0": "A Discovery of Witches (All Souls Trilogy, #1)"
                                },
                                {
                                    "0": "Norwegian Wood"
                                },
                                {
                                    "0": "Where the Heart Is"
                                },
                                {
                                    "0": "Will Grayson, Will Grayson"
                                },
                                {
                                    "0": "A Million Little Pieces"
                                },
                                {
                                    "0": "Frostbite (Vampire Academy, #2)"
                                },
                                {
                                    "0": "Quiet: The Power of Introverts in a World That Can't Stop Talking"
                                },
                                {
                                    "0": "Island of the Blue Dolphins (Island of the Blue Dolphins, #1)"
                                },
                                {
                                    "0": "The Crucible"
                                },
                                {
                                    "0": "Hatchet (Brian's Saga, #1)"
                                },
                                {
                                    "0": "The Final Empire (Mistborn, #1)"
                                },
                                {
                                    "0": "The Strange Case of Dr. Jekyll and Mr. Hyde"
                                },
                                {
                                    "0": "The Lorax"
                                },
                                {
                                    "0": "Diary of a Wimpy Kid (Diary of a Wimpy Kid, #1)"
                                },
                                {
                                    "0": "Throne of Glass (Throne of Glass, #1)"
                                },
                                {
                                    "0": "Shadow Kiss (Vampire Academy, #3)"
                                },
                                {
                                    "0": "For Whom the Bell Tolls"
                                },
                                {
                                    "0": "Hotel on the Corner of Bitter and Sweet"
                                },
                                {
                                    "0": "Perfume: The Story of a Murderer"
                                },
                                {
                                    "0": "Fast Food Nation: The Dark Side of the All-American Meal"
                                },
                                {
                                    "0": "The Tales of Beedle the Bard"
                                },
                                {
                                    "0": "Neuromancer"
                                },
                                {
                                    "0": "A Farewell to Arms"
                                },
                                {
                                    "0": "The Tell-Tale Heart and Other Writings"
                                },
                                {
                                    "0": "The Art of War"
                                },
                                {
                                    "0": "Defending Jacob"
                                },
                                {
                                    "0": "Breakfast of Champions"
                                },
                                {
                                    "0": "The New Drawing on the Right Side of the Brain"
                                },
                                {
                                    "0": "Bel Canto"
                                },
                                {
                                    "0": "Guns, Germs, and Steel: The Fates of Human Societies"
                                },
                                {
                                    "0": "Fried Green Tomatoes at the Whistle Stop Cafe"
                                },
                                {
                                    "0": "Things Fall Apart (The African Trilogy, #1)"
                                },
                                {
                                    "0": "The Undomestic Goddess"
                                },
                                {
                                    "0": "The Five Love Languages: How to Express Heartfelt Commitment to Your Mate"
                                },
                                {
                                    "0": "The Three Musketeers"
                                },
                                {
                                    "0": "Little Bee"
                                },
                                {
                                    "0": "Evermore (The Immortals, #1)"
                                },
                                {
                                    "0": "The Witches"
                                },
                                {
                                    "0": "The Thirteenth Tale"
                                },
                                {
                                    "0": "Spirit Bound (Vampire Academy, #5)"
                                },
                                {
                                    "0": "Blood Promise (Vampire Academy, #4)"
                                },
                                {
                                    "0": "Message in a Bottle"
                                },
                                {
                                    "0": "The Paris Wife"
                                },
                                {
                                    "0": "Harry Potter Boxset (Harry Potter, #1-7)"
                                },
                                {
                                    "0": "The Elite (The Selection, #2)"
                                },
                                {
                                    "0": "The Name of the Rose"
                                },
                                {
                                    "0": "Go Ask Alice"
                                },
                                {
                                    "0": "A Confederacy of Dunces"
                                },
                                {
                                    "0": "The Importance of Being Earnest"
                                },
                                {
                                    "0": "The Mark of Athena (The Heroes of Olympus, #3)"
                                },
                                {
                                    "0": "The Color of Magic (Discworld, #1; Rincewind #1)"
                                },
                                {
                                    "0": "Kafka on the Shore"
                                },
                                {
                                    "0": "Red Dragon (Hannibal Lecter, #1)"
                                },
                                {
                                    "0": "I, Robot (Robot #0.1)"
                                },
                                {
                                    "0": "Dark Lover (Black Dagger Brotherhood, #1)"
                                },
                                {
                                    "0": "Crescendo (Hush, Hush, #2)"
                                },
                                {
                                    "0": "Before I Fall"
                                },
                                {
                                    "0": "The God of Small Things"
                                },
                                {
                                    "0": "The Invention of Wings"
                                },
                                {
                                    "0": "What Alice Forgot"
                                },
                                {
                                    "0": "A Brief History of Time"
                                },
                                {
                                    "0": "Fall of Giants (The Century Trilogy, #1)"
                                },
                                {
                                    "0": "Under the Dome"
                                },
                                {
                                    "0": "Snow Crash"
                                },
                                {
                                    "0": "Just Listen"
                                },
                                {
                                    "0": "Winnie-the-Pooh (Winnie-the-Pooh, #1)"
                                },
                                {
                                    "0": "Before I Go to Sleep"
                                },
                                {
                                    "0": "A Study in Scarlet"
                                },
                                {
                                    "0": "Brisingr (The Inheritance Cycle, #3)"
                                },
                                {
                                    "0": "The Purpose Driven Life: What on Earth Am I Here for?"
                                },
                                {
                                    "0": "Betrayed (House of Night, #2)"
                                },
                                {
                                    "0": "Storm Front (The Dresden Files, #1)"
                                },
                                {
                                    "0": "Northanger Abbey"
                                },
                                {
                                    "0": "The 5th Wave (The 5th Wave, #1)"
                                },
                                {
                                    "0": "Cold Mountain"
                                },
                                {
                                    "0": "If You Give a Mouse a Cookie"
                                },
                                {
                                    "0": "Something Blue (Darcy & Rachel, #2)"
                                },
                                {
                                    "0": "A Streetcar Named Desire"
                                },
                                {
                                    "0": "The Historian"
                                },
                                {
                                    "0": "Station Eleven"
                                },
                                {
                                    "0": "A Man Called Ove"
                                },
                                {
                                    "0": "Clockwork Princess (The Infernal Devices, #3)"
                                },
                                {
                                    "0": "The Good Earth (House of Earth, #1)"
                                },
                                {
                                    "0": "Ways of Seeing"
                                },
                                {
                                    "0": "Dragonfly in Amber (Outlander, #2)"
                                },
                                {
                                    "0": "Holy Bible: King James Version"
                                },
                                {
                                    "0": "In Her Shoes"
                                },
                                {
                                    "0": "The Brief Wondrous Life of Oscar Wao"
                                },
                                {
                                    "0": "Their Eyes Were Watching God"
                                },
                                {
                                    "0": "Fantastic Beasts and Where to Find Them"
                                },
                                {
                                    "0": "I Am Malala: The Story of the Girl Who Stood Up for Education and Was Shot by the Taliban"
                                },
                                {
                                    "0": "Mansfield Park"
                                },
                                {
                                    "0": "Man's Search for Meaning"
                                },
                                {
                                    "0": "In the Woods (Dublin Murder Squad, #1)"
                                },
                                {
                                    "0": "The God Delusion"
                                },
                                {
                                    "0": "Where She Went (If I Stay, #2)"
                                },
                                {
                                    "0": "The World According to Garp"
                                },
                                {
                                    "0": "Killing Floor (Jack Reacher, #1)"
                                },
                                {
                                    "0": "Robinson Crusoe"
                                },
                                {
                                    "0": "The Prince"
                                },
                                {
                                    "0": "The Amber Spyglass (His Dark Materials, #3)"
                                },
                                {
                                    "0": "Wizard's First Rule (Sword of Truth, #1)"
                                },
                                {
                                    "0": "The Kitchen House"
                                },
                                {
                                    "0": "Franny and Zooey"
                                },
                                {
                                    "0": "Choke"
                                },
                                {
                                    "0": "The Brothers Karamazov"
                                },
                                {
                                    "0": "The City of Ember (Book of Ember, #1)"
                                },
                                {
                                    "0": "The Andromeda Strain"
                                },
                                {
                                    "0": "The Prophet"
                                },
                                {
                                    "0": "Maus I: A Survivor's Tale: My Father Bleeds History (Maus, #1)"
                                },
                                {
                                    "0": "Untamed (House of Night, #4)"
                                },
                                {
                                    "0": "Speaker for the Dead (Ender's Saga, #2)"
                                },
                                {
                                    "0": "Mere Christianity"
                                },
                                {
                                    "0": "The Secret History"
                                },
                                {
                                    "0": "A Heartbreaking Work of Staggering Genius"
                                },
                                {
                                    "0": "The Clan of the Cave Bear (Earth's Children, #1)"
                                },
                                {
                                    "0": "Black Beauty"
                                },
                                {
                                    "0": "War and Peace"
                                },
                                {
                                    "0": "American Psycho"
                                },
                                {
                                    "0": "The Princess Diaries (The Princess Diaries, #1)"
                                },
                                {
                                    "0": "The No. 1 Ladies' Detective Agency  (No. 1 Ladies' Detective Agency, #1)"
                                },
                                {
                                    "0": "The Walking Dead, Vol. 01: Days Gone Bye"
                                },
                                {
                                    "0": "2001: A Space Odyssey (Space Odyssey, #1)"
                                },
                                {
                                    "0": "Redeeming Love"
                                },
                                {
                                    "0": "Left Behind (Left Behind, #1)"
                                },
                                {
                                    "0": "The One (The Selection, #3)"
                                },
                                {
                                    "0": "The Hunger Games Trilogy Boxset (The Hunger Games, #1-3)"
                                },
                                {
                                    "0": "Nickel and Dimed: On (Not) Getting By in America"
                                },
                                {
                                    "0": "Remember Me?"
                                },
                                {
                                    "0": "The Great Hunt (Wheel of Time, #2)"
                                },
                                {
                                    "0": "Postmortem (Kay Scarpetta, #1)"
                                },
                                {
                                    "0": "The Complete Stories and Poems"
                                },
                                {
                                    "0": "The Hiding Place: The Triumphant True Story of Corrie Ten Boom"
                                },
                                {
                                    "0": "The Prince of Tides"
                                },
                                {
                                    "0": "The Amazing Adventures of Kavalier & Clay"
                                },
                                {
                                    "0": "Perfect Chemistry (Perfect Chemistry, #1)"
                                },
                                {
                                    "0": "Peter Pan"
                                },
                                {
                                    "0": "Pretties (Uglies, #2)"
                                },
                                {
                                    "0": "The Wind-Up Bird Chronicle"
                                },
                                {
                                    "0": "The Lincoln Lawyer (Mickey Haller, #1; Harry Bosch Universe, #16)"
                                },
                                {
                                    "0": "Cloud Atlas"
                                },
                                {
                                    "0": "The Things They Carried"
                                },
                                {
                                    "0": "Wall and Piece"
                                },
                                {
                                    "0": "Pandemonium (Delirium, #2)"
                                },
                                {
                                    "0": "Darkly Dreaming Dexter (Dexter, #1)"
                                },
                                {
                                    "0": "Living Dead in Dallas (Sookie Stackhouse, #2)"
                                },
                                {
                                    "0": "The Dragon Reborn (Wheel of Time, #3)"
                                },
                                {
                                    "0": "Gulliver's Travels"
                                },
                                {
                                    "0": "Much Ado About Nothing"
                                },
                                {
                                    "0": "Beowulf"
                                },
                                {
                                    "0": "Batman: Year One"
                                },
                                {
                                    "0": "Go Set a Watchman"
                                },
                                {
                                    "0": "When You Are Engulfed in Flames"
                                },
                                {
                                    "0": "Daughter of Smoke & Bone (Daughter of Smoke & Bone, #1)"
                                },
                                {
                                    "0": "Red Queen (Red Queen, #1)"
                                },
                                {
                                    "0": "The Power of Habit: Why We Do What We Do in Life and Business"
                                },
                                {
                                    "0": "Midnight in the Garden of Good and Evil"
                                },
                                {
                                    "0": "Hopeless (Hopeless, #1)"
                                },
                                {
                                    "0": "A Little Princess"
                                },
                                {
                                    "0": "The Truth About Forever"
                                },
                                {
                                    "0": "The Horse and His Boy (Chronicles of Narnia, #5)"
                                },
                                {
                                    "0": "Last Sacrifice (Vampire Academy, #6)"
                                },
                                {
                                    "0": "Little House on the Prairie (Little House, #2)"
                                },
                                {
                                    "0": "The Velveteen Rabbit"
                                },
                                {
                                    "0": "Zen and the Art of Motorcycle Maintenance: An Inquiry Into Values"
                                },
                                {
                                    "0": "The War of the Worlds"
                                },
                                {
                                    "0": "Pretty Little Liars (Pretty Little Liars, #1)"
                                },
                                {
                                    "0": "Corduroy"
                                },
                                {
                                    "0": "The Omnivore's Dilemma: A Natural History of Four Meals"
                                },
                                {
                                    "0": "Life After Life"
                                },
                                {
                                    "0": "The Rescue"
                                },
                                {
                                    "0": "Needful Things"
                                },
                                {
                                    "0": "Hamlet: Screenplay, Introduction And Film Diary"
                                },
                                {
                                    "0": "Cujo"
                                },
                                {
                                    "0": "The Virgin Suicides"
                                },
                                {
                                    "0": "Dead to the World (Sookie Stackhouse, #4)"
                                },
                                {
                                    "0": "Tess of the D'Urbervilles"
                                },
                                {
                                    "0": "Madame Bovary"
                                },
                                {
                                    "0": "The Phantom Tollbooth"
                                },
                                {
                                    "0": "The Way of Kings (The Stormlight Archive, #1)"
                                },
                                {
                                    "0": "Club Dead (Sookie Stackhouse, #3)"
                                },
                                {
                                    "0": "It's Kind of a Funny Story"
                                },
                                {
                                    "0": "After You (Me Before You, #2)"
                                },
                                {
                                    "0": "The Language of Flowers"
                                },
                                {
                                    "0": "Batman: The Dark Knight Returns (The Dark Knight Saga, #1)"
                                },
                                {
                                    "0": "The Angel Experiment (Maximum Ride, #1)"
                                },
                                {
                                    "0": "High Fidelity"
                                },
                                {
                                    "0": "The Guardian"
                                },
                                {
                                    "0": "Oryx and Crake (MaddAddam, #1)"
                                },
                                {
                                    "0": "Men Are from Mars, Women Are from Venus"
                                },
                                {
                                    "0": "Kitchen Confidential: Adventures in the Culinary Underbelly"
                                },
                                {
                                    "0": "Timeline"
                                },
                                {
                                    "0": "Candide"
                                },
                                {
                                    "0": "Tuck Everlasting"
                                },
                                {
                                    "0": "Christine"
                                },
                                {
                                    "0": "Are You My Mother?"
                                },
                                {
                                    "0": "The Story of Art"
                                },
                                {
                                    "0": "Scarlet (The Lunar Chronicles, #2)"
                                },
                                {
                                    "0": "Rich Dad, Poor Dad"
                                },
                                {
                                    "0": "Silence (Hush, Hush, #3)"
                                },
                                {
                                    "0": "The Magicians (The Magicians #1)"
                                },
                                {
                                    "0": "Death Note, Vol. 1: Boredom (Death Note, #1)"
                                },
                                {
                                    "0": "A Great and Terrible Beauty (Gemma Doyle, #1)"
                                },
                                {
                                    "0": "Everything Is Illuminated"
                                },
                                {
                                    "0": "The Bourne Supremacy (Jason Bourne, #2)"
                                },
                                {
                                    "0": "Easy (Contours of the Heart, #1)"
                                },
                                {
                                    "0": "David Copperfield"
                                },
                                {
                                    "0": "The Absolutely True Diary of a Part-Time Indian"
                                },
                                {
                                    "0": "The Master and Margarita"
                                },
                                {
                                    "0": "A Wizard of Earthsea (Earthsea Cycle, #1)"
                                },
                                {
                                    "0": "Because of Winn-Dixie"
                                },
                                {
                                    "0": "A Separate Peace"
                                },
                                {
                                    "0": "Don Quixote"
                                },
                                {
                                    "0": "Assassin's Apprentice (Farseer Trilogy, #1)"
                                },
                                {
                                    "0": "Torment (Fallen, #2)"
                                },
                                {
                                    "0": "The Tale of Peter Rabbit"
                                },
                                {
                                    "0": "The Silver Chair (Chronicles of Narnia, #4)"
                                },
                                {
                                    "0": "Girl, Interrupted"
                                },
                                {
                                    "0": "Are You There, Vodka? It's Me, Chelsea"
                                },
                                {
                                    "0": "Jonathan Livingston Seagull"
                                },
                                {
                                    "0": "City of Heavenly Fire (The Mortal Instruments, #6)"
                                },
                                {
                                    "0": "Love You Forever"
                                },
                                {
                                    "0": "Cell"
                                },
                                {
                                    "0": "The Boys in the Boat: Nine Americans and Their Epic Quest for Gold at the 1936 Berlin Olympics"
                                },
                                {
                                    "0": "The Silmarillion (Middle-Earth Universe)"
                                },
                                {
                                    "0": "The Drawing of the Three (The Dark Tower, #2)"
                                },
                                {
                                    "0": "The Forgotten Garden"
                                },
                                {
                                    "0": "The Trial"
                                },
                                {
                                    "0": "This Lullaby"
                                },
                                {
                                    "0": "Plain Truth"
                                },
                                {
                                    "0": "Orange Is the New Black"
                                },
                                {
                                    "0": "The Hound of the Baskervilles"
                                },
                                {
                                    "0": "Thinking, Fast and Slow"
                                },
                                {
                                    "0": "The Mists of Avalon (Avalon, #1)"
                                },
                                {
                                    "0": "Are You There God? It's Me, Margaret"
                                },
                                {
                                    "0": "Nights in Rodanthe"
                                },
                                {
                                    "0": "Mr. Mercedes (Bill Hodges Trilogy, #1)"
                                },
                                {
                                    "0": "All Together Dead (Sookie Stackhouse, #7)"
                                },
                                {
                                    "0": "Midwives"
                                },
                                {
                                    "0": "The Polar Express"
                                },
                                {
                                    "0": "The True Story of the 3 Little Pigs"
                                },
                                {
                                    "0": "Patriot Games (Jack Ryan Universe, #2)"
                                },
                                {
                                    "0": "Veronika Decides to Die"
                                },
                                {
                                    "0": "Lean In: Women, Work, and the Will to Lead"
                                },
                                {
                                    "0": "Shatter Me (Shatter Me, #1)"
                                },
                                {
                                    "0": "Starship Troopers"
                                },
                                {
                                    "0": "I've Got Your Number"
                                },
                                {
                                    "0": "Sophie's World"
                                },
                                {
                                    "0": "The Twilight Saga Breaking Dawn Part 1: The Official Illustrated Movie Companion (The Twilight Saga: The Official Illustrated Movie Companion, #4)"
                                },
                                {
                                    "0": "The Martian Chronicles"
                                },
                                {
                                    "0": "A Visit from the Goon Squad"
                                },
                                {
                                    "0": "Heidi"
                                },
                                {
                                    "0": "Prey"
                                },
                                {
                                    "0": "The Last Battle (Chronicles of Narnia, #7)"
                                },
                                {
                                    "0": "World Without End (The Kingsbridge Series, #2)"
                                },
                                {
                                    "0": "Chosen (House of Night, #3)"
                                },
                                {
                                    "0": "Slammed (Slammed, #1)"
                                },
                                {
                                    "0": "Beastly (Beastly, #1; Kendra Chronicles, #1)"
                                },
                                {
                                    "0": "The Canterbury Tales"
                                },
                                {
                                    "0": "Baby Proof"
                                },
                                {
                                    "0": "Inheritance (The Inheritance Cycle, #4)"
                                },
                                {
                                    "0": "1Q84"
                                },
                                {
                                    "0": "Uncle Tom's Cabin"
                                },
                                {
                                    "0": "The Phantom of the Opera"
                                },
                                {
                                    "0": "Definitely Dead (Sookie Stackhouse, #6)"
                                },
                                {
                                    "0": "Blindness"
                                },
                                {
                                    "0": "Freedom"
                                },
                                {
                                    "0": "Crossed (Matched, #2)"
                                },
                                {
                                    "0": "I'd Tell You I Love You, But Then I'd Have to Kill You (Gallagher Girls, #1)"
                                },
                                {
                                    "0": "The White Tiger"
                                },
                                {
                                    "0": "The Corrections"
                                },
                                {
                                    "0": "Dreams from My Father: A Story of Race and Inheritance"
                                },
                                {
                                    "0": "Congo"
                                },
                                {
                                    "0": "Alexander and the Terrible, Horrible, No Good, Very Bad Day"
                                },
                                {
                                    "0": "A People's History of the United States"
                                },
                                {
                                    "0": "Breakfast at Tiffany's"
                                },
                                {
                                    "0": "The Passage (The Passage, #1)"
                                },
                                {
                                    "0": "Anansi Boys"
                                },
                                {
                                    "0": "Along for the Ride"
                                },
                                {
                                    "0": "Everything I Never Told You"
                                },
                                {
                                    "0": "The House of the Spirits"
                                },
                                {
                                    "0": "The Dead Zone"
                                },
                                {
                                    "0": "The Mysterious Affair at Styles (Hercule Poirot, #1)"
                                },
                                {
                                    "0": "Americanah"
                                },
                                {
                                    "0": "Suzanne's Diary for Nicholas"
                                },
                                {
                                    "0": "Firestarter"
                                },
                                {
                                    "0": "Entwined with You (Crossfire, #3)"
                                },
                                {
                                    "0": "Born to Run: A Hidden Tribe, Superathletes, and the Greatest Race the World Has Never Seen"
                                },
                                {
                                    "0": "The Storied Life of A.J. Fikry"
                                },
                                {
                                    "0": "Madeline"
                                },
                                {
                                    "0": "Think and Grow Rich: The Landmark Bestseller - Now Revised and Updated for the 21st Century"
                                },
                                {
                                    "0": "Little House in the Big Woods (Little House, #1)"
                                },
                                {
                                    "0": "Jonathan Strange & Mr Norrell"
                                },
                                {
                                    "0": "A Bend in the Road"
                                },
                                {
                                    "0": "Gone (Gone, #1)"
                                },
                                {
                                    "0": "The Wedding (The Notebook, #2)"
                                },
                                {
                                    "0": "1776"
                                },
                                {
                                    "0": "Under the Banner of Heaven: A Story of Violent Faith"
                                },
                                {
                                    "0": "Beautiful Ruins"
                                },
                                {
                                    "0": "The Audacity of Hope: Thoughts on Reclaiming the American Dream"
                                },
                                {
                                    "0": "On Writing: A Memoir of the Craft"
                                },
                                {
                                    "0": "Firefly Lane (Firefly Lane, #1)"
                                },
                                {
                                    "0": "Sphere"
                                },
                                {
                                    "0": "Love the One You're With"
                                },
                                {
                                    "0": "The Silkworm (Cormoran Strike, #2)"
                                },
                                {
                                    "0": "The Vampire Lestat (The Vampire Chronicles, #2)"
                                },
                                {
                                    "0": "State of Wonder"
                                },
                                {
                                    "0": "The Silver Linings Playbook"
                                },
                                {
                                    "0": "Twenty Thousand Leagues Under the Sea"
                                },
                                {
                                    "0": "The Constant Princess (The Plantagenet and Tudor Novels, #6)"
                                },
                                {
                                    "0": "Mrs. Dalloway"
                                },
                                {
                                    "0": "The Hundred-Year-Old Man Who Climbed Out of the Window and Disappeared"
                                },
                                {
                                    "0": "Bag of Bones"
                                },
                                {
                                    "0": "The Cider House Rules"
                                },
                                {
                                    "0": "Thinner"
                                },
                                {
                                    "0": "Around the World in Eighty Days"
                                },
                                {
                                    "0": "Walk Two Moons"
                                },
                                {
                                    "0": "Eleven Minutes"
                                },
                                {
                                    "0": "Nine Stories"
                                },
                                {
                                    "0": "Julie and Julia: 365 Days, 524 Recipes, 1 Tiny Apartment Kitchen: How One Girl Risked Her Marriage, Her Job, and Her Sanity to Master the Art of Living"
                                },
                                {
                                    "0": "Unwind (Unwind, #1)"
                                },
                                {
                                    "0": "Prodigy (Legend, #2)"
                                },
                                {
                                    "0": "King Lear"
                                },
                                {
                                    "0": "Death of a Salesman"
                                },
                                {
                                    "0": "The Choice"
                                },
                                {
                                    "0": "The Hunger Games: Official Illustrated Movie Companion"
                                },
                                {
                                    "0": "The Sound and the Fury"
                                },
                                {
                                    "0": "A New Earth: Awakening to Your Life's Purpose"
                                },
                                {
                                    "0": "Bleach, Volume 01"
                                },
                                {
                                    "0": "Hyperbole and a Half: Unfortunate Situations, Flawed Coping Mechanisms, Mayhem, and Other Things That Happened"
                                },
                                {
                                    "0": "Shantaram"
                                },
                                {
                                    "0": "The Bone Collector (Lincoln Rhyme, #1)"
                                },
                                {
                                    "0": "The Reader"
                                },
                                {
                                    "0": "Brown Bear, Brown Bear, What Do You See?"
                                },
                                {
                                    "0": "Hyperion (Hyperion Cantos, #1)"
                                },
                                {
                                    "0": "The Pearl"
                                },
                                {
                                    "0": "The Exorcist"
                                },
                                {
                                    "0": "The Short Second Life of Bree Tanner: An Eclipse Novella (Twilight, #3.5)"
                                },
                                {
                                    "0": "Snow Falling on Cedars"
                                },
                                {
                                    "0": "Invisible Man"
                                },
                                {
                                    "0": "A Long Way Gone: Memoirs of a Boy Soldier"
                                },
                                {
                                    "0": "Mrs. Frisby and the Rats of NIMH (Rats of NIMH, #1)"
                                },
                                {
                                    "0": "The Little House Collection (Little House, #1-9)"
                                },
                                {
                                    "0": "The Girls' Guide to Hunting and Fishing"
                                },
                                {
                                    "0": "Wool Omnibus (Silo, #1)"
                                },
                                {
                                    "0": "Lamb: The Gospel According to Biff, Christ's Childhood Pal"
                                },
                                {
                                    "0": "The Power of Now: A Guide to Spiritual Enlightenment"
                                },
                                {
                                    "0": "Let's Pretend This Never Happened: A Mostly True Memoir"
                                },
                                {
                                    "0": "The Lies of Locke Lamora (Gentleman Bastard, #1)"
                                },
                                {
                                    "0": "Sabriel (Abhorsen,  #1)"
                                },
                                {
                                    "0": "Dead and Gone (Sookie Stackhouse, #9)"
                                },
                                {
                                    "0": "The Storyteller"
                                },
                                {
                                    "0": "Obsidian (Lux, #1)"
                                },
                                {
                                    "0": "Crown of Midnight (Throne of Glass, #2)"
                                },
                                {
                                    "0": "Scott Pilgrim, Volume 1: Scott Pilgrim's Precious Little Life"
                                },
                                {
                                    "0": "The Iron King (The Iron Fey, #1)"
                                },
                                {
                                    "0": "Lonesome Dove"
                                },
                                {
                                    "0": "Stiff: The Curious Lives of Human Cadavers"
                                },
                                {
                                    "0": "Bloodlines (Bloodlines, #1)"
                                },
                                {
                                    "0": "Twenties Girl"
                                },
                                {
                                    "0": "Schindler's List"
                                },
                                {
                                    "0": "The Bluest Eye"
                                },
                                {
                                    "0": "The White Queen (The Plantagenet and Tudor Novels, #2)"
                                },
                                {
                                    "0": "The Autobiography of Malcolm X"
                                },
                                {
                                    "0": "Preludes & Nocturnes (The Sandman #1)"
                                },
                                {
                                    "0": "Seabiscuit: An American Legend"
                                },
                                {
                                    "0": "Shutter Island"
                                },
                                {
                                    "0": "Julius Caesar"
                                },
                                {
                                    "0": "In the Garden of Beasts: Love, Terror, and an American Family in Hitler's Berlin"
                                },
                                {
                                    "0": "The Republic"
                                },
                                {
                                    "0": "The Taming of the Shrew"
                                },
                                {
                                    "0": "Just Kids"
                                },
                                {
                                    "0": "The Art Book"
                                },
                                {
                                    "0": "Jemima J"
                                },
                                {
                                    "0": "The Hunchback of Notre-Dame"
                                },
                                {
                                    "0": "A Fine Balance"
                                },
                                {
                                    "0": "Specials (Uglies, #3)"
                                },
                                {
                                    "0": "The Awakening"
                                },
                                {
                                    "0": "Hunted (House of Night, #5)"
                                },
                                {
                                    "0": "Falling Up"
                                },
                                {
                                    "0": "Sh*t My Dad Says"
                                },
                                {
                                    "0": "Trainspotting"
                                },
                                {
                                    "0": "The Four Agreements: A Practical Guide to Personal Freedom"
                                },
                                {
                                    "0": "House Rules"
                                },
                                {
                                    "0": "From the Mixed-Up Files of Mrs. Basil E. Frankweiler"
                                },
                                {
                                    "0": "Doctor Sleep (The Shining, #2)"
                                },
                                {
                                    "0": "About a Boy"
                                },
                                {
                                    "0": "On Dublin Street (On Dublin Street, #1)"
                                },
                                {
                                    "0": "Crazy Love: Overwhelmed by a Relentless God"
                                },
                                {
                                    "0": "One Fish, Two Fish, Red Fish, Blue Fish"
                                },
                                {
                                    "0": "Watchers"
                                },
                                {
                                    "0": "The Story of My Life"
                                },
                                {
                                    "0": "This is Where I Leave You"
                                },
                                {
                                    "0": "Abraham Lincoln: Vampire Hunter"
                                },
                                {
                                    "0": "Fruits Basket, Vol. 1"
                                },
                                {
                                    "0": "The Tempest"
                                },
                                {
                                    "0": "Burned (House of Night, #7)"
                                },
                                {
                                    "0": "Wizard and Glass (The Dark Tower, #4)"
                                },
                                {
                                    "0": "The Circle"
                                },
                                {
                                    "0": "The Invention of Hugo Cabret"
                                },
                                {
                                    "0": "Brave New World / Brave New World Revisited"
                                },
                                {
                                    "0": "Ouran High School Host Club, Vol. 1 (Ouran High School Host Club, #1)"
                                },
                                {
                                    "0": "The Good Girl"
                                },
                                {
                                    "0": "Fallen Too Far (Rosemary Beach, #1; Too Far, #1)"
                                },
                                {
                                    "0": "Landline"
                                },
                                {
                                    "0": "Tempted (House of Night, #6)"
                                },
                                {
                                    "0": "No Country for Old Men"
                                },
                                {
                                    "0": "Wolf Hall (Thomas Cromwell, #1)"
                                },
                                {
                                    "0": "Howl's Moving Castle (Howl's Moving Castle, #1)"
                                },
                                {
                                    "0": "Dreamcatcher"
                                },
                                {
                                    "0": "Walden"
                                },
                                {
                                    "0": "The Remains of the Day"
                                },
                                {
                                    "0": "The Best of Me"
                                },
                                {
                                    "0": "The Sense of an Ending"
                                },
                                {
                                    "0": "A is for Alibi (Kinsey Millhone, #1)"
                                },
                                {
                                    "0": "Oedipus Rex  (The Theban Plays, #1)"
                                },
                                {
                                    "0": "Shanghai Girls (Shanghai Girls #1)"
                                },
                                {
                                    "0": "The Wind in the Willows"
                                },
                                {
                                    "0": "To All the Boys I've Loved Before (To All the Boys I've Loved Before, #1)"
                                },
                                {
                                    "0": "Persepolis: The Story of a Childhood (Persepolis, #1)"
                                },
                                {
                                    "0": "A Room with a View"
                                },
                                {
                                    "0": "The DUFF: Designated Ugly Fat Friend"
                                },
                                {
                                    "0": "Lock and Key"
                                },
                                {
                                    "0": "Naked in Death (In Death, #1)"
                                },
                                {
                                    "0": "The Chamber"
                                },
                                {
                                    "0": "Midnight Sun (Twilight, #1.5)"
                                },
                                {
                                    "0": "Naruto, Vol. 01: The Tests of the Ninja (Naruto, #1)"
                                },
                                {
                                    "0": "The Unlikely Pilgrimage of Harold Fry (Harold Fry, #1)"
                                },
                                {
                                    "0": "Every Day (Every Day, #1)"
                                },
                                {
                                    "0": "Xenocide (Ender's Saga, #3)"
                                },
                                {
                                    "0": "The Merchant of Venice"
                                },
                                {
                                    "0": "Lover Awakened (Black Dagger Brotherhood, #3)"
                                },
                                {
                                    "0": "A Court of Thorns and Roses (A Court of Thorns and Roses, #1)"
                                },
                                {
                                    "0": "Fifty Shades Trilogy (Fifty Shades, #1-3)"
                                },
                                {
                                    "0": "Chicka Chicka Boom Boom"
                                },
                                {
                                    "0": "Smile"
                                },
                                {
                                    "0": "Animal Farm / 1984"
                                },
                                {
                                    "0": "The Deep End of the Ocean (Cappadora Family, #1)"
                                },
                                {
                                    "0": "Angus, Thongs and Full-Frontal Snogging (Confessions of Georgia Nicolson, #1)"
                                },
                                {
                                    "0": "Mr. Penumbra's 24-Hour Bookstore (Mr. Penumbra's 24-Hour Bookstore, #1)"
                                },
                                {
                                    "0": "Flowers in the Attic (Dollanganger, #1)"
                                },
                                {
                                    "0": "When Breath Becomes Air"
                                },
                                {
                                    "0": "Maniac Magee"
                                },
                                {
                                    "0": "Invisible Monsters"
                                },
                                {
                                    "0": "Twelfth Night"
                                },
                                {
                                    "0": "Gathering Blue (The Giver, #2)"
                                },
                                {
                                    "0": "The Westing Game"
                                },
                                {
                                    "0": "Red Rising (Red Rising, #1)"
                                },
                                {
                                    "0": "The Way of Shadows (Night Angel, #1)"
                                },
                                {
                                    "0": "The Bean Trees (Greer Family, #1)"
                                },
                                {
                                    "0": "Walking Disaster (Beautiful, #2)"
                                },
                                {
                                    "0": "Guess How Much I Love You"
                                },
                                {
                                    "0": "Jaws"
                                },
                                {
                                    "0": "The History of Love"
                                },
                                {
                                    "0": "Pippi Longstocking"
                                },
                                {
                                    "0": "The Elegance of the Hedgehog"
                                },
                                {
                                    "0": "Team of Rivals: The Political Genius of Abraham Lincoln"
                                },
                                {
                                    "0": "Dead in the Family (Sookie Stackhouse, #10)"
                                },
                                {
                                    "0": "The Plague"
                                },
                                {
                                    "0": "The Reptile Room (A Series of Unfortunate Events, #2)"
                                },
                                {
                                    "0": "Brain on Fire: My Month of Madness"
                                },
                                {
                                    "0": "Wicked Lovely (Wicked Lovely, #1)"
                                },
                                {
                                    "0": "Curious George"
                                },
                                {
                                    "0": "The Neverending Story"
                                },
                                {
                                    "0": "A Beautiful Mind"
                                },
                                {
                                    "0": "The Jungle"
                                },
                                {
                                    "0": "The Summoning (Darkest Powers, #1)"
                                },
                                {
                                    "0": "The Man Who Mistook His Wife for a Hat and Other Clinical Tales"
                                },
                                {
                                    "0": "The Blind Assassin"
                                },
                                {
                                    "0": "House of Sand and Fog"
                                },
                                {
                                    "0": "The Girl with All the Gifts"
                                },
                                {
                                    "0": "As I Lay Dying"
                                },
                                {
                                    "0": "Harold and the Purple Crayon"
                                },
                                {
                                    "0": "Lover Eternal (Black Dagger Brotherhood, #2)"
                                },
                                {
                                    "0": "David and Goliath: Underdogs, Misfits, and the Art of Battling Giants"
                                },
                                {
                                    "0": "The Year of Magical Thinking"
                                },
                                {
                                    "0": "We Need to Talk About Kevin"
                                },
                                {
                                    "0": "The Queen of the Damned (The Vampire Chronicles, #3)"
                                },
                                {
                                    "0": "The Age of Innocence"
                                },
                                {
                                    "0": "The Selfish Gene"
                                },
                                {
                                    "0": "Year of Wonders"
                                },
                                {
                                    "0": "The Black Echo (Harry Bosch, #1; Harry Bosch Universe, #1)"
                                },
                                {
                                    "0": "Anthem"
                                },
                                {
                                    "0": "Gabriel's Inferno (Gabriel's Inferno, #1)"
                                },
                                {
                                    "0": "Cloudy With a Chance of Meatballs"
                                },
                                {
                                    "0": "Major Pettigrew's Last Stand"
                                },
                                {
                                    "0": "Vision in White (Bride Quartet, #1)"
                                },
                                {
                                    "0": "The Tenth Circle"
                                },
                                {
                                    "0": "Gerald's Game"
                                },
                                {
                                    "0": "The Joy of Cooking"
                                },
                                {
                                    "0": "Insomnia"
                                },
                                {
                                    "0": "Reading Lolita in Tehran"
                                },
                                {
                                    "0": "The Blade Itself (The First Law, #1)"
                                },
                                {
                                    "0": "The Arctic Incident (Artemis Fowl, #2)"
                                },
                                {
                                    "0": "The Shipping News"
                                },
                                {
                                    "0": "The Life-Changing Magic of Tidying Up: The Japanese Art of Decluttering and Organizing"
                                },
                                {
                                    "0": "All the Bright Places"
                                },
                                {
                                    "0": "Déjà Dead (Temperance Brennan, #1)"
                                },
                                {
                                    "0": "The Alchemyst (The Secrets of the Immortal Nicholas Flamel, #1)"
                                },
                                {
                                    "0": "The Marriage Plot"
                                },
                                {
                                    "0": "Daughter of Fortune"
                                },
                                {
                                    "0": "Luckiest Girl Alive"
                                },
                                {
                                    "0": "Crank (Crank, #1)"
                                },
                                {
                                    "0": "The Raven Boys (The Raven Cycle, #1)"
                                },
                                {
                                    "0": "I Am Legend and Other Stories"
                                },
                                {
                                    "0": "Olive Kitteridge"
                                },
                                {
                                    "0": "Not That Kind of Girl: A Young Woman Tells You What She's \"Learned\""
                                },
                                {
                                    "0": "Good to Great: Why Some Companies Make the Leap... and Others Don't"
                                },
                                {
                                    "0": "Fire (Graceling Realm, #2)"
                                },
                                {
                                    "0": "Waiting for Godot"
                                },
                                {
                                    "0": "White Fang"
                                },
                                {
                                    "0": "Wolves of the Calla (The Dark Tower, #5)"
                                },
                                {
                                    "0": "His Dark Materials (His Dark Materials #1-3)"
                                },
                                {
                                    "0": "The Edge of Never (The Edge of Never, #1)"
                                },
                                {
                                    "0": "Reconstructing Amelia"
                                },
                                {
                                    "0": "One Plus One"
                                },
                                {
                                    "0": "The Hours"
                                },
                                {
                                    "0": "Wallbanger (Cocktail, #1)"
                                },
                                {
                                    "0": "Holidays on Ice"
                                },
                                {
                                    "0": "Desperation"
                                },
                                {
                                    "0": "Passion (Fallen, #3)"
                                },
                                {
                                    "0": "The Kill Order (Maze Runner, #0.5)"
                                },
                                {
                                    "0": "Angelfall (Penryn & the End of Days, #1)"
                                },
                                {
                                    "0": "Empire Falls"
                                },
                                {
                                    "0": "I'll Give You the Sun"
                                },
                                {
                                    "0": "Shopaholic & Baby (Shopaholic, #5)"
                                },
                                {
                                    "0": "The Dark Tower (The Dark Tower, #7)"
                                },
                                {
                                    "0": "Twilight Director's Notebook : The Story of How We Made the Movie Based on the Novel by Stephenie Meyer"
                                },
                                {
                                    "0": "Shopaholic Takes Manhattan (Shopaholic, #2)"
                                },
                                {
                                    "0": "Surely You're Joking, Mr. Feynman!: Adventures of a Curious Character"
                                },
                                {
                                    "0": "Linger (The Wolves of Mercy Falls, #2)"
                                },
                                {
                                    "0": "The Complete Anne of Green Gables Boxed Set (Anne of Green Gables, #1-8)"
                                },
                                {
                                    "0": "A Portrait of the Artist as a Young Man"
                                },
                                {
                                    "0": "The Gathering Storm (Wheel of Time, #12)"
                                },
                                {
                                    "0": "Middlemarch"
                                },
                                {
                                    "0": "Point of Retreat (Slammed, #2)"
                                },
                                {
                                    "0": "Thoughtless (Thoughtless, #1)"
                                },
                                {
                                    "0": "The Dark Half"
                                },
                                {
                                    "0": "Cleopatra: A Life"
                                },
                                {
                                    "0": "The World Is Flat: A Brief History of the Twenty-first Century"
                                },
                                {
                                    "0": "Steelheart (The Reckoners, #1)"
                                },
                                {
                                    "0": "The Rainbow Fish"
                                },
                                {
                                    "0": "Journey to the Center of the Earth (Extraordinary Voyages, #3)"
                                },
                                {
                                    "0": "The Happiness Project: Or Why I Spent a Year Trying to Sing in the Morning, Clean My Closets, Fight Right, Read Aristotle, and Generally Have More Fun"
                                },
                                {
                                    "0": "The Man in the High Castle"
                                },
                                {
                                    "0": "Helter Skelter: The True Story of the Manson Murders"
                                },
                                {
                                    "0": "Inferno (The Divine Comedy #1)"
                                },
                                {
                                    "0": "Shadow of Night (All Souls Trilogy, #2)"
                                },
                                {
                                    "0": "Leaving Time"
                                },
                                {
                                    "0": "Moon Called (Mercy Thompson, #1)"
                                },
                                {
                                    "0": "Blue Bloods (Blue Bloods, #1)"
                                },
                                {
                                    "0": "The Alienist (Dr. Laszlo Kreizler, #1)"
                                },
                                {
                                    "0": "Between the World and Me"
                                },
                                {
                                    "0": "Paradise Lost"
                                },
                                {
                                    "0": "The Girl Who Loved Tom Gordon"
                                },
                                {
                                    "0": "A Monster Calls"
                                },
                                {
                                    "0": "Rework"
                                },
                                {
                                    "0": "Attachments"
                                },
                                {
                                    "0": "The Twilight Saga (Twilight, #1-4)"
                                },
                                {
                                    "0": "Tell the Wolves I'm Home"
                                },
                                {
                                    "0": "The Unbecoming of Mara Dyer (Mara Dyer, #1)"
                                },
                                {
                                    "0": "The Scarlet Pimpernel"
                                },
                                {
                                    "0": "The Monster at the End of this Book"
                                },
                                {
                                    "0": "Tales of a Fourth Grade Nothing (Fudge, #1)"
                                },
                                {
                                    "0": "Shadow and Bone (Shadow and Bone, #1)"
                                },
                                {
                                    "0": "The Dinner"
                                },
                                {
                                    "0": "Champion (Legend, #3)"
                                },
                                {
                                    "0": "Lola and the Boy Next Door (Anna and the French Kiss, #2)"
                                },
                                {
                                    "0": "White Teeth"
                                },
                                {
                                    "0": "American Sniper: The Autobiography of the Most Lethal Sniper in U.S. Military History"
                                },
                                {
                                    "0": "My Horizontal Life: A Collection of One-Night Stands"
                                },
                                {
                                    "0": "The Interestings"
                                },
                                {
                                    "0": "People of the Book"
                                },
                                {
                                    "0": "The Secret Keeper"
                                },
                                {
                                    "0": "Better Homes and Gardens New Cook Book  "
                                },
                                {
                                    "0": "Steppenwolf"
                                },
                                {
                                    "0": "The Surgeon (Rizzoli & Isles, #1)"
                                },
                                {
                                    "0": "The Girl You Left Behind"
                                },
                                {
                                    "0": "The Tale of Despereaux"
                                },
                                {
                                    "0": "Animal, Vegetable, Miracle: A Year of Food Life"
                                },
                                {
                                    "0": "The Sweetness at the Bottom of the Pie (Flavia de Luce, #1)"
                                },
                                {
                                    "0": "Blue Like Jazz: Nonreligious Thoughts on Christian Spirituality"
                                },
                                {
                                    "0": "Truly Madly Guilty"
                                },
                                {
                                    "0": "Saga, Vol. 1 (Saga, #1)"
                                },
                                {
                                    "0": "The Art of Fielding"
                                },
                                {
                                    "0": "A Moveable Feast"
                                },
                                {
                                    "0": "Fablehaven (Fablehaven, #1)"
                                },
                                {
                                    "0": "The Wide Window (A Series of Unfortunate Events, #3)"
                                },
                                {
                                    "0": "Einstein: His Life and Universe"
                                },
                                {
                                    "0": "Effortless (Thoughtless, #2)"
                                },
                                {
                                    "0": "The Street Lawyer"
                                },
                                {
                                    "0": "Roll of Thunder, Hear My Cry (Logans, #4)"
                                },
                                {
                                    "0": "Pride and Prejudice and Zombies (Pride and Prejudice and Zombies, #1)"
                                },
                                {
                                    "0": "Let's Explore Diabetes with Owls"
                                },
                                {
                                    "0": "Rodrick Rules (Diary of a Wimpy Kid, #2)"
                                },
                                {
                                    "0": "Why Not Me?"
                                },
                                {
                                    "0": "Four: A Divergent Story Collection (Divergent, #0.1 - 0.4)"
                                },
                                {
                                    "0": "Modern Romance"
                                },
                                {
                                    "0": "The One and Only Ivan"
                                },
                                {
                                    "0": "Elantris (Elantris, #1)"
                                },
                                {
                                    "0": "The Knife of Never Letting Go (Chaos Walking, #1)"
                                },
                                {
                                    "0": "One Thousand White Women: The Journals of May Dodd (One Thousand White Women#1)"
                                },
                                {
                                    "0": "Handle with Care"
                                },
                                {
                                    "0": "Song of Susannah (The Dark Tower, #6)"
                                },
                                {
                                    "0": "Reached (Matched, #3)"
                                },
                                {
                                    "0": "Midnight's Children"
                                },
                                {
                                    "0": "The Zombie Survival Guide: Complete Protection from the Living Dead"
                                },
                                {
                                    "0": "The Testament"
                                },
                                {
                                    "0": "Murder at the Vicarage (Miss Marple, #1)"
                                },
                                {
                                    "0": "Among the Hidden (Shadow Children, #1)"
                                },
                                {
                                    "0": "The Witch of Blackbird Pond"
                                },
                                {
                                    "0": "The Heir (The Selection, #4)"
                                },
                                {
                                    "0": "Shopaholic Ties the Knot (Shopaholic, #3)"
                                },
                                {
                                    "0": "The Woman in White"
                                },
                                {
                                    "0": "The Summer I Turned Pretty (Summer, #1)"
                                },
                                {
                                    "0": "The Color of Water: A Black Man's Tribute to His White Mother"
                                },
                                {
                                    "0": "SuperFreakonomics: Global Cooling, Patriotic Prostitutes And Why Suicide Bombers Should Buy Life Insurance"
                                },
                                {
                                    "0": "Darkfever (Fever, #1)"
                                },
                                {
                                    "0": "Stone of Tears (Sword of Truth, #2)"
                                },
                                {
                                    "0": "Heart of the Matter"
                                },
                                {
                                    "0": "Vanity Fair"
                                },
                                {
                                    "0": "Dolores Claiborne"
                                },
                                {
                                    "0": "The Nest"
                                },
                                {
                                    "0": "Fables, Vol. 1: Legends in Exile"
                                },
                                {
                                    "0": "Getting Things Done: The Art of Stress-Free Productivity"
                                },
                                {
                                    "0": "The Celestine Prophecy (Celestine Prophecy, #1)"
                                },
                                {
                                    "0": "My Life Next Door"
                                },
                                {
                                    "0": "Colorless Tsukuru Tazaki and His Years of Pilgrimage"
                                },
                                {
                                    "0": "Lucky"
                                },
                                {
                                    "0": "To the Lighthouse"
                                },
                                {
                                    "0": "Five Point Someone"
                                },
                                {
                                    "0": "Guilty Pleasures (Anita Blake, Vampire Hunter, #1)"
                                },
                                {
                                    "0": "I Am the Messenger"
                                },
                                {
                                    "0": "Far from the Madding Crowd"
                                },
                                {
                                    "0": "House of Leaves"
                                },
                                {
                                    "0": "Awakened (House of Night, #8)"
                                },
                                {
                                    "0": "My Ántonia"
                                },
                                {
                                    "0": "Life As We Knew It (Last Survivors, #1)"
                                },
                                {
                                    "0": "America (The Book): A Citizen's Guide to Democracy Inaction"
                                },
                                {
                                    "0": "90 Minutes in Heaven: A True Story of Death and Life"
                                },
                                {
                                    "0": "The Longest Ride"
                                },
                                {
                                    "0": "Change of Heart"
                                },
                                {
                                    "0": "Sam's Letters to Jennifer"
                                },
                                {
                                    "0": "Grey (Fifty Shades, #4)"
                                },
                                {
                                    "0": "Dune Messiah (Dune Chronicles #2)"
                                },
                                {
                                    "0": "The Great Divorce"
                                },
                                {
                                    "0": "Little Earthquakes"
                                },
                                {
                                    "0": "New Moon: The Complete Illustrated Movie Companion (The Twilight Saga: The Official Illustrated Movie Companion, #2)"
                                },
                                {
                                    "0": "Maybe Someday (Maybe, #1)"
                                },
                                {
                                    "0": "Mr. Maybe"
                                },
                                {
                                    "0": "Anne of the Island (Anne of Green Gables, #3)"
                                },
                                {
                                    "0": "Thus Spoke Zarathustra"
                                },
                                {
                                    "0": "North and South"
                                },
                                {
                                    "0": "A Stolen Life"
                                },
                                {
                                    "0": "The Immortals of Meluha (Shiva Trilogy, #1)"
                                },
                                {
                                    "0": "The Lost World (Jurassic Park, #2)"
                                },
                                {
                                    "0": "Requiem (Delirium, #3)"
                                },
                                {
                                    "0": "A Crown of Swords (Wheel of Time, #7)"
                                },
                                {
                                    "0": "Blood Meridian, or the Evening Redness in the West"
                                },
                                {
                                    "0": "Finale (Hush, Hush, #4)"
                                },
                                {
                                    "0": "Lullaby"
                                },
                                {
                                    "0": "2 States: The Story of My Marriage"
                                },
                                {
                                    "0": "Vampire Knight, Vol. 1 (Vampire Knight, #1)"
                                },
                                {
                                    "0": "Dragonflight (Dragonriders of Pern, #1)"
                                },
                                {
                                    "0": "The History of the Hobbit, Part One: Mr. Baggins"
                                },
                                {
                                    "0": "Ugly Love"
                                },
                                {
                                    "0": "The Amityville Horror"
                                },
                                {
                                    "0": "The English Patient"
                                },
                                {
                                    "0": "Gabriel's Rapture (Gabriel's Inferno, #2)"
                                },
                                {
                                    "0": "Dubliners"
                                },
                                {
                                    "0": "Let the Great World Spin"
                                },
                                {
                                    "0": "The Eternity Code (Artemis Fowl, #3)"
                                },
                                {
                                    "0": "The Tommyknockers"
                                },
                                {
                                    "0": "Hex Hall (Hex Hall, #1)"
                                },
                                {
                                    "0": "Steal Like an Artist: 10 Things Nobody Told You About Being Creative"
                                },
                                {
                                    "0": "Cryptonomicon"
                                },
                                {
                                    "0": "Beautiful Bastard (Beautiful Bastard, #1)"
                                },
                                {
                                    "0": "Prodigal Summer"
                                },
                                {
                                    "0": "We Were the Mulvaneys"
                                },
                                {
                                    "0": "Understanding Comics: The Invisible Art"
                                },
                                {
                                    "0": "Beautiful Darkness (Caster Chronicles, #2)"
                                },
                                {
                                    "0": "The Psychopath Test: A Journey Through the Madness Industry"
                                },
                                {
                                    "0": "Vanishing Acts"
                                },
                                {
                                    "0": "The Time Keeper"
                                },
                                {
                                    "0": "A Dirty Job (Grim Reaper, #1)"
                                },
                                {
                                    "0": "The Amulet of Samarkand (Bartimaeus, #1)"
                                },
                                {
                                    "0": "I Am America (And So Can You!)"
                                },
                                {
                                    "0": "The One Minute Manager"
                                },
                                {
                                    "0": "Stones from the River"
                                },
                                {
                                    "0": "The Big Sleep (Philip Marlowe, #1)"
                                },
                                {
                                    "0": "Seriously... I'm Kidding"
                                },
                                {
                                    "0": "The Miserable Mill (A Series of Unfortunate Events, #4)"
                                },
                                {
                                    "0": "The Snow Child"
                                },
                                {
                                    "0": "Wait for You (Wait for You, #1)"
                                },
                                {
                                    "0": "The Last Straw (Diary of a Wimpy Kid, #3)"
                                },
                                {
                                    "0": "The Divine Comedy"
                                },
                                {
                                    "0": "The Tao of Pooh"
                                },
                                {
                                    "0": "Onyx (Lux, #2)"
                                },
                                {
                                    "0": "Unravel Me (Shatter Me, #2)"
                                },
                                {
                                    "0": "The Birth of Venus"
                                },
                                {
                                    "0": "The Opal Deception  (Artemis Fowl, #4)"
                                },
                                {
                                    "0": "The Girl in the Spider's Web (Millennium, #4)"
                                },
                                {
                                    "0": "The Girls"
                                },
                                {
                                    "0": "The Goose Girl (The Books of Bayern, #1)"
                                },
                                {
                                    "0": "Warm Bodies (Warm Bodies, #1)"
                                },
                                {
                                    "0": "The Prince and the Pauper"
                                },
                                {
                                    "0": "The Forty Rules of Love"
                                },
                                {
                                    "0": "Joyland"
                                },
                                {
                                    "0": "Attack on Titan, Vol. 1 (Attack on Titan, #1)"
                                },
                                {
                                    "0": "Tender Is the Night"
                                },
                                {
                                    "0": "Cold Sassy Tree"
                                },
                                {
                                    "0": "The Glass Menagerie"
                                },
                                {
                                    "0": "My Brilliant Friend (The Neapolitan Novels #1)"
                                },
                                {
                                    "0": "The 4-Hour Workweek"
                                },
                                {
                                    "0": "The Monk Who Sold His Ferrari: A Fable About Fulfilling Your Dreams  Reaching Your Destiny"
                                },
                                {
                                    "0": "Rules of Civility"
                                },
                                {
                                    "0": "Ringworld (Ringworld, #1)"
                                },
                                {
                                    "0": "Frindle"
                                },
                                {
                                    "0": "Dog Days (Diary of a Wimpy Kid, #4)"
                                },
                                {
                                    "0": "The Round House"
                                },
                                {
                                    "0": "A Wind in the Door (A Wrinkle in Time Quintet, #2)"
                                },
                                {
                                    "0": "Free Four: Tobias Tells the Divergent Knife-Throwing Scene (Divergent, #1.5)"
                                },
                                {
                                    "0": "A Little Life"
                                },
                                {
                                    "0": "Y: The Last Man, Vol. 1: Unmanned"
                                },
                                {
                                    "0": "Dead Reckoning (Sookie Stackhouse, #11)"
                                },
                                {
                                    "0": "The Accidental Tourist"
                                },
                                {
                                    "0": "Aristotle and Dante Discover the Secrets of the Universe (Aristotle and Dante Discover the Secrets of the Universe, #1)"
                                },
                                {
                                    "0": "The Invisible Man"
                                },
                                {
                                    "0": "By the River Piedra I Sat Down and Wept"
                                },
                                {
                                    "0": "The Swiss Family Robinson  "
                                },
                                {
                                    "0": "The Marriage Bargain (Marriage to a Billionaire, #1)"
                                },
                                {
                                    "0": "The Little Engine That Could"
                                },
                                {
                                    "0": "We Are All Completely Beside Ourselves"
                                },
                                {
                                    "0": "Children of the Mind (Ender's Saga, #4)"
                                },
                                {
                                    "0": "Ulysses"
                                },
                                {
                                    "0": "Someone Like You"
                                },
                                {
                                    "0": "The Witching Hour (Lives of the Mayfair Witches, #1)"
                                },
                                {
                                    "0": "This Present Darkness (Darkness, #1)"
                                },
                                {
                                    "0": "The Coincidence of Callie & Kayden (The Coincidence, #1)"
                                },
                                {
                                    "0": "Fates and Furies"
                                },
                                {
                                    "0": "Summer Sisters"
                                },
                                {
                                    "0": "Stuart Little"
                                },
                                {
                                    "0": "The Elegant Universe: Superstrings, Hidden Dimensions, and the Quest for the Ultimate Theory"
                                },
                                {
                                    "0": "The Austere Academy (A Series of Unfortunate Events, #5)"
                                },
                                {
                                    "0": "The Awakening (Darkest Powers, #2)"
                                },
                                {
                                    "0": "Stellaluna"
                                },
                                {
                                    "0": "Loving Frank"
                                },
                                {
                                    "0": "The Vile Village (A Series of Unfortunate Events, #7)"
                                },
                                {
                                    "0": "Sybil: The Classic True Story of a Woman Possessed by Sixteen Personalities"
                                },
                                {
                                    "0": "Cosmos"
                                },
                                {
                                    "0": "Haunted"
                                },
                                {
                                    "0": "The Shell Seekers"
                                },
                                {
                                    "0": "A Scandal in Bohemia (The Adventures of Sherlock Holmes, #1)"
                                },
                                {
                                    "0": "Killing Lincoln: The Shocking Assassination that Changed America Forever"
                                },
                                {
                                    "0": "The Lowland"
                                },
                                {
                                    "0": "The Ruins of Gorlan (Ranger's Apprentice, #1)"
                                },
                                {
                                    "0": "Wintergirls"
                                },
                                {
                                    "0": "The Brethren"
                                },
                                {
                                    "0": "Rosemary's Baby"
                                },
                                {
                                    "0": "The Talisman (The Talisman, #1)"
                                },
                                {
                                    "0": "The Path of Daggers (Wheel of Time, #8)"
                                },
                                {
                                    "0": "The Dharma Bums"
                                },
                                {
                                    "0": "The Reckoning (Darkest Powers, #3)"
                                },
                                {
                                    "0": "Behind the Beautiful Forevers: Life, Death, and Hope in a Mumbai Undercity"
                                },
                                {
                                    "0": "Mary Poppins (Mary Poppins, #1)"
                                },
                                {
                                    "0": "The House on Mango Street"
                                },
                                {
                                    "0": "Halfway to the Grave (Night Huntress, #1)"
                                },
                                {
                                    "0": "The Twits"
                                },
                                {
                                    "0": "Abhorsen (Abhorsen, #3)"
                                },
                                {
                                    "0": "The Beach House"
                                },
                                {
                                    "0": "The Eyes of the Dragon"
                                },
                                {
                                    "0": "Maus II: A Survivor's Tale: And Here My Troubles Began (Maus, #2)"
                                },
                                {
                                    "0": "The Snowy Day"
                                },
                                {
                                    "0": "The Signature of All Things"
                                },
                                {
                                    "0": "Eats, Shoots & Leaves: The Zero Tolerance Approach to Punctuation"
                                },
                                {
                                    "0": "Dead Witch Walking (The Hollows, #1)"
                                },
                                {
                                    "0": "Unearthly (Unearthly, #1)"
                                },
                                {
                                    "0": "The Case for Christ"
                                },
                                {
                                    "0": "Knife of Dreams (Wheel of Time, #11)"
                                },
                                {
                                    "0": "Hoot"
                                },
                                {
                                    "0": "The Aeneid"
                                },
                                {
                                    "0": "This Is How You Lose Her"
                                },
                                {
                                    "0": "Ishmael:A Novel"
                                },
                                {
                                    "0": "It's Not Summer Without You (Summer, #2)"
                                },
                                {
                                    "0": "Pushing the Limits (Pushing the Limits, #1)"
                                },
                                {
                                    "0": "Quidditch Through the Ages"
                                },
                                {
                                    "0": "The Mysterious Benedict Society (The Mysterious Benedict Society, #1)"
                                },
                                {
                                    "0": "god is Not Great: How Religion Poisons Everything"
                                },
                                {
                                    "0": "Never Too Far (Rosemary Beach, #2; Too Far, #2)"
                                },
                                {
                                    "0": "State of Fear"
                                },
                                {
                                    "0": "The Statistical Probability of Love at First Sight"
                                },
                                {
                                    "0": "The Golem's Eye (Bartimaeus, #2)"
                                },
                                {
                                    "0": "Across the Universe (Across the Universe, #1)"
                                },
                                {
                                    "0": "The Road Less Traveled: A New Psychology of Love, Traditional Values, and Spiritual Growth"
                                },
                                {
                                    "0": "The Boxcar Children (The Boxcar Children, #1)"
                                },
                                {
                                    "0": "The Silent Wife"
                                },
                                {
                                    "0": "How to Be a Woman"
                                },
                                {
                                    "0": "Life"
                                },
                                {
                                    "0": "The Pilot's Wife"
                                },
                                {
                                    "0": "White Noise"
                                },
                                {
                                    "0": "The Origin of Species"
                                },
                                {
                                    "0": "Blankets"
                                },
                                {
                                    "0": "The Story of Edgar Sawtelle"
                                },
                                {
                                    "0": "Drowning Ruth"
                                },
                                {
                                    "0": "All the Pretty Horses (The Border Trilogy, #1)"
                                },
                                {
                                    "0": "One Piece, Volume 01: Romance Dawn (One Piece, #1)"
                                },
                                {
                                    "0": "The Last Unicorn (The Last Unicorn, #1)"
                                },
                                {
                                    "0": "Magyk (Septimus Heap, #1)"
                                },
                                {
                                    "0": "Fever 1793"
                                },
                                {
                                    "0": "Dead Wake: The Last Crossing of the Lusitania"
                                },
                                {
                                    "0": "The Jungle Book"
                                },
                                {
                                    "0": "I Am Pilgrim (Pilgrim, #1)"
                                },
                                {
                                    "0": "Howl and Other Poems"
                                },
                                {
                                    "0": "Go the Fuck to Sleep"
                                },
                                {
                                    "0": "Benjamin Franklin: An American Life"
                                },
                                {
                                    "0": "The Tiger's Wife"
                                },
                                {
                                    "0": "Poison Study (Study, #1)"
                                },
                                {
                                    "0": "The Book of Mormon: Another Testament of Jesus Christ"
                                },
                                {
                                    "0": "What the Dog Saw and Other Adventures"
                                },
                                {
                                    "0": "Pretty Girls"
                                },
                                {
                                    "0": "Revival"
                                },
                                {
                                    "0": "Horton Hears a Who!"
                                },
                                {
                                    "0": "The Blind Side: Evolution of a Game"
                                },
                                {
                                    "0": "School's Out—Forever (Maximum Ride, #2)"
                                },
                                {
                                    "0": "Black Butler, Vol. 1 (Black Butler, #1)"
                                },
                                {
                                    "0": "The Hunger Games Tribute Guide"
                                },
                                {
                                    "0": "The Warded Man (Demon Cycle, #1)"
                                },
                                {
                                    "0": "The Pilgrim's Progress"
                                },
                                {
                                    "0": "Duma Key"
                                },
                                {
                                    "0": "Winter's Heart (Wheel of Time, #9)"
                                },
                                {
                                    "0": "The Heart is a Lonely Hunter"
                                },
                                {
                                    "0": "The Infinite Sea (The 5th Wave, #2)"
                                },
                                {
                                    "0": "The Once and Future King (The Once and Future King #1-4)"
                                },
                                {
                                    "0": "Bud, Not Buddy"
                                },
                                {
                                    "0": "Fun Home: A Family Tragicomic"
                                },
                                {
                                    "0": "الفيل الأزرق"
                                },
                                {
                                    "0": "The Indian in the Cupboard (The Indian in the Cupboard, #1)"
                                },
                                {
                                    "0": "Me and Earl and the Dying Girl"
                                },
                                {
                                    "0": "The Ugly Truth (Diary of a Wimpy Kid, #5)"
                                },
                                {
                                    "0": "The Professor and the Madman: A Tale of Murder, Insanity and the Making of the Oxford English Dictionary"
                                },
                                {
                                    "0": "The Eyre Affair (Thursday Next, #1)"
                                },
                                {
                                    "0": "Sideways Stories from Wayside School (Wayside School #1)"
                                },
                                {
                                    "0": "The Bone Clocks"
                                },
                                {
                                    "0": "Origins (The Vampire Diaries: Stefan's Diaries, #1)"
                                },
                                {
                                    "0": "Diary"
                                },
                                {
                                    "0": "Inkspell (Inkworld, #2)"
                                },
                                {
                                    "0": "Sex, Drugs, and Cocoa Puffs: A Low Culture Manifesto"
                                },
                                {
                                    "0": "Brideshead Revisited: The Sacred and Profane Memories of Captain Charles Ryder"
                                },
                                {
                                    "0": "The Miniaturist"
                                },
                                {
                                    "0": "Dragons of Autumn Twilight  (Dragonlance: Chronicles, #1)"
                                },
                                {
                                    "0": "The Lost Colony (Artemis Fowl, #5)"
                                },
                                {
                                    "0": "Extras (Uglies, #4)"
                                },
                                {
                                    "0": "The Artist's Way: A Spiritual Path to Higher Creativity"
                                },
                                {
                                    "0": "The Stinky Cheese Man and Other Fairly Stupid Tales"
                                },
                                {
                                    "0": "Horns"
                                },
                                {
                                    "0": "Catherine the Great: Portrait of a Woman"
                                },
                                {
                                    "0": "The King of Torts"
                                },
                                {
                                    "0": "The 3 Mistakes of My Life"
                                },
                                {
                                    "0": "Native Son"
                                },
                                {
                                    "0": "Under the Never Sky (Under the Never Sky, #1)"
                                },
                                {
                                    "0": "True Believer (Jeremy Marsh & Lexie Darnell, #1)"
                                },
                                {
                                    "0": "The Lean Startup: How Today's Entrepreneurs Use Continuous Innovation to Create Radically Successful Businesses"
                                },
                                {
                                    "0": "Chasing Harry Winston"
                                },
                                {
                                    "0": "The Rise and Fall of the Third Reich: A History of Nazi Germany"
                                },
                                {
                                    "0": "A Long Way Down"
                                },
                                {
                                    "0": "Out from Boneville (Bone, #1)"
                                },
                                {
                                    "0": "Rose Madder"
                                },
                                {
                                    "0": "Beautiful Chaos (Caster Chronicles, #3)"
                                },
                                {
                                    "0": "Keeping Faith"
                                },
                                {
                                    "0": "Heart-Shaped Box"
                                },
                                {
                                    "0": "Cabin Fever (Diary of a Wimpy Kid, #6)"
                                },
                                {
                                    "0": "Everyone Worth Knowing"
                                },
                                {
                                    "0": "Redwall (Redwall, #1)"
                                },
                                {
                                    "0": "The Communist Manifesto"
                                },
                                {
                                    "0": "The Woman in Cabin 10"
                                },
                                {
                                    "0": "The Last of the Mohicans (The Leatherstocking Tales #2)"
                                },
                                {
                                    "0": "Sophie's Choice"
                                },
                                {
                                    "0": "Shopaholic and Sister (Shopaholic, #4)"
                                },
                                {
                                    "0": "The Iron Daughter"
                                },
                                {
                                    "0": "The Prayer of Jabez:  Breaking Through to the Blessed Life"
                                },
                                {
                                    "0": "The Age of Miracles"
                                },
                                {
                                    "0": "The Rosie Effect (Don Tillman, #2)"
                                },
                                {
                                    "0": "Flipped"
                                },
                                {
                                    "0": "Emotional Intelligence 2.0"
                                },
                                {
                                    "0": "Make Way for Ducklings"
                                },
                                {
                                    "0": "Notes from a Small Island"
                                },
                                {
                                    "0": "Princess Academy (Princess Academy, #1)"
                                },
                                {
                                    "0": "Everything, Everything"
                                },
                                {
                                    "0": "Flight Behavior"
                                },
                                {
                                    "0": "Grip of the Shadow Plague (Fablehaven, #3)"
                                },
                                {
                                    "0": "Bridget Jones: The Edge of Reason (Bridget Jones, #2)"
                                },
                                {
                                    "0": "Corelli's Mandolin"
                                },
                                {
                                    "0": "At First Sight (Jeremy Marsh & Lexie Darnell, #2)"
                                },
                                {
                                    "0": "The Orphan Master's Son"
                                },
                                {
                                    "0": "The Chosen"
                                },
                                {
                                    "0": "The Agony and the Ecstasy"
                                },
                                {
                                    "0": "The Angel's Game (The Cemetery of Forgotten Books, #2)"
                                },
                                {
                                    "0": "Love, Rosie"
                                },
                                {
                                    "0": "Amelia Bedelia  (Amelia Bedelia #1)"
                                },
                                {
                                    "0": "This Man (This Man, #1)"
                                },
                                {
                                    "0": "An Ember in the Ashes (An Ember in the Ashes, #1)"
                                },
                                {
                                    "0": "Lover Enshrined (Black Dagger Brotherhood, #6)"
                                },
                                {
                                    "0": "The Golem and the Jinni (The Golem and the Jinni, #1)"
                                },
                                {
                                    "0": "الأسود يليق بك"
                                },
                                {
                                    "0": "Bleak House"
                                },
                                {
                                    "0": "Caps for Sale: A Tale of a Peddler, Some Monkeys and Their Monkey Business"
                                },
                                {
                                    "0": "Furies of Calderon (Codex Alera, #1)"
                                },
                                {
                                    "0": "Alanna: The First Adventure (Song of the Lioness, #1)"
                                },
                                {
                                    "0": "Her Fearful Symmetry"
                                },
                                {
                                    "0": "The Black Dahlia (L.A. Quartet, #1)"
                                },
                                {
                                    "0": "Through the Looking-Glass, and What Alice Found There"
                                },
                                {
                                    "0": "Go, Dog. Go!"
                                },
                                {
                                    "0": "The Strain (The Strain Trilogy, #1)"
                                },
                                {
                                    "0": "The Complete Poems of Emily Dickinson"
                                },
                                {
                                    "0": "Old Yeller (Old Yeller, #1)"
                                },
                                {
                                    "0": "Born Standing Up: A Comic's Life"
                                },
                                {
                                    "0": "PostSecret: Extraordinary Confessions from Ordinary Lives (PostSecret)"
                                },
                                {
                                    "0": "Hearts in Atlantis"
                                },
                                {
                                    "0": "Small Great Things"
                                },
                                {
                                    "0": "Days of Blood & Starlight (Daughter of Smoke & Bone, #2)"
                                },
                                {
                                    "0": "The Darkest Minds (The Darkest Minds, #1)"
                                },
                                {
                                    "0": "The Zahir"
                                },
                                {
                                    "0": "The Power of Positive Thinking"
                                },
                                {
                                    "0": "In a Dark, Dark Wood"
                                },
                                {
                                    "0": "The House of Mirth"
                                },
                                {
                                    "0": "Fairy Tail, Vol. 1 (Fairy Tail, #1)"
                                },
                                {
                                    "0": "The Slow Regard of Silent Things (The Kingkiller Chronicle #2.5)"
                                },
                                {
                                    "0": "Twelve Years a Slave"
                                },
                                {
                                    "0": "Infidel"
                                },
                                {
                                    "0": "The Black Swan: The Impact of the Highly Improbable"
                                },
                                {
                                    "0": "One Day in the Life of Ivan Denisovich"
                                },
                                {
                                    "0": "A Canticle for Leibowitz"
                                },
                                {
                                    "0": "Antigone (The Theban Plays, #3)"
                                },
                                {
                                    "0": "Brooklyn"
                                },
                                {
                                    "0": "Wither (The Chemical Garden, #1)"
                                },
                                {
                                    "0": "Hillbilly Elegy: A Memoir of a Family and Culture in Crisis"
                                },
                                {
                                    "0": "Crossroads of Twilight (Wheel of Time, #10)"
                                },
                                {
                                    "0": "The Red Badge of Courage"
                                },
                                {
                                    "0": "What If?: Serious Scientific Answers to Absurd Hypothetical Questions"
                                },
                                {
                                    "0": "Gardens of the Moon (The Malazan Book of the Fallen, #1)"
                                },
                                {
                                    "0": "The Witch Of Portobello"
                                },
                                {
                                    "0": "Gregor the Overlander (Underland Chronicles, #1)"
                                },
                                {
                                    "0": "Sing You Home"
                                },
                                {
                                    "0": "The Tale of the Body Thief (The Vampire Chronicles, #4)"
                                },
                                {
                                    "0": "Saving the World and Other Extreme Sports (Maximum Ride, #3)"
                                },
                                {
                                    "0": "Blood of the Fold (Sword of Truth, #3)"
                                },
                                {
                                    "0": "A Spool of Blue Thread"
                                },
                                {
                                    "0": "The Underground Railroad"
                                },
                                {
                                    "0": "Masquerade (Blue Bloods, #2)"
                                },
                                {
                                    "0": "The Iron Queen (The Iron Fey, #3)"
                                },
                                {
                                    "0": "Losing It (Losing It, #1)"
                                },
                                {
                                    "0": "Disgrace"
                                },
                                {
                                    "0": "The Mermaid Chair"
                                },
                                {
                                    "0": "Frog and Toad Are Friends (Frog and Toad, #1)"
                                },
                                {
                                    "0": "Heist Society (Heist Society, #1)"
                                },
                                {
                                    "0": "Behind Closed Doors"
                                },
                                {
                                    "0": "Opal (Lux, #3)"
                                },
                                {
                                    "0": "Rapture (Fallen, #4)"
                                },
                                {
                                    "0": "Switched (Trylle, #1)"
                                },
                                {
                                    "0": "Doctor Zhivago"
                                },
                                {
                                    "0": "Confess"
                                },
                                {
                                    "0": "Pines (Wayward Pines, #1)"
                                },
                                {
                                    "0": "Death Comes to Pemberley"
                                },
                                {
                                    "0": "Ethan Frome"
                                },
                                {
                                    "0": "A Map of the World"
                                },
                                {
                                    "0": "It Ends with Us"
                                },
                                {
                                    "0": "Naked Lunch"
                                },
                                {
                                    "0": "Dream Country (The Sandman #3)"
                                },
                                {
                                    "0": "A Painted House"
                                },
                                {
                                    "0": "The Left Hand of Darkness"
                                },
                                {
                                    "0": "Let It Snow: Three Holiday Romances"
                                },
                                {
                                    "0": "Chelsea Chelsea Bang Bang"
                                },
                                {
                                    "0": "A Doll's House"
                                },
                                {
                                    "0": "Revolutionary Road"
                                },
                                {
                                    "0": "Nick & Norah's Infinite Playlist"
                                },
                                {
                                    "0": "Rosencrantz and Guildenstern Are Dead"
                                },
                                {
                                    "0": "Forever (The Wolves of Mercy Falls, #3)"
                                },
                                {
                                    "0": "Deadlocked (Sookie Stackhouse, #12)"
                                },
                                {
                                    "0": "Beezus and Ramona (Ramona, #1)"
                                },
                                {
                                    "0": "Airframe"
                                },
                                {
                                    "0": "Bet Me"
                                },
                                {
                                    "0": "Gray Mountain"
                                },
                                {
                                    "0": "The Maltese Falcon"
                                },
                                {
                                    "0": "Ivanhoe"
                                },
                                {
                                    "0": "Paranormalcy (Paranormalcy, #1)"
                                },
                                {
                                    "0": "Rise of the Evening Star (Fablehaven, #2)"
                                },
                                {
                                    "0": "We'll Always Have Summer (Summer, #3)"
                                },
                                {
                                    "0": "Stormbreaker (Alex Rider, #1)"
                                },
                                {
                                    "0": "The Twilight Saga Complete Collection  (Twilight, #1-4 + 3.5)"
                                },
                                {
                                    "0": "Drive: The Surprising Truth About What Motivates Us"
                                },
                                {
                                    "0": "A Connecticut Yankee in King Arthur's Court"
                                },
                                {
                                    "0": "Nausea"
                                },
                                {
                                    "0": "Wild at Heart: Discovering the Secret of a Man's Soul"
                                },
                                {
                                    "0": "Memnoch the Devil (The Vampire Chronicles, #5)"
                                },
                                {
                                    "0": "Click, Clack, Moo: Cows That Type"
                                },
                                {
                                    "0": "Anna Dressed in Blood (Anna, #1)"
                                },
                                {
                                    "0": "Temple of the Winds (Sword of Truth, #4)"
                                },
                                {
                                    "0": "The True Confessions of Charlotte Doyle"
                                },
                                {
                                    "0": "A Reliable Wife"
                                },
                                {
                                    "0": "Something Wicked This Way Comes (Green Town, #2)"
                                },
                                {
                                    "0": "Song of Solomon"
                                },
                                {
                                    "0": "Peace Like a River"
                                },
                                {
                                    "0": "Rant"
                                },
                                {
                                    "0": "The Poky Little Puppy (A Little Golden Book)"
                                },
                                {
                                    "0": "The Call of the Wild/White Fang"
                                },
                                {
                                    "0": "Ignite Me (Shatter Me, #3)"
                                },
                                {
                                    "0": "Cross My Heart and Hope to Spy (Gallagher Girls, #2)"
                                },
                                {
                                    "0": "The Friday Night Knitting Club (Friday Night Knitting Club, #1)"
                                },
                                {
                                    "0": "All Things Bright and Beautiful (All Creatures Great and Small)"
                                },
                                {
                                    "0": "Infinite Jest"
                                },
                                {
                                    "0": "Tangled (Tangled, #1)"
                                },
                                {
                                    "0": "The Sisters Brothers"
                                },
                                {
                                    "0": "Brida"
                                },
                                {
                                    "0": "A Room of One's Own"
                                },
                                {
                                    "0": "What Happened to Goodbye"
                                },
                                {
                                    "0": "Six of Crows (Six of Crows, #1)"
                                },
                                {
                                    "0": "13 Little Blue Envelopes (Little Blue Envelope, #1)"
                                },
                                {
                                    "0": "Carry On"
                                },
                                {
                                    "0": "Beneath This Man (This Man, #2)"
                                },
                                {
                                    "0": "Prince of Thorns (The Broken Empire, #1)"
                                },
                                {
                                    "0": "The Book of Ruth"
                                },
                                {
                                    "0": "Next"
                                },
                                {
                                    "0": "The House of the Scorpion (Matteo Alacran, #1)"
                                },
                                {
                                    "0": "Leaves of Grass"
                                },
                                {
                                    "0": "Lady Chatterley's Lover"
                                },
                                {
                                    "0": "My Name Is Lucy Barton"
                                },
                                {
                                    "0": "Narrative of the Life of Frederick Douglass"
                                },
                                {
                                    "0": "He's Just Not That Into You: The No-Excuses Truth to Understanding Guys"
                                },
                                {
                                    "0": "Glass Houses (The Morganville Vampires, #1)"
                                },
                                {
                                    "0": "Captivating: Unveiling the Mystery of a Woman's Soul"
                                },
                                {
                                    "0": "The Dark Tower: The Gunslinger Born"
                                },
                                {
                                    "0": "A Tale for the Time Being"
                                },
                                {
                                    "0": "I Hope They Serve Beer in Hell (Tucker Max, #1)"
                                },
                                {
                                    "0": "Rule (Marked Men, #1)"
                                },
                                {
                                    "0": "Harriet the Spy (Harriet the Spy #1)"
                                },
                                {
                                    "0": "The Paying Guests"
                                },
                                {
                                    "0": "Sushi for Beginners"
                                },
                                {
                                    "0": "Still Life (Chief Inspector Armand Gamache, #1)"
                                },
                                {
                                    "0": "Watermelon (Walsh Family, #1)"
                                },
                                {
                                    "0": "Let the Right One In"
                                },
                                {
                                    "0": "Amy & Roger's Epic Detour"
                                },
                                {
                                    "0": "Nightshade (Nightshade #1; Nightshade World #4)"
                                },
                                {
                                    "0": "Alice's Adventures in Wonderland"
                                },
                                {
                                    "0": "Dragon Rider (Dragon Rider, #1)"
                                },
                                {
                                    "0": "Uprooted"
                                },
                                {
                                    "0": "Seveneves"
                                },
                                {
                                    "0": "Armada"
                                },
                                {
                                    "0": "The Man in the Brown Suit"
                                },
                                {
                                    "0": "Size 12 Is Not Fat (Heather Wells, #1)"
                                },
                                {
                                    "0": "Glass Sword (Red Queen, #2)"
                                },
                                {
                                    "0": "When You Reach Me"
                                },
                                {
                                    "0": "The Bonfire of the Vanities"
                                },
                                {
                                    "0": "In the Unlikely Event"
                                },
                                {
                                    "0": "Shiloh (Shiloh, #1)"
                                },
                                {
                                    "0": "The Redbreast (Harry Hole, #3)"
                                },
                                {
                                    "0": "Leviathan (Leviathan, #1)"
                                },
                                {
                                    "0": "Goodnight Nobody"
                                },
                                {
                                    "0": "How to Stop Worrying and Start Living"
                                },
                                {
                                    "0": "Reason to Breathe (Breathing, #1)"
                                },
                                {
                                    "0": "M.C. Escher: The Graphic Work"
                                },
                                {
                                    "0": "Birdsong"
                                },
                                {
                                    "0": "Faith of the Fallen (Sword of Truth, #6)"
                                },
                                {
                                    "0": "Moonwalking with Einstein: The Art and Science of Remembering Everything"
                                },
                                {
                                    "0": "Clifford the Big Red Dog"
                                },
                                {
                                    "0": "Bitterblue (Graceling Realm, #3)"
                                },
                                {
                                    "0": "The Sky Is Everywhere"
                                },
                                {
                                    "0": "Real (Real, #1)"
                                },
                                {
                                    "0": "NOS4A2"
                                },
                                {
                                    "0": "The Tenant of Wildfell Hall"
                                },
                                {
                                    "0": "Strega Nona"
                                },
                                {
                                    "0": "Playing for Keeps (Neighbor from Hell, #1)"
                                },
                                {
                                    "0": "Art and Fear: Observations on the Perils (and Rewards) of Artmaking"
                                },
                                {
                                    "0": "Frida: A Biography of Frida Kahlo"
                                },
                                {
                                    "0": "Bitten (Women of the Otherworld, #1)"
                                },
                                {
                                    "0": "Born at Midnight (Shadow Falls, #1)"
                                },
                                {
                                    "0": "Don't Let the Pigeon Drive the Bus!"
                                },
                                {
                                    "0": "The Portrait of a Lady"
                                },
                                {
                                    "0": "The Yellow Wallpaper and Other Stories"
                                },
                                {
                                    "0": "هيبتا"
                                },
                                {
                                    "0": "Dreamland"
                                },
                                {
                                    "0": "The Art Forger"
                                },
                                {
                                    "0": "Austenland (Austenland, #1)"
                                },
                                {
                                    "0": "One Night at the Call Center"
                                },
                                {
                                    "0": "At the Water's Edge"
                                },
                                {
                                    "0": "Gilead (Gilead, #1)"
                                },
                                {
                                    "0": "The Crying of Lot 49"
                                },
                                {
                                    "0": "Demonglass (Hex Hall, #2)"
                                },
                                {
                                    "0": "The Sword of Shannara (The Original Shannara Trilogy, #1)"
                                },
                                {
                                    "0": "Hannibal (Hannibal Lecter, #3)"
                                },
                                {
                                    "0": "The Awakening / The Struggle (The Vampire Diaries, #1-2)"
                                },
                                {
                                    "0": "Night World, No. 3 (Night World, #7-9)"
                                },
                                {
                                    "0": "Fall on Your Knees"
                                },
                                {
                                    "0": "The Scorpio Races"
                                },
                                {
                                    "0": "Furiously Happy: A Funny Book About Horrible Things"
                                },
                                {
                                    "0": "Visions of Sugar Plums (Stephanie Plum, #8.5)"
                                },
                                {
                                    "0": "Anne Frank Remembered: The Story of the Woman Who Helped to Hide the Frank Family"
                                },
                                {
                                    "0": "Redshirts"
                                },
                                {
                                    "0": "Hunger (Gone, #2)"
                                },
                                {
                                    "0": "Revolution 2020: Love, Corruption, Ambition"
                                },
                                {
                                    "0": "Blue Moon (The Immortals, #2)"
                                },
                                {
                                    "0": "The Devil and Miss Prym (On the Seventh Day, #3)"
                                },
                                {
                                    "0": "Fantasy Lover (Dark-Hunterverse #1)"
                                },
                                {
                                    "0": "Sundays at Tiffany's"
                                },
                                {
                                    "0": "Prep"
                                },
                                {
                                    "0": "Captivated by You (Crossfire, #4)"
                                },
                                {
                                    "0": "Soulless (Parasol Protectorate, #1)"
                                },
                                {
                                    "0": "Just One Day (Just One Day, #1)"
                                },
                                {
                                    "0": "Wake (Wake, #1)"
                                },
                                {
                                    "0": "Memories of My Melancholy Whores"
                                },
                                {
                                    "0": "Ruby Red (Precious Stone Trilogy, #1)"
                                },
                                {
                                    "0": "Shadowland (The Immortals, #3)"
                                },
                                {
                                    "0": "Lioness Rampant (Song of the Lioness, #4)"
                                },
                                {
                                    "0": "You Can Heal Your Life"
                                },
                                {
                                    "0": "The Vacationers"
                                },
                                {
                                    "0": "The Hangman's Daughter (The Hangman's Daughter, #1)"
                                },
                                {
                                    "0": "Dealing with Dragons (Enchanted Forest Chronicles, #1)"
                                },
                                {
                                    "0": "The Yiddish Policemen's Union"
                                },
                                {
                                    "0": "The Turn of the Screw"
                                },
                                {
                                    "0": "Best Friends Forever"
                                },
                                {
                                    "0": "Preacher, Volume 1: Gone to Texas"
                                },
                                {
                                    "0": "Case Histories (Jackson Brodie #1)"
                                },
                                {
                                    "0": "Wedding Night"
                                },
                                {
                                    "0": "Pollyanna (Pollyanna, #1)"
                                },
                                {
                                    "0": "Lone Wolf"
                                },
                                {
                                    "0": "Shadowfever (Fever, #5)"
                                },
                                {
                                    "0": "The Associate"
                                },
                                {
                                    "0": "The Sandman: Overture"
                                },
                                {
                                    "0": "Less Than Zero"
                                },
                                {
                                    "0": "The Forest of Hands and Teeth (The Forest of Hands and Teeth, #1)"
                                },
                                {
                                    "0": "Dash & Lily's Book of Dares (Dash & Lily, #1)"
                                },
                                {
                                    "0": "The Luminaries"
                                },
                                {
                                    "0": "Made to Stick: Why Some Ideas Survive and Others Die"
                                },
                                {
                                    "0": "On Beauty"
                                },
                                {
                                    "0": "أحببتك أكثر مما ينبغي"
                                },
                                {
                                    "0": "Heat Wave (Nikki Heat, #1)"
                                },
                                {
                                    "0": "Kindle Paperwhite User's Guide"
                                },
                                {
                                    "0": "Charlie and the Great Glass Elevator (Charlie Bucket, #2)"
                                },
                                {
                                    "0": "The Wasp Factory"
                                },
                                {
                                    "0": "Night Film"
                                },
                                {
                                    "0": "Stories I Only Tell My Friends"
                                },
                                {
                                    "0": "Crazy Rich Asians (Crazy Rich Asians #1)"
                                },
                                {
                                    "0": "Rebel Angels (Gemma Doyle, #2)"
                                },
                                {
                                    "0": "Howards End"
                                },
                                {
                                    "0": "Hellboy, Vol. 1: Seed of Destruction (Hellboy, #1)"
                                },
                                {
                                    "0": "The Sword of Summer (Magnus Chase and the Gods of Asgard, #1)"
                                },
                                {
                                    "0": "The Haunting of Hill House"
                                },
                                {
                                    "0": "Destined (House of Night, #9)"
                                },
                                {
                                    "0": "Women"
                                },
                                {
                                    "0": "The Young Elites (The Young Elites, #1)"
                                },
                                {
                                    "0": "Peter and the Starcatchers (Peter and the Starcatchers, #1)"
                                },
                                {
                                    "0": "Possession"
                                },
                                {
                                    "0": "Revelations (Blue Bloods, #3)"
                                },
                                {
                                    "0": "The Interpretation of Dreams"
                                },
                                {
                                    "0": "Ghost Story"
                                },
                                {
                                    "0": "The End (A Series of Unfortunate Events, #13)"
                                },
                                {
                                    "0": "Dead Ever After (Sookie Stackhouse, #13)"
                                },
                                {
                                    "0": "Naked (The Blackstone Affair, #1)"
                                },
                                {
                                    "0": "Annihilation (Southern Reach, #1)"
                                },
                                {
                                    "0": "Breathe (Sea Breeze, #1)"
                                },
                                {
                                    "0": "The Runaway Bunny"
                                },
                                {
                                    "0": "The Grand Design"
                                },
                                {
                                    "0": "The Innocent Man: Murder and Injustice in a Small Town"
                                },
                                {
                                    "0": "Zealot: The Life and Times of Jesus of Nazareth"
                                },
                                {
                                    "0": "Soul of the Fire (Sword of Truth, #5)"
                                },
                                {
                                    "0": "Consider Phlebas (Culture, #1)"
                                },
                                {
                                    "0": "The Vampire Armand (The Vampire Chronicles, #6)"
                                },
                                {
                                    "0": "Pinocchio"
                                },
                                {
                                    "0": "Grave Mercy (His Fair Assassin, #1)"
                                },
                                {
                                    "0": "Tropic of Cancer"
                                },
                                {
                                    "0": "The Hour I First Believed"
                                },
                                {
                                    "0": "The Dovekeepers"
                                },
                                {
                                    "0": "Snuff"
                                },
                                {
                                    "0": "Saturday"
                                },
                                {
                                    "0": "The Bridges of Madison County"
                                },
                                {
                                    "0": "The Maze of Bones  (The 39 Clues, #1)"
                                },
                                {
                                    "0": "How to Cook Everything: Simple Recipes for Great Food"
                                },
                                {
                                    "0": "The Twilight Collection (Twilight, #1-3)"
                                },
                                {
                                    "0": "Concerning the Spiritual in Art"
                                },
                                {
                                    "0": "Forrest Gump (Forrest Gump, #1)"
                                },
                                {
                                    "0": "Even Cowgirls Get the Blues"
                                },
                                {
                                    "0": "The Moonstone"
                                },
                                {
                                    "0": "If on a Winter's Night a Traveler"
                                },
                                {
                                    "0": "Son of a Witch (The Wicked Years, #2)"
                                },
                                {
                                    "0": "On Chesil Beach"
                                },
                                {
                                    "0": "Sarah, Plain and Tall (Sarah, Plain and Tall, #1)"
                                },
                                {
                                    "0": "عزازيل"
                                },
                                {
                                    "0": "Squirrel Seeks Chipmunk: A Modest Bestiary"
                                },
                                {
                                    "0": "The Van Alen Legacy (Blue Bloods, #4)"
                                },
                                {
                                    "0": "Lisey's Story"
                                },
                                {
                                    "0": "Proof of Heaven: A Neurosurgeon's Journey into the Afterlife"
                                },
                                {
                                    "0": "The Year of Living Biblically: One Man's Humble Quest to Follow the Bible as Literally as Possible"
                                },
                                {
                                    "0": "God Emperor of Dune (Dune Chronicles #4)"
                                },
                                {
                                    "0": "The One & Only"
                                },
                                {
                                    "0": "Geek Love"
                                },
                                {
                                    "0": "My Grandmother Asked Me to Tell You She's Sorry"
                                },
                                {
                                    "0": "Fingersmith"
                                },
                                {
                                    "0": "The House Girl"
                                },
                                {
                                    "0": "Out of the Dust"
                                },
                                {
                                    "0": "Queen of Babble (Queen of Babble, #1)"
                                },
                                {
                                    "0": "The Third Wheel (Diary of a Wimpy Kid, #7)"
                                },
                                {
                                    "0": "Code Name Verity (Code Name Verity, #1)"
                                },
                                {
                                    "0": "The Boy Next Door (Boy, #1)"
                                },
                                {
                                    "0": "The Epic of Gilgamesh"
                                },
                                {
                                    "0": "The Luxe (Luxe, #1)"
                                },
                                {
                                    "0": "American Pastoral (The American Trilogy, #1)"
                                },
                                {
                                    "0": "Big Magic: Creative Living Beyond Fear"
                                },
                                {
                                    "0": "The Qur'an / القرآن الكريم"
                                },
                                {
                                    "0": "The Darkest Night (Lords of the Underworld #1)"
                                },
                                {
                                    "0": "Anathem"
                                },
                                {
                                    "0": "The Lacuna"
                                },
                                {
                                    "0": "Skip Beat!, Vol. 01"
                                },
                                {
                                    "0": "Batman: The Dark Knight Returns #1"
                                },
                                {
                                    "0": "The Windup Girl"
                                },
                                {
                                    "0": "Isla and the Happily Ever After (Anna and the French Kiss, #3)"
                                },
                                {
                                    "0": "Magic Bites (Kate Daniels, #1)"
                                },
                                {
                                    "0": "Suite Française"
                                },
                                {
                                    "0": "The Letters of Vincent van Gogh"
                                },
                                {
                                    "0": "Memory Man (Amos Decker, #1)"
                                },
                                {
                                    "0": "Cut"
                                },
                                {
                                    "0": "A Thousand Acres"
                                },
                                {
                                    "0": "The Book of Three (The Chronicles of Prydain, #1)"
                                },
                                {
                                    "0": "Olivia"
                                },
                                {
                                    "0": "Ghost World"
                                },
                                {
                                    "0": "Evernight (Evernight, #1)"
                                },
                                {
                                    "0": "The Jane Austen Book Club"
                                },
                                {
                                    "0": "Elon Musk: Inventing the Future"
                                },
                                {
                                    "0": "Tipping the Velvet"
                                },
                                {
                                    "0": "The Wishing Spell (The Land of Stories, #1)"
                                },
                                {
                                    "0": "The 19th Wife"
                                },
                                {
                                    "0": "Monster"
                                },
                                {
                                    "0": "Saga #1"
                                },
                                {
                                    "0": "The Secret of Ella and Micha (The Secret, #1)"
                                },
                                {
                                    "0": "From a Buick 8"
                                },
                                {
                                    "0": "Red Mars (Mars Trilogy, #1)"
                                },
                                {
                                    "0": "An Object of Beauty"
                                },
                                {
                                    "0": "What to Expect When You're Expecting"
                                },
                                {
                                    "0": "Anybody Out There? (Walsh Family, #4)"
                                },
                                {
                                    "0": "Zero to One: Notes on Startups, or How to Build the Future"
                                },
                                {
                                    "0": "The Grownup"
                                },
                                {
                                    "0": "The Oath of the Vayuputras (Shiva Trilogy, #3)"
                                },
                                {
                                    "0": "Truman"
                                },
                                {
                                    "0": "Alexander Hamilton"
                                },
                                {
                                    "0": "The Deal (Off-Campus, #1)"
                                },
                                {
                                    "0": "The Crown (The Selection, #5)"
                                },
                                {
                                    "0": "Night World, No. 1 (Night World, #1-3)"
                                },
                                {
                                    "0": "Love Unscripted (Love, #1)"
                                },
                                {
                                    "0": "Bully (Fall Away, #1)"
                                },
                                {
                                    "0": "Cry, the Beloved Country"
                                },
                                {
                                    "0": "Faeries"
                                },
                                {
                                    "0": "Confessions of an Ugly Stepsister"
                                },
                                {
                                    "0": "How to Be Good"
                                },
                                {
                                    "0": "Lady Midnight (The Dark Artifices, #1)"
                                },
                                {
                                    "0": "Inkdeath (Inkworld, #3)"
                                },
                                {
                                    "0": "Jude the Obscure"
                                },
                                {
                                    "0": "Into the Gauntlet (The 39 Clues, #10)"
                                },
                                {
                                    "0": "Wings (Wings, #1)"
                                },
                                {
                                    "0": "Gossip Girl (Gossip Girl, #1)"
                                },
                                {
                                    "0": "The Burgess Boys"
                                },
                                {
                                    "0": "Lies That Chelsea Handler Told Me"
                                },
                                {
                                    "0": "Down to You (The Bad Boys, #1)"
                                },
                                {
                                    "0": "Faceless Killers (Kurt Wallander, #1)"
                                },
                                {
                                    "0": "The Couple Next Door"
                                },
                                {
                                    "0": "Hallowed (Unearthly, #2)"
                                },
                                {
                                    "0": "Ancillary Justice (Imperial Radch #1)"
                                },
                                {
                                    "0": "The Pillars of Creation (Sword of Truth, #7)"
                                },
                                {
                                    "0": "Built to Last: Successful Habits of Visionary Companies"
                                },
                                {
                                    "0": "John Dies at the End (John Dies at the End, #1)"
                                },
                                {
                                    "0": "Stolen: A Letter to My Captor"
                                },
                                {
                                    "0": "Prozac Nation"
                                },
                                {
                                    "0": "This Is Your Brain on Music: The Science of a Human Obsession"
                                },
                                {
                                    "0": "The First Phone Call from Heaven"
                                },
                                {
                                    "0": "Still Life with Bread Crumbs"
                                },
                                {
                                    "0": "Holy Bible: New International Version"
                                },
                                {
                                    "0": "A Raisin in the Sun"
                                },
                                {
                                    "0": "The Good Neighbor"
                                },
                                {
                                    "0": "Rogue Lawyer"
                                },
                                {
                                    "0": "1491: New Revelations of the Americas Before Columbus"
                                },
                                {
                                    "0": "Foucault's Pendulum"
                                },
                                {
                                    "0": "Kushiel's Dart (Phèdre's Trilogy, #1)"
                                },
                                {
                                    "0": "Bonhoeffer: Pastor, Martyr, Prophet, Spy"
                                },
                                {
                                    "0": "Maisie Dobbs (Maisie Dobbs, #1)"
                                },
                                {
                                    "0": "The Butterfly Garden (The Collector #1)"
                                },
                                {
                                    "0": "In Flight (Up in the Air, #1)"
                                },
                                {
                                    "0": "All-American Girl (All-American Girl, #1)"
                                },
                                {
                                    "0": "Boy Meets Boy"
                                },
                                {
                                    "0": "We Are Water"
                                },
                                {
                                    "0": "Max (Maximum Ride, #5)"
                                },
                                {
                                    "0": "Halo (Halo, #1)"
                                },
                                {
                                    "0": "The Inheritance of Loss"
                                },
                                {
                                    "0": "The Sorrows of Young Werther"
                                },
                                {
                                    "0": "The Girl of Fire and Thorns (Fire and Thorns, #1)"
                                },
                                {
                                    "0": "Enclave (Razorland, #1)"
                                },
                                {
                                    "0": "Locke & Key, Vol. 1: Welcome to Lovecraft"
                                },
                                {
                                    "0": "Scarlett"
                                },
                                {
                                    "0": "This Side of Paradise"
                                },
                                {
                                    "0": "Eligible: A Modern Retelling of Pride and Prejudice (The Austen Project, #4)"
                                },
                                {
                                    "0": "Seven Days in the Art World"
                                },
                                {
                                    "0": "Light in August"
                                },
                                {
                                    "0": "Tenth of December"
                                },
                                {
                                    "0": "Chronicles, Vol. 1"
                                },
                                {
                                    "0": "The Lost Continent: Travels in Small Town America"
                                },
                                {
                                    "0": "Everything We Keep (Everything We Keep, #1)"
                                },
                                {
                                    "0": "The Mighty Storm (The Storm, #1)"
                                },
                                {
                                    "0": "The Girl with the Lower Back Tattoo"
                                },
                                {
                                    "0": "The Bhagavad Gita"
                                },
                                {
                                    "0": "Esperanza Rising"
                                },
                                {
                                    "0": "Sex and the City"
                                },
                                {
                                    "0": "The Watsons Go to Birmingham - 1963"
                                },
                                {
                                    "0": "The Immortal Rules (Blood of Eden, #1)"
                                },
                                {
                                    "0": "The Regulators"
                                },
                                {
                                    "0": "Silas Marner"
                                },
                                {
                                    "0": "Beautiful Redemption (Caster Chronicles, #4)"
                                },
                                {
                                    "0": "The Vincent Boys (The Vincent Boys, #1)"
                                },
                                {
                                    "0": "Half-Blood (Covenant, #1)"
                                },
                                {
                                    "0": "Bitter Is the New Black: Confessions of a Condescending, Egomaniacal, Self-Centered Smartass, Or, Why You Should Never Carry A Prada Bag to the Unemployment Office"
                                },
                                {
                                    "0": "Lord Brocktree (Redwall, #13)"
                                },
                                {
                                    "0": "The Final Warning (Maximum Ride, #4)"
                                },
                                {
                                    "0": "The Dragonbone Chair (Memory, Sorrow, and Thorn, #1)"
                                },
                                {
                                    "0": "Persepolis, Volume 1"
                                },
                                {
                                    "0": "At Home in Mitford (Mitford Years, #1)"
                                },
                                {
                                    "0": "Delivering Happiness: A Path to Profits, Passion, and Purpose"
                                },
                                {
                                    "0": "The Queen of the Tearling (The Queen of the Tearling, #1)"
                                },
                                {
                                    "0": "One False Note (The 39 Clues, #2)"
                                },
                                {
                                    "0": "Tithe (Modern Faerie Tales, #1)"
                                },
                                {
                                    "0": "The Fury / Dark Reunion (The Vampire Diaries, #3-4)"
                                },
                                {
                                    "0": "Naked Empire (Sword of Truth, #8)"
                                },
                                {
                                    "0": "A Passage to India"
                                },
                                {
                                    "0": "Seraphina (Seraphina, #1)"
                                },
                                {
                                    "0": "Love Story (Love Story, #1)"
                                },
                                {
                                    "0": "Sweet Evil (Sweet, #1)"
                                },
                                {
                                    "0": "The E-Myth Revisited: Why Most Small Businesses Don't Work and What to Do About It"
                                },
                                {
                                    "0": "Bunnicula (Bunnicula, #1)"
                                },
                                {
                                    "0": "Musicophilia: Tales of Music and the Brain"
                                },
                                {
                                    "0": "My Life"
                                },
                                {
                                    "0": "Storm Warning (The 39 Clues, #9)"
                                },
                                {
                                    "0": "Grave Sight (Harper Connelly, #1)"
                                },
                                {
                                    "0": "Flaggermusmannen (Harry Hole, #1)"
                                },
                                {
                                    "0": "Picture Perfect"
                                },
                                {
                                    "0": "Catching Jordan"
                                },
                                {
                                    "0": "The Satanic Verses"
                                },
                                {
                                    "0": "Winning"
                                },
                                {
                                    "0": "Collide (Collide, #1)"
                                },
                                {
                                    "0": "How We Decide"
                                },
                                {
                                    "0": "The Beekeeper's Apprentice (Mary Russell, #1)"
                                },
                                {
                                    "0": "The Imperfectionists"
                                },
                                {
                                    "0": "The Sea of Tranquility"
                                },
                                {
                                    "0": "Before I Die"
                                },
                                {
                                    "0": "Committed: A Skeptic Makes Peace with Marriage"
                                },
                                {
                                    "0": "Chainfire (Sword of Truth, #9)"
                                },
                                {
                                    "0": "Confessor (Sword of Truth, #11)"
                                },
                                {
                                    "0": "Rabbit, Run (Rabbit Angstrom #1)"
                                },
                                {
                                    "0": "The Field Guide (The Spiderwick Chronicles, #1)"
                                },
                                {
                                    "0": "The Sword Thief (The 39 Clues, #3)"
                                },
                                {
                                    "0": "Into the Wild (Warriors, #1)"
                                },
                                {
                                    "0": "Rush (Breathless, #1)"
                                },
                                {
                                    "0": "The Buried Giant"
                                },
                                {
                                    "0": "Perdido Street Station (Bas-Lag, #1)"
                                },
                                {
                                    "0": "Need (Need, #1)"
                                },
                                {
                                    "0": "Damned (Damned, #1)"
                                },
                                {
                                    "0": "Swamplandia!"
                                },
                                {
                                    "0": "Salt: A World History"
                                },
                                {
                                    "0": "Villette"
                                },
                                {
                                    "0": "The Bronze Horseman (The Bronze Horseman, #1)"
                                },
                                {
                                    "0": "The Atlantis Gene (The Origin Mystery, #1)"
                                },
                                {
                                    "0": "Something About You (FBI/US Attorney, #1)"
                                },
                                {
                                    "0": "Marvel 1602"
                                },
                                {
                                    "0": "1Q84 BOOK 1 (1Q84, #1)"
                                },
                                {
                                    "0": "The Pilgrimage"
                                },
                                {
                                    "0": "March"
                                },
                                {
                                    "0": "All-Star Superman, Vol. 1"
                                },
                                {
                                    "0": "Dark Witch (The Cousins O'Dwyer Trilogy, #1)"
                                },
                                {
                                    "0": "Dark Flame (The Immortals, #4)"
                                },
                                {
                                    "0": "The Widow"
                                },
                                {
                                    "0": "The Black Circle (The 39 Clues, #5)"
                                },
                                {
                                    "0": "The Winner's Curse (The Winner's Trilogy, #1)"
                                },
                                {
                                    "0": "Push"
                                },
                                {
                                    "0": "American Born Chinese"
                                },
                                {
                                    "0": "Ten Tiny Breaths (Ten Tiny Breaths, #1)"
                                },
                                {
                                    "0": "Lipstick Jungle"
                                },
                                {
                                    "0": "The Long Winter (Little House, #6)"
                                },
                                {
                                    "0": "Portnoy's Complaint"
                                },
                                {
                                    "0": "The Perfect Game (The Perfect Game, #1)"
                                },
                                {
                                    "0": "Wonderstruck"
                                },
                                {
                                    "0": "Blood Red Road (Dust Lands, #1)"
                                },
                                {
                                    "0": "Color: A Natural History of the Palette"
                                },
                                {
                                    "0": "Skipping Christmas"
                                },
                                {
                                    "0": "The Sweet Far Thing (Gemma Doyle, #3)"
                                },
                                {
                                    "0": "Mini Shopaholic (Shopaholic, #6)"
                                },
                                {
                                    "0": "Griffin and Sabine (Griffin & Sabine #1)"
                                },
                                {
                                    "0": "Beyond the Highland Mist (Highlander, #1)"
                                },
                                {
                                    "0": "Stargazer (Evernight, #2)"
                                },
                                {
                                    "0": "The Mayor of Casterbridge"
                                },
                                {
                                    "0": "The Red Pony"
                                },
                                {
                                    "0": "Taltos (Lives of the Mayfair Witches, #3)"
                                },
                                {
                                    "0": "The Appeal"
                                },
                                {
                                    "0": "The Wrath and the Dawn (The Wrath and the Dawn, #1)"
                                },
                                {
                                    "0": "Why We Broke Up"
                                },
                                {
                                    "0": "The Sparrow (The Sparrow, #1)"
                                },
                                {
                                    "0": "Mercy"
                                },
                                {
                                    "0": "The Paper Magician (The Paper Magician Trilogy, #1)"
                                },
                                {
                                    "0": "Act Like a Lady, Think Like a Man: What Men Really Think About Love, Relationships, Intimacy, and Commitment"
                                },
                                {
                                    "0": "It's Not About the Bike: My Journey Back to Life"
                                },
                                {
                                    "0": "H is for Hawk"
                                },
                                {
                                    "0": "Captive in the Dark (The Dark Duet, #1)"
                                },
                                {
                                    "0": "The Little Paris Bookshop"
                                },
                                {
                                    "0": "Sweet Tooth"
                                },
                                {
                                    "0": "One Thousand Gifts: A Dare to Live Fully Right Where You Are"
                                },
                                {
                                    "0": "Milk and Honey"
                                },
                                {
                                    "0": "Three Junes"
                                },
                                {
                                    "0": "The Autobiography of Benjamin Franklin"
                                },
                                {
                                    "0": "Blue Ocean Strategy: How To Create Uncontested Market Space And Make The Competition Irrelevant"
                                },
                                {
                                    "0": "Fang (Maximum Ride, #6)"
                                },
                                {
                                    "0": "Firelight (Firelight, #1)"
                                },
                                {
                                    "0": "Flat-Out Love (Flat-Out Love, #1)"
                                },
                                {
                                    "0": "The Claiming of Sleeping Beauty (Sleeping Beauty, #1)"
                                },
                                {
                                    "0": "The Awakening (The Vampire Diaries, #1)"
                                },
                                {
                                    "0": "It Had to Be You (Chicago Stars, #1)"
                                },
                                {
                                    "0": "The Red and the Black"
                                },
                                {
                                    "0": "Incarceron (Incarceron, #1)"
                                },
                                {
                                    "0": "Starcrossed (Starcrossed, #1)"
                                },
                                {
                                    "0": "Night Star (The Immortals, #5)"
                                },
                                {
                                    "0": "Wreckage"
                                },
                                {
                                    "0": "A History of God: The 4,000-Year Quest of Judaism, Christianity, and Islam"
                                },
                                {
                                    "0": "No, David!"
                                },
                                {
                                    "0": "Utopia"
                                },
                                {
                                    "0": "The Name of This Book Is Secret (Secret, #1)"
                                },
                                {
                                    "0": "Dorothy Must Die (Dorothy Must Die, #1)"
                                },
                                {
                                    "0": "The Particular Sadness of Lemon Cake"
                                },
                                {
                                    "0": "Bad Feminist"
                                },
                                {
                                    "0": "Nimona"
                                },
                                {
                                    "0": "Everyday Italian: 125 Simple and Delicious Recipes"
                                },
                                {
                                    "0": "Oranges Are Not the Only Fruit"
                                },
                                {
                                    "0": "I Too Had a Love Story"
                                },
                                {
                                    "0": "10% Happier: How I Tamed the Voice in My Head, Reduced Stress Without Losing My Edge, and Found Self-Help That Actually Works"
                                },
                                {
                                    "0": "The Viper's Nest (39 Clues, #7)"
                                },
                                {
                                    "0": "Ahab's Wife, or The Star-Gazer"
                                },
                                {
                                    "0": "Feed"
                                },
                                {
                                    "0": "Angels' Blood (Guild Hunter, #1)"
                                },
                                {
                                    "0": "Black Hole"
                                },
                                {
                                    "0": "The End of Your Life Book Club"
                                },
                                {
                                    "0": "Two-Way Street"
                                },
                                {
                                    "0": "Decision Points"
                                },
                                {
                                    "0": "Witch & Wizard (Witch & Wizard, #1)"
                                },
                                {
                                    "0": "Julie of the Wolves (Julie of the Wolves, #1)"
                                },
                                {
                                    "0": "Forever . . ."
                                },
                                {
                                    "0": "American Lion: Andrew Jackson in the White House"
                                },
                                {
                                    "0": "Mad About the Boy (Bridget Jones, #3)"
                                },
                                {
                                    "0": "History of Beauty"
                                },
                                {
                                    "0": "The Boy Who Sneaks in My Bedroom Window"
                                },
                                {
                                    "0": "Terrier (Beka Cooper, #1)"
                                },
                                {
                                    "0": "First Grave on the Right (Charley Davidson, #1)"
                                },
                                {
                                    "0": "Anya's Ghost"
                                },
                                {
                                    "0": "Wide Sargasso Sea"
                                },
                                {
                                    "0": "The Magus"
                                },
                                {
                                    "0": "You (You, #1)"
                                },
                                {
                                    "0": "Playing for Pizza"
                                },
                                {
                                    "0": "Tiger's Curse (The Tiger Saga, #1)"
                                },
                                {
                                    "0": "Brown Girl Dreaming"
                                },
                                {
                                    "0": "Feed (Newsflesh Trilogy, #1)"
                                },
                                {
                                    "0": "The Physick Book of Deliverance Dane"
                                },
                                {
                                    "0": "The Monuments Men: Allied Heroes, Nazi Thieves, and the Greatest Treasure Hunt in History"
                                },
                                {
                                    "0": "Love Letters to the Dead"
                                },
                                {
                                    "0": "Hard Times"
                                },
                                {
                                    "0": "La Vérité sur l'affaire Harry Quebert"
                                },
                                {
                                    "0": "Chobits, Vol. 1"
                                },
                                {
                                    "0": "#GIRLBOSS"
                                },
                                {
                                    "0": "The Gashlycrumb Tinies (The Vinegar Works, #1)"
                                },
                                {
                                    "0": "Existence (Existence Trilogy, #1)"
                                },
                                {
                                    "0": "That Summer"
                                },
                                {
                                    "0": "The School for Good and Evil (The School for Good and Evil, #1)"
                                },
                                {
                                    "0": "Drama"
                                },
                                {
                                    "0": "Undead and Unwed (Undead, #1)"
                                },
                                {
                                    "0": "The Fifth Mountain"
                                },
                                {
                                    "0": "Longbourn"
                                },
                                {
                                    "0": "Narcissus in Chains (Anita Blake, Vampire Hunter, #10)"
                                },
                                {
                                    "0": "Special Topics in Calamity Physics"
                                },
                                {
                                    "0": "Partials (Partials Sequence, #1)"
                                },
                                {
                                    "0": "The Last Templar (Templar, #1)"
                                },
                                {
                                    "0": "Official Book Club Selection: A Memoir According to Kathy Griffin"
                                },
                                {
                                    "0": "The Horse Whisperer"
                                },
                                {
                                    "0": "Why Men Love Bitches: From Doormat to Dreamgirl—A Woman's Guide to Holding Her Own in a Relationship"
                                },
                                {
                                    "0": "The Diviners (The Diviners, #1)"
                                },
                                {
                                    "0": "The Spectacular Now"
                                },
                                {
                                    "0": "The Kiss of Deception (The Remnant Chronicles, #1)"
                                },
                                {
                                    "0": "The Weird Sisters"
                                },
                                {
                                    "0": "The Leftovers"
                                },
                                {
                                    "0": "The Mill on the Floss"
                                },
                                {
                                    "0": "Super Sad True Love Story"
                                },
                                {
                                    "0": "This Is What Happy Looks Like (This is What Happy Looks Like, #1)"
                                },
                                {
                                    "0": "The Merchant of Death (Pendragon, #1)"
                                },
                                {
                                    "0": "My Favorite Mistake (My Favorite Mistake, #1)"
                                },
                                {
                                    "0": "Angel (Maximum Ride, #7)"
                                },
                                {
                                    "0": "These Broken Stars (Starbound, #1)"
                                },
                                {
                                    "0": "Eon: Dragoneye Reborn (Eon, #1)"
                                },
                                {
                                    "0": "The View from Saturday"
                                },
                                {
                                    "0": "Hidden (House of Night, #10)"
                                },
                                {
                                    "0": "Kiss of Midnight (Midnight Breed,  #1)"
                                },
                                {
                                    "0": "Sons and Lovers"
                                },
                                {
                                    "0": "Crash (Crash, #1)"
                                },
                                {
                                    "0": "Peony in Love"
                                },
                                {
                                    "0": "The Ice Princess (Patrik Hedström, #1)"
                                },
                                {
                                    "0": "Everlasting (The Immortals, #6)"
                                },
                                {
                                    "0": "A Shade of Vampire (A Shade of Vampire, #1)"
                                },
                                {
                                    "0": "Cocktails for Three"
                                },
                                {
                                    "0": "Panic (Panic, #1)"
                                },
                                {
                                    "0": "Leonardo's Notebooks"
                                },
                                {
                                    "0": "The Moosewood Cookbook: Recipes from Moosewood Restaurant, Ithaca, New York"
                                },
                                {
                                    "0": "My Name is Red"
                                },
                                {
                                    "0": "Beyond the Grave (The 39 Clues #4)"
                                },
                                {
                                    "0": "Purity"
                                },
                                {
                                    "0": "Labyrinth (Languedoc, #1)"
                                },
                                {
                                    "0": "Twilight: The Graphic Novel, Vol. 1 (Twilight: The Graphic Novel, #1)"
                                },
                                {
                                    "0": "Nightfall (The Vampire Diaries: The Return, #1)"
                                },
                                {
                                    "0": "The Bone Season (The Bone Season, #1)"
                                },
                                {
                                    "0": "How to Eat Fried Worms"
                                },
                                {
                                    "0": "Wicked Appetite (Lizzy & Diesel, #1)"
                                },
                                {
                                    "0": "Tales from a Not-So-Fabulous Life (Dork Diaries, #1)"
                                },
                                {
                                    "0": "The Valley of Amazement"
                                },
                                {
                                    "0": "Die for Me (Revenants, #1)"
                                },
                                {
                                    "0": "Amsterdam"
                                },
                                {
                                    "0": "Falling into You (Falling, #1)"
                                },
                                {
                                    "0": "Adultery"
                                },
                                {
                                    "0": "Skinny Bitch"
                                },
                                {
                                    "0": "Mystery Man (Dream Man, #1)"
                                },
                                {
                                    "0": "Snow"
                                },
                                {
                                    "0": "Hourglass (Evernight, #3)"
                                },
                                {
                                    "0": "A Kiss of Shadows (Merry Gentry, #1)"
                                },
                                {
                                    "0": "One Second After (After, #1)"
                                },
                                {
                                    "0": "Art Through the Ages "
                                },
                                {
                                    "0": "Sisterland"
                                },
                                {
                                    "0": "The Warlord Wants Forever (Immortals After Dark #1)"
                                },
                                {
                                    "0": "Good Faeries/Bad Faeries"
                                },
                                {
                                    "0": "Orlando"
                                },
                                {
                                    "0": "South of Broad"
                                },
                                {
                                    "0": "The Little Friend"
                                },
                                {
                                    "0": "Backstage Pass (Sinners on Tour, #1)"
                                },
                                {
                                    "0": "Beauty Queens"
                                },
                                {
                                    "0": "Cruel Beauty (Cruel Beauty Universe, #1)"
                                },
                                {
                                    "0": "Shopgirl"
                                },
                                {
                                    "0": "حوار مع صديقي الملحد"
                                },
                                {
                                    "0": "The Woman Upstairs"
                                },
                                {
                                    "0": "Confessions"
                                },
                                {
                                    "0": "The Painted Girls"
                                },
                                {
                                    "0": "The Bedwetter: Stories of Courage, Redemption, and Pee"
                                },
                                {
                                    "0": "Chain Reaction (Perfect Chemistry, #3)"
                                },
                                {
                                    "0": "Dark Prince (Dark, #1)"
                                },
                                {
                                    "0": "The Shining Girls"
                                },
                                {
                                    "0": "The Zookeeper's Wife"
                                },
                                {
                                    "0": "Ink Exchange (Wicked Lovely, #2)"
                                },
                                {
                                    "0": "com نسيان"
                                },
                                {
                                    "0": "Bleachers"
                                },
                                {
                                    "0": "The Iron Trial (Magisterium, #1)"
                                },
                                {
                                    "0": "The Carrie Diaries (The Carrie Diaries, #1)"
                                },
                                {
                                    "0": "The World of Divergent: The Path to Allegiant (Divergent, #2.5)"
                                },
                                {
                                    "0": "في قلبي أنثى عبرية"
                                },
                                {
                                    "0": "Vampire Kisses (Vampire Kisses, #1)"
                                },
                                {
                                    "0": "Then We Came to the End"
                                },
                                {
                                    "0": "One Week Girlfriend (One Week Girlfriend, #1)"
                                },
                                {
                                    "0": "Linchpin: Are You Indispensable?"
                                },
                                {
                                    "0": "Camera Lucida: Reflections on Photography"
                                },
                                {
                                    "0": "The Gargoyle"
                                },
                                {
                                    "0": "My Story"
                                },
                                {
                                    "0": "Birthmarked (Birthmarked, #1)"
                                },
                                {
                                    "0": "The Philosophy of Andy Warhol (From A to B and Back Again)"
                                },
                                {
                                    "0": "One More Thing: Stories and Other Stories"
                                },
                                {
                                    "0": "Asylum (Asylum, #1)"
                                },
                                {
                                    "0": "The Heart Goes Last"
                                },
                                {
                                    "0": "The Coldest Girl in Coldtown"
                                },
                                {
                                    "0": "The Marriage of Opposites"
                                },
                                {
                                    "0": "Imagine: How Creativity Works"
                                },
                                {
                                    "0": "Splintered (Splintered, #1)"
                                },
                                {
                                    "0": "Lord Foul's Bane (The Chronicles of Thomas Covenant the Unbeliever, #1)"
                                },
                                {
                                    "0": "Our Town"
                                },
                                {
                                    "0": "Through the Woods"
                                },
                                {
                                    "0": "Aleph"
                                },
                                {
                                    "0": "Absalom, Absalom!"
                                },
                                {
                                    "0": "Girl Online (Girl Online, #1)"
                                },
                                {
                                    "0": "The Dante Club"
                                },
                                {
                                    "0": "The Winner Stands Alone"
                                },
                                {
                                    "0": "The Body Finder (The Body Finder, #1)"
                                },
                                {
                                    "0": "Enduring Love"
                                },
                                {
                                    "0": "Annie on My Mind"
                                },
                                {
                                    "0": "Pirate Latitudes"
                                },
                                {
                                    "0": "Washington: A Life"
                                },
                                {
                                    "0": "Come Away with Me (With Me in Seattle, #1)"
                                },
                                {
                                    "0": "Taking Chances (Taking Chances, #1)"
                                },
                                {
                                    "0": "The Solitude of Prime Numbers"
                                },
                                {
                                    "0": "Fortunately, the Milk"
                                },
                                {
                                    "0": "Ms. Marvel, Vol. 1: No Normal"
                                },
                                {
                                    "0": "Slave to Sensation (Psy-Changeling #1)"
                                },
                                {
                                    "0": "فلتغفري"
                                },
                                {
                                    "0": "Portrait of a Killer: Jack the Ripper - Case Closed"
                                },
                                {
                                    "0": "The Thief (The Queen's Thief, #1)"
                                },
                                {
                                    "0": "Succubus Blues (Georgina Kincaid, #1)"
                                },
                                {
                                    "0": "Love & Misadventure"
                                },
                                {
                                    "0": "Of Poseidon (The Syrena Legacy, #1)"
                                },
                                {
                                    "0": "Letter to a Christian Nation"
                                },
                                {
                                    "0": "Shadow Souls (The Vampire Diaries: The Return, #2)"
                                },
                                {
                                    "0": "When It Happens"
                                },
                                {
                                    "0": "On the Jellicoe Road"
                                },
                                {
                                    "0": "The Natural Way to Draw"
                                },
                                {
                                    "0": "Flora and Ulysses: The Illuminated Adventures"
                                },
                                {
                                    "0": "Absolute Boyfriend, Vol. 1"
                                },
                                {
                                    "0": "Cerulean Sins (Anita Blake, Vampire Hunter, #11)"
                                },
                                {
                                    "0": "Amphigorey (Amphigorey, #1)"
                                },
                                {
                                    "0": "Some Girls Bite (Chicagoland Vampires, #1)"
                                },
                                {
                                    "0": "The Almost Moon"
                                },
                                {
                                    "0": "I Was Told There'd Be Cake"
                                },
                                {
                                    "0": "Forbidden"
                                },
                                {
                                    "0": "His Excellency: George Washington"
                                },
                                {
                                    "0": "Gravity's Rainbow"
                                },
                                {
                                    "0": "The Tin Drum"
                                },
                                {
                                    "0": "Incubus Dreams (Anita Blake, Vampire Hunter, #12)"
                                },
                                {
                                    "0": "Covet (Fallen Angels, #1)"
                                },
                                {
                                    "0": "Zoo"
                                },
                                {
                                    "0": "The End of Faith: Religion, Terror, and the Future of Reason"
                                },
                                {
                                    "0": "The Adoration of Jenna Fox (Jenna Fox Chronicles, #1)"
                                },
                                {
                                    "0": "Serena"
                                },
                                {
                                    "0": "Thirst No. 1: The Last Vampire, Black Blood, and Red Dice (Thirst, #1)"
                                },
                                {
                                    "0": "Moll Flanders"
                                },
                                {
                                    "0": "Bergdorf Blondes"
                                },
                                {
                                    "0": "The Chocolate War (Chocolate War, #1)"
                                },
                                {
                                    "0": "Chocolate Chip Cookie Murder (Hannah Swensen, #1)"
                                },
                                {
                                    "0": "After (After, #1)"
                                },
                                {
                                    "0": "The Disreputable History of Frankie Landau-Banks"
                                },
                                {
                                    "0": "The Postmistress"
                                },
                                {
                                    "0": "The Diary of Frida Kahlo: An Intimate Self-Portrait"
                                },
                                {
                                    "0": "Seduction and Snacks (Chocolate Lovers, #1)"
                                },
                                {
                                    "0": "The Hypnotist (Joona Linna, #1)"
                                },
                                {
                                    "0": "The Goddess Test (Goddess Test, #1)"
                                },
                                {
                                    "0": "Eve (Eve, #1)"
                                },
                                {
                                    "0": "On Photography"
                                },
                                {
                                    "0": "The Crimson Petal and the White"
                                },
                                {
                                    "0": "Wheat Belly: Lose the Wheat, Lose the Weight, and Find Your Path Back to Health"
                                },
                                {
                                    "0": "Hawkeye, Volume 1: My Life as a Weapon"
                                },
                                {
                                    "0": "Danse Macabre (Anita Blake, Vampire Hunter, #14)"
                                },
                                {
                                    "0": "Pleasure Unbound (Demonica, #1)"
                                },
                                {
                                    "0": "The Shock of the New"
                                },
                                {
                                    "0": "Between the Lines (Between the Lines, #1)"
                                },
                                {
                                    "0": "Black Bird, Vol. 01 (Black Bird, #1)"
                                },
                                {
                                    "0": "Paper Princess (The Royals, #1)"
                                },
                                {
                                    "0": "Vernon God Little"
                                },
                                {
                                    "0": "Micah (Anita Blake, Vampire Hunter, #13)"
                                },
                                {
                                    "0": "Girls in White Dresses"
                                },
                                {
                                    "0": "One with You (Crossfire, #5)"
                                },
                                {
                                    "0": "North of Beautiful"
                                },
                                {
                                    "0": "Shoe Addicts Anonymous (Shoe Addict, #1)"
                                },
                                {
                                    "0": "Willow"
                                },
                                {
                                    "0": "The Hare With Amber Eyes: A Family's Century of Art and Loss"
                                },
                                {
                                    "0": "History of Art"
                                },
                                {
                                    "0": "Fever (The Chemical Garden, #2)"
                                },
                                {
                                    "0": "The Rule of Four"
                                },
                                {
                                    "0": "The Harlequin (Anita Blake, Vampire Hunter #15)"
                                },
                                {
                                    "0": "Undeniable (Undeniable, #1)"
                                },
                                {
                                    "0": "Four Blondes"
                                },
                                {
                                    "0": "Grendel"
                                },
                                {
                                    "0": "Mennonite in a Little Black Dress: A Memoir of Going Home"
                                },
                                {
                                    "0": "Half Girlfriend"
                                },
                                {
                                    "0": "Earth Unaware (The First Formic War, #1)"
                                },
                                {
                                    "0": "Andy Goldsworthy: A Collaboration with Nature"
                                },
                                {
                                    "0": "Saving Fish from Drowning"
                                },
                                {
                                    "0": "Purple Cow: Transform Your Business by Being Remarkable"
                                },
                                {
                                    "0": "The Last Star (The 5th Wave, #3)"
                                },
                                {
                                    "0": "I am Charlotte Simmons"
                                },
                                {
                                    "0": "This One Summer"
                                },
                                {
                                    "0": "Tinkers"
                                },
                                {
                                    "0": "The Clique (The Clique, #1)"
                                },
                                {
                                    "0": "When I'm Gone"
                                },
                                {
                                    "0": "Rachael Ray 365: No Repeats: A Year of Deliciously Different Dinners"
                                },
                                {
                                    "0": "My Soul to Take (Soul Screamers, #1)"
                                },
                                {
                                    "0": "Everneath (Everneath, #1)"
                                },
                                {
                                    "0": "Warrior of the Light"
                                },
                                {
                                    "0": "James Potter and the Hall of Elders' Crossing (James Potter, #1)"
                                },
                                {
                                    "0": "How I Live Now"
                                },
                                {
                                    "0": "Strange Angels (Strange Angels, #1)"
                                },
                                {
                                    "0": "Today Will Be Different"
                                },
                                {
                                    "0": "Fallen Crest High (Fallen Crest High, #1)"
                                },
                                {
                                    "0": "Catherine, Called Birdy"
                                },
                                {
                                    "0": "Johnny Tremain"
                                },
                                {
                                    "0": "Alice in Zombieland (White Rabbit Chronicles, #1)"
                                },
                                {
                                    "0": "The Art of Asking; or, How I Learned to Stop Worrying and Let People Help"
                                },
                                {
                                    "0": "Vinegar Hill"
                                },
                                {
                                    "0": "Significance (Significance, #1)"
                                },
                                {
                                    "0": "Pygmy"
                                },
                                {
                                    "0": "Revenge Wears Prada: The Devil Returns (The Devil Wears Prada, #2)"
                                },
                                {
                                    "0": "Michelangelo and the Pope's Ceiling"
                                },
                                {
                                    "0": "Mirror Mirror"
                                },
                                {
                                    "0": "One Fifth Avenue"
                                },
                                {
                                    "0": "El Deafo"
                                },
                                {
                                    "0": "The Red Badge of Courage and Selected Short Fiction  "
                                },
                                {
                                    "0": "NW"
                                },
                                {
                                    "0": "Blood and Chocolate"
                                },
                                {
                                    "0": "Knight (Unfinished Hero, #1)"
                                },
                                {
                                    "0": "شيكاجو"
                                },
                                {
                                    "0": "The Dark Divine (The Dark Divine, #1)"
                                },
                                {
                                    "0": "Mein Kampf"
                                },
                                {
                                    "0": "Consequences (Consequences, #1)"
                                },
                                {
                                    "0": "Assholes Finish First (Tucker Max, #2)"
                                },
                                {
                                    "0": "Hannibal Rising (Hannibal Lecter, #4)"
                                },
                                {
                                    "0": "Blood Noir (Anita Blake, Vampire Hunter #16)"
                                },
                                {
                                    "0": "Songs of the Humpback Whale"
                                },
                                {
                                    "0": "Fallen in Love (Fallen, #3.5)"
                                },
                                {
                                    "0": "Poison Princess (The Arcana Chronicles, #1)"
                                },
                                {
                                    "0": "Brick Lane"
                                },
                                {
                                    "0": "Down the Rabbit Hole: Curious Adventures and Cautionary Tales of a Former Playboy Bunny"
                                },
                                {
                                    "0": "Do-It-Yourself Book (Diary of a Wimpy Kid)"
                                },
                                {
                                    "0": "Falling Kingdoms (Falling Kingdoms, #1)"
                                },
                                {
                                    "0": "Ancestors of Avalon (Avalon, #5)"
                                },
                                {
                                    "0": "Losing My Virginity: How I've Survived, Had Fun, and Made a Fortune Doing Business My Way"
                                },
                                {
                                    "0": "The Swan Thieves"
                                },
                                {
                                    "0": "The Tortilla Curtain"
                                },
                                {
                                    "0": "The 100 (The 100, #1)"
                                },
                                {
                                    "0": "Hades (Halo, #2)"
                                },
                                {
                                    "0": "Finnikin of the Rock (Lumatere Chronicles, #1)"
                                },
                                {
                                    "0": "Micro"
                                },
                                {
                                    "0": "أنت لي"
                                },
                                {
                                    "0": "The House of the Seven Gables"
                                },
                                {
                                    "0": "Sweetbitter"
                                },
                                {
                                    "0": "Tangerine"
                                },
                                {
                                    "0": "The Emperor's Children"
                                },
                                {
                                    "0": "The Girl Who Circumnavigated Fairyland in a Ship of Her Own Making (Fairyland, #1)"
                                },
                                {
                                    "0": "Er ist wieder da"
                                },
                                {
                                    "0": "Prince of Wolves (The Grey Wolves, #1)"
                                },
                                {
                                    "0": "Nevermore (Maximum Ride, #8)"
                                },
                                {
                                    "0": "A Quick Bite (Argeneau #1)"
                                },
                                {
                                    "0": "Etiquette & Espionage (Finishing School, #1)"
                                },
                                {
                                    "0": "Velvet Elvis: Repainting the Christian Faith"
                                },
                                {
                                    "0": "The Lost Painting"
                                },
                                {
                                    "0": "The Wedding Dress"
                                },
                                {
                                    "0": "Winter's Tale"
                                },
                                {
                                    "0": "The Adventures of Captain Underpants (Captain Underpants, #1)"
                                },
                                {
                                    "0": "Two Boys Kissing"
                                },
                                {
                                    "0": "The Ruins"
                                },
                                {
                                    "0": "The Lives of the Artists"
                                },
                                {
                                    "0": "The Slap"
                                },
                                {
                                    "0": "The Scrapbook of Frankie Pratt"
                                },
                                {
                                    "0": "Beauty's Release (Sleeping Beauty, #3)"
                                },
                                {
                                    "0": "Jessica's Guide to Dating on the Dark Side (Jessica, #1)"
                                },
                                {
                                    "0": "Dawn of the Dreadfuls (Pride and Prejudice and Zombies, #0.5)"
                                },
                                {
                                    "0": "The Wolf Gift (The Wolf Gift Chronicles, #1)"
                                },
                                {
                                    "0": "Never Never: Part Three (Never Never, #3)"
                                },
                                {
                                    "0": "28 حرف"
                                },
                                {
                                    "0": "I Kissed Dating Goodbye"
                                },
                                {
                                    "0": "Veganomicon: The Ultimate Vegan Cookbook"
                                },
                                {
                                    "0": "My Booky Wook"
                                },
                                {
                                    "0": "Just My Type: A Book About Fonts"
                                },
                                {
                                    "0": "The Zombie Room"
                                },
                                {
                                    "0": "Beauty's Punishment (Sleeping Beauty, #2)"
                                },
                                {
                                    "0": "Can Love Happen Twice?"
                                },
                                {
                                    "0": "A Lion Among Men (The Wicked Years, #3)"
                                },
                                {
                                    "0": "في ديسمبر تنتهي كل الأحلام"
                                },
                                {
                                    "0": "Going Bovine"
                                },
                                {
                                    "0": "Chopsticks"
                                },
                                {
                                    "0": "Drawing from Memory"
                                },
                                {
                                    "0": "Love Wins: A Book About Heaven, Hell, and the Fate of Every Person Who Ever Lived"
                                },
                                {
                                    "0": "L.A. Candy (L.A. Candy, #1)"
                                },
                                {
                                    "0": "The Siren"
                                },
                                {
                                    "0": "The Astronaut Wives Club"
                                },
                                {
                                    "0": "Deceptively Delicious: Simple Secrets to Get Your Kids Eating Good Food"
                                },
                                {
                                    "0": "The Harbinger: The Ancient Mystery that Holds the Secret of America's Future"
                                },
                                {
                                    "0": "Clara and Mr. Tiffany"
                                },
                                {
                                    "0": "Angelfire (Angelfire, #1)"
                                },
                                {
                                    "0": "Sunshine"
                                },
                                {
                                    "0": "An Illustrated Life: Drawing Inspiration From The Private Sketchbooks Of Artists, Illustrators And Designers"
                                },
                                {
                                    "0": "Two By Two"
                                },
                                {
                                    "0": "Inescapable (The Premonition, #1)"
                                },
                                {
                                    "0": "Abandon (Abandon, #1)"
                                },
                                {
                                    "0": "How to Marry a Millionaire Vampire (Love at Stake, #1)"
                                },
                                {
                                    "0": "My Blood Approves (My Blood Approves, #1)"
                                },
                                {
                                    "0": "The Chemist"
                                },
                                {
                                    "0": "And Another Thing..."
                                },
                                {
                                    "0": "The Gatecrasher"
                                },
                                {
                                    "0": "The Valkyries"
                                },
                                {
                                    "0": "The Struggle (The Vampire Diaries, #2)"
                                },
                                {
                                    "0": "Lumberjanes, Vol. 1: Beware the Kitten Holy"
                                },
                                {
                                    "0": "The Land of Painted Caves (Earth's Children, #6)"
                                },
                                {
                                    "0": "Trading Up"
                                },
                                {
                                    "0": "Bullet (Anita Blake, Vampire Hunter #19)"
                                },
                                {
                                    "0": "بيكاسو وستاربكس"
                                },
                                {
                                    "0": "The Boyfriend List: 15 Guys, 11 Shrink Appointments, 4 Ceramic Frogs and Me, Ruby Oliver (Ruby Oliver, #1)"
                                },
                                {
                                    "0": "Dairy Queen (Dairy Queen, #1)"
                                },
                                {
                                    "0": "Flirt (Anita Blake, Vampire Hunter #18)"
                                },
                                {
                                    "0": "Boy, Snow, Bird"
                                },
                                {
                                    "0": "Solar"
                                },
                                {
                                    "0": "Ash"
                                },
                                {
                                    "0": "Lord Jim"
                                },
                                {
                                    "0": "House"
                                },
                                {
                                    "0": "Jacob Have I Loved"
                                },
                                {
                                    "0": "This Is Where It Ends"
                                },
                                {
                                    "0": "Stray (Shifters, #1)"
                                },
                                {
                                    "0": "Article 5 (Article 5, #1)"
                                },
                                {
                                    "0": "The Colorado Kid (Hard Case Crime #13)"
                                },
                                {
                                    "0": "Avoiding Commitment (Avoiding, #1)"
                                },
                                {
                                    "0": "After We Collided (After, #2)"
                                },
                                {
                                    "0": "حبيبتي بكماء"
                                },
                                {
                                    "0": "Nevermore (Nevermore, #1)"
                                },
                                {
                                    "0": "I Don't Know How She Does It"
                                },
                                {
                                    "0": "Midnight (The Vampire Diaries: The Return, #3)"
                                },
                                {
                                    "0": "Frog Music"
                                },
                                {
                                    "0": "Shopaholic to the Stars (Shopaholic, #7)"
                                },
                                {
                                    "0": "The Elephant Tree"
                                },
                                {
                                    "0": "The Prophet of Yonwood (Book of Ember, #3)"
                                },
                                {
                                    "0": "You've Been Warned"
                                },
                                {
                                    "0": "Wanted (Wanted, #1)"
                                },
                                {
                                    "0": "You Are a Badass: How to Stop Doubting Your Greatness and Start Living an Awesome Life"
                                },
                                {
                                    "0": "Aftermath (Star Wars: Aftermath, #1)"
                                },
                                {
                                    "0": "Captain Underpants and the Attack of the Talking Toilets (Captain Underpants, #2)"
                                },
                                {
                                    "0": "Wideacre  (The Wideacre Trilogy, #1)"
                                },
                                {
                                    "0": "Defiance (Defiance #1)"
                                },
                                {
                                    "0": "Heart of Darkness and Selected Short Fiction"
                                },
                                {
                                    "0": "The Prague Cemetery"
                                },
                                {
                                    "0": "Beatrice and Virgil"
                                },
                                {
                                    "0": "Sleeping Arrangements"
                                },
                                {
                                    "0": "The Fever"
                                },
                                {
                                    "0": "Teardrop (Teardrop, #1)"
                                },
                                {
                                    "0": "Seating Arrangements"
                                },
                                {
                                    "0": "Dare Me"
                                },
                                {
                                    "0": "The Gathering"
                                },
                                {
                                    "0": "The Fury (The Vampire Diaries, #3)"
                                },
                                {
                                    "0": "Girls of Riyadh"
                                },
                                {
                                    "0": "Kitty and the Midnight Hour (Kitty Norville #1)"
                                },
                                {
                                    "0": "Heart of Darkness and The Secret Sharer"
                                },
                                {
                                    "0": "77 Shadow Street (Pendleton, #1)"
                                },
                                {
                                    "0": "The Subtle Art of Not Giving a F*ck: A Counterintuitive Approach to Living a Good Life"
                                },
                                {
                                    "0": "Touch the Dark (Cassandra Palmer, #1)"
                                },
                                {
                                    "0": "A Gate at the Stairs"
                                },
                                {
                                    "0": "Violin"
                                },
                                {
                                    "0": "To Rise Again at a Decent Hour"
                                },
                                {
                                    "0": "Ready or Not (All-American Girl, #2)"
                                },
                                {
                                    "0": "ظل الأفعى"
                                },
                                {
                                    "0": "السنجة"
                                },
                                {
                                    "0": "Adulthood Is a Myth (Sarah's Scribbles, #1)"
                                },
                                {
                                    "0": "Of Course I Love You...! Till I Find Someone Better..."
                                },
                                {
                                    "0": "Dark Reunion (The Vampire Diaries, #4)"
                                },
                                {
                                    "0": "The Hollow (The Hollow, #1)"
                                },
                                {
                                    "0": "Numbers (Numbers, #1)"
                                },
                                {
                                    "0": "A Quest of Heroes (The Sorcerer's Ring, #1)"
                                },
                                {
                                    "0": "Zone One"
                                },
                                {
                                    "0": "Story of O (Story of O #1)"
                                },
                                {
                                    "0": "Batman: Hush, Vol. 1"
                                },
                                {
                                    "0": "ليتها تقرأ"
                                },
                                {
                                    "0": "Battlefield Earth: A Saga of the Year 3000"
                                },
                                {
                                    "0": "ttyl (Internet Girls, #1)"
                                },
                                {
                                    "0": "The Night Strangers"
                                },
                                {
                                    "0": "The Virtue of Selfishness: A New Concept of Egoism"
                                },
                                {
                                    "0": "Angelology (Angelology, #1)"
                                },
                                {
                                    "0": "Ghostgirl (Ghostgirl, #1)"
                                },
                                {
                                    "0": "Going Rogue: An American Life"
                                },
                                {
                                    "0": "Lost"
                                },
                                {
                                    "0": "Batman: The Dark Knight Strikes Again (The Dark Knight Saga, #2)"
                                },
                                {
                                    "0": "بضع ساعات في يوم ما"
                                },
                                {
                                    "0": "Olivia Joules and the Overactive Imagination"
                                },
                                {
                                    "0": "Beautiful You"
                                },
                                {
                                    "0": "Debt Inheritance (Indebted, #1)"
                                },
                                {
                                    "0": "Billy Budd, Sailor"
                                }
                            ]
                        },
                        "text/html": [
                            "<table>",
                            "<tr><th>title</th></tr>",
                            "<tr><td>The Hunger Games (The Hunger Games, #1)</td></tr>",
                            "<tr><td>Harry Potter and the Sorcerer's Stone (Harry Potter, #1)</td></tr>",
                            "<tr><td>Twilight (Twilight, #1)</td></tr>",
                            "<tr><td>To Kill a Mockingbird</td></tr>",
                            "<tr><td>The Great Gatsby</td></tr>",
                            "<tr><td>The Fault in Our Stars</td></tr>",
                            "<tr><td>The Hobbit</td></tr>",
                            "<tr><td>The Catcher in the Rye</td></tr>",
                            "<tr><td>Angels &amp; Demons  (Robert Langdon, #1)</td></tr>",
                            "<tr><td>Pride and Prejudice</td></tr>",
                            "<tr><td>The Kite Runner</td></tr>",
                            "<tr><td>Divergent (Divergent, #1)</td></tr>",
                            "<tr><td>1984</td></tr>",
                            "<tr><td>Animal Farm</td></tr>",
                            "<tr><td>The Diary of a Young Girl</td></tr>",
                            "<tr><td>The Girl with the Dragon Tattoo (Millennium, #1)</td></tr>",
                            "<tr><td>Catching Fire (The Hunger Games, #2)</td></tr>",
                            "<tr><td>Harry Potter and the Prisoner of Azkaban (Harry Potter, #3)</td></tr>",
                            "<tr><td>The Fellowship of the Ring (The Lord of the Rings, #1)</td></tr>",
                            "<tr><td>Mockingjay (The Hunger Games, #3)</td></tr>",
                            "<tr><td>Harry Potter and the Order of the Phoenix (Harry Potter, #5)</td></tr>",
                            "<tr><td>The Lovely Bones</td></tr>",
                            "<tr><td>Harry Potter and the Chamber of Secrets (Harry Potter, #2)</td></tr>",
                            "<tr><td>Harry Potter and the Goblet of Fire (Harry Potter, #4)</td></tr>",
                            "<tr><td>Harry Potter and the Deathly Hallows (Harry Potter, #7)</td></tr>",
                            "<tr><td>The Da Vinci Code (Robert Langdon, #2)</td></tr>",
                            "<tr><td>Harry Potter and the Half-Blood Prince (Harry Potter, #6)</td></tr>",
                            "<tr><td>Lord of the Flies</td></tr>",
                            "<tr><td>Romeo and Juliet</td></tr>",
                            "<tr><td>Gone Girl</td></tr>",
                            "<tr><td>The Help</td></tr>",
                            "<tr><td>Of Mice and Men</td></tr>",
                            "<tr><td>Memoirs of a Geisha</td></tr>",
                            "<tr><td>Fifty Shades of Grey (Fifty Shades, #1)</td></tr>",
                            "<tr><td>The Alchemist</td></tr>",
                            "<tr><td>The Giver (The Giver, #1)</td></tr>",
                            "<tr><td>The Lion, the Witch, and the Wardrobe (Chronicles of Narnia, #1)</td></tr>",
                            "<tr><td>The Time Traveler's Wife</td></tr>",
                            "<tr><td>A Game of Thrones (A Song of Ice and Fire, #1)</td></tr>",
                            "<tr><td>Eat, Pray, Love</td></tr>",
                            "<tr><td>The Lightning Thief (Percy Jackson and the Olympians, #1)</td></tr>",
                            "<tr><td>Little Women (Little Women, #1)</td></tr>",
                            "<tr><td>Jane Eyre</td></tr>",
                            "<tr><td>The Notebook (The Notebook, #1)</td></tr>",
                            "<tr><td>Life of Pi</td></tr>",
                            "<tr><td>Water for Elephants</td></tr>",
                            "<tr><td>The Book Thief</td></tr>",
                            "<tr><td>Fahrenheit 451</td></tr>",
                            "<tr><td>New Moon (Twilight, #2)</td></tr>",
                            "<tr><td>Where the Sidewalk Ends</td></tr>",
                            "<tr><td>City of Bones (The Mortal Instruments, #1)</td></tr>",
                            "<tr><td>Eclipse (Twilight, #3)</td></tr>",
                            "<tr><td>Eragon (The Inheritance Cycle, #1)</td></tr>",
                            "<tr><td>The Hitchhiker's Guide to the Galaxy (Hitchhiker's Guide to the Galaxy, #1)</td></tr>",
                            "<tr><td>Brave New World</td></tr>",
                            "<tr><td>Breaking Dawn (Twilight, #4)</td></tr>",
                            "<tr><td>The Secret Life of Bees</td></tr>",
                            "<tr><td>The Adventures of Huckleberry Finn</td></tr>",
                            "<tr><td>Charlotte's Web</td></tr>",
                            "<tr><td>The Curious Incident of the Dog in the Night-Time</td></tr>",
                            "<tr><td>The Girl on the Train</td></tr>",
                            "<tr><td>The Golden Compass (His Dark Materials, #1)</td></tr>",
                            "<tr><td>Fangirl</td></tr>",
                            "<tr><td>Wuthering Heights</td></tr>",
                            "<tr><td>My Sister's Keeper</td></tr>",
                            "<tr><td>Slaughterhouse-Five</td></tr>",
                            "<tr><td>Gone with the Wind</td></tr>",
                            "<tr><td>A Thousand Splendid Suns</td></tr>",
                            "<tr><td>The Perks of Being a Wallflower</td></tr>",
                            "<tr><td>Insurgent (Divergent, #2)</td></tr>",
                            "<tr><td>Ender's Game (Ender's Saga, #1)</td></tr>",
                            "<tr><td>Frankenstein</td></tr>",
                            "<tr><td>The Shining (The Shining #1)</td></tr>",
                            "<tr><td>The Host (The Host, #1)</td></tr>",
                            "<tr><td>Looking for Alaska</td></tr>",
                            "<tr><td>Bridget Jones's Diary (Bridget Jones, #1)</td></tr>",
                            "<tr><td>Sense and Sensibility</td></tr>",
                            "<tr><td>Holes (Holes, #1)</td></tr>",
                            "<tr><td>The Devil Wears Prada (The Devil Wears Prada, #1)</td></tr>",
                            "<tr><td>The Odyssey</td></tr>",
                            "<tr><td>The Little Prince</td></tr>",
                            "<tr><td>The Glass Castle</td></tr>",
                            "<tr><td>Into the Wild</td></tr>",
                            "<tr><td>A Tale of Two Cities</td></tr>",
                            "<tr><td>Jurassic Park (Jurassic Park, #1)</td></tr>",
                            "<tr><td>The Giving Tree</td></tr>",
                            "<tr><td>A Time to Kill</td></tr>",
                            "<tr><td>Night (The Night Trilogy #1)</td></tr>",
                            "<tr><td>Paper Towns</td></tr>",
                            "<tr><td>The Princess Bride </td></tr>",
                            "<tr><td>The Outsiders</td></tr>",
                            "<tr><td>The Maze Runner (Maze Runner, #1)</td></tr>",
                            "<tr><td>Freakonomics: A Rogue Economist Explores the Hidden Side of Everything (Freakonomics, #1)</td></tr>",
                            "<tr><td>The Secret Garden</td></tr>",
                            "<tr><td>One Hundred Years of Solitude</td></tr>",
                            "<tr><td>The Picture of Dorian Gray</td></tr>",
                            "<tr><td>Fifty Shades Freed (Fifty Shades, #3)</td></tr>",
                            "<tr><td>Dracula</td></tr>",
                            "<tr><td>The Girl Who Played with Fire (Millennium, #2)</td></tr>",
                            "<tr><td>Fifty Shades Darker (Fifty Shades, #2)</td></tr>",
                            "<tr><td>The Poisonwood Bible</td></tr>",
                            "<tr><td>Me Talk Pretty One Day</td></tr>",
                            "<tr><td>Where the Wild Things Are</td></tr>",
                            "<tr><td>The Count of Monte Cristo</td></tr>",
                            "<tr><td>The Road</td></tr>",
                            "<tr><td>Allegiant (Divergent, #3)</td></tr>",
                            "<tr><td>Bossypants</td></tr>",
                            "<tr><td>A Walk to Remember</td></tr>",
                            "<tr><td>Confessions of a Shopaholic (Shopaholic, #1)</td></tr>",
                            "<tr><td>Les Misérables</td></tr>",
                            "<tr><td>A Clash of Kings  (A Song of Ice and Fire, #2)</td></tr>",
                            "<tr><td>The Memory Keeper's Daughter</td></tr>",
                            "<tr><td>Me Before You (Me Before You, #1)</td></tr>",
                            "<tr><td>Catch-22</td></tr>",
                            "<tr><td>Tuesdays with Morrie</td></tr>",
                            "<tr><td>Middlesex</td></tr>",
                            "<tr><td>The Adventures of Tom Sawyer</td></tr>",
                            "<tr><td>A Wrinkle in Time (A Wrinkle in Time Quintet, #1)</td></tr>",
                            "<tr><td>The Joy Luck Club</td></tr>",
                            "<tr><td>The Handmaid's Tale</td></tr>",
                            "<tr><td>The Sisterhood of the Traveling Pants (Sisterhood, #1)</td></tr>",
                            "<tr><td>Lolita</td></tr>",
                            "<tr><td>Wicked: The Life and Times of the Wicked Witch of the West (The Wicked Years, #1)</td></tr>",
                            "<tr><td>The Firm (Penguin Readers, Level 5)</td></tr>",
                            "<tr><td>Room</td></tr>",
                            "<tr><td>Hamlet</td></tr>",
                            "<tr><td>Dune (Dune Chronicles #1)</td></tr>",
                            "<tr><td>The Tipping Point: How Little Things Can Make a Big Difference</td></tr>",
                            "<tr><td>Steve Jobs</td></tr>",
                            "<tr><td>One Flew Over the Cuckoo's Nest</td></tr>",
                            "<tr><td>The Old Man and the Sea</td></tr>",
                            "<tr><td>The Grapes of Wrath</td></tr>",
                            "<tr><td>The Five People You Meet in Heaven</td></tr>",
                            "<tr><td>Anne of Green Gables (Anne of Green Gables, #1)</td></tr>",
                            "<tr><td>City of Glass (The Mortal Instruments, #3)</td></tr>",
                            "<tr><td>A Storm of Swords (A Song of Ice and Fire, #3)</td></tr>",
                            "<tr><td>Divine Secrets of the Ya-Ya Sisterhood</td></tr>",
                            "<tr><td>Outlander (Outlander, #1)</td></tr>",
                            "<tr><td>The Scarlet Letter</td></tr>",
                            "<tr><td>Miss Peregrine’s Home for Peculiar Children (Miss Peregrine’s Peculiar Children, #1)</td></tr>",
                            "<tr><td>The Girl Who Kicked the Hornet's Nest (Millennium, #3)</td></tr>",
                            "<tr><td>The Martian</td></tr>",
                            "<tr><td>The Pillars of the Earth (The Kingsbridge Series, #1)</td></tr>",
                            "<tr><td>All the Light We Cannot See</td></tr>",
                            "<tr><td>Unbroken: A World War II Story of Survival, Resilience, and Redemption</td></tr>",
                            "<tr><td>Deception Point</td></tr>",
                            "<tr><td>The Goldfinch</td></tr>",
                            "<tr><td>Thirteen Reasons Why</td></tr>",
                            "<tr><td>Girl with a Pearl Earring</td></tr>",
                            "<tr><td>If I Stay (If I Stay, #1)</td></tr>",
                            "<tr><td>The Red Tent</td></tr>",
                            "<tr><td>The Sea of Monsters (Percy Jackson and the Olympians, #2)</td></tr>",
                            "<tr><td>Dear John</td></tr>",
                            "<tr><td>City of Ashes (The Mortal Instruments, #2)</td></tr>",
                            "<tr><td>Macbeth</td></tr>",
                            "<tr><td>The Two Towers (The Lord of the Rings, #2)</td></tr>",
                            "<tr><td>Something Borrowed (Darcy &amp; Rachel, #1)</td></tr>",
                            "<tr><td>Green Eggs and Ham</td></tr>",
                            "<tr><td>Charlie and the Chocolate Factory (Charlie Bucket, #1)</td></tr>",
                            "<tr><td>The Battle of the Labyrinth (Percy Jackson and the Olympians, #4)</td></tr>",
                            "<tr><td>Great Expectations</td></tr>",
                            "<tr><td>The Return of the King (The Lord of the Rings, #3)</td></tr>",
                            "<tr><td>The Stranger</td></tr>",
                            "<tr><td>The Lost Hero (The Heroes of Olympus, #1)</td></tr>",
                            "<tr><td>Eleanor &amp; Park</td></tr>",
                            "<tr><td>A Feast for Crows (A Song of Ice and Fire, #4)</td></tr>",
                            "<tr><td>Matched (Matched, #1)</td></tr>",
                            "<tr><td>American Gods (American Gods, #1)</td></tr>",
                            "<tr><td>The Stand</td></tr>",
                            "<tr><td>The Last Song</td></tr>",
                            "<tr><td>Digital Fortress</td></tr>",
                            "<tr><td>Emma</td></tr>",
                            "<tr><td>Anna Karenina</td></tr>",
                            "<tr><td>A Clockwork Orange</td></tr>",
                            "<tr><td>The Shack</td></tr>",
                            "<tr><td>The Last Olympian (Percy Jackson and the Olympians, #5)</td></tr>",
                            "<tr><td>It</td></tr>",
                            "<tr><td>Crime and Punishment</td></tr>",
                            "<tr><td>The Bell Jar</td></tr>",
                            "<tr><td>Angela's Ashes (Frank McCourt, #1)</td></tr>",
                            "<tr><td>Siddhartha</td></tr>",
                            "<tr><td>In Cold Blood</td></tr>",
                            "<tr><td>Beautiful Creatures (Caster Chronicles, #1)</td></tr>",
                            "<tr><td>Clockwork Angel (The Infernal Devices, #1)</td></tr>",
                            "<tr><td>Matilda</td></tr>",
                            "<tr><td>The Night Circus</td></tr>",
                            "<tr><td>The Other Boleyn Girl (The Plantagenet and Tudor Novels, #9)</td></tr>",
                            "<tr><td>Uglies (Uglies, #1)</td></tr>",
                            "<tr><td>A Dance with Dragons (A Song of Ice and Fire, #5)</td></tr>",
                            "<tr><td>The Lord of the Rings (The Lord of the Rings, #1-3)</td></tr>",
                            "<tr><td>Wild: From Lost to Found on the Pacific Crest Trail</td></tr>",
                            "<tr><td>Watchmen</td></tr>",
                            "<tr><td>The Name of the Wind (The Kingkiller Chronicle, #1)</td></tr>",
                            "<tr><td>Outliers: The Story of Success</td></tr>",
                            "<tr><td>Moby-Dick or, The Whale</td></tr>",
                            "<tr><td>The Guernsey Literary and Potato Peel Pie Society</td></tr>",
                            "<tr><td>Fight Club</td></tr>",
                            "<tr><td>Dead Until Dark (Sookie Stackhouse, #1)</td></tr>",
                            "<tr><td>The Color Purple</td></tr>",
                            "<tr><td>Marley and Me: Life and Love With the World's Worst Dog</td></tr>",
                            "<tr><td>And Then There Were None</td></tr>",
                            "<tr><td>The Lost Symbol (Robert Langdon, #3)</td></tr>",
                            "<tr><td>Hush, Hush (Hush, Hush, #1)</td></tr>",
                            "<tr><td>Beautiful Disaster (Beautiful, #1)</td></tr>",
                            "<tr><td>A Christmas Carol</td></tr>",
                            "<tr><td>Interview with the Vampire (The Vampire Chronicles, #1)</td></tr>",
                            "<tr><td>The Selection (The Selection, #1)</td></tr>",
                            "<tr><td>One for the Money (Stephanie Plum, #1)</td></tr>",
                            "<tr><td>The Immortal Life of Henrietta Lacks</td></tr>",
                            "<tr><td>The Silence of the Lambs  (Hannibal Lecter, #2)</td></tr>",
                            "<tr><td>Vampire Academy (Vampire Academy, #1)</td></tr>",
                            "<tr><td>Blink: The Power of Thinking Without Thinking</td></tr>",
                            "<tr><td>Atonement</td></tr>",
                            "<tr><td>The Metamorphosis</td></tr>",
                            "<tr><td>The Titan's Curse (Percy Jackson and the Olympians, #3)</td></tr>",
                            "<tr><td>Ready Player One</td></tr>",
                            "<tr><td>The Art of Racing in the Rain</td></tr>",
                            "<tr><td>The Devil in the White City: Murder, Magic, and Madness at the Fair That Changed America</td></tr>",
                            "<tr><td>Bared to You (Crossfire, #1)</td></tr>",
                            "<tr><td>The Chronicles of Narnia (Chronicles of Narnia, #1-7)</td></tr>",
                            "<tr><td>Twilight: The Complete Illustrated Movie Companion</td></tr>",
                            "<tr><td>A Child Called &quot;It&quot; (Dave Pelzer #1)</td></tr>",
                            "<tr><td>The Bourne Identity (Jason Bourne, #1)</td></tr>",
                            "<tr><td>Artemis Fowl (Artemis Fowl, #1)</td></tr>",
                            "<tr><td>Fallen (Fallen, #1)</td></tr>",
                            "<tr><td>East of Eden</td></tr>",
                            "<tr><td>Dark Places</td></tr>",
                            "<tr><td>The Client</td></tr>",
                            "<tr><td>The Nanny Diaries (Nanny, #1)</td></tr>",
                            "<tr><td>Alice's Adventures in Wonderland &amp; Through the Looking-Glass</td></tr>",
                            "<tr><td>Persuasion</td></tr>",
                            "<tr><td>Sarah's Key</td></tr>",
                            "<tr><td>The Gunslinger (The Dark Tower, #1)</td></tr>",
                            "<tr><td>Love in the Time of Cholera</td></tr>",
                            "<tr><td>Speak</td></tr>",
                            "<tr><td>The Husband's Secret</td></tr>",
                            "<tr><td>Into Thin Air: A Personal Account of the Mount Everest Disaster</td></tr>",
                            "<tr><td>Carrie</td></tr>",
                            "<tr><td>Running with Scissors</td></tr>",
                            "<tr><td>World War Z: An Oral History of the Zombie War</td></tr>",
                            "<tr><td>Inferno (Robert Langdon, #4)</td></tr>",
                            "<tr><td>Number the Stars</td></tr>",
                            "<tr><td>Along Came a Spider (Alex Cross, #1)</td></tr>",
                            "<tr><td>Misery</td></tr>",
                            "<tr><td>Sharp Objects</td></tr>",
                            "<tr><td>Bridge to Terabithia</td></tr>",
                            "<tr><td>Marked (House of Night, #1)</td></tr>",
                            "<tr><td>The 7 Habits of Highly Effective People: Powerful Lessons in Personal Change</td></tr>",
                            "<tr><td>A Midsummer Night's Dream</td></tr>",
                            "<tr><td>Extremely Loud and Incredibly Close</td></tr>",
                            "<tr><td>Wonder</td></tr>",
                            "<tr><td>The Cat in the Hat</td></tr>",
                            "<tr><td>Cinder (The Lunar Chronicles, #1)</td></tr>",
                            "<tr><td>The Cuckoo's Calling (Cormoran Strike, #1)</td></tr>",
                            "<tr><td>Shiver (The Wolves of Mercy Falls, #1)</td></tr>",
                            "<tr><td>Atlas Shrugged</td></tr>",
                            "<tr><td>Three Cups of Tea: One Man's Mission to Promote Peace ... One School at a Time</td></tr>",
                            "<tr><td>Alice in Wonderland</td></tr>",
                            "<tr><td>The Shadow of the Wind (The Cemetery of Forgotten Books,  #1)</td></tr>",
                            "<tr><td>The Scorch Trials (Maze Runner, #2)</td></tr>",
                            "<tr><td>How to Win Friends and Influence People</td></tr>",
                            "<tr><td>Under the Tuscan Sun</td></tr>",
                            "<tr><td>Big Little Lies</td></tr>",
                            "<tr><td>Ella Enchanted</td></tr>",
                            "<tr><td>The Sun Also Rises</td></tr>",
                            "<tr><td>A Tree Grows in Brooklyn</td></tr>",
                            "<tr><td>Kiss the Girls (Alex Cross, #2)</td></tr>",
                            "<tr><td>The Nightingale</td></tr>",
                            "<tr><td>Never Let Me Go</td></tr>",
                            "<tr><td>P.S. I Love You</td></tr>",
                            "<tr><td>Rebecca</td></tr>",
                            "<tr><td>Flowers for Algernon</td></tr>",
                            "<tr><td>Like Water for Chocolate</td></tr>",
                            "<tr><td>Snow Flower and the Secret Fan</td></tr>",
                            "<tr><td>The Godfather</td></tr>",
                            "<tr><td>An Abundance of Katherines</td></tr>",
                            "<tr><td>Foundation (Foundation #1)</td></tr>",
                            "<tr><td>The Ocean at the End of the Lane</td></tr>",
                            "<tr><td>A Light in the Attic</td></tr>",
                            "<tr><td>Harry Potter and the Cursed Child - Parts One and Two (Harry Potter, #8)</td></tr>",
                            "<tr><td>Delirium (Delirium, #1)</td></tr>",
                            "<tr><td>The Pelican Brief</td></tr>",
                            "<tr><td>Coraline</td></tr>",
                            "<tr><td>Good Omens: The Nice and Accurate Prophecies of Agnes Nutter, Witch</td></tr>",
                            "<tr><td>On the Road</td></tr>",
                            "<tr><td>The Rosie Project (Don Tillman, #1)</td></tr>",
                            "<tr><td>The Lucky One</td></tr>",
                            "<tr><td>The Fountainhead</td></tr>",
                            "<tr><td>The Hunt for Red October (Jack Ryan Universe, #4)</td></tr>",
                            "<tr><td>Watership Down (Watership Down, #1)</td></tr>",
                            "<tr><td>Is Everyone Hanging Out Without Me? (And Other Concerns)</td></tr>",
                            "<tr><td>Cutting for Stone</td></tr>",
                            "<tr><td>The Voyage of the Dawn Treader (Chronicles of Narnia, #3)</td></tr>",
                            "<tr><td>Treasure Island</td></tr>",
                            "<tr><td>The Son of Neptune (The Heroes of Olympus, #2)</td></tr>",
                            "<tr><td>11/22/63</td></tr>",
                            "<tr><td>The Very Hungry Caterpillar Board Book</td></tr>",
                            "<tr><td>Cat's Cradle</td></tr>",
                            "<tr><td>The Time Machine</td></tr>",
                            "<tr><td>Heaven is for Real: A Little Boy's Astounding Story of His Trip to Heaven and Back</td></tr>",
                            "<tr><td>The Boy in the Striped Pajamas</td></tr>",
                            "<tr><td>Heart of Darkness</td></tr>",
                            "<tr><td>Safe Haven</td></tr>",
                            "<tr><td>The Secret (The Secret, #1)</td></tr>",
                            "<tr><td>I Know This Much Is True</td></tr>",
                            "<tr><td>Pet Sematary</td></tr>",
                            "<tr><td>She's Come Undone</td></tr>",
                            "<tr><td>The Wise Man's Fear (The Kingkiller Chronicle, #2)</td></tr>",
                            "<tr><td>Can You Keep a Secret?</td></tr>",
                            "<tr><td>City of Fallen Angels (The Mortal Instruments, #4)</td></tr>",
                            "<tr><td>Good in Bed (Cannie Shapiro, #1)</td></tr>",
                            "<tr><td>The Thorn Birds</td></tr>",
                            "<tr><td>The Graveyard Book</td></tr>",
                            "<tr><td>The Light Between Oceans</td></tr>",
                            "<tr><td>Inkheart (Inkworld, #1)</td></tr>",
                            "<tr><td>Who Moved My Cheese?</td></tr>",
                            "<tr><td>A Walk in the Woods</td></tr>",
                            "<tr><td>I Know Why the Caged Bird Sings</td></tr>",
                            "<tr><td>Orphan Train</td></tr>",
                            "<tr><td>City of Lost Souls (The Mortal Instruments, #5)</td></tr>",
                            "<tr><td>Where'd You Go, Bernadette</td></tr>",
                            "<tr><td>Where the Red Fern Grows</td></tr>",
                            "<tr><td>Neverwhere</td></tr>",
                            "<tr><td>The Unbearable Lightness of Being</td></tr>",
                            "<tr><td>A Prayer for Owen Meany</td></tr>",
                            "<tr><td>White Oleander</td></tr>",
                            "<tr><td>Legend (Legend, #1)</td></tr>",
                            "<tr><td>Nineteen Minutes</td></tr>",
                            "<tr><td>The Last Lecture</td></tr>",
                            "<tr><td>The Eye of the World (Wheel of Time, #1)</td></tr>",
                            "<tr><td>The Pact</td></tr>",
                            "<tr><td>The Magician's Nephew (Chronicles of Narnia, #6)</td></tr>",
                            "<tr><td>Still Alice</td></tr>",
                            "<tr><td>Reflected in You (Crossfire, #2)</td></tr>",
                            "<tr><td>James and the Giant Peach</td></tr>",
                            "<tr><td>1st to Die (Women's Murder Club, #1)</td></tr>",
                            "<tr><td>The Ultimate Hitchhiker's Guide to the Galaxy</td></tr>",
                            "<tr><td>One Day</td></tr>",
                            "<tr><td>Goodnight Moon</td></tr>",
                            "<tr><td>I Am Number Four (Lorien Legacies, #1)</td></tr>",
                            "<tr><td>The Iliad</td></tr>",
                            "<tr><td>The Casual Vacancy</td></tr>",
                            "<tr><td>The Runaway Jury</td></tr>",
                            "<tr><td>Naked</td></tr>",
                            "<tr><td>Eldest (The Inheritance Cycle, #2)</td></tr>",
                            "<tr><td>The Wonderful Wizard of Oz (Oz, #1)</td></tr>",
                            "<tr><td>Prince Caspian (Chronicles of Narnia, #2)</td></tr>",
                            "<tr><td>We Were Liars</td></tr>",
                            "<tr><td>'Salem's Lot</td></tr>",
                            "<tr><td>Fear and Loathing in Las Vegas</td></tr>",
                            "<tr><td>Clockwork Prince (The Infernal Devices, #2)</td></tr>",
                            "<tr><td>Yes Please</td></tr>",
                            "<tr><td>Othello</td></tr>",
                            "<tr><td>Beloved</td></tr>",
                            "<tr><td>Graceling (Graceling Realm, #1)</td></tr>",
                            "<tr><td>The Bad Beginning (A Series of Unfortunate Events, #1)</td></tr>",
                            "<tr><td>All Quiet on the Western Front</td></tr>",
                            "<tr><td>Oh, The Places You'll Go!</td></tr>",
                            "<tr><td>And the Mountains Echoed</td></tr>",
                            "<tr><td>Do Androids Dream of Electric Sheep?</td></tr>",
                            "<tr><td>Oliver Twist</td></tr>",
                            "<tr><td>The Screwtape Letters</td></tr>",
                            "<tr><td>Anna and the French Kiss (Anna and the French Kiss, #1)</td></tr>",
                            "<tr><td>How the Grinch Stole Christmas!</td></tr>",
                            "<tr><td>V for Vendetta</td></tr>",
                            "<tr><td>John Adams</td></tr>",
                            "<tr><td>Odd Thomas (Odd Thomas, #1)</td></tr>",
                            "<tr><td>The Subtle Knife (His Dark Materials, #2)</td></tr>",
                            "<tr><td>Stargirl (Stargirl, #1)</td></tr>",
                            "<tr><td>The Red Pyramid (Kane Chronicles, #1)</td></tr>",
                            "<tr><td>Stranger in a Strange Land</td></tr>",
                            "<tr><td>Dress Your Family in Corduroy and Denim</td></tr>",
                            "<tr><td>The BFG</td></tr>",
                            "<tr><td>A Short History of Nearly Everything</td></tr>",
                            "<tr><td>The Call of the Wild</td></tr>",
                            "<tr><td>The Death Cure (Maze Runner, #3)</td></tr>",
                            "<tr><td>Stardust</td></tr>",
                            "<tr><td>The Namesake</td></tr>",
                            "<tr><td>A Discovery of Witches (All Souls Trilogy, #1)</td></tr>",
                            "<tr><td>Norwegian Wood</td></tr>",
                            "<tr><td>Where the Heart Is</td></tr>",
                            "<tr><td>Will Grayson, Will Grayson</td></tr>",
                            "<tr><td>A Million Little Pieces</td></tr>",
                            "<tr><td>Frostbite (Vampire Academy, #2)</td></tr>",
                            "<tr><td>Quiet: The Power of Introverts in a World That Can't Stop Talking</td></tr>",
                            "<tr><td>Island of the Blue Dolphins (Island of the Blue Dolphins, #1)</td></tr>",
                            "<tr><td>The Crucible</td></tr>",
                            "<tr><td>Hatchet (Brian's Saga, #1)</td></tr>",
                            "<tr><td>The Final Empire (Mistborn, #1)</td></tr>",
                            "<tr><td>The Strange Case of Dr. Jekyll and Mr. Hyde</td></tr>",
                            "<tr><td>The Lorax</td></tr>",
                            "<tr><td>Diary of a Wimpy Kid (Diary of a Wimpy Kid, #1)</td></tr>",
                            "<tr><td>Throne of Glass (Throne of Glass, #1)</td></tr>",
                            "<tr><td>Shadow Kiss (Vampire Academy, #3)</td></tr>",
                            "<tr><td>For Whom the Bell Tolls</td></tr>",
                            "<tr><td>Hotel on the Corner of Bitter and Sweet</td></tr>",
                            "<tr><td>Perfume: The Story of a Murderer</td></tr>",
                            "<tr><td>Fast Food Nation: The Dark Side of the All-American Meal</td></tr>",
                            "<tr><td>The Tales of Beedle the Bard</td></tr>",
                            "<tr><td>Neuromancer</td></tr>",
                            "<tr><td>A Farewell to Arms</td></tr>",
                            "<tr><td>The Tell-Tale Heart and Other Writings</td></tr>",
                            "<tr><td>The Art of War</td></tr>",
                            "<tr><td>Defending Jacob</td></tr>",
                            "<tr><td>Breakfast of Champions</td></tr>",
                            "<tr><td>The New Drawing on the Right Side of the Brain</td></tr>",
                            "<tr><td>Bel Canto</td></tr>",
                            "<tr><td>Guns, Germs, and Steel: The Fates of Human Societies</td></tr>",
                            "<tr><td>Fried Green Tomatoes at the Whistle Stop Cafe</td></tr>",
                            "<tr><td>Things Fall Apart (The African Trilogy, #1)</td></tr>",
                            "<tr><td>The Undomestic Goddess</td></tr>",
                            "<tr><td>The Five Love Languages: How to Express Heartfelt Commitment to Your Mate</td></tr>",
                            "<tr><td>The Three Musketeers</td></tr>",
                            "<tr><td>Little Bee</td></tr>",
                            "<tr><td>Evermore (The Immortals, #1)</td></tr>",
                            "<tr><td>The Witches</td></tr>",
                            "<tr><td>The Thirteenth Tale</td></tr>",
                            "<tr><td>Spirit Bound (Vampire Academy, #5)</td></tr>",
                            "<tr><td>Blood Promise (Vampire Academy, #4)</td></tr>",
                            "<tr><td>Message in a Bottle</td></tr>",
                            "<tr><td>The Paris Wife</td></tr>",
                            "<tr><td>Harry Potter Boxset (Harry Potter, #1-7)</td></tr>",
                            "<tr><td>The Elite (The Selection, #2)</td></tr>",
                            "<tr><td>The Name of the Rose</td></tr>",
                            "<tr><td>Go Ask Alice</td></tr>",
                            "<tr><td>A Confederacy of Dunces</td></tr>",
                            "<tr><td>The Importance of Being Earnest</td></tr>",
                            "<tr><td>The Mark of Athena (The Heroes of Olympus, #3)</td></tr>",
                            "<tr><td>The Color of Magic (Discworld, #1; Rincewind #1)</td></tr>",
                            "<tr><td>Kafka on the Shore</td></tr>",
                            "<tr><td>Red Dragon (Hannibal Lecter, #1)</td></tr>",
                            "<tr><td>I, Robot (Robot #0.1)</td></tr>",
                            "<tr><td>Dark Lover (Black Dagger Brotherhood, #1)</td></tr>",
                            "<tr><td>Crescendo (Hush, Hush, #2)</td></tr>",
                            "<tr><td>Before I Fall</td></tr>",
                            "<tr><td>The God of Small Things</td></tr>",
                            "<tr><td>The Invention of Wings</td></tr>",
                            "<tr><td>What Alice Forgot</td></tr>",
                            "<tr><td>A Brief History of Time</td></tr>",
                            "<tr><td>Fall of Giants (The Century Trilogy, #1)</td></tr>",
                            "<tr><td>Under the Dome</td></tr>",
                            "<tr><td>Snow Crash</td></tr>",
                            "<tr><td>Just Listen</td></tr>",
                            "<tr><td>Winnie-the-Pooh (Winnie-the-Pooh, #1)</td></tr>",
                            "<tr><td>Before I Go to Sleep</td></tr>",
                            "<tr><td>A Study in Scarlet</td></tr>",
                            "<tr><td>Brisingr (The Inheritance Cycle, #3)</td></tr>",
                            "<tr><td>The Purpose Driven Life: What on Earth Am I Here for?</td></tr>",
                            "<tr><td>Betrayed (House of Night, #2)</td></tr>",
                            "<tr><td>Storm Front (The Dresden Files, #1)</td></tr>",
                            "<tr><td>Northanger Abbey</td></tr>",
                            "<tr><td>The 5th Wave (The 5th Wave, #1)</td></tr>",
                            "<tr><td>Cold Mountain</td></tr>",
                            "<tr><td>If You Give a Mouse a Cookie</td></tr>",
                            "<tr><td>Something Blue (Darcy &amp; Rachel, #2)</td></tr>",
                            "<tr><td>A Streetcar Named Desire</td></tr>",
                            "<tr><td>The Historian</td></tr>",
                            "<tr><td>Station Eleven</td></tr>",
                            "<tr><td>A Man Called Ove</td></tr>",
                            "<tr><td>Clockwork Princess (The Infernal Devices, #3)</td></tr>",
                            "<tr><td>The Good Earth (House of Earth, #1)</td></tr>",
                            "<tr><td>Ways of Seeing</td></tr>",
                            "<tr><td>Dragonfly in Amber (Outlander, #2)</td></tr>",
                            "<tr><td>Holy Bible: King James Version</td></tr>",
                            "<tr><td>In Her Shoes</td></tr>",
                            "<tr><td>The Brief Wondrous Life of Oscar Wao</td></tr>",
                            "<tr><td>Their Eyes Were Watching God</td></tr>",
                            "<tr><td>Fantastic Beasts and Where to Find Them</td></tr>",
                            "<tr><td>I Am Malala: The Story of the Girl Who Stood Up for Education and Was Shot by the Taliban</td></tr>",
                            "<tr><td>Mansfield Park</td></tr>",
                            "<tr><td>Man's Search for Meaning</td></tr>",
                            "<tr><td>In the Woods (Dublin Murder Squad, #1)</td></tr>",
                            "<tr><td>The God Delusion</td></tr>",
                            "<tr><td>Where She Went (If I Stay, #2)</td></tr>",
                            "<tr><td>The World According to Garp</td></tr>",
                            "<tr><td>Killing Floor (Jack Reacher, #1)</td></tr>",
                            "<tr><td>Robinson Crusoe</td></tr>",
                            "<tr><td>The Prince</td></tr>",
                            "<tr><td>The Amber Spyglass (His Dark Materials, #3)</td></tr>",
                            "<tr><td>Wizard's First Rule (Sword of Truth, #1)</td></tr>",
                            "<tr><td>The Kitchen House</td></tr>",
                            "<tr><td>Franny and Zooey</td></tr>",
                            "<tr><td>Choke</td></tr>",
                            "<tr><td>The Brothers Karamazov</td></tr>",
                            "<tr><td>The City of Ember (Book of Ember, #1)</td></tr>",
                            "<tr><td>The Andromeda Strain</td></tr>",
                            "<tr><td>The Prophet</td></tr>",
                            "<tr><td>Maus I: A Survivor's Tale: My Father Bleeds History (Maus, #1)</td></tr>",
                            "<tr><td>Untamed (House of Night, #4)</td></tr>",
                            "<tr><td>Speaker for the Dead (Ender's Saga, #2)</td></tr>",
                            "<tr><td>Mere Christianity</td></tr>",
                            "<tr><td>The Secret History</td></tr>",
                            "<tr><td>A Heartbreaking Work of Staggering Genius</td></tr>",
                            "<tr><td>The Clan of the Cave Bear (Earth's Children, #1)</td></tr>",
                            "<tr><td>Black Beauty</td></tr>",
                            "<tr><td>War and Peace</td></tr>",
                            "<tr><td>American Psycho</td></tr>",
                            "<tr><td>The Princess Diaries (The Princess Diaries, #1)</td></tr>",
                            "<tr><td>The No. 1 Ladies' Detective Agency  (No. 1 Ladies' Detective Agency, #1)</td></tr>",
                            "<tr><td>The Walking Dead, Vol. 01: Days Gone Bye</td></tr>",
                            "<tr><td>2001: A Space Odyssey (Space Odyssey, #1)</td></tr>",
                            "<tr><td>Redeeming Love</td></tr>",
                            "<tr><td>Left Behind (Left Behind, #1)</td></tr>",
                            "<tr><td>The One (The Selection, #3)</td></tr>",
                            "<tr><td>The Hunger Games Trilogy Boxset (The Hunger Games, #1-3)</td></tr>",
                            "<tr><td>Nickel and Dimed: On (Not) Getting By in America</td></tr>",
                            "<tr><td>Remember Me?</td></tr>",
                            "<tr><td>The Great Hunt (Wheel of Time, #2)</td></tr>",
                            "<tr><td>Postmortem (Kay Scarpetta, #1)</td></tr>",
                            "<tr><td>The Complete Stories and Poems</td></tr>",
                            "<tr><td>The Hiding Place: The Triumphant True Story of Corrie Ten Boom</td></tr>",
                            "<tr><td>The Prince of Tides</td></tr>",
                            "<tr><td>The Amazing Adventures of Kavalier &amp; Clay</td></tr>",
                            "<tr><td>Perfect Chemistry (Perfect Chemistry, #1)</td></tr>",
                            "<tr><td>Peter Pan</td></tr>",
                            "<tr><td>Pretties (Uglies, #2)</td></tr>",
                            "<tr><td>The Wind-Up Bird Chronicle</td></tr>",
                            "<tr><td>The Lincoln Lawyer (Mickey Haller, #1; Harry Bosch Universe, #16)</td></tr>",
                            "<tr><td>Cloud Atlas</td></tr>",
                            "<tr><td>The Things They Carried</td></tr>",
                            "<tr><td>Wall and Piece</td></tr>",
                            "<tr><td>Pandemonium (Delirium, #2)</td></tr>",
                            "<tr><td>Darkly Dreaming Dexter (Dexter, #1)</td></tr>",
                            "<tr><td>Living Dead in Dallas (Sookie Stackhouse, #2)</td></tr>",
                            "<tr><td>The Dragon Reborn (Wheel of Time, #3)</td></tr>",
                            "<tr><td>Gulliver's Travels</td></tr>",
                            "<tr><td>Much Ado About Nothing</td></tr>",
                            "<tr><td>Beowulf</td></tr>",
                            "<tr><td>Batman: Year One</td></tr>",
                            "<tr><td>Go Set a Watchman</td></tr>",
                            "<tr><td>When You Are Engulfed in Flames</td></tr>",
                            "<tr><td>Daughter of Smoke &amp; Bone (Daughter of Smoke &amp; Bone, #1)</td></tr>",
                            "<tr><td>Red Queen (Red Queen, #1)</td></tr>",
                            "<tr><td>The Power of Habit: Why We Do What We Do in Life and Business</td></tr>",
                            "<tr><td>Midnight in the Garden of Good and Evil</td></tr>",
                            "<tr><td>Hopeless (Hopeless, #1)</td></tr>",
                            "<tr><td>A Little Princess</td></tr>",
                            "<tr><td>The Truth About Forever</td></tr>",
                            "<tr><td>The Horse and His Boy (Chronicles of Narnia, #5)</td></tr>",
                            "<tr><td>Last Sacrifice (Vampire Academy, #6)</td></tr>",
                            "<tr><td>Little House on the Prairie (Little House, #2)</td></tr>",
                            "<tr><td>The Velveteen Rabbit</td></tr>",
                            "<tr><td>Zen and the Art of Motorcycle Maintenance: An Inquiry Into Values</td></tr>",
                            "<tr><td>The War of the Worlds</td></tr>",
                            "<tr><td>Pretty Little Liars (Pretty Little Liars, #1)</td></tr>",
                            "<tr><td>Corduroy</td></tr>",
                            "<tr><td>The Omnivore's Dilemma: A Natural History of Four Meals</td></tr>",
                            "<tr><td>Life After Life</td></tr>",
                            "<tr><td>The Rescue</td></tr>",
                            "<tr><td>Needful Things</td></tr>",
                            "<tr><td>Hamlet: Screenplay, Introduction And Film Diary</td></tr>",
                            "<tr><td>Cujo</td></tr>",
                            "<tr><td>The Virgin Suicides</td></tr>",
                            "<tr><td>Dead to the World (Sookie Stackhouse, #4)</td></tr>",
                            "<tr><td>Tess of the D'Urbervilles</td></tr>",
                            "<tr><td>Madame Bovary</td></tr>",
                            "<tr><td>The Phantom Tollbooth</td></tr>",
                            "<tr><td>The Way of Kings (The Stormlight Archive, #1)</td></tr>",
                            "<tr><td>Club Dead (Sookie Stackhouse, #3)</td></tr>",
                            "<tr><td>It's Kind of a Funny Story</td></tr>",
                            "<tr><td>After You (Me Before You, #2)</td></tr>",
                            "<tr><td>The Language of Flowers</td></tr>",
                            "<tr><td>Batman: The Dark Knight Returns (The Dark Knight Saga, #1)</td></tr>",
                            "<tr><td>The Angel Experiment (Maximum Ride, #1)</td></tr>",
                            "<tr><td>High Fidelity</td></tr>",
                            "<tr><td>The Guardian</td></tr>",
                            "<tr><td>Oryx and Crake (MaddAddam, #1)</td></tr>",
                            "<tr><td>Men Are from Mars, Women Are from Venus</td></tr>",
                            "<tr><td>Kitchen Confidential: Adventures in the Culinary Underbelly</td></tr>",
                            "<tr><td>Timeline</td></tr>",
                            "<tr><td>Candide</td></tr>",
                            "<tr><td>Tuck Everlasting</td></tr>",
                            "<tr><td>Christine</td></tr>",
                            "<tr><td>Are You My Mother?</td></tr>",
                            "<tr><td>The Story of Art</td></tr>",
                            "<tr><td>Scarlet (The Lunar Chronicles, #2)</td></tr>",
                            "<tr><td>Rich Dad, Poor Dad</td></tr>",
                            "<tr><td>Silence (Hush, Hush, #3)</td></tr>",
                            "<tr><td>The Magicians (The Magicians #1)</td></tr>",
                            "<tr><td>Death Note, Vol. 1: Boredom (Death Note, #1)</td></tr>",
                            "<tr><td>A Great and Terrible Beauty (Gemma Doyle, #1)</td></tr>",
                            "<tr><td>Everything Is Illuminated</td></tr>",
                            "<tr><td>The Bourne Supremacy (Jason Bourne, #2)</td></tr>",
                            "<tr><td>Easy (Contours of the Heart, #1)</td></tr>",
                            "<tr><td>David Copperfield</td></tr>",
                            "<tr><td>The Absolutely True Diary of a Part-Time Indian</td></tr>",
                            "<tr><td>The Master and Margarita</td></tr>",
                            "<tr><td>A Wizard of Earthsea (Earthsea Cycle, #1)</td></tr>",
                            "<tr><td>Because of Winn-Dixie</td></tr>",
                            "<tr><td>A Separate Peace</td></tr>",
                            "<tr><td>Don Quixote</td></tr>",
                            "<tr><td>Assassin's Apprentice (Farseer Trilogy, #1)</td></tr>",
                            "<tr><td>Torment (Fallen, #2)</td></tr>",
                            "<tr><td>The Tale of Peter Rabbit</td></tr>",
                            "<tr><td>The Silver Chair (Chronicles of Narnia, #4)</td></tr>",
                            "<tr><td>Girl, Interrupted</td></tr>",
                            "<tr><td>Are You There, Vodka? It's Me, Chelsea</td></tr>",
                            "<tr><td>Jonathan Livingston Seagull</td></tr>",
                            "<tr><td>City of Heavenly Fire (The Mortal Instruments, #6)</td></tr>",
                            "<tr><td>Love You Forever</td></tr>",
                            "<tr><td>Cell</td></tr>",
                            "<tr><td>The Boys in the Boat: Nine Americans and Their Epic Quest for Gold at the 1936 Berlin Olympics</td></tr>",
                            "<tr><td>The Silmarillion (Middle-Earth Universe)</td></tr>",
                            "<tr><td>The Drawing of the Three (The Dark Tower, #2)</td></tr>",
                            "<tr><td>The Forgotten Garden</td></tr>",
                            "<tr><td>The Trial</td></tr>",
                            "<tr><td>This Lullaby</td></tr>",
                            "<tr><td>Plain Truth</td></tr>",
                            "<tr><td>Orange Is the New Black</td></tr>",
                            "<tr><td>The Hound of the Baskervilles</td></tr>",
                            "<tr><td>Thinking, Fast and Slow</td></tr>",
                            "<tr><td>The Mists of Avalon (Avalon, #1)</td></tr>",
                            "<tr><td>Are You There God? It's Me, Margaret</td></tr>",
                            "<tr><td>Nights in Rodanthe</td></tr>",
                            "<tr><td>Mr. Mercedes (Bill Hodges Trilogy, #1)</td></tr>",
                            "<tr><td>All Together Dead (Sookie Stackhouse, #7)</td></tr>",
                            "<tr><td>Midwives</td></tr>",
                            "<tr><td>The Polar Express</td></tr>",
                            "<tr><td>The True Story of the 3 Little Pigs</td></tr>",
                            "<tr><td>Patriot Games (Jack Ryan Universe, #2)</td></tr>",
                            "<tr><td>Veronika Decides to Die</td></tr>",
                            "<tr><td>Lean In: Women, Work, and the Will to Lead</td></tr>",
                            "<tr><td>Shatter Me (Shatter Me, #1)</td></tr>",
                            "<tr><td>Starship Troopers</td></tr>",
                            "<tr><td>I've Got Your Number</td></tr>",
                            "<tr><td>Sophie's World</td></tr>",
                            "<tr><td>The Twilight Saga Breaking Dawn Part 1: The Official Illustrated Movie Companion (The Twilight Saga: The Official Illustrated Movie Companion, #4)</td></tr>",
                            "<tr><td>The Martian Chronicles</td></tr>",
                            "<tr><td>A Visit from the Goon Squad</td></tr>",
                            "<tr><td>Heidi</td></tr>",
                            "<tr><td>Prey</td></tr>",
                            "<tr><td>The Last Battle (Chronicles of Narnia, #7)</td></tr>",
                            "<tr><td>World Without End (The Kingsbridge Series, #2)</td></tr>",
                            "<tr><td>Chosen (House of Night, #3)</td></tr>",
                            "<tr><td>Slammed (Slammed, #1)</td></tr>",
                            "<tr><td>Beastly (Beastly, #1; Kendra Chronicles, #1)</td></tr>",
                            "<tr><td>The Canterbury Tales</td></tr>",
                            "<tr><td>Baby Proof</td></tr>",
                            "<tr><td>Inheritance (The Inheritance Cycle, #4)</td></tr>",
                            "<tr><td>1Q84</td></tr>",
                            "<tr><td>Uncle Tom's Cabin</td></tr>",
                            "<tr><td>The Phantom of the Opera</td></tr>",
                            "<tr><td>Definitely Dead (Sookie Stackhouse, #6)</td></tr>",
                            "<tr><td>Blindness</td></tr>",
                            "<tr><td>Freedom</td></tr>",
                            "<tr><td>Crossed (Matched, #2)</td></tr>",
                            "<tr><td>I'd Tell You I Love You, But Then I'd Have to Kill You (Gallagher Girls, #1)</td></tr>",
                            "<tr><td>The White Tiger</td></tr>",
                            "<tr><td>The Corrections</td></tr>",
                            "<tr><td>Dreams from My Father: A Story of Race and Inheritance</td></tr>",
                            "<tr><td>Congo</td></tr>",
                            "<tr><td>Alexander and the Terrible, Horrible, No Good, Very Bad Day</td></tr>",
                            "<tr><td>A People's History of the United States</td></tr>",
                            "<tr><td>Breakfast at Tiffany's</td></tr>",
                            "<tr><td>The Passage (The Passage, #1)</td></tr>",
                            "<tr><td>Anansi Boys</td></tr>",
                            "<tr><td>Along for the Ride</td></tr>",
                            "<tr><td>Everything I Never Told You</td></tr>",
                            "<tr><td>The House of the Spirits</td></tr>",
                            "<tr><td>The Dead Zone</td></tr>",
                            "<tr><td>The Mysterious Affair at Styles (Hercule Poirot, #1)</td></tr>",
                            "<tr><td>Americanah</td></tr>",
                            "<tr><td>Suzanne's Diary for Nicholas</td></tr>",
                            "<tr><td>Firestarter</td></tr>",
                            "<tr><td>Entwined with You (Crossfire, #3)</td></tr>",
                            "<tr><td>Born to Run: A Hidden Tribe, Superathletes, and the Greatest Race the World Has Never Seen</td></tr>",
                            "<tr><td>The Storied Life of A.J. Fikry</td></tr>",
                            "<tr><td>Madeline</td></tr>",
                            "<tr><td>Think and Grow Rich: The Landmark Bestseller - Now Revised and Updated for the 21st Century</td></tr>",
                            "<tr><td>Little House in the Big Woods (Little House, #1)</td></tr>",
                            "<tr><td>Jonathan Strange &amp; Mr Norrell</td></tr>",
                            "<tr><td>A Bend in the Road</td></tr>",
                            "<tr><td>Gone (Gone, #1)</td></tr>",
                            "<tr><td>The Wedding (The Notebook, #2)</td></tr>",
                            "<tr><td>1776</td></tr>",
                            "<tr><td>Under the Banner of Heaven: A Story of Violent Faith</td></tr>",
                            "<tr><td>Beautiful Ruins</td></tr>",
                            "<tr><td>The Audacity of Hope: Thoughts on Reclaiming the American Dream</td></tr>",
                            "<tr><td>On Writing: A Memoir of the Craft</td></tr>",
                            "<tr><td>Firefly Lane (Firefly Lane, #1)</td></tr>",
                            "<tr><td>Sphere</td></tr>",
                            "<tr><td>Love the One You're With</td></tr>",
                            "<tr><td>The Silkworm (Cormoran Strike, #2)</td></tr>",
                            "<tr><td>The Vampire Lestat (The Vampire Chronicles, #2)</td></tr>",
                            "<tr><td>State of Wonder</td></tr>",
                            "<tr><td>The Silver Linings Playbook</td></tr>",
                            "<tr><td>Twenty Thousand Leagues Under the Sea</td></tr>",
                            "<tr><td>The Constant Princess (The Plantagenet and Tudor Novels, #6)</td></tr>",
                            "<tr><td>Mrs. Dalloway</td></tr>",
                            "<tr><td>The Hundred-Year-Old Man Who Climbed Out of the Window and Disappeared</td></tr>",
                            "<tr><td>Bag of Bones</td></tr>",
                            "<tr><td>The Cider House Rules</td></tr>",
                            "<tr><td>Thinner</td></tr>",
                            "<tr><td>Around the World in Eighty Days</td></tr>",
                            "<tr><td>Walk Two Moons</td></tr>",
                            "<tr><td>Eleven Minutes</td></tr>",
                            "<tr><td>Nine Stories</td></tr>",
                            "<tr><td>Julie and Julia: 365 Days, 524 Recipes, 1 Tiny Apartment Kitchen: How One Girl Risked Her Marriage, Her Job, and Her Sanity to Master the Art of Living</td></tr>",
                            "<tr><td>Unwind (Unwind, #1)</td></tr>",
                            "<tr><td>Prodigy (Legend, #2)</td></tr>",
                            "<tr><td>King Lear</td></tr>",
                            "<tr><td>Death of a Salesman</td></tr>",
                            "<tr><td>The Choice</td></tr>",
                            "<tr><td>The Hunger Games: Official Illustrated Movie Companion</td></tr>",
                            "<tr><td>The Sound and the Fury</td></tr>",
                            "<tr><td>A New Earth: Awakening to Your Life's Purpose</td></tr>",
                            "<tr><td>Bleach, Volume 01</td></tr>",
                            "<tr><td>Hyperbole and a Half: Unfortunate Situations, Flawed Coping Mechanisms, Mayhem, and Other Things That Happened</td></tr>",
                            "<tr><td>Shantaram</td></tr>",
                            "<tr><td>The Bone Collector (Lincoln Rhyme, #1)</td></tr>",
                            "<tr><td>The Reader</td></tr>",
                            "<tr><td>Brown Bear, Brown Bear, What Do You See?</td></tr>",
                            "<tr><td>Hyperion (Hyperion Cantos, #1)</td></tr>",
                            "<tr><td>The Pearl</td></tr>",
                            "<tr><td>The Exorcist</td></tr>",
                            "<tr><td>The Short Second Life of Bree Tanner: An Eclipse Novella (Twilight, #3.5)</td></tr>",
                            "<tr><td>Snow Falling on Cedars</td></tr>",
                            "<tr><td>Invisible Man</td></tr>",
                            "<tr><td>A Long Way Gone: Memoirs of a Boy Soldier</td></tr>",
                            "<tr><td>Mrs. Frisby and the Rats of NIMH (Rats of NIMH, #1)</td></tr>",
                            "<tr><td>The Little House Collection (Little House, #1-9)</td></tr>",
                            "<tr><td>The Girls' Guide to Hunting and Fishing</td></tr>",
                            "<tr><td>Wool Omnibus (Silo, #1)</td></tr>",
                            "<tr><td>Lamb: The Gospel According to Biff, Christ's Childhood Pal</td></tr>",
                            "<tr><td>The Power of Now: A Guide to Spiritual Enlightenment</td></tr>",
                            "<tr><td>Let's Pretend This Never Happened: A Mostly True Memoir</td></tr>",
                            "<tr><td>The Lies of Locke Lamora (Gentleman Bastard, #1)</td></tr>",
                            "<tr><td>Sabriel (Abhorsen,  #1)</td></tr>",
                            "<tr><td>Dead and Gone (Sookie Stackhouse, #9)</td></tr>",
                            "<tr><td>The Storyteller</td></tr>",
                            "<tr><td>Obsidian (Lux, #1)</td></tr>",
                            "<tr><td>Crown of Midnight (Throne of Glass, #2)</td></tr>",
                            "<tr><td>Scott Pilgrim, Volume 1: Scott Pilgrim's Precious Little Life</td></tr>",
                            "<tr><td>The Iron King (The Iron Fey, #1)</td></tr>",
                            "<tr><td>Lonesome Dove</td></tr>",
                            "<tr><td>Stiff: The Curious Lives of Human Cadavers</td></tr>",
                            "<tr><td>Bloodlines (Bloodlines, #1)</td></tr>",
                            "<tr><td>Twenties Girl</td></tr>",
                            "<tr><td>Schindler's List</td></tr>",
                            "<tr><td>The Bluest Eye</td></tr>",
                            "<tr><td>The White Queen (The Plantagenet and Tudor Novels, #2)</td></tr>",
                            "<tr><td>The Autobiography of Malcolm X</td></tr>",
                            "<tr><td>Preludes &amp; Nocturnes (The Sandman #1)</td></tr>",
                            "<tr><td>Seabiscuit: An American Legend</td></tr>",
                            "<tr><td>Shutter Island</td></tr>",
                            "<tr><td>Julius Caesar</td></tr>",
                            "<tr><td>In the Garden of Beasts: Love, Terror, and an American Family in Hitler's Berlin</td></tr>",
                            "<tr><td>The Republic</td></tr>",
                            "<tr><td>The Taming of the Shrew</td></tr>",
                            "<tr><td>Just Kids</td></tr>",
                            "<tr><td>The Art Book</td></tr>",
                            "<tr><td>Jemima J</td></tr>",
                            "<tr><td>The Hunchback of Notre-Dame</td></tr>",
                            "<tr><td>A Fine Balance</td></tr>",
                            "<tr><td>Specials (Uglies, #3)</td></tr>",
                            "<tr><td>The Awakening</td></tr>",
                            "<tr><td>Hunted (House of Night, #5)</td></tr>",
                            "<tr><td>Falling Up</td></tr>",
                            "<tr><td>Sh*t My Dad Says</td></tr>",
                            "<tr><td>Trainspotting</td></tr>",
                            "<tr><td>The Four Agreements: A Practical Guide to Personal Freedom</td></tr>",
                            "<tr><td>House Rules</td></tr>",
                            "<tr><td>From the Mixed-Up Files of Mrs. Basil E. Frankweiler</td></tr>",
                            "<tr><td>Doctor Sleep (The Shining, #2)</td></tr>",
                            "<tr><td>About a Boy</td></tr>",
                            "<tr><td>On Dublin Street (On Dublin Street, #1)</td></tr>",
                            "<tr><td>Crazy Love: Overwhelmed by a Relentless God</td></tr>",
                            "<tr><td>One Fish, Two Fish, Red Fish, Blue Fish</td></tr>",
                            "<tr><td>Watchers</td></tr>",
                            "<tr><td>The Story of My Life</td></tr>",
                            "<tr><td>This is Where I Leave You</td></tr>",
                            "<tr><td>Abraham Lincoln: Vampire Hunter</td></tr>",
                            "<tr><td>Fruits Basket, Vol. 1</td></tr>",
                            "<tr><td>The Tempest</td></tr>",
                            "<tr><td>Burned (House of Night, #7)</td></tr>",
                            "<tr><td>Wizard and Glass (The Dark Tower, #4)</td></tr>",
                            "<tr><td>The Circle</td></tr>",
                            "<tr><td>The Invention of Hugo Cabret</td></tr>",
                            "<tr><td>Brave New World / Brave New World Revisited</td></tr>",
                            "<tr><td>Ouran High School Host Club, Vol. 1 (Ouran High School Host Club, #1)</td></tr>",
                            "<tr><td>The Good Girl</td></tr>",
                            "<tr><td>Fallen Too Far (Rosemary Beach, #1; Too Far, #1)</td></tr>",
                            "<tr><td>Landline</td></tr>",
                            "<tr><td>Tempted (House of Night, #6)</td></tr>",
                            "<tr><td>No Country for Old Men</td></tr>",
                            "<tr><td>Wolf Hall (Thomas Cromwell, #1)</td></tr>",
                            "<tr><td>Howl's Moving Castle (Howl's Moving Castle, #1)</td></tr>",
                            "<tr><td>Dreamcatcher</td></tr>",
                            "<tr><td>Walden</td></tr>",
                            "<tr><td>The Remains of the Day</td></tr>",
                            "<tr><td>The Best of Me</td></tr>",
                            "<tr><td>The Sense of an Ending</td></tr>",
                            "<tr><td>A is for Alibi (Kinsey Millhone, #1)</td></tr>",
                            "<tr><td>Oedipus Rex  (The Theban Plays, #1)</td></tr>",
                            "<tr><td>Shanghai Girls (Shanghai Girls #1)</td></tr>",
                            "<tr><td>The Wind in the Willows</td></tr>",
                            "<tr><td>To All the Boys I've Loved Before (To All the Boys I've Loved Before, #1)</td></tr>",
                            "<tr><td>Persepolis: The Story of a Childhood (Persepolis, #1)</td></tr>",
                            "<tr><td>A Room with a View</td></tr>",
                            "<tr><td>The DUFF: Designated Ugly Fat Friend</td></tr>",
                            "<tr><td>Lock and Key</td></tr>",
                            "<tr><td>Naked in Death (In Death, #1)</td></tr>",
                            "<tr><td>The Chamber</td></tr>",
                            "<tr><td>Midnight Sun (Twilight, #1.5)</td></tr>",
                            "<tr><td>Naruto, Vol. 01: The Tests of the Ninja (Naruto, #1)</td></tr>",
                            "<tr><td>The Unlikely Pilgrimage of Harold Fry (Harold Fry, #1)</td></tr>",
                            "<tr><td>Every Day (Every Day, #1)</td></tr>",
                            "<tr><td>Xenocide (Ender's Saga, #3)</td></tr>",
                            "<tr><td>The Merchant of Venice</td></tr>",
                            "<tr><td>Lover Awakened (Black Dagger Brotherhood, #3)</td></tr>",
                            "<tr><td>A Court of Thorns and Roses (A Court of Thorns and Roses, #1)</td></tr>",
                            "<tr><td>Fifty Shades Trilogy (Fifty Shades, #1-3)</td></tr>",
                            "<tr><td>Chicka Chicka Boom Boom</td></tr>",
                            "<tr><td>Smile</td></tr>",
                            "<tr><td>Animal Farm / 1984</td></tr>",
                            "<tr><td>The Deep End of the Ocean (Cappadora Family, #1)</td></tr>",
                            "<tr><td>Angus, Thongs and Full-Frontal Snogging (Confessions of Georgia Nicolson, #1)</td></tr>",
                            "<tr><td>Mr. Penumbra's 24-Hour Bookstore (Mr. Penumbra's 24-Hour Bookstore, #1)</td></tr>",
                            "<tr><td>Flowers in the Attic (Dollanganger, #1)</td></tr>",
                            "<tr><td>When Breath Becomes Air</td></tr>",
                            "<tr><td>Maniac Magee</td></tr>",
                            "<tr><td>Invisible Monsters</td></tr>",
                            "<tr><td>Twelfth Night</td></tr>",
                            "<tr><td>Gathering Blue (The Giver, #2)</td></tr>",
                            "<tr><td>The Westing Game</td></tr>",
                            "<tr><td>Red Rising (Red Rising, #1)</td></tr>",
                            "<tr><td>The Way of Shadows (Night Angel, #1)</td></tr>",
                            "<tr><td>The Bean Trees (Greer Family, #1)</td></tr>",
                            "<tr><td>Walking Disaster (Beautiful, #2)</td></tr>",
                            "<tr><td>Guess How Much I Love You</td></tr>",
                            "<tr><td>Jaws</td></tr>",
                            "<tr><td>The History of Love</td></tr>",
                            "<tr><td>Pippi Longstocking</td></tr>",
                            "<tr><td>The Elegance of the Hedgehog</td></tr>",
                            "<tr><td>Team of Rivals: The Political Genius of Abraham Lincoln</td></tr>",
                            "<tr><td>Dead in the Family (Sookie Stackhouse, #10)</td></tr>",
                            "<tr><td>The Plague</td></tr>",
                            "<tr><td>The Reptile Room (A Series of Unfortunate Events, #2)</td></tr>",
                            "<tr><td>Brain on Fire: My Month of Madness</td></tr>",
                            "<tr><td>Wicked Lovely (Wicked Lovely, #1)</td></tr>",
                            "<tr><td>Curious George</td></tr>",
                            "<tr><td>The Neverending Story</td></tr>",
                            "<tr><td>A Beautiful Mind</td></tr>",
                            "<tr><td>The Jungle</td></tr>",
                            "<tr><td>The Summoning (Darkest Powers, #1)</td></tr>",
                            "<tr><td>The Man Who Mistook His Wife for a Hat and Other Clinical Tales</td></tr>",
                            "<tr><td>The Blind Assassin</td></tr>",
                            "<tr><td>House of Sand and Fog</td></tr>",
                            "<tr><td>The Girl with All the Gifts</td></tr>",
                            "<tr><td>As I Lay Dying</td></tr>",
                            "<tr><td>Harold and the Purple Crayon</td></tr>",
                            "<tr><td>Lover Eternal (Black Dagger Brotherhood, #2)</td></tr>",
                            "<tr><td>David and Goliath: Underdogs, Misfits, and the Art of Battling Giants</td></tr>",
                            "<tr><td>The Year of Magical Thinking</td></tr>",
                            "<tr><td>We Need to Talk About Kevin</td></tr>",
                            "<tr><td>The Queen of the Damned (The Vampire Chronicles, #3)</td></tr>",
                            "<tr><td>The Age of Innocence</td></tr>",
                            "<tr><td>The Selfish Gene</td></tr>",
                            "<tr><td>Year of Wonders</td></tr>",
                            "<tr><td>The Black Echo (Harry Bosch, #1; Harry Bosch Universe, #1)</td></tr>",
                            "<tr><td>Anthem</td></tr>",
                            "<tr><td>Gabriel's Inferno (Gabriel's Inferno, #1)</td></tr>",
                            "<tr><td>Cloudy With a Chance of Meatballs</td></tr>",
                            "<tr><td>Major Pettigrew's Last Stand</td></tr>",
                            "<tr><td>Vision in White (Bride Quartet, #1)</td></tr>",
                            "<tr><td>The Tenth Circle</td></tr>",
                            "<tr><td>Gerald's Game</td></tr>",
                            "<tr><td>The Joy of Cooking</td></tr>",
                            "<tr><td>Insomnia</td></tr>",
                            "<tr><td>Reading Lolita in Tehran</td></tr>",
                            "<tr><td>The Blade Itself (The First Law, #1)</td></tr>",
                            "<tr><td>The Arctic Incident (Artemis Fowl, #2)</td></tr>",
                            "<tr><td>The Shipping News</td></tr>",
                            "<tr><td>The Life-Changing Magic of Tidying Up: The Japanese Art of Decluttering and Organizing</td></tr>",
                            "<tr><td>All the Bright Places</td></tr>",
                            "<tr><td>Déjà Dead (Temperance Brennan, #1)</td></tr>",
                            "<tr><td>The Alchemyst (The Secrets of the Immortal Nicholas Flamel, #1)</td></tr>",
                            "<tr><td>The Marriage Plot</td></tr>",
                            "<tr><td>Daughter of Fortune</td></tr>",
                            "<tr><td>Luckiest Girl Alive</td></tr>",
                            "<tr><td>Crank (Crank, #1)</td></tr>",
                            "<tr><td>The Raven Boys (The Raven Cycle, #1)</td></tr>",
                            "<tr><td>I Am Legend and Other Stories</td></tr>",
                            "<tr><td>Olive Kitteridge</td></tr>",
                            "<tr><td>Not That Kind of Girl: A Young Woman Tells You What She's &quot;Learned&quot;</td></tr>",
                            "<tr><td>Good to Great: Why Some Companies Make the Leap... and Others Don't</td></tr>",
                            "<tr><td>Fire (Graceling Realm, #2)</td></tr>",
                            "<tr><td>Waiting for Godot</td></tr>",
                            "<tr><td>White Fang</td></tr>",
                            "<tr><td>Wolves of the Calla (The Dark Tower, #5)</td></tr>",
                            "<tr><td>His Dark Materials (His Dark Materials #1-3)</td></tr>",
                            "<tr><td>The Edge of Never (The Edge of Never, #1)</td></tr>",
                            "<tr><td>Reconstructing Amelia</td></tr>",
                            "<tr><td>One Plus One</td></tr>",
                            "<tr><td>The Hours</td></tr>",
                            "<tr><td>Wallbanger (Cocktail, #1)</td></tr>",
                            "<tr><td>Holidays on Ice</td></tr>",
                            "<tr><td>Desperation</td></tr>",
                            "<tr><td>Passion (Fallen, #3)</td></tr>",
                            "<tr><td>The Kill Order (Maze Runner, #0.5)</td></tr>",
                            "<tr><td>Angelfall (Penryn &amp; the End of Days, #1)</td></tr>",
                            "<tr><td>Empire Falls</td></tr>",
                            "<tr><td>I'll Give You the Sun</td></tr>",
                            "<tr><td>Shopaholic &amp; Baby (Shopaholic, #5)</td></tr>",
                            "<tr><td>The Dark Tower (The Dark Tower, #7)</td></tr>",
                            "<tr><td>Twilight Director's Notebook : The Story of How We Made the Movie Based on the Novel by Stephenie Meyer</td></tr>",
                            "<tr><td>Shopaholic Takes Manhattan (Shopaholic, #2)</td></tr>",
                            "<tr><td>Surely You're Joking, Mr. Feynman!: Adventures of a Curious Character</td></tr>",
                            "<tr><td>Linger (The Wolves of Mercy Falls, #2)</td></tr>",
                            "<tr><td>The Complete Anne of Green Gables Boxed Set (Anne of Green Gables, #1-8)</td></tr>",
                            "<tr><td>A Portrait of the Artist as a Young Man</td></tr>",
                            "<tr><td>The Gathering Storm (Wheel of Time, #12)</td></tr>",
                            "<tr><td>Middlemarch</td></tr>",
                            "<tr><td>Point of Retreat (Slammed, #2)</td></tr>",
                            "<tr><td>Thoughtless (Thoughtless, #1)</td></tr>",
                            "<tr><td>The Dark Half</td></tr>",
                            "<tr><td>Cleopatra: A Life</td></tr>",
                            "<tr><td>The World Is Flat: A Brief History of the Twenty-first Century</td></tr>",
                            "<tr><td>Steelheart (The Reckoners, #1)</td></tr>",
                            "<tr><td>The Rainbow Fish</td></tr>",
                            "<tr><td>Journey to the Center of the Earth (Extraordinary Voyages, #3)</td></tr>",
                            "<tr><td>The Happiness Project: Or Why I Spent a Year Trying to Sing in the Morning, Clean My Closets, Fight Right, Read Aristotle, and Generally Have More Fun</td></tr>",
                            "<tr><td>The Man in the High Castle</td></tr>",
                            "<tr><td>Helter Skelter: The True Story of the Manson Murders</td></tr>",
                            "<tr><td>Inferno (The Divine Comedy #1)</td></tr>",
                            "<tr><td>Shadow of Night (All Souls Trilogy, #2)</td></tr>",
                            "<tr><td>Leaving Time</td></tr>",
                            "<tr><td>Moon Called (Mercy Thompson, #1)</td></tr>",
                            "<tr><td>Blue Bloods (Blue Bloods, #1)</td></tr>",
                            "<tr><td>The Alienist (Dr. Laszlo Kreizler, #1)</td></tr>",
                            "<tr><td>Between the World and Me</td></tr>",
                            "<tr><td>Paradise Lost</td></tr>",
                            "<tr><td>The Girl Who Loved Tom Gordon</td></tr>",
                            "<tr><td>A Monster Calls</td></tr>",
                            "<tr><td>Rework</td></tr>",
                            "<tr><td>Attachments</td></tr>",
                            "<tr><td>The Twilight Saga (Twilight, #1-4)</td></tr>",
                            "<tr><td>Tell the Wolves I'm Home</td></tr>",
                            "<tr><td>The Unbecoming of Mara Dyer (Mara Dyer, #1)</td></tr>",
                            "<tr><td>The Scarlet Pimpernel</td></tr>",
                            "<tr><td>The Monster at the End of this Book</td></tr>",
                            "<tr><td>Tales of a Fourth Grade Nothing (Fudge, #1)</td></tr>",
                            "<tr><td>Shadow and Bone (Shadow and Bone, #1)</td></tr>",
                            "<tr><td>The Dinner</td></tr>",
                            "<tr><td>Champion (Legend, #3)</td></tr>",
                            "<tr><td>Lola and the Boy Next Door (Anna and the French Kiss, #2)</td></tr>",
                            "<tr><td>White Teeth</td></tr>",
                            "<tr><td>American Sniper: The Autobiography of the Most Lethal Sniper in U.S. Military History</td></tr>",
                            "<tr><td>My Horizontal Life: A Collection of One-Night Stands</td></tr>",
                            "<tr><td>The Interestings</td></tr>",
                            "<tr><td>People of the Book</td></tr>",
                            "<tr><td>The Secret Keeper</td></tr>",
                            "<tr><td>Better Homes and Gardens New Cook Book  </td></tr>",
                            "<tr><td>Steppenwolf</td></tr>",
                            "<tr><td>The Surgeon (Rizzoli &amp; Isles, #1)</td></tr>",
                            "<tr><td>The Girl You Left Behind</td></tr>",
                            "<tr><td>The Tale of Despereaux</td></tr>",
                            "<tr><td>Animal, Vegetable, Miracle: A Year of Food Life</td></tr>",
                            "<tr><td>The Sweetness at the Bottom of the Pie (Flavia de Luce, #1)</td></tr>",
                            "<tr><td>Blue Like Jazz: Nonreligious Thoughts on Christian Spirituality</td></tr>",
                            "<tr><td>Truly Madly Guilty</td></tr>",
                            "<tr><td>Saga, Vol. 1 (Saga, #1)</td></tr>",
                            "<tr><td>The Art of Fielding</td></tr>",
                            "<tr><td>A Moveable Feast</td></tr>",
                            "<tr><td>Fablehaven (Fablehaven, #1)</td></tr>",
                            "<tr><td>The Wide Window (A Series of Unfortunate Events, #3)</td></tr>",
                            "<tr><td>Einstein: His Life and Universe</td></tr>",
                            "<tr><td>Effortless (Thoughtless, #2)</td></tr>",
                            "<tr><td>The Street Lawyer</td></tr>",
                            "<tr><td>Roll of Thunder, Hear My Cry (Logans, #4)</td></tr>",
                            "<tr><td>Pride and Prejudice and Zombies (Pride and Prejudice and Zombies, #1)</td></tr>",
                            "<tr><td>Let's Explore Diabetes with Owls</td></tr>",
                            "<tr><td>Rodrick Rules (Diary of a Wimpy Kid, #2)</td></tr>",
                            "<tr><td>Why Not Me?</td></tr>",
                            "<tr><td>Four: A Divergent Story Collection (Divergent, #0.1 - 0.4)</td></tr>",
                            "<tr><td>Modern Romance</td></tr>",
                            "<tr><td>The One and Only Ivan</td></tr>",
                            "<tr><td>Elantris (Elantris, #1)</td></tr>",
                            "<tr><td>The Knife of Never Letting Go (Chaos Walking, #1)</td></tr>",
                            "<tr><td>One Thousand White Women: The Journals of May Dodd (One Thousand White Women#1)</td></tr>",
                            "<tr><td>Handle with Care</td></tr>",
                            "<tr><td>Song of Susannah (The Dark Tower, #6)</td></tr>",
                            "<tr><td>Reached (Matched, #3)</td></tr>",
                            "<tr><td>Midnight's Children</td></tr>",
                            "<tr><td>The Zombie Survival Guide: Complete Protection from the Living Dead</td></tr>",
                            "<tr><td>The Testament</td></tr>",
                            "<tr><td>Murder at the Vicarage (Miss Marple, #1)</td></tr>",
                            "<tr><td>Among the Hidden (Shadow Children, #1)</td></tr>",
                            "<tr><td>The Witch of Blackbird Pond</td></tr>",
                            "<tr><td>The Heir (The Selection, #4)</td></tr>",
                            "<tr><td>Shopaholic Ties the Knot (Shopaholic, #3)</td></tr>",
                            "<tr><td>The Woman in White</td></tr>",
                            "<tr><td>The Summer I Turned Pretty (Summer, #1)</td></tr>",
                            "<tr><td>The Color of Water: A Black Man's Tribute to His White Mother</td></tr>",
                            "<tr><td>SuperFreakonomics: Global Cooling, Patriotic Prostitutes And Why Suicide Bombers Should Buy Life Insurance</td></tr>",
                            "<tr><td>Darkfever (Fever, #1)</td></tr>",
                            "<tr><td>Stone of Tears (Sword of Truth, #2)</td></tr>",
                            "<tr><td>Heart of the Matter</td></tr>",
                            "<tr><td>Vanity Fair</td></tr>",
                            "<tr><td>Dolores Claiborne</td></tr>",
                            "<tr><td>The Nest</td></tr>",
                            "<tr><td>Fables, Vol. 1: Legends in Exile</td></tr>",
                            "<tr><td>Getting Things Done: The Art of Stress-Free Productivity</td></tr>",
                            "<tr><td>The Celestine Prophecy (Celestine Prophecy, #1)</td></tr>",
                            "<tr><td>My Life Next Door</td></tr>",
                            "<tr><td>Colorless Tsukuru Tazaki and His Years of Pilgrimage</td></tr>",
                            "<tr><td>Lucky</td></tr>",
                            "<tr><td>To the Lighthouse</td></tr>",
                            "<tr><td>Five Point Someone</td></tr>",
                            "<tr><td>Guilty Pleasures (Anita Blake, Vampire Hunter, #1)</td></tr>",
                            "<tr><td>I Am the Messenger</td></tr>",
                            "<tr><td>Far from the Madding Crowd</td></tr>",
                            "<tr><td>House of Leaves</td></tr>",
                            "<tr><td>Awakened (House of Night, #8)</td></tr>",
                            "<tr><td>My Ántonia</td></tr>",
                            "<tr><td>Life As We Knew It (Last Survivors, #1)</td></tr>",
                            "<tr><td>America (The Book): A Citizen's Guide to Democracy Inaction</td></tr>",
                            "<tr><td>90 Minutes in Heaven: A True Story of Death and Life</td></tr>",
                            "<tr><td>The Longest Ride</td></tr>",
                            "<tr><td>Change of Heart</td></tr>",
                            "<tr><td>Sam's Letters to Jennifer</td></tr>",
                            "<tr><td>Grey (Fifty Shades, #4)</td></tr>",
                            "<tr><td>Dune Messiah (Dune Chronicles #2)</td></tr>",
                            "<tr><td>The Great Divorce</td></tr>",
                            "<tr><td>Little Earthquakes</td></tr>",
                            "<tr><td>New Moon: The Complete Illustrated Movie Companion (The Twilight Saga: The Official Illustrated Movie Companion, #2)</td></tr>",
                            "<tr><td>Maybe Someday (Maybe, #1)</td></tr>",
                            "<tr><td>Mr. Maybe</td></tr>",
                            "<tr><td>Anne of the Island (Anne of Green Gables, #3)</td></tr>",
                            "<tr><td>Thus Spoke Zarathustra</td></tr>",
                            "<tr><td>North and South</td></tr>",
                            "<tr><td>A Stolen Life</td></tr>",
                            "<tr><td>The Immortals of Meluha (Shiva Trilogy, #1)</td></tr>",
                            "<tr><td>The Lost World (Jurassic Park, #2)</td></tr>",
                            "<tr><td>Requiem (Delirium, #3)</td></tr>",
                            "<tr><td>A Crown of Swords (Wheel of Time, #7)</td></tr>",
                            "<tr><td>Blood Meridian, or the Evening Redness in the West</td></tr>",
                            "<tr><td>Finale (Hush, Hush, #4)</td></tr>",
                            "<tr><td>Lullaby</td></tr>",
                            "<tr><td>2 States: The Story of My Marriage</td></tr>",
                            "<tr><td>Vampire Knight, Vol. 1 (Vampire Knight, #1)</td></tr>",
                            "<tr><td>Dragonflight (Dragonriders of Pern, #1)</td></tr>",
                            "<tr><td>The History of the Hobbit, Part One: Mr. Baggins</td></tr>",
                            "<tr><td>Ugly Love</td></tr>",
                            "<tr><td>The Amityville Horror</td></tr>",
                            "<tr><td>The English Patient</td></tr>",
                            "<tr><td>Gabriel's Rapture (Gabriel's Inferno, #2)</td></tr>",
                            "<tr><td>Dubliners</td></tr>",
                            "<tr><td>Let the Great World Spin</td></tr>",
                            "<tr><td>The Eternity Code (Artemis Fowl, #3)</td></tr>",
                            "<tr><td>The Tommyknockers</td></tr>",
                            "<tr><td>Hex Hall (Hex Hall, #1)</td></tr>",
                            "<tr><td>Steal Like an Artist: 10 Things Nobody Told You About Being Creative</td></tr>",
                            "<tr><td>Cryptonomicon</td></tr>",
                            "<tr><td>Beautiful Bastard (Beautiful Bastard, #1)</td></tr>",
                            "<tr><td>Prodigal Summer</td></tr>",
                            "<tr><td>We Were the Mulvaneys</td></tr>",
                            "<tr><td>Understanding Comics: The Invisible Art</td></tr>",
                            "<tr><td>Beautiful Darkness (Caster Chronicles, #2)</td></tr>",
                            "<tr><td>The Psychopath Test: A Journey Through the Madness Industry</td></tr>",
                            "<tr><td>Vanishing Acts</td></tr>",
                            "<tr><td>The Time Keeper</td></tr>",
                            "<tr><td>A Dirty Job (Grim Reaper, #1)</td></tr>",
                            "<tr><td>The Amulet of Samarkand (Bartimaeus, #1)</td></tr>",
                            "<tr><td>I Am America (And So Can You!)</td></tr>",
                            "<tr><td>The One Minute Manager</td></tr>",
                            "<tr><td>Stones from the River</td></tr>",
                            "<tr><td>The Big Sleep (Philip Marlowe, #1)</td></tr>",
                            "<tr><td>Seriously... I'm Kidding</td></tr>",
                            "<tr><td>The Miserable Mill (A Series of Unfortunate Events, #4)</td></tr>",
                            "<tr><td>The Snow Child</td></tr>",
                            "<tr><td>Wait for You (Wait for You, #1)</td></tr>",
                            "<tr><td>The Last Straw (Diary of a Wimpy Kid, #3)</td></tr>",
                            "<tr><td>The Divine Comedy</td></tr>",
                            "<tr><td>The Tao of Pooh</td></tr>",
                            "<tr><td>Onyx (Lux, #2)</td></tr>",
                            "<tr><td>Unravel Me (Shatter Me, #2)</td></tr>",
                            "<tr><td>The Birth of Venus</td></tr>",
                            "<tr><td>The Opal Deception  (Artemis Fowl, #4)</td></tr>",
                            "<tr><td>The Girl in the Spider's Web (Millennium, #4)</td></tr>",
                            "<tr><td>The Girls</td></tr>",
                            "<tr><td>The Goose Girl (The Books of Bayern, #1)</td></tr>",
                            "<tr><td>Warm Bodies (Warm Bodies, #1)</td></tr>",
                            "<tr><td>The Prince and the Pauper</td></tr>",
                            "<tr><td>The Forty Rules of Love</td></tr>",
                            "<tr><td>Joyland</td></tr>",
                            "<tr><td>Attack on Titan, Vol. 1 (Attack on Titan, #1)</td></tr>",
                            "<tr><td>Tender Is the Night</td></tr>",
                            "<tr><td>Cold Sassy Tree</td></tr>",
                            "<tr><td>The Glass Menagerie</td></tr>",
                            "<tr><td>My Brilliant Friend (The Neapolitan Novels #1)</td></tr>",
                            "<tr><td>The 4-Hour Workweek</td></tr>",
                            "<tr><td>The Monk Who Sold His Ferrari: A Fable About Fulfilling Your Dreams  Reaching Your Destiny</td></tr>",
                            "<tr><td>Rules of Civility</td></tr>",
                            "<tr><td>Ringworld (Ringworld, #1)</td></tr>",
                            "<tr><td>Frindle</td></tr>",
                            "<tr><td>Dog Days (Diary of a Wimpy Kid, #4)</td></tr>",
                            "<tr><td>The Round House</td></tr>",
                            "<tr><td>A Wind in the Door (A Wrinkle in Time Quintet, #2)</td></tr>",
                            "<tr><td>Free Four: Tobias Tells the Divergent Knife-Throwing Scene (Divergent, #1.5)</td></tr>",
                            "<tr><td>A Little Life</td></tr>",
                            "<tr><td>Y: The Last Man, Vol. 1: Unmanned</td></tr>",
                            "<tr><td>Dead Reckoning (Sookie Stackhouse, #11)</td></tr>",
                            "<tr><td>The Accidental Tourist</td></tr>",
                            "<tr><td>Aristotle and Dante Discover the Secrets of the Universe (Aristotle and Dante Discover the Secrets of the Universe, #1)</td></tr>",
                            "<tr><td>The Invisible Man</td></tr>",
                            "<tr><td>By the River Piedra I Sat Down and Wept</td></tr>",
                            "<tr><td>The Swiss Family Robinson  </td></tr>",
                            "<tr><td>The Marriage Bargain (Marriage to a Billionaire, #1)</td></tr>",
                            "<tr><td>The Little Engine That Could</td></tr>",
                            "<tr><td>We Are All Completely Beside Ourselves</td></tr>",
                            "<tr><td>Children of the Mind (Ender's Saga, #4)</td></tr>",
                            "<tr><td>Ulysses</td></tr>",
                            "<tr><td>Someone Like You</td></tr>",
                            "<tr><td>The Witching Hour (Lives of the Mayfair Witches, #1)</td></tr>",
                            "<tr><td>This Present Darkness (Darkness, #1)</td></tr>",
                            "<tr><td>The Coincidence of Callie &amp; Kayden (The Coincidence, #1)</td></tr>",
                            "<tr><td>Fates and Furies</td></tr>",
                            "<tr><td>Summer Sisters</td></tr>",
                            "<tr><td>Stuart Little</td></tr>",
                            "<tr><td>The Elegant Universe: Superstrings, Hidden Dimensions, and the Quest for the Ultimate Theory</td></tr>",
                            "<tr><td>The Austere Academy (A Series of Unfortunate Events, #5)</td></tr>",
                            "<tr><td>The Awakening (Darkest Powers, #2)</td></tr>",
                            "<tr><td>Stellaluna</td></tr>",
                            "<tr><td>Loving Frank</td></tr>",
                            "<tr><td>The Vile Village (A Series of Unfortunate Events, #7)</td></tr>",
                            "<tr><td>Sybil: The Classic True Story of a Woman Possessed by Sixteen Personalities</td></tr>",
                            "<tr><td>Cosmos</td></tr>",
                            "<tr><td>Haunted</td></tr>",
                            "<tr><td>The Shell Seekers</td></tr>",
                            "<tr><td>A Scandal in Bohemia (The Adventures of Sherlock Holmes, #1)</td></tr>",
                            "<tr><td>Killing Lincoln: The Shocking Assassination that Changed America Forever</td></tr>",
                            "<tr><td>The Lowland</td></tr>",
                            "<tr><td>The Ruins of Gorlan (Ranger's Apprentice, #1)</td></tr>",
                            "<tr><td>Wintergirls</td></tr>",
                            "<tr><td>The Brethren</td></tr>",
                            "<tr><td>Rosemary's Baby</td></tr>",
                            "<tr><td>The Talisman (The Talisman, #1)</td></tr>",
                            "<tr><td>The Path of Daggers (Wheel of Time, #8)</td></tr>",
                            "<tr><td>The Dharma Bums</td></tr>",
                            "<tr><td>The Reckoning (Darkest Powers, #3)</td></tr>",
                            "<tr><td>Behind the Beautiful Forevers: Life, Death, and Hope in a Mumbai Undercity</td></tr>",
                            "<tr><td>Mary Poppins (Mary Poppins, #1)</td></tr>",
                            "<tr><td>The House on Mango Street</td></tr>",
                            "<tr><td>Halfway to the Grave (Night Huntress, #1)</td></tr>",
                            "<tr><td>The Twits</td></tr>",
                            "<tr><td>Abhorsen (Abhorsen, #3)</td></tr>",
                            "<tr><td>The Beach House</td></tr>",
                            "<tr><td>The Eyes of the Dragon</td></tr>",
                            "<tr><td>Maus II: A Survivor's Tale: And Here My Troubles Began (Maus, #2)</td></tr>",
                            "<tr><td>The Snowy Day</td></tr>",
                            "<tr><td>The Signature of All Things</td></tr>",
                            "<tr><td>Eats, Shoots &amp; Leaves: The Zero Tolerance Approach to Punctuation</td></tr>",
                            "<tr><td>Dead Witch Walking (The Hollows, #1)</td></tr>",
                            "<tr><td>Unearthly (Unearthly, #1)</td></tr>",
                            "<tr><td>The Case for Christ</td></tr>",
                            "<tr><td>Knife of Dreams (Wheel of Time, #11)</td></tr>",
                            "<tr><td>Hoot</td></tr>",
                            "<tr><td>The Aeneid</td></tr>",
                            "<tr><td>This Is How You Lose Her</td></tr>",
                            "<tr><td>Ishmael:A Novel</td></tr>",
                            "<tr><td>It's Not Summer Without You (Summer, #2)</td></tr>",
                            "<tr><td>Pushing the Limits (Pushing the Limits, #1)</td></tr>",
                            "<tr><td>Quidditch Through the Ages</td></tr>",
                            "<tr><td>The Mysterious Benedict Society (The Mysterious Benedict Society, #1)</td></tr>",
                            "<tr><td>god is Not Great: How Religion Poisons Everything</td></tr>",
                            "<tr><td>Never Too Far (Rosemary Beach, #2; Too Far, #2)</td></tr>",
                            "<tr><td>State of Fear</td></tr>",
                            "<tr><td>The Statistical Probability of Love at First Sight</td></tr>",
                            "<tr><td>The Golem's Eye (Bartimaeus, #2)</td></tr>",
                            "<tr><td>Across the Universe (Across the Universe, #1)</td></tr>",
                            "<tr><td>The Road Less Traveled: A New Psychology of Love, Traditional Values, and Spiritual Growth</td></tr>",
                            "<tr><td>The Boxcar Children (The Boxcar Children, #1)</td></tr>",
                            "<tr><td>The Silent Wife</td></tr>",
                            "<tr><td>How to Be a Woman</td></tr>",
                            "<tr><td>Life</td></tr>",
                            "<tr><td>The Pilot's Wife</td></tr>",
                            "<tr><td>White Noise</td></tr>",
                            "<tr><td>The Origin of Species</td></tr>",
                            "<tr><td>Blankets</td></tr>",
                            "<tr><td>The Story of Edgar Sawtelle</td></tr>",
                            "<tr><td>Drowning Ruth</td></tr>",
                            "<tr><td>All the Pretty Horses (The Border Trilogy, #1)</td></tr>",
                            "<tr><td>One Piece, Volume 01: Romance Dawn (One Piece, #1)</td></tr>",
                            "<tr><td>The Last Unicorn (The Last Unicorn, #1)</td></tr>",
                            "<tr><td>Magyk (Septimus Heap, #1)</td></tr>",
                            "<tr><td>Fever 1793</td></tr>",
                            "<tr><td>Dead Wake: The Last Crossing of the Lusitania</td></tr>",
                            "<tr><td>The Jungle Book</td></tr>",
                            "<tr><td>I Am Pilgrim (Pilgrim, #1)</td></tr>",
                            "<tr><td>Howl and Other Poems</td></tr>",
                            "<tr><td>Go the Fuck to Sleep</td></tr>",
                            "<tr><td>Benjamin Franklin: An American Life</td></tr>",
                            "<tr><td>The Tiger's Wife</td></tr>",
                            "<tr><td>Poison Study (Study, #1)</td></tr>",
                            "<tr><td>The Book of Mormon: Another Testament of Jesus Christ</td></tr>",
                            "<tr><td>What the Dog Saw and Other Adventures</td></tr>",
                            "<tr><td>Pretty Girls</td></tr>",
                            "<tr><td>Revival</td></tr>",
                            "<tr><td>Horton Hears a Who!</td></tr>",
                            "<tr><td>The Blind Side: Evolution of a Game</td></tr>",
                            "<tr><td>School's Out—Forever (Maximum Ride, #2)</td></tr>",
                            "<tr><td>Black Butler, Vol. 1 (Black Butler, #1)</td></tr>",
                            "<tr><td>The Hunger Games Tribute Guide</td></tr>",
                            "<tr><td>The Warded Man (Demon Cycle, #1)</td></tr>",
                            "<tr><td>The Pilgrim's Progress</td></tr>",
                            "<tr><td>Duma Key</td></tr>",
                            "<tr><td>Winter's Heart (Wheel of Time, #9)</td></tr>",
                            "<tr><td>The Heart is a Lonely Hunter</td></tr>",
                            "<tr><td>The Infinite Sea (The 5th Wave, #2)</td></tr>",
                            "<tr><td>The Once and Future King (The Once and Future King #1-4)</td></tr>",
                            "<tr><td>Bud, Not Buddy</td></tr>",
                            "<tr><td>Fun Home: A Family Tragicomic</td></tr>",
                            "<tr><td>الفيل الأزرق</td></tr>",
                            "<tr><td>The Indian in the Cupboard (The Indian in the Cupboard, #1)</td></tr>",
                            "<tr><td>Me and Earl and the Dying Girl</td></tr>",
                            "<tr><td>The Ugly Truth (Diary of a Wimpy Kid, #5)</td></tr>",
                            "<tr><td>The Professor and the Madman: A Tale of Murder, Insanity and the Making of the Oxford English Dictionary</td></tr>",
                            "<tr><td>The Eyre Affair (Thursday Next, #1)</td></tr>",
                            "<tr><td>Sideways Stories from Wayside School (Wayside School #1)</td></tr>",
                            "<tr><td>The Bone Clocks</td></tr>",
                            "<tr><td>Origins (The Vampire Diaries: Stefan's Diaries, #1)</td></tr>",
                            "<tr><td>Diary</td></tr>",
                            "<tr><td>Inkspell (Inkworld, #2)</td></tr>",
                            "<tr><td>Sex, Drugs, and Cocoa Puffs: A Low Culture Manifesto</td></tr>",
                            "<tr><td>Brideshead Revisited: The Sacred and Profane Memories of Captain Charles Ryder</td></tr>",
                            "<tr><td>The Miniaturist</td></tr>",
                            "<tr><td>Dragons of Autumn Twilight  (Dragonlance: Chronicles, #1)</td></tr>",
                            "<tr><td>The Lost Colony (Artemis Fowl, #5)</td></tr>",
                            "<tr><td>Extras (Uglies, #4)</td></tr>",
                            "<tr><td>The Artist's Way: A Spiritual Path to Higher Creativity</td></tr>",
                            "<tr><td>The Stinky Cheese Man and Other Fairly Stupid Tales</td></tr>",
                            "<tr><td>Horns</td></tr>",
                            "<tr><td>Catherine the Great: Portrait of a Woman</td></tr>",
                            "<tr><td>The King of Torts</td></tr>",
                            "<tr><td>The 3 Mistakes of My Life</td></tr>",
                            "<tr><td>Native Son</td></tr>",
                            "<tr><td>Under the Never Sky (Under the Never Sky, #1)</td></tr>",
                            "<tr><td>True Believer (Jeremy Marsh &amp; Lexie Darnell, #1)</td></tr>",
                            "<tr><td>The Lean Startup: How Today's Entrepreneurs Use Continuous Innovation to Create Radically Successful Businesses</td></tr>",
                            "<tr><td>Chasing Harry Winston</td></tr>",
                            "<tr><td>The Rise and Fall of the Third Reich: A History of Nazi Germany</td></tr>",
                            "<tr><td>A Long Way Down</td></tr>",
                            "<tr><td>Out from Boneville (Bone, #1)</td></tr>",
                            "<tr><td>Rose Madder</td></tr>",
                            "<tr><td>Beautiful Chaos (Caster Chronicles, #3)</td></tr>",
                            "<tr><td>Keeping Faith</td></tr>",
                            "<tr><td>Heart-Shaped Box</td></tr>",
                            "<tr><td>Cabin Fever (Diary of a Wimpy Kid, #6)</td></tr>",
                            "<tr><td>Everyone Worth Knowing</td></tr>",
                            "<tr><td>Redwall (Redwall, #1)</td></tr>",
                            "<tr><td>The Communist Manifesto</td></tr>",
                            "<tr><td>The Woman in Cabin 10</td></tr>",
                            "<tr><td>The Last of the Mohicans (The Leatherstocking Tales #2)</td></tr>",
                            "<tr><td>Sophie's Choice</td></tr>",
                            "<tr><td>Shopaholic and Sister (Shopaholic, #4)</td></tr>",
                            "<tr><td>The Iron Daughter</td></tr>",
                            "<tr><td>The Prayer of Jabez:  Breaking Through to the Blessed Life</td></tr>",
                            "<tr><td>The Age of Miracles</td></tr>",
                            "<tr><td>The Rosie Effect (Don Tillman, #2)</td></tr>",
                            "<tr><td>Flipped</td></tr>",
                            "<tr><td>Emotional Intelligence 2.0</td></tr>",
                            "<tr><td>Make Way for Ducklings</td></tr>",
                            "<tr><td>Notes from a Small Island</td></tr>",
                            "<tr><td>Princess Academy (Princess Academy, #1)</td></tr>",
                            "<tr><td>Everything, Everything</td></tr>",
                            "<tr><td>Flight Behavior</td></tr>",
                            "<tr><td>Grip of the Shadow Plague (Fablehaven, #3)</td></tr>",
                            "<tr><td>Bridget Jones: The Edge of Reason (Bridget Jones, #2)</td></tr>",
                            "<tr><td>Corelli's Mandolin</td></tr>",
                            "<tr><td>At First Sight (Jeremy Marsh &amp; Lexie Darnell, #2)</td></tr>",
                            "<tr><td>The Orphan Master's Son</td></tr>",
                            "<tr><td>The Chosen</td></tr>",
                            "<tr><td>The Agony and the Ecstasy</td></tr>",
                            "<tr><td>The Angel's Game (The Cemetery of Forgotten Books, #2)</td></tr>",
                            "<tr><td>Love, Rosie</td></tr>",
                            "<tr><td>Amelia Bedelia  (Amelia Bedelia #1)</td></tr>",
                            "<tr><td>This Man (This Man, #1)</td></tr>",
                            "<tr><td>An Ember in the Ashes (An Ember in the Ashes, #1)</td></tr>",
                            "<tr><td>Lover Enshrined (Black Dagger Brotherhood, #6)</td></tr>",
                            "<tr><td>The Golem and the Jinni (The Golem and the Jinni, #1)</td></tr>",
                            "<tr><td>الأسود يليق بك</td></tr>",
                            "<tr><td>Bleak House</td></tr>",
                            "<tr><td>Caps for Sale: A Tale of a Peddler, Some Monkeys and Their Monkey Business</td></tr>",
                            "<tr><td>Furies of Calderon (Codex Alera, #1)</td></tr>",
                            "<tr><td>Alanna: The First Adventure (Song of the Lioness, #1)</td></tr>",
                            "<tr><td>Her Fearful Symmetry</td></tr>",
                            "<tr><td>The Black Dahlia (L.A. Quartet, #1)</td></tr>",
                            "<tr><td>Through the Looking-Glass, and What Alice Found There</td></tr>",
                            "<tr><td>Go, Dog. Go!</td></tr>",
                            "<tr><td>The Strain (The Strain Trilogy, #1)</td></tr>",
                            "<tr><td>The Complete Poems of Emily Dickinson</td></tr>",
                            "<tr><td>Old Yeller (Old Yeller, #1)</td></tr>",
                            "<tr><td>Born Standing Up: A Comic's Life</td></tr>",
                            "<tr><td>PostSecret: Extraordinary Confessions from Ordinary Lives (PostSecret)</td></tr>",
                            "<tr><td>Hearts in Atlantis</td></tr>",
                            "<tr><td>Small Great Things</td></tr>",
                            "<tr><td>Days of Blood &amp; Starlight (Daughter of Smoke &amp; Bone, #2)</td></tr>",
                            "<tr><td>The Darkest Minds (The Darkest Minds, #1)</td></tr>",
                            "<tr><td>The Zahir</td></tr>",
                            "<tr><td>The Power of Positive Thinking</td></tr>",
                            "<tr><td>In a Dark, Dark Wood</td></tr>",
                            "<tr><td>The House of Mirth</td></tr>",
                            "<tr><td>Fairy Tail, Vol. 1 (Fairy Tail, #1)</td></tr>",
                            "<tr><td>The Slow Regard of Silent Things (The Kingkiller Chronicle #2.5)</td></tr>",
                            "<tr><td>Twelve Years a Slave</td></tr>",
                            "<tr><td>Infidel</td></tr>",
                            "<tr><td>The Black Swan: The Impact of the Highly Improbable</td></tr>",
                            "<tr><td>One Day in the Life of Ivan Denisovich</td></tr>",
                            "<tr><td>A Canticle for Leibowitz</td></tr>",
                            "<tr><td>Antigone (The Theban Plays, #3)</td></tr>",
                            "<tr><td>Brooklyn</td></tr>",
                            "<tr><td>Wither (The Chemical Garden, #1)</td></tr>",
                            "<tr><td>Hillbilly Elegy: A Memoir of a Family and Culture in Crisis</td></tr>",
                            "<tr><td>Crossroads of Twilight (Wheel of Time, #10)</td></tr>",
                            "<tr><td>The Red Badge of Courage</td></tr>",
                            "<tr><td>What If?: Serious Scientific Answers to Absurd Hypothetical Questions</td></tr>",
                            "<tr><td>Gardens of the Moon (The Malazan Book of the Fallen, #1)</td></tr>",
                            "<tr><td>The Witch Of Portobello</td></tr>",
                            "<tr><td>Gregor the Overlander (Underland Chronicles, #1)</td></tr>",
                            "<tr><td>Sing You Home</td></tr>",
                            "<tr><td>The Tale of the Body Thief (The Vampire Chronicles, #4)</td></tr>",
                            "<tr><td>Saving the World and Other Extreme Sports (Maximum Ride, #3)</td></tr>",
                            "<tr><td>Blood of the Fold (Sword of Truth, #3)</td></tr>",
                            "<tr><td>A Spool of Blue Thread</td></tr>",
                            "<tr><td>The Underground Railroad</td></tr>",
                            "<tr><td>Masquerade (Blue Bloods, #2)</td></tr>",
                            "<tr><td>The Iron Queen (The Iron Fey, #3)</td></tr>",
                            "<tr><td>Losing It (Losing It, #1)</td></tr>",
                            "<tr><td>Disgrace</td></tr>",
                            "<tr><td>The Mermaid Chair</td></tr>",
                            "<tr><td>Frog and Toad Are Friends (Frog and Toad, #1)</td></tr>",
                            "<tr><td>Heist Society (Heist Society, #1)</td></tr>",
                            "<tr><td>Behind Closed Doors</td></tr>",
                            "<tr><td>Opal (Lux, #3)</td></tr>",
                            "<tr><td>Rapture (Fallen, #4)</td></tr>",
                            "<tr><td>Switched (Trylle, #1)</td></tr>",
                            "<tr><td>Doctor Zhivago</td></tr>",
                            "<tr><td>Confess</td></tr>",
                            "<tr><td>Pines (Wayward Pines, #1)</td></tr>",
                            "<tr><td>Death Comes to Pemberley</td></tr>",
                            "<tr><td>Ethan Frome</td></tr>",
                            "<tr><td>A Map of the World</td></tr>",
                            "<tr><td>It Ends with Us</td></tr>",
                            "<tr><td>Naked Lunch</td></tr>",
                            "<tr><td>Dream Country (The Sandman #3)</td></tr>",
                            "<tr><td>A Painted House</td></tr>",
                            "<tr><td>The Left Hand of Darkness</td></tr>",
                            "<tr><td>Let It Snow: Three Holiday Romances</td></tr>",
                            "<tr><td>Chelsea Chelsea Bang Bang</td></tr>",
                            "<tr><td>A Doll's House</td></tr>",
                            "<tr><td>Revolutionary Road</td></tr>",
                            "<tr><td>Nick &amp; Norah's Infinite Playlist</td></tr>",
                            "<tr><td>Rosencrantz and Guildenstern Are Dead</td></tr>",
                            "<tr><td>Forever (The Wolves of Mercy Falls, #3)</td></tr>",
                            "<tr><td>Deadlocked (Sookie Stackhouse, #12)</td></tr>",
                            "<tr><td>Beezus and Ramona (Ramona, #1)</td></tr>",
                            "<tr><td>Airframe</td></tr>",
                            "<tr><td>Bet Me</td></tr>",
                            "<tr><td>Gray Mountain</td></tr>",
                            "<tr><td>The Maltese Falcon</td></tr>",
                            "<tr><td>Ivanhoe</td></tr>",
                            "<tr><td>Paranormalcy (Paranormalcy, #1)</td></tr>",
                            "<tr><td>Rise of the Evening Star (Fablehaven, #2)</td></tr>",
                            "<tr><td>We'll Always Have Summer (Summer, #3)</td></tr>",
                            "<tr><td>Stormbreaker (Alex Rider, #1)</td></tr>",
                            "<tr><td>The Twilight Saga Complete Collection  (Twilight, #1-4 + 3.5)</td></tr>",
                            "<tr><td>Drive: The Surprising Truth About What Motivates Us</td></tr>",
                            "<tr><td>A Connecticut Yankee in King Arthur's Court</td></tr>",
                            "<tr><td>Nausea</td></tr>",
                            "<tr><td>Wild at Heart: Discovering the Secret of a Man's Soul</td></tr>",
                            "<tr><td>Memnoch the Devil (The Vampire Chronicles, #5)</td></tr>",
                            "<tr><td>Click, Clack, Moo: Cows That Type</td></tr>",
                            "<tr><td>Anna Dressed in Blood (Anna, #1)</td></tr>",
                            "<tr><td>Temple of the Winds (Sword of Truth, #4)</td></tr>",
                            "<tr><td>The True Confessions of Charlotte Doyle</td></tr>",
                            "<tr><td>A Reliable Wife</td></tr>",
                            "<tr><td>Something Wicked This Way Comes (Green Town, #2)</td></tr>",
                            "<tr><td>Song of Solomon</td></tr>",
                            "<tr><td>Peace Like a River</td></tr>",
                            "<tr><td>Rant</td></tr>",
                            "<tr><td>The Poky Little Puppy (A Little Golden Book)</td></tr>",
                            "<tr><td>The Call of the Wild/White Fang</td></tr>",
                            "<tr><td>Ignite Me (Shatter Me, #3)</td></tr>",
                            "<tr><td>Cross My Heart and Hope to Spy (Gallagher Girls, #2)</td></tr>",
                            "<tr><td>The Friday Night Knitting Club (Friday Night Knitting Club, #1)</td></tr>",
                            "<tr><td>All Things Bright and Beautiful (All Creatures Great and Small)</td></tr>",
                            "<tr><td>Infinite Jest</td></tr>",
                            "<tr><td>Tangled (Tangled, #1)</td></tr>",
                            "<tr><td>The Sisters Brothers</td></tr>",
                            "<tr><td>Brida</td></tr>",
                            "<tr><td>A Room of One's Own</td></tr>",
                            "<tr><td>What Happened to Goodbye</td></tr>",
                            "<tr><td>Six of Crows (Six of Crows, #1)</td></tr>",
                            "<tr><td>13 Little Blue Envelopes (Little Blue Envelope, #1)</td></tr>",
                            "<tr><td>Carry On</td></tr>",
                            "<tr><td>Beneath This Man (This Man, #2)</td></tr>",
                            "<tr><td>Prince of Thorns (The Broken Empire, #1)</td></tr>",
                            "<tr><td>The Book of Ruth</td></tr>",
                            "<tr><td>Next</td></tr>",
                            "<tr><td>The House of the Scorpion (Matteo Alacran, #1)</td></tr>",
                            "<tr><td>Leaves of Grass</td></tr>",
                            "<tr><td>Lady Chatterley's Lover</td></tr>",
                            "<tr><td>My Name Is Lucy Barton</td></tr>",
                            "<tr><td>Narrative of the Life of Frederick Douglass</td></tr>",
                            "<tr><td>He's Just Not That Into You: The No-Excuses Truth to Understanding Guys</td></tr>",
                            "<tr><td>Glass Houses (The Morganville Vampires, #1)</td></tr>",
                            "<tr><td>Captivating: Unveiling the Mystery of a Woman's Soul</td></tr>",
                            "<tr><td>The Dark Tower: The Gunslinger Born</td></tr>",
                            "<tr><td>A Tale for the Time Being</td></tr>",
                            "<tr><td>I Hope They Serve Beer in Hell (Tucker Max, #1)</td></tr>",
                            "<tr><td>Rule (Marked Men, #1)</td></tr>",
                            "<tr><td>Harriet the Spy (Harriet the Spy #1)</td></tr>",
                            "<tr><td>The Paying Guests</td></tr>",
                            "<tr><td>Sushi for Beginners</td></tr>",
                            "<tr><td>Still Life (Chief Inspector Armand Gamache, #1)</td></tr>",
                            "<tr><td>Watermelon (Walsh Family, #1)</td></tr>",
                            "<tr><td>Let the Right One In</td></tr>",
                            "<tr><td>Amy &amp; Roger's Epic Detour</td></tr>",
                            "<tr><td>Nightshade (Nightshade #1; Nightshade World #4)</td></tr>",
                            "<tr><td>Alice's Adventures in Wonderland</td></tr>",
                            "<tr><td>Dragon Rider (Dragon Rider, #1)</td></tr>",
                            "<tr><td>Uprooted</td></tr>",
                            "<tr><td>Seveneves</td></tr>",
                            "<tr><td>Armada</td></tr>",
                            "<tr><td>The Man in the Brown Suit</td></tr>",
                            "<tr><td>Size 12 Is Not Fat (Heather Wells, #1)</td></tr>",
                            "<tr><td>Glass Sword (Red Queen, #2)</td></tr>",
                            "<tr><td>When You Reach Me</td></tr>",
                            "<tr><td>The Bonfire of the Vanities</td></tr>",
                            "<tr><td>In the Unlikely Event</td></tr>",
                            "<tr><td>Shiloh (Shiloh, #1)</td></tr>",
                            "<tr><td>The Redbreast (Harry Hole, #3)</td></tr>",
                            "<tr><td>Leviathan (Leviathan, #1)</td></tr>",
                            "<tr><td>Goodnight Nobody</td></tr>",
                            "<tr><td>How to Stop Worrying and Start Living</td></tr>",
                            "<tr><td>Reason to Breathe (Breathing, #1)</td></tr>",
                            "<tr><td>M.C. Escher: The Graphic Work</td></tr>",
                            "<tr><td>Birdsong</td></tr>",
                            "<tr><td>Faith of the Fallen (Sword of Truth, #6)</td></tr>",
                            "<tr><td>Moonwalking with Einstein: The Art and Science of Remembering Everything</td></tr>",
                            "<tr><td>Clifford the Big Red Dog</td></tr>",
                            "<tr><td>Bitterblue (Graceling Realm, #3)</td></tr>",
                            "<tr><td>The Sky Is Everywhere</td></tr>",
                            "<tr><td>Real (Real, #1)</td></tr>",
                            "<tr><td>NOS4A2</td></tr>",
                            "<tr><td>The Tenant of Wildfell Hall</td></tr>",
                            "<tr><td>Strega Nona</td></tr>",
                            "<tr><td>Playing for Keeps (Neighbor from Hell, #1)</td></tr>",
                            "<tr><td>Art and Fear: Observations on the Perils (and Rewards) of Artmaking</td></tr>",
                            "<tr><td>Frida: A Biography of Frida Kahlo</td></tr>",
                            "<tr><td>Bitten (Women of the Otherworld, #1)</td></tr>",
                            "<tr><td>Born at Midnight (Shadow Falls, #1)</td></tr>",
                            "<tr><td>Don't Let the Pigeon Drive the Bus!</td></tr>",
                            "<tr><td>The Portrait of a Lady</td></tr>",
                            "<tr><td>The Yellow Wallpaper and Other Stories</td></tr>",
                            "<tr><td>هيبتا</td></tr>",
                            "<tr><td>Dreamland</td></tr>",
                            "<tr><td>The Art Forger</td></tr>",
                            "<tr><td>Austenland (Austenland, #1)</td></tr>",
                            "<tr><td>One Night at the Call Center</td></tr>",
                            "<tr><td>At the Water's Edge</td></tr>",
                            "<tr><td>Gilead (Gilead, #1)</td></tr>",
                            "<tr><td>The Crying of Lot 49</td></tr>",
                            "<tr><td>Demonglass (Hex Hall, #2)</td></tr>",
                            "<tr><td>The Sword of Shannara (The Original Shannara Trilogy, #1)</td></tr>",
                            "<tr><td>Hannibal (Hannibal Lecter, #3)</td></tr>",
                            "<tr><td>The Awakening / The Struggle (The Vampire Diaries, #1-2)</td></tr>",
                            "<tr><td>Night World, No. 3 (Night World, #7-9)</td></tr>",
                            "<tr><td>Fall on Your Knees</td></tr>",
                            "<tr><td>The Scorpio Races</td></tr>",
                            "<tr><td>Furiously Happy: A Funny Book About Horrible Things</td></tr>",
                            "<tr><td>Visions of Sugar Plums (Stephanie Plum, #8.5)</td></tr>",
                            "<tr><td>Anne Frank Remembered: The Story of the Woman Who Helped to Hide the Frank Family</td></tr>",
                            "<tr><td>Redshirts</td></tr>",
                            "<tr><td>Hunger (Gone, #2)</td></tr>",
                            "<tr><td>Revolution 2020: Love, Corruption, Ambition</td></tr>",
                            "<tr><td>Blue Moon (The Immortals, #2)</td></tr>",
                            "<tr><td>The Devil and Miss Prym (On the Seventh Day, #3)</td></tr>",
                            "<tr><td>Fantasy Lover (Dark-Hunterverse #1)</td></tr>",
                            "<tr><td>Sundays at Tiffany's</td></tr>",
                            "<tr><td>Prep</td></tr>",
                            "<tr><td>Captivated by You (Crossfire, #4)</td></tr>",
                            "<tr><td>Soulless (Parasol Protectorate, #1)</td></tr>",
                            "<tr><td>Just One Day (Just One Day, #1)</td></tr>",
                            "<tr><td>Wake (Wake, #1)</td></tr>",
                            "<tr><td>Memories of My Melancholy Whores</td></tr>",
                            "<tr><td>Ruby Red (Precious Stone Trilogy, #1)</td></tr>",
                            "<tr><td>Shadowland (The Immortals, #3)</td></tr>",
                            "<tr><td>Lioness Rampant (Song of the Lioness, #4)</td></tr>",
                            "<tr><td>You Can Heal Your Life</td></tr>",
                            "<tr><td>The Vacationers</td></tr>",
                            "<tr><td>The Hangman's Daughter (The Hangman's Daughter, #1)</td></tr>",
                            "<tr><td>Dealing with Dragons (Enchanted Forest Chronicles, #1)</td></tr>",
                            "<tr><td>The Yiddish Policemen's Union</td></tr>",
                            "<tr><td>The Turn of the Screw</td></tr>",
                            "<tr><td>Best Friends Forever</td></tr>",
                            "<tr><td>Preacher, Volume 1: Gone to Texas</td></tr>",
                            "<tr><td>Case Histories (Jackson Brodie #1)</td></tr>",
                            "<tr><td>Wedding Night</td></tr>",
                            "<tr><td>Pollyanna (Pollyanna, #1)</td></tr>",
                            "<tr><td>Lone Wolf</td></tr>",
                            "<tr><td>Shadowfever (Fever, #5)</td></tr>",
                            "<tr><td>The Associate</td></tr>",
                            "<tr><td>The Sandman: Overture</td></tr>",
                            "<tr><td>Less Than Zero</td></tr>",
                            "<tr><td>The Forest of Hands and Teeth (The Forest of Hands and Teeth, #1)</td></tr>",
                            "<tr><td>Dash &amp; Lily's Book of Dares (Dash &amp; Lily, #1)</td></tr>",
                            "<tr><td>The Luminaries</td></tr>",
                            "<tr><td>Made to Stick: Why Some Ideas Survive and Others Die</td></tr>",
                            "<tr><td>On Beauty</td></tr>",
                            "<tr><td>أحببتك أكثر مما ينبغي</td></tr>",
                            "<tr><td>Heat Wave (Nikki Heat, #1)</td></tr>",
                            "<tr><td>Kindle Paperwhite User's Guide</td></tr>",
                            "<tr><td>Charlie and the Great Glass Elevator (Charlie Bucket, #2)</td></tr>",
                            "<tr><td>The Wasp Factory</td></tr>",
                            "<tr><td>Night Film</td></tr>",
                            "<tr><td>Stories I Only Tell My Friends</td></tr>",
                            "<tr><td>Crazy Rich Asians (Crazy Rich Asians #1)</td></tr>",
                            "<tr><td>Rebel Angels (Gemma Doyle, #2)</td></tr>",
                            "<tr><td>Howards End</td></tr>",
                            "<tr><td>Hellboy, Vol. 1: Seed of Destruction (Hellboy, #1)</td></tr>",
                            "<tr><td>The Sword of Summer (Magnus Chase and the Gods of Asgard, #1)</td></tr>",
                            "<tr><td>The Haunting of Hill House</td></tr>",
                            "<tr><td>Destined (House of Night, #9)</td></tr>",
                            "<tr><td>Women</td></tr>",
                            "<tr><td>The Young Elites (The Young Elites, #1)</td></tr>",
                            "<tr><td>Peter and the Starcatchers (Peter and the Starcatchers, #1)</td></tr>",
                            "<tr><td>Possession</td></tr>",
                            "<tr><td>Revelations (Blue Bloods, #3)</td></tr>",
                            "<tr><td>The Interpretation of Dreams</td></tr>",
                            "<tr><td>Ghost Story</td></tr>",
                            "<tr><td>The End (A Series of Unfortunate Events, #13)</td></tr>",
                            "<tr><td>Dead Ever After (Sookie Stackhouse, #13)</td></tr>",
                            "<tr><td>Naked (The Blackstone Affair, #1)</td></tr>",
                            "<tr><td>Annihilation (Southern Reach, #1)</td></tr>",
                            "<tr><td>Breathe (Sea Breeze, #1)</td></tr>",
                            "<tr><td>The Runaway Bunny</td></tr>",
                            "<tr><td>The Grand Design</td></tr>",
                            "<tr><td>The Innocent Man: Murder and Injustice in a Small Town</td></tr>",
                            "<tr><td>Zealot: The Life and Times of Jesus of Nazareth</td></tr>",
                            "<tr><td>Soul of the Fire (Sword of Truth, #5)</td></tr>",
                            "<tr><td>Consider Phlebas (Culture, #1)</td></tr>",
                            "<tr><td>The Vampire Armand (The Vampire Chronicles, #6)</td></tr>",
                            "<tr><td>Pinocchio</td></tr>",
                            "<tr><td>Grave Mercy (His Fair Assassin, #1)</td></tr>",
                            "<tr><td>Tropic of Cancer</td></tr>",
                            "<tr><td>The Hour I First Believed</td></tr>",
                            "<tr><td>The Dovekeepers</td></tr>",
                            "<tr><td>Snuff</td></tr>",
                            "<tr><td>Saturday</td></tr>",
                            "<tr><td>The Bridges of Madison County</td></tr>",
                            "<tr><td>The Maze of Bones  (The 39 Clues, #1)</td></tr>",
                            "<tr><td>How to Cook Everything: Simple Recipes for Great Food</td></tr>",
                            "<tr><td>The Twilight Collection (Twilight, #1-3)</td></tr>",
                            "<tr><td>Concerning the Spiritual in Art</td></tr>",
                            "<tr><td>Forrest Gump (Forrest Gump, #1)</td></tr>",
                            "<tr><td>Even Cowgirls Get the Blues</td></tr>",
                            "<tr><td>The Moonstone</td></tr>",
                            "<tr><td>If on a Winter's Night a Traveler</td></tr>",
                            "<tr><td>Son of a Witch (The Wicked Years, #2)</td></tr>",
                            "<tr><td>On Chesil Beach</td></tr>",
                            "<tr><td>Sarah, Plain and Tall (Sarah, Plain and Tall, #1)</td></tr>",
                            "<tr><td>عزازيل</td></tr>",
                            "<tr><td>Squirrel Seeks Chipmunk: A Modest Bestiary</td></tr>",
                            "<tr><td>The Van Alen Legacy (Blue Bloods, #4)</td></tr>",
                            "<tr><td>Lisey's Story</td></tr>",
                            "<tr><td>Proof of Heaven: A Neurosurgeon's Journey into the Afterlife</td></tr>",
                            "<tr><td>The Year of Living Biblically: One Man's Humble Quest to Follow the Bible as Literally as Possible</td></tr>",
                            "<tr><td>God Emperor of Dune (Dune Chronicles #4)</td></tr>",
                            "<tr><td>The One &amp; Only</td></tr>",
                            "<tr><td>Geek Love</td></tr>",
                            "<tr><td>My Grandmother Asked Me to Tell You She's Sorry</td></tr>",
                            "<tr><td>Fingersmith</td></tr>",
                            "<tr><td>The House Girl</td></tr>",
                            "<tr><td>Out of the Dust</td></tr>",
                            "<tr><td>Queen of Babble (Queen of Babble, #1)</td></tr>",
                            "<tr><td>The Third Wheel (Diary of a Wimpy Kid, #7)</td></tr>",
                            "<tr><td>Code Name Verity (Code Name Verity, #1)</td></tr>",
                            "<tr><td>The Boy Next Door (Boy, #1)</td></tr>",
                            "<tr><td>The Epic of Gilgamesh</td></tr>",
                            "<tr><td>The Luxe (Luxe, #1)</td></tr>",
                            "<tr><td>American Pastoral (The American Trilogy, #1)</td></tr>",
                            "<tr><td>Big Magic: Creative Living Beyond Fear</td></tr>",
                            "<tr><td>The Qur'an / القرآن الكريم</td></tr>",
                            "<tr><td>The Darkest Night (Lords of the Underworld #1)</td></tr>",
                            "<tr><td>Anathem</td></tr>",
                            "<tr><td>The Lacuna</td></tr>",
                            "<tr><td>Skip Beat!, Vol. 01</td></tr>",
                            "<tr><td>Batman: The Dark Knight Returns #1</td></tr>",
                            "<tr><td>The Windup Girl</td></tr>",
                            "<tr><td>Isla and the Happily Ever After (Anna and the French Kiss, #3)</td></tr>",
                            "<tr><td>Magic Bites (Kate Daniels, #1)</td></tr>",
                            "<tr><td>Suite Française</td></tr>",
                            "<tr><td>The Letters of Vincent van Gogh</td></tr>",
                            "<tr><td>Memory Man (Amos Decker, #1)</td></tr>",
                            "<tr><td>Cut</td></tr>",
                            "<tr><td>A Thousand Acres</td></tr>",
                            "<tr><td>The Book of Three (The Chronicles of Prydain, #1)</td></tr>",
                            "<tr><td>Olivia</td></tr>",
                            "<tr><td>Ghost World</td></tr>",
                            "<tr><td>Evernight (Evernight, #1)</td></tr>",
                            "<tr><td>The Jane Austen Book Club</td></tr>",
                            "<tr><td>Elon Musk: Inventing the Future</td></tr>",
                            "<tr><td>Tipping the Velvet</td></tr>",
                            "<tr><td>The Wishing Spell (The Land of Stories, #1)</td></tr>",
                            "<tr><td>The 19th Wife</td></tr>",
                            "<tr><td>Monster</td></tr>",
                            "<tr><td>Saga #1</td></tr>",
                            "<tr><td>The Secret of Ella and Micha (The Secret, #1)</td></tr>",
                            "<tr><td>From a Buick 8</td></tr>",
                            "<tr><td>Red Mars (Mars Trilogy, #1)</td></tr>",
                            "<tr><td>An Object of Beauty</td></tr>",
                            "<tr><td>What to Expect When You're Expecting</td></tr>",
                            "<tr><td>Anybody Out There? (Walsh Family, #4)</td></tr>",
                            "<tr><td>Zero to One: Notes on Startups, or How to Build the Future</td></tr>",
                            "<tr><td>The Grownup</td></tr>",
                            "<tr><td>The Oath of the Vayuputras (Shiva Trilogy, #3)</td></tr>",
                            "<tr><td>Truman</td></tr>",
                            "<tr><td>Alexander Hamilton</td></tr>",
                            "<tr><td>The Deal (Off-Campus, #1)</td></tr>",
                            "<tr><td>The Crown (The Selection, #5)</td></tr>",
                            "<tr><td>Night World, No. 1 (Night World, #1-3)</td></tr>",
                            "<tr><td>Love Unscripted (Love, #1)</td></tr>",
                            "<tr><td>Bully (Fall Away, #1)</td></tr>",
                            "<tr><td>Cry, the Beloved Country</td></tr>",
                            "<tr><td>Faeries</td></tr>",
                            "<tr><td>Confessions of an Ugly Stepsister</td></tr>",
                            "<tr><td>How to Be Good</td></tr>",
                            "<tr><td>Lady Midnight (The Dark Artifices, #1)</td></tr>",
                            "<tr><td>Inkdeath (Inkworld, #3)</td></tr>",
                            "<tr><td>Jude the Obscure</td></tr>",
                            "<tr><td>Into the Gauntlet (The 39 Clues, #10)</td></tr>",
                            "<tr><td>Wings (Wings, #1)</td></tr>",
                            "<tr><td>Gossip Girl (Gossip Girl, #1)</td></tr>",
                            "<tr><td>The Burgess Boys</td></tr>",
                            "<tr><td>Lies That Chelsea Handler Told Me</td></tr>",
                            "<tr><td>Down to You (The Bad Boys, #1)</td></tr>",
                            "<tr><td>Faceless Killers (Kurt Wallander, #1)</td></tr>",
                            "<tr><td>The Couple Next Door</td></tr>",
                            "<tr><td>Hallowed (Unearthly, #2)</td></tr>",
                            "<tr><td>Ancillary Justice (Imperial Radch #1)</td></tr>",
                            "<tr><td>The Pillars of Creation (Sword of Truth, #7)</td></tr>",
                            "<tr><td>Built to Last: Successful Habits of Visionary Companies</td></tr>",
                            "<tr><td>John Dies at the End (John Dies at the End, #1)</td></tr>",
                            "<tr><td>Stolen: A Letter to My Captor</td></tr>",
                            "<tr><td>Prozac Nation</td></tr>",
                            "<tr><td>This Is Your Brain on Music: The Science of a Human Obsession</td></tr>",
                            "<tr><td>The First Phone Call from Heaven</td></tr>",
                            "<tr><td>Still Life with Bread Crumbs</td></tr>",
                            "<tr><td>Holy Bible: New International Version</td></tr>",
                            "<tr><td>A Raisin in the Sun</td></tr>",
                            "<tr><td>The Good Neighbor</td></tr>",
                            "<tr><td>Rogue Lawyer</td></tr>",
                            "<tr><td>1491: New Revelations of the Americas Before Columbus</td></tr>",
                            "<tr><td>Foucault's Pendulum</td></tr>",
                            "<tr><td>Kushiel's Dart (Phèdre's Trilogy, #1)</td></tr>",
                            "<tr><td>Bonhoeffer: Pastor, Martyr, Prophet, Spy</td></tr>",
                            "<tr><td>Maisie Dobbs (Maisie Dobbs, #1)</td></tr>",
                            "<tr><td>The Butterfly Garden (The Collector #1)</td></tr>",
                            "<tr><td>In Flight (Up in the Air, #1)</td></tr>",
                            "<tr><td>All-American Girl (All-American Girl, #1)</td></tr>",
                            "<tr><td>Boy Meets Boy</td></tr>",
                            "<tr><td>We Are Water</td></tr>",
                            "<tr><td>Max (Maximum Ride, #5)</td></tr>",
                            "<tr><td>Halo (Halo, #1)</td></tr>",
                            "<tr><td>The Inheritance of Loss</td></tr>",
                            "<tr><td>The Sorrows of Young Werther</td></tr>",
                            "<tr><td>The Girl of Fire and Thorns (Fire and Thorns, #1)</td></tr>",
                            "<tr><td>Enclave (Razorland, #1)</td></tr>",
                            "<tr><td>Locke &amp; Key, Vol. 1: Welcome to Lovecraft</td></tr>",
                            "<tr><td>Scarlett</td></tr>",
                            "<tr><td>This Side of Paradise</td></tr>",
                            "<tr><td>Eligible: A Modern Retelling of Pride and Prejudice (The Austen Project, #4)</td></tr>",
                            "<tr><td>Seven Days in the Art World</td></tr>",
                            "<tr><td>Light in August</td></tr>",
                            "<tr><td>Tenth of December</td></tr>",
                            "<tr><td>Chronicles, Vol. 1</td></tr>",
                            "<tr><td>The Lost Continent: Travels in Small Town America</td></tr>",
                            "<tr><td>Everything We Keep (Everything We Keep, #1)</td></tr>",
                            "<tr><td>The Mighty Storm (The Storm, #1)</td></tr>",
                            "<tr><td>The Girl with the Lower Back Tattoo</td></tr>",
                            "<tr><td>The Bhagavad Gita</td></tr>",
                            "<tr><td>Esperanza Rising</td></tr>",
                            "<tr><td>Sex and the City</td></tr>",
                            "<tr><td>The Watsons Go to Birmingham - 1963</td></tr>",
                            "<tr><td>The Immortal Rules (Blood of Eden, #1)</td></tr>",
                            "<tr><td>The Regulators</td></tr>",
                            "<tr><td>Silas Marner</td></tr>",
                            "<tr><td>Beautiful Redemption (Caster Chronicles, #4)</td></tr>",
                            "<tr><td>The Vincent Boys (The Vincent Boys, #1)</td></tr>",
                            "<tr><td>Half-Blood (Covenant, #1)</td></tr>",
                            "<tr><td>Bitter Is the New Black: Confessions of a Condescending, Egomaniacal, Self-Centered Smartass, Or, Why You Should Never Carry A Prada Bag to the Unemployment Office</td></tr>",
                            "<tr><td>Lord Brocktree (Redwall, #13)</td></tr>",
                            "<tr><td>The Final Warning (Maximum Ride, #4)</td></tr>",
                            "<tr><td>The Dragonbone Chair (Memory, Sorrow, and Thorn, #1)</td></tr>",
                            "<tr><td>Persepolis, Volume 1</td></tr>",
                            "<tr><td>At Home in Mitford (Mitford Years, #1)</td></tr>",
                            "<tr><td>Delivering Happiness: A Path to Profits, Passion, and Purpose</td></tr>",
                            "<tr><td>The Queen of the Tearling (The Queen of the Tearling, #1)</td></tr>",
                            "<tr><td>One False Note (The 39 Clues, #2)</td></tr>",
                            "<tr><td>Tithe (Modern Faerie Tales, #1)</td></tr>",
                            "<tr><td>The Fury / Dark Reunion (The Vampire Diaries, #3-4)</td></tr>",
                            "<tr><td>Naked Empire (Sword of Truth, #8)</td></tr>",
                            "<tr><td>A Passage to India</td></tr>",
                            "<tr><td>Seraphina (Seraphina, #1)</td></tr>",
                            "<tr><td>Love Story (Love Story, #1)</td></tr>",
                            "<tr><td>Sweet Evil (Sweet, #1)</td></tr>",
                            "<tr><td>The E-Myth Revisited: Why Most Small Businesses Don't Work and What to Do About It</td></tr>",
                            "<tr><td>Bunnicula (Bunnicula, #1)</td></tr>",
                            "<tr><td>Musicophilia: Tales of Music and the Brain</td></tr>",
                            "<tr><td>My Life</td></tr>",
                            "<tr><td>Storm Warning (The 39 Clues, #9)</td></tr>",
                            "<tr><td>Grave Sight (Harper Connelly, #1)</td></tr>",
                            "<tr><td>Flaggermusmannen (Harry Hole, #1)</td></tr>",
                            "<tr><td>Picture Perfect</td></tr>",
                            "<tr><td>Catching Jordan</td></tr>",
                            "<tr><td>The Satanic Verses</td></tr>",
                            "<tr><td>Winning</td></tr>",
                            "<tr><td>Collide (Collide, #1)</td></tr>",
                            "<tr><td>How We Decide</td></tr>",
                            "<tr><td>The Beekeeper's Apprentice (Mary Russell, #1)</td></tr>",
                            "<tr><td>The Imperfectionists</td></tr>",
                            "<tr><td>The Sea of Tranquility</td></tr>",
                            "<tr><td>Before I Die</td></tr>",
                            "<tr><td>Committed: A Skeptic Makes Peace with Marriage</td></tr>",
                            "<tr><td>Chainfire (Sword of Truth, #9)</td></tr>",
                            "<tr><td>Confessor (Sword of Truth, #11)</td></tr>",
                            "<tr><td>Rabbit, Run (Rabbit Angstrom #1)</td></tr>",
                            "<tr><td>The Field Guide (The Spiderwick Chronicles, #1)</td></tr>",
                            "<tr><td>The Sword Thief (The 39 Clues, #3)</td></tr>",
                            "<tr><td>Into the Wild (Warriors, #1)</td></tr>",
                            "<tr><td>Rush (Breathless, #1)</td></tr>",
                            "<tr><td>The Buried Giant</td></tr>",
                            "<tr><td>Perdido Street Station (Bas-Lag, #1)</td></tr>",
                            "<tr><td>Need (Need, #1)</td></tr>",
                            "<tr><td>Damned (Damned, #1)</td></tr>",
                            "<tr><td>Swamplandia!</td></tr>",
                            "<tr><td>Salt: A World History</td></tr>",
                            "<tr><td>Villette</td></tr>",
                            "<tr><td>The Bronze Horseman (The Bronze Horseman, #1)</td></tr>",
                            "<tr><td>The Atlantis Gene (The Origin Mystery, #1)</td></tr>",
                            "<tr><td>Something About You (FBI/US Attorney, #1)</td></tr>",
                            "<tr><td>Marvel 1602</td></tr>",
                            "<tr><td>1Q84 BOOK 1 (1Q84, #1)</td></tr>",
                            "<tr><td>The Pilgrimage</td></tr>",
                            "<tr><td>March</td></tr>",
                            "<tr><td>All-Star Superman, Vol. 1</td></tr>",
                            "<tr><td>Dark Witch (The Cousins O'Dwyer Trilogy, #1)</td></tr>",
                            "<tr><td>Dark Flame (The Immortals, #4)</td></tr>",
                            "<tr><td>The Widow</td></tr>",
                            "<tr><td>The Black Circle (The 39 Clues, #5)</td></tr>",
                            "<tr><td>The Winner's Curse (The Winner's Trilogy, #1)</td></tr>",
                            "<tr><td>Push</td></tr>",
                            "<tr><td>American Born Chinese</td></tr>",
                            "<tr><td>Ten Tiny Breaths (Ten Tiny Breaths, #1)</td></tr>",
                            "<tr><td>Lipstick Jungle</td></tr>",
                            "<tr><td>The Long Winter (Little House, #6)</td></tr>",
                            "<tr><td>Portnoy's Complaint</td></tr>",
                            "<tr><td>The Perfect Game (The Perfect Game, #1)</td></tr>",
                            "<tr><td>Wonderstruck</td></tr>",
                            "<tr><td>Blood Red Road (Dust Lands, #1)</td></tr>",
                            "<tr><td>Color: A Natural History of the Palette</td></tr>",
                            "<tr><td>Skipping Christmas</td></tr>",
                            "<tr><td>The Sweet Far Thing (Gemma Doyle, #3)</td></tr>",
                            "<tr><td>Mini Shopaholic (Shopaholic, #6)</td></tr>",
                            "<tr><td>Griffin and Sabine (Griffin &amp; Sabine #1)</td></tr>",
                            "<tr><td>Beyond the Highland Mist (Highlander, #1)</td></tr>",
                            "<tr><td>Stargazer (Evernight, #2)</td></tr>",
                            "<tr><td>The Mayor of Casterbridge</td></tr>",
                            "<tr><td>The Red Pony</td></tr>",
                            "<tr><td>Taltos (Lives of the Mayfair Witches, #3)</td></tr>",
                            "<tr><td>The Appeal</td></tr>",
                            "<tr><td>The Wrath and the Dawn (The Wrath and the Dawn, #1)</td></tr>",
                            "<tr><td>Why We Broke Up</td></tr>",
                            "<tr><td>The Sparrow (The Sparrow, #1)</td></tr>",
                            "<tr><td>Mercy</td></tr>",
                            "<tr><td>The Paper Magician (The Paper Magician Trilogy, #1)</td></tr>",
                            "<tr><td>Act Like a Lady, Think Like a Man: What Men Really Think About Love, Relationships, Intimacy, and Commitment</td></tr>",
                            "<tr><td>It's Not About the Bike: My Journey Back to Life</td></tr>",
                            "<tr><td>H is for Hawk</td></tr>",
                            "<tr><td>Captive in the Dark (The Dark Duet, #1)</td></tr>",
                            "<tr><td>The Little Paris Bookshop</td></tr>",
                            "<tr><td>Sweet Tooth</td></tr>",
                            "<tr><td>One Thousand Gifts: A Dare to Live Fully Right Where You Are</td></tr>",
                            "<tr><td>Milk and Honey</td></tr>",
                            "<tr><td>Three Junes</td></tr>",
                            "<tr><td>The Autobiography of Benjamin Franklin</td></tr>",
                            "<tr><td>Blue Ocean Strategy: How To Create Uncontested Market Space And Make The Competition Irrelevant</td></tr>",
                            "<tr><td>Fang (Maximum Ride, #6)</td></tr>",
                            "<tr><td>Firelight (Firelight, #1)</td></tr>",
                            "<tr><td>Flat-Out Love (Flat-Out Love, #1)</td></tr>",
                            "<tr><td>The Claiming of Sleeping Beauty (Sleeping Beauty, #1)</td></tr>",
                            "<tr><td>The Awakening (The Vampire Diaries, #1)</td></tr>",
                            "<tr><td>It Had to Be You (Chicago Stars, #1)</td></tr>",
                            "<tr><td>The Red and the Black</td></tr>",
                            "<tr><td>Incarceron (Incarceron, #1)</td></tr>",
                            "<tr><td>Starcrossed (Starcrossed, #1)</td></tr>",
                            "<tr><td>Night Star (The Immortals, #5)</td></tr>",
                            "<tr><td>Wreckage</td></tr>",
                            "<tr><td>A History of God: The 4,000-Year Quest of Judaism, Christianity, and Islam</td></tr>",
                            "<tr><td>No, David!</td></tr>",
                            "<tr><td>Utopia</td></tr>",
                            "<tr><td>The Name of This Book Is Secret (Secret, #1)</td></tr>",
                            "<tr><td>Dorothy Must Die (Dorothy Must Die, #1)</td></tr>",
                            "<tr><td>The Particular Sadness of Lemon Cake</td></tr>",
                            "<tr><td>Bad Feminist</td></tr>",
                            "<tr><td>Nimona</td></tr>",
                            "<tr><td>Everyday Italian: 125 Simple and Delicious Recipes</td></tr>",
                            "<tr><td>Oranges Are Not the Only Fruit</td></tr>",
                            "<tr><td>I Too Had a Love Story</td></tr>",
                            "<tr><td>10% Happier: How I Tamed the Voice in My Head, Reduced Stress Without Losing My Edge, and Found Self-Help That Actually Works</td></tr>",
                            "<tr><td>The Viper's Nest (39 Clues, #7)</td></tr>",
                            "<tr><td>Ahab's Wife, or The Star-Gazer</td></tr>",
                            "<tr><td>Feed</td></tr>",
                            "<tr><td>Angels' Blood (Guild Hunter, #1)</td></tr>",
                            "<tr><td>Black Hole</td></tr>",
                            "<tr><td>The End of Your Life Book Club</td></tr>",
                            "<tr><td>Two-Way Street</td></tr>",
                            "<tr><td>Decision Points</td></tr>",
                            "<tr><td>Witch &amp; Wizard (Witch &amp; Wizard, #1)</td></tr>",
                            "<tr><td>Julie of the Wolves (Julie of the Wolves, #1)</td></tr>",
                            "<tr><td>Forever . . .</td></tr>",
                            "<tr><td>American Lion: Andrew Jackson in the White House</td></tr>",
                            "<tr><td>Mad About the Boy (Bridget Jones, #3)</td></tr>",
                            "<tr><td>History of Beauty</td></tr>",
                            "<tr><td>The Boy Who Sneaks in My Bedroom Window</td></tr>",
                            "<tr><td>Terrier (Beka Cooper, #1)</td></tr>",
                            "<tr><td>First Grave on the Right (Charley Davidson, #1)</td></tr>",
                            "<tr><td>Anya's Ghost</td></tr>",
                            "<tr><td>Wide Sargasso Sea</td></tr>",
                            "<tr><td>The Magus</td></tr>",
                            "<tr><td>You (You, #1)</td></tr>",
                            "<tr><td>Playing for Pizza</td></tr>",
                            "<tr><td>Tiger's Curse (The Tiger Saga, #1)</td></tr>",
                            "<tr><td>Brown Girl Dreaming</td></tr>",
                            "<tr><td>Feed (Newsflesh Trilogy, #1)</td></tr>",
                            "<tr><td>The Physick Book of Deliverance Dane</td></tr>",
                            "<tr><td>The Monuments Men: Allied Heroes, Nazi Thieves, and the Greatest Treasure Hunt in History</td></tr>",
                            "<tr><td>Love Letters to the Dead</td></tr>",
                            "<tr><td>Hard Times</td></tr>",
                            "<tr><td>La Vérité sur l'affaire Harry Quebert</td></tr>",
                            "<tr><td>Chobits, Vol. 1</td></tr>",
                            "<tr><td>#GIRLBOSS</td></tr>",
                            "<tr><td>The Gashlycrumb Tinies (The Vinegar Works, #1)</td></tr>",
                            "<tr><td>Existence (Existence Trilogy, #1)</td></tr>",
                            "<tr><td>That Summer</td></tr>",
                            "<tr><td>The School for Good and Evil (The School for Good and Evil, #1)</td></tr>",
                            "<tr><td>Drama</td></tr>",
                            "<tr><td>Undead and Unwed (Undead, #1)</td></tr>",
                            "<tr><td>The Fifth Mountain</td></tr>",
                            "<tr><td>Longbourn</td></tr>",
                            "<tr><td>Narcissus in Chains (Anita Blake, Vampire Hunter, #10)</td></tr>",
                            "<tr><td>Special Topics in Calamity Physics</td></tr>",
                            "<tr><td>Partials (Partials Sequence, #1)</td></tr>",
                            "<tr><td>The Last Templar (Templar, #1)</td></tr>",
                            "<tr><td>Official Book Club Selection: A Memoir According to Kathy Griffin</td></tr>",
                            "<tr><td>The Horse Whisperer</td></tr>",
                            "<tr><td>Why Men Love Bitches: From Doormat to Dreamgirl—A Woman's Guide to Holding Her Own in a Relationship</td></tr>",
                            "<tr><td>The Diviners (The Diviners, #1)</td></tr>",
                            "<tr><td>The Spectacular Now</td></tr>",
                            "<tr><td>The Kiss of Deception (The Remnant Chronicles, #1)</td></tr>",
                            "<tr><td>The Weird Sisters</td></tr>",
                            "<tr><td>The Leftovers</td></tr>",
                            "<tr><td>The Mill on the Floss</td></tr>",
                            "<tr><td>Super Sad True Love Story</td></tr>",
                            "<tr><td>This Is What Happy Looks Like (This is What Happy Looks Like, #1)</td></tr>",
                            "<tr><td>The Merchant of Death (Pendragon, #1)</td></tr>",
                            "<tr><td>My Favorite Mistake (My Favorite Mistake, #1)</td></tr>",
                            "<tr><td>Angel (Maximum Ride, #7)</td></tr>",
                            "<tr><td>These Broken Stars (Starbound, #1)</td></tr>",
                            "<tr><td>Eon: Dragoneye Reborn (Eon, #1)</td></tr>",
                            "<tr><td>The View from Saturday</td></tr>",
                            "<tr><td>Hidden (House of Night, #10)</td></tr>",
                            "<tr><td>Kiss of Midnight (Midnight Breed,  #1)</td></tr>",
                            "<tr><td>Sons and Lovers</td></tr>",
                            "<tr><td>Crash (Crash, #1)</td></tr>",
                            "<tr><td>Peony in Love</td></tr>",
                            "<tr><td>The Ice Princess (Patrik Hedström, #1)</td></tr>",
                            "<tr><td>Everlasting (The Immortals, #6)</td></tr>",
                            "<tr><td>A Shade of Vampire (A Shade of Vampire, #1)</td></tr>",
                            "<tr><td>Cocktails for Three</td></tr>",
                            "<tr><td>Panic (Panic, #1)</td></tr>",
                            "<tr><td>Leonardo's Notebooks</td></tr>",
                            "<tr><td>The Moosewood Cookbook: Recipes from Moosewood Restaurant, Ithaca, New York</td></tr>",
                            "<tr><td>My Name is Red</td></tr>",
                            "<tr><td>Beyond the Grave (The 39 Clues #4)</td></tr>",
                            "<tr><td>Purity</td></tr>",
                            "<tr><td>Labyrinth (Languedoc, #1)</td></tr>",
                            "<tr><td>Twilight: The Graphic Novel, Vol. 1 (Twilight: The Graphic Novel, #1)</td></tr>",
                            "<tr><td>Nightfall (The Vampire Diaries: The Return, #1)</td></tr>",
                            "<tr><td>The Bone Season (The Bone Season, #1)</td></tr>",
                            "<tr><td>How to Eat Fried Worms</td></tr>",
                            "<tr><td>Wicked Appetite (Lizzy &amp; Diesel, #1)</td></tr>",
                            "<tr><td>Tales from a Not-So-Fabulous Life (Dork Diaries, #1)</td></tr>",
                            "<tr><td>The Valley of Amazement</td></tr>",
                            "<tr><td>Die for Me (Revenants, #1)</td></tr>",
                            "<tr><td>Amsterdam</td></tr>",
                            "<tr><td>Falling into You (Falling, #1)</td></tr>",
                            "<tr><td>Adultery</td></tr>",
                            "<tr><td>Skinny Bitch</td></tr>",
                            "<tr><td>Mystery Man (Dream Man, #1)</td></tr>",
                            "<tr><td>Snow</td></tr>",
                            "<tr><td>Hourglass (Evernight, #3)</td></tr>",
                            "<tr><td>A Kiss of Shadows (Merry Gentry, #1)</td></tr>",
                            "<tr><td>One Second After (After, #1)</td></tr>",
                            "<tr><td>Art Through the Ages </td></tr>",
                            "<tr><td>Sisterland</td></tr>",
                            "<tr><td>The Warlord Wants Forever (Immortals After Dark #1)</td></tr>",
                            "<tr><td>Good Faeries/Bad Faeries</td></tr>",
                            "<tr><td>Orlando</td></tr>",
                            "<tr><td>South of Broad</td></tr>",
                            "<tr><td>The Little Friend</td></tr>",
                            "<tr><td>Backstage Pass (Sinners on Tour, #1)</td></tr>",
                            "<tr><td>Beauty Queens</td></tr>",
                            "<tr><td>Cruel Beauty (Cruel Beauty Universe, #1)</td></tr>",
                            "<tr><td>Shopgirl</td></tr>",
                            "<tr><td>حوار مع صديقي الملحد</td></tr>",
                            "<tr><td>The Woman Upstairs</td></tr>",
                            "<tr><td>Confessions</td></tr>",
                            "<tr><td>The Painted Girls</td></tr>",
                            "<tr><td>The Bedwetter: Stories of Courage, Redemption, and Pee</td></tr>",
                            "<tr><td>Chain Reaction (Perfect Chemistry, #3)</td></tr>",
                            "<tr><td>Dark Prince (Dark, #1)</td></tr>",
                            "<tr><td>The Shining Girls</td></tr>",
                            "<tr><td>The Zookeeper's Wife</td></tr>",
                            "<tr><td>Ink Exchange (Wicked Lovely, #2)</td></tr>",
                            "<tr><td>com نسيان</td></tr>",
                            "<tr><td>Bleachers</td></tr>",
                            "<tr><td>The Iron Trial (Magisterium, #1)</td></tr>",
                            "<tr><td>The Carrie Diaries (The Carrie Diaries, #1)</td></tr>",
                            "<tr><td>The World of Divergent: The Path to Allegiant (Divergent, #2.5)</td></tr>",
                            "<tr><td>في قلبي أنثى عبرية</td></tr>",
                            "<tr><td>Vampire Kisses (Vampire Kisses, #1)</td></tr>",
                            "<tr><td>Then We Came to the End</td></tr>",
                            "<tr><td>One Week Girlfriend (One Week Girlfriend, #1)</td></tr>",
                            "<tr><td>Linchpin: Are You Indispensable?</td></tr>",
                            "<tr><td>Camera Lucida: Reflections on Photography</td></tr>",
                            "<tr><td>The Gargoyle</td></tr>",
                            "<tr><td>My Story</td></tr>",
                            "<tr><td>Birthmarked (Birthmarked, #1)</td></tr>",
                            "<tr><td>The Philosophy of Andy Warhol (From A to B and Back Again)</td></tr>",
                            "<tr><td>One More Thing: Stories and Other Stories</td></tr>",
                            "<tr><td>Asylum (Asylum, #1)</td></tr>",
                            "<tr><td>The Heart Goes Last</td></tr>",
                            "<tr><td>The Coldest Girl in Coldtown</td></tr>",
                            "<tr><td>The Marriage of Opposites</td></tr>",
                            "<tr><td>Imagine: How Creativity Works</td></tr>",
                            "<tr><td>Splintered (Splintered, #1)</td></tr>",
                            "<tr><td>Lord Foul's Bane (The Chronicles of Thomas Covenant the Unbeliever, #1)</td></tr>",
                            "<tr><td>Our Town</td></tr>",
                            "<tr><td>Through the Woods</td></tr>",
                            "<tr><td>Aleph</td></tr>",
                            "<tr><td>Absalom, Absalom!</td></tr>",
                            "<tr><td>Girl Online (Girl Online, #1)</td></tr>",
                            "<tr><td>The Dante Club</td></tr>",
                            "<tr><td>The Winner Stands Alone</td></tr>",
                            "<tr><td>The Body Finder (The Body Finder, #1)</td></tr>",
                            "<tr><td>Enduring Love</td></tr>",
                            "<tr><td>Annie on My Mind</td></tr>",
                            "<tr><td>Pirate Latitudes</td></tr>",
                            "<tr><td>Washington: A Life</td></tr>",
                            "<tr><td>Come Away with Me (With Me in Seattle, #1)</td></tr>",
                            "<tr><td>Taking Chances (Taking Chances, #1)</td></tr>",
                            "<tr><td>The Solitude of Prime Numbers</td></tr>",
                            "<tr><td>Fortunately, the Milk</td></tr>",
                            "<tr><td>Ms. Marvel, Vol. 1: No Normal</td></tr>",
                            "<tr><td>Slave to Sensation (Psy-Changeling #1)</td></tr>",
                            "<tr><td>فلتغفري</td></tr>",
                            "<tr><td>Portrait of a Killer: Jack the Ripper - Case Closed</td></tr>",
                            "<tr><td>The Thief (The Queen's Thief, #1)</td></tr>",
                            "<tr><td>Succubus Blues (Georgina Kincaid, #1)</td></tr>",
                            "<tr><td>Love &amp; Misadventure</td></tr>",
                            "<tr><td>Of Poseidon (The Syrena Legacy, #1)</td></tr>",
                            "<tr><td>Letter to a Christian Nation</td></tr>",
                            "<tr><td>Shadow Souls (The Vampire Diaries: The Return, #2)</td></tr>",
                            "<tr><td>When It Happens</td></tr>",
                            "<tr><td>On the Jellicoe Road</td></tr>",
                            "<tr><td>The Natural Way to Draw</td></tr>",
                            "<tr><td>Flora and Ulysses: The Illuminated Adventures</td></tr>",
                            "<tr><td>Absolute Boyfriend, Vol. 1</td></tr>",
                            "<tr><td>Cerulean Sins (Anita Blake, Vampire Hunter, #11)</td></tr>",
                            "<tr><td>Amphigorey (Amphigorey, #1)</td></tr>",
                            "<tr><td>Some Girls Bite (Chicagoland Vampires, #1)</td></tr>",
                            "<tr><td>The Almost Moon</td></tr>",
                            "<tr><td>I Was Told There'd Be Cake</td></tr>",
                            "<tr><td>Forbidden</td></tr>",
                            "<tr><td>His Excellency: George Washington</td></tr>",
                            "<tr><td>Gravity's Rainbow</td></tr>",
                            "<tr><td>The Tin Drum</td></tr>",
                            "<tr><td>Incubus Dreams (Anita Blake, Vampire Hunter, #12)</td></tr>",
                            "<tr><td>Covet (Fallen Angels, #1)</td></tr>",
                            "<tr><td>Zoo</td></tr>",
                            "<tr><td>The End of Faith: Religion, Terror, and the Future of Reason</td></tr>",
                            "<tr><td>The Adoration of Jenna Fox (Jenna Fox Chronicles, #1)</td></tr>",
                            "<tr><td>Serena</td></tr>",
                            "<tr><td>Thirst No. 1: The Last Vampire, Black Blood, and Red Dice (Thirst, #1)</td></tr>",
                            "<tr><td>Moll Flanders</td></tr>",
                            "<tr><td>Bergdorf Blondes</td></tr>",
                            "<tr><td>The Chocolate War (Chocolate War, #1)</td></tr>",
                            "<tr><td>Chocolate Chip Cookie Murder (Hannah Swensen, #1)</td></tr>",
                            "<tr><td>After (After, #1)</td></tr>",
                            "<tr><td>The Disreputable History of Frankie Landau-Banks</td></tr>",
                            "<tr><td>The Postmistress</td></tr>",
                            "<tr><td>The Diary of Frida Kahlo: An Intimate Self-Portrait</td></tr>",
                            "<tr><td>Seduction and Snacks (Chocolate Lovers, #1)</td></tr>",
                            "<tr><td>The Hypnotist (Joona Linna, #1)</td></tr>",
                            "<tr><td>The Goddess Test (Goddess Test, #1)</td></tr>",
                            "<tr><td>Eve (Eve, #1)</td></tr>",
                            "<tr><td>On Photography</td></tr>",
                            "<tr><td>The Crimson Petal and the White</td></tr>",
                            "<tr><td>Wheat Belly: Lose the Wheat, Lose the Weight, and Find Your Path Back to Health</td></tr>",
                            "<tr><td>Hawkeye, Volume 1: My Life as a Weapon</td></tr>",
                            "<tr><td>Danse Macabre (Anita Blake, Vampire Hunter, #14)</td></tr>",
                            "<tr><td>Pleasure Unbound (Demonica, #1)</td></tr>",
                            "<tr><td>The Shock of the New</td></tr>",
                            "<tr><td>Between the Lines (Between the Lines, #1)</td></tr>",
                            "<tr><td>Black Bird, Vol. 01 (Black Bird, #1)</td></tr>",
                            "<tr><td>Paper Princess (The Royals, #1)</td></tr>",
                            "<tr><td>Vernon God Little</td></tr>",
                            "<tr><td>Micah (Anita Blake, Vampire Hunter, #13)</td></tr>",
                            "<tr><td>Girls in White Dresses</td></tr>",
                            "<tr><td>One with You (Crossfire, #5)</td></tr>",
                            "<tr><td>North of Beautiful</td></tr>",
                            "<tr><td>Shoe Addicts Anonymous (Shoe Addict, #1)</td></tr>",
                            "<tr><td>Willow</td></tr>",
                            "<tr><td>The Hare With Amber Eyes: A Family's Century of Art and Loss</td></tr>",
                            "<tr><td>History of Art</td></tr>",
                            "<tr><td>Fever (The Chemical Garden, #2)</td></tr>",
                            "<tr><td>The Rule of Four</td></tr>",
                            "<tr><td>The Harlequin (Anita Blake, Vampire Hunter #15)</td></tr>",
                            "<tr><td>Undeniable (Undeniable, #1)</td></tr>",
                            "<tr><td>Four Blondes</td></tr>",
                            "<tr><td>Grendel</td></tr>",
                            "<tr><td>Mennonite in a Little Black Dress: A Memoir of Going Home</td></tr>",
                            "<tr><td>Half Girlfriend</td></tr>",
                            "<tr><td>Earth Unaware (The First Formic War, #1)</td></tr>",
                            "<tr><td>Andy Goldsworthy: A Collaboration with Nature</td></tr>",
                            "<tr><td>Saving Fish from Drowning</td></tr>",
                            "<tr><td>Purple Cow: Transform Your Business by Being Remarkable</td></tr>",
                            "<tr><td>The Last Star (The 5th Wave, #3)</td></tr>",
                            "<tr><td>I am Charlotte Simmons</td></tr>",
                            "<tr><td>This One Summer</td></tr>",
                            "<tr><td>Tinkers</td></tr>",
                            "<tr><td>The Clique (The Clique, #1)</td></tr>",
                            "<tr><td>When I'm Gone</td></tr>",
                            "<tr><td>Rachael Ray 365: No Repeats: A Year of Deliciously Different Dinners</td></tr>",
                            "<tr><td>My Soul to Take (Soul Screamers, #1)</td></tr>",
                            "<tr><td>Everneath (Everneath, #1)</td></tr>",
                            "<tr><td>Warrior of the Light</td></tr>",
                            "<tr><td>James Potter and the Hall of Elders' Crossing (James Potter, #1)</td></tr>",
                            "<tr><td>How I Live Now</td></tr>",
                            "<tr><td>Strange Angels (Strange Angels, #1)</td></tr>",
                            "<tr><td>Today Will Be Different</td></tr>",
                            "<tr><td>Fallen Crest High (Fallen Crest High, #1)</td></tr>",
                            "<tr><td>Catherine, Called Birdy</td></tr>",
                            "<tr><td>Johnny Tremain</td></tr>",
                            "<tr><td>Alice in Zombieland (White Rabbit Chronicles, #1)</td></tr>",
                            "<tr><td>The Art of Asking; or, How I Learned to Stop Worrying and Let People Help</td></tr>",
                            "<tr><td>Vinegar Hill</td></tr>",
                            "<tr><td>Significance (Significance, #1)</td></tr>",
                            "<tr><td>Pygmy</td></tr>",
                            "<tr><td>Revenge Wears Prada: The Devil Returns (The Devil Wears Prada, #2)</td></tr>",
                            "<tr><td>Michelangelo and the Pope's Ceiling</td></tr>",
                            "<tr><td>Mirror Mirror</td></tr>",
                            "<tr><td>One Fifth Avenue</td></tr>",
                            "<tr><td>El Deafo</td></tr>",
                            "<tr><td>The Red Badge of Courage and Selected Short Fiction  </td></tr>",
                            "<tr><td>NW</td></tr>",
                            "<tr><td>Blood and Chocolate</td></tr>",
                            "<tr><td>Knight (Unfinished Hero, #1)</td></tr>",
                            "<tr><td>شيكاجو</td></tr>",
                            "<tr><td>The Dark Divine (The Dark Divine, #1)</td></tr>",
                            "<tr><td>Mein Kampf</td></tr>",
                            "<tr><td>Consequences (Consequences, #1)</td></tr>",
                            "<tr><td>Assholes Finish First (Tucker Max, #2)</td></tr>",
                            "<tr><td>Hannibal Rising (Hannibal Lecter, #4)</td></tr>",
                            "<tr><td>Blood Noir (Anita Blake, Vampire Hunter #16)</td></tr>",
                            "<tr><td>Songs of the Humpback Whale</td></tr>",
                            "<tr><td>Fallen in Love (Fallen, #3.5)</td></tr>",
                            "<tr><td>Poison Princess (The Arcana Chronicles, #1)</td></tr>",
                            "<tr><td>Brick Lane</td></tr>",
                            "<tr><td>Down the Rabbit Hole: Curious Adventures and Cautionary Tales of a Former Playboy Bunny</td></tr>",
                            "<tr><td>Do-It-Yourself Book (Diary of a Wimpy Kid)</td></tr>",
                            "<tr><td>Falling Kingdoms (Falling Kingdoms, #1)</td></tr>",
                            "<tr><td>Ancestors of Avalon (Avalon, #5)</td></tr>",
                            "<tr><td>Losing My Virginity: How I've Survived, Had Fun, and Made a Fortune Doing Business My Way</td></tr>",
                            "<tr><td>The Swan Thieves</td></tr>",
                            "<tr><td>The Tortilla Curtain</td></tr>",
                            "<tr><td>The 100 (The 100, #1)</td></tr>",
                            "<tr><td>Hades (Halo, #2)</td></tr>",
                            "<tr><td>Finnikin of the Rock (Lumatere Chronicles, #1)</td></tr>",
                            "<tr><td>Micro</td></tr>",
                            "<tr><td>أنت لي</td></tr>",
                            "<tr><td>The House of the Seven Gables</td></tr>",
                            "<tr><td>Sweetbitter</td></tr>",
                            "<tr><td>Tangerine</td></tr>",
                            "<tr><td>The Emperor's Children</td></tr>",
                            "<tr><td>The Girl Who Circumnavigated Fairyland in a Ship of Her Own Making (Fairyland, #1)</td></tr>",
                            "<tr><td>Er ist wieder da</td></tr>",
                            "<tr><td>Prince of Wolves (The Grey Wolves, #1)</td></tr>",
                            "<tr><td>Nevermore (Maximum Ride, #8)</td></tr>",
                            "<tr><td>A Quick Bite (Argeneau #1)</td></tr>",
                            "<tr><td>Etiquette &amp; Espionage (Finishing School, #1)</td></tr>",
                            "<tr><td>Velvet Elvis: Repainting the Christian Faith</td></tr>",
                            "<tr><td>The Lost Painting</td></tr>",
                            "<tr><td>The Wedding Dress</td></tr>",
                            "<tr><td>Winter's Tale</td></tr>",
                            "<tr><td>The Adventures of Captain Underpants (Captain Underpants, #1)</td></tr>",
                            "<tr><td>Two Boys Kissing</td></tr>",
                            "<tr><td>The Ruins</td></tr>",
                            "<tr><td>The Lives of the Artists</td></tr>",
                            "<tr><td>The Slap</td></tr>",
                            "<tr><td>The Scrapbook of Frankie Pratt</td></tr>",
                            "<tr><td>Beauty's Release (Sleeping Beauty, #3)</td></tr>",
                            "<tr><td>Jessica's Guide to Dating on the Dark Side (Jessica, #1)</td></tr>",
                            "<tr><td>Dawn of the Dreadfuls (Pride and Prejudice and Zombies, #0.5)</td></tr>",
                            "<tr><td>The Wolf Gift (The Wolf Gift Chronicles, #1)</td></tr>",
                            "<tr><td>Never Never: Part Three (Never Never, #3)</td></tr>",
                            "<tr><td>28 حرف</td></tr>",
                            "<tr><td>I Kissed Dating Goodbye</td></tr>",
                            "<tr><td>Veganomicon: The Ultimate Vegan Cookbook</td></tr>",
                            "<tr><td>My Booky Wook</td></tr>",
                            "<tr><td>Just My Type: A Book About Fonts</td></tr>",
                            "<tr><td>The Zombie Room</td></tr>",
                            "<tr><td>Beauty's Punishment (Sleeping Beauty, #2)</td></tr>",
                            "<tr><td>Can Love Happen Twice?</td></tr>",
                            "<tr><td>A Lion Among Men (The Wicked Years, #3)</td></tr>",
                            "<tr><td>في ديسمبر تنتهي كل الأحلام</td></tr>",
                            "<tr><td>Going Bovine</td></tr>",
                            "<tr><td>Chopsticks</td></tr>",
                            "<tr><td>Drawing from Memory</td></tr>",
                            "<tr><td>Love Wins: A Book About Heaven, Hell, and the Fate of Every Person Who Ever Lived</td></tr>",
                            "<tr><td>L.A. Candy (L.A. Candy, #1)</td></tr>",
                            "<tr><td>The Siren</td></tr>",
                            "<tr><td>The Astronaut Wives Club</td></tr>",
                            "<tr><td>Deceptively Delicious: Simple Secrets to Get Your Kids Eating Good Food</td></tr>",
                            "<tr><td>The Harbinger: The Ancient Mystery that Holds the Secret of America's Future</td></tr>",
                            "<tr><td>Clara and Mr. Tiffany</td></tr>",
                            "<tr><td>Angelfire (Angelfire, #1)</td></tr>",
                            "<tr><td>Sunshine</td></tr>",
                            "<tr><td>An Illustrated Life: Drawing Inspiration From The Private Sketchbooks Of Artists, Illustrators And Designers</td></tr>",
                            "<tr><td>Two By Two</td></tr>",
                            "<tr><td>Inescapable (The Premonition, #1)</td></tr>",
                            "<tr><td>Abandon (Abandon, #1)</td></tr>",
                            "<tr><td>How to Marry a Millionaire Vampire (Love at Stake, #1)</td></tr>",
                            "<tr><td>My Blood Approves (My Blood Approves, #1)</td></tr>",
                            "<tr><td>The Chemist</td></tr>",
                            "<tr><td>And Another Thing...</td></tr>",
                            "<tr><td>The Gatecrasher</td></tr>",
                            "<tr><td>The Valkyries</td></tr>",
                            "<tr><td>The Struggle (The Vampire Diaries, #2)</td></tr>",
                            "<tr><td>Lumberjanes, Vol. 1: Beware the Kitten Holy</td></tr>",
                            "<tr><td>The Land of Painted Caves (Earth's Children, #6)</td></tr>",
                            "<tr><td>Trading Up</td></tr>",
                            "<tr><td>Bullet (Anita Blake, Vampire Hunter #19)</td></tr>",
                            "<tr><td>بيكاسو وستاربكس</td></tr>",
                            "<tr><td>The Boyfriend List: 15 Guys, 11 Shrink Appointments, 4 Ceramic Frogs and Me, Ruby Oliver (Ruby Oliver, #1)</td></tr>",
                            "<tr><td>Dairy Queen (Dairy Queen, #1)</td></tr>",
                            "<tr><td>Flirt (Anita Blake, Vampire Hunter #18)</td></tr>",
                            "<tr><td>Boy, Snow, Bird</td></tr>",
                            "<tr><td>Solar</td></tr>",
                            "<tr><td>Ash</td></tr>",
                            "<tr><td>Lord Jim</td></tr>",
                            "<tr><td>House</td></tr>",
                            "<tr><td>Jacob Have I Loved</td></tr>",
                            "<tr><td>This Is Where It Ends</td></tr>",
                            "<tr><td>Stray (Shifters, #1)</td></tr>",
                            "<tr><td>Article 5 (Article 5, #1)</td></tr>",
                            "<tr><td>The Colorado Kid (Hard Case Crime #13)</td></tr>",
                            "<tr><td>Avoiding Commitment (Avoiding, #1)</td></tr>",
                            "<tr><td>After We Collided (After, #2)</td></tr>",
                            "<tr><td>حبيبتي بكماء</td></tr>",
                            "<tr><td>Nevermore (Nevermore, #1)</td></tr>",
                            "<tr><td>I Don't Know How She Does It</td></tr>",
                            "<tr><td>Midnight (The Vampire Diaries: The Return, #3)</td></tr>",
                            "<tr><td>Frog Music</td></tr>",
                            "<tr><td>Shopaholic to the Stars (Shopaholic, #7)</td></tr>",
                            "<tr><td>The Elephant Tree</td></tr>",
                            "<tr><td>The Prophet of Yonwood (Book of Ember, #3)</td></tr>",
                            "<tr><td>You've Been Warned</td></tr>",
                            "<tr><td>Wanted (Wanted, #1)</td></tr>",
                            "<tr><td>You Are a Badass: How to Stop Doubting Your Greatness and Start Living an Awesome Life</td></tr>",
                            "<tr><td>Aftermath (Star Wars: Aftermath, #1)</td></tr>",
                            "<tr><td>Captain Underpants and the Attack of the Talking Toilets (Captain Underpants, #2)</td></tr>",
                            "<tr><td>Wideacre  (The Wideacre Trilogy, #1)</td></tr>",
                            "<tr><td>Defiance (Defiance #1)</td></tr>",
                            "<tr><td>Heart of Darkness and Selected Short Fiction</td></tr>",
                            "<tr><td>The Prague Cemetery</td></tr>",
                            "<tr><td>Beatrice and Virgil</td></tr>",
                            "<tr><td>Sleeping Arrangements</td></tr>",
                            "<tr><td>The Fever</td></tr>",
                            "<tr><td>Teardrop (Teardrop, #1)</td></tr>",
                            "<tr><td>Seating Arrangements</td></tr>",
                            "<tr><td>Dare Me</td></tr>",
                            "<tr><td>The Gathering</td></tr>",
                            "<tr><td>The Fury (The Vampire Diaries, #3)</td></tr>",
                            "<tr><td>Girls of Riyadh</td></tr>",
                            "<tr><td>Kitty and the Midnight Hour (Kitty Norville #1)</td></tr>",
                            "<tr><td>Heart of Darkness and The Secret Sharer</td></tr>",
                            "<tr><td>77 Shadow Street (Pendleton, #1)</td></tr>",
                            "<tr><td>The Subtle Art of Not Giving a F*ck: A Counterintuitive Approach to Living a Good Life</td></tr>",
                            "<tr><td>Touch the Dark (Cassandra Palmer, #1)</td></tr>",
                            "<tr><td>A Gate at the Stairs</td></tr>",
                            "<tr><td>Violin</td></tr>",
                            "<tr><td>To Rise Again at a Decent Hour</td></tr>",
                            "<tr><td>Ready or Not (All-American Girl, #2)</td></tr>",
                            "<tr><td>ظل الأفعى</td></tr>",
                            "<tr><td>السنجة</td></tr>",
                            "<tr><td>Adulthood Is a Myth (Sarah's Scribbles, #1)</td></tr>",
                            "<tr><td>Of Course I Love You...! Till I Find Someone Better...</td></tr>",
                            "<tr><td>Dark Reunion (The Vampire Diaries, #4)</td></tr>",
                            "<tr><td>The Hollow (The Hollow, #1)</td></tr>",
                            "<tr><td>Numbers (Numbers, #1)</td></tr>",
                            "<tr><td>A Quest of Heroes (The Sorcerer's Ring, #1)</td></tr>",
                            "<tr><td>Zone One</td></tr>",
                            "<tr><td>Story of O (Story of O #1)</td></tr>",
                            "<tr><td>Batman: Hush, Vol. 1</td></tr>",
                            "<tr><td>ليتها تقرأ</td></tr>",
                            "<tr><td>Battlefield Earth: A Saga of the Year 3000</td></tr>",
                            "<tr><td>ttyl (Internet Girls, #1)</td></tr>",
                            "<tr><td>The Night Strangers</td></tr>",
                            "<tr><td>The Virtue of Selfishness: A New Concept of Egoism</td></tr>",
                            "<tr><td>Angelology (Angelology, #1)</td></tr>",
                            "<tr><td>Ghostgirl (Ghostgirl, #1)</td></tr>",
                            "<tr><td>Going Rogue: An American Life</td></tr>",
                            "<tr><td>Lost</td></tr>",
                            "<tr><td>Batman: The Dark Knight Strikes Again (The Dark Knight Saga, #2)</td></tr>",
                            "<tr><td>بضع ساعات في يوم ما</td></tr>",
                            "<tr><td>Olivia Joules and the Overactive Imagination</td></tr>",
                            "<tr><td>Beautiful You</td></tr>",
                            "<tr><td>Debt Inheritance (Indebted, #1)</td></tr>",
                            "<tr><td>Billy Budd, Sailor</td></tr>",
                            "</table>"
                        ]
                    }
                }
            ],
            "execution_count": 66
        },
        {
            "cell_type": "markdown",
            "source": [
                "**Some Question Examples:**\n",
                "\n",
                "Write a query that returns the longest title?\n",
                "\n",
                "Which Author has written the most books?  \n",
                "\n",
                "Top  ten books written the year I was born?"
            ],
            "metadata": {
                "azdata_cell_guid": "7160362b-7127-4123-bd1d-95a94ae38a07"
            }
        }
    ]
}